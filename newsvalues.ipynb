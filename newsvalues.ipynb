{
 "cells": [
  {
   "cell_type": "code",
   "execution_count": 1,
   "metadata": {},
   "outputs": [],
   "source": [
    "%load_ext autoreload\n",
    "%autoreload 2"
   ]
  },
  {
   "cell_type": "code",
   "execution_count": 2,
   "metadata": {},
   "outputs": [],
   "source": [
    "import pandas as pd\n",
    "from preprocessing import load_if_in_country_or_lang\n",
    "from preprocessing import categorize_views_for_df\n",
    "from processing import filter_by_region_cat_code, build_regression_dataframe, load_preprocessed_events\n",
    "from plot_regression import plot_regression_results_from_dict\n",
    "import numpy as np\n",
    "from regression import fit_nb_with_estimated_alpha, estimate_alpha, fit_nb, standardize_var, fit_nb_with_estimated_alpha_all_codes, standardize_var"
   ]
  },
  {
   "cell_type": "code",
   "execution_count": 3,
   "metadata": {},
   "outputs": [],
   "source": [
    "df_crawled = pd.read_csv('events/new/processed_0_manually_with_wikiviews.csv').drop_duplicates()"
   ]
  },
  {
   "cell_type": "code",
   "execution_count": 52,
   "metadata": {},
   "outputs": [
    {
     "data": {
      "text/plain": [
       "'2015-11-01'"
      ]
     },
     "execution_count": 52,
     "metadata": {},
     "output_type": "execute_result"
    }
   ],
   "source": [
    "df_crawled.event_date.min()"
   ]
  },
  {
   "cell_type": "code",
   "execution_count": 4,
   "metadata": {},
   "outputs": [
    {
     "data": {
      "text/html": [
       "<div>\n",
       "<style scoped>\n",
       "    .dataframe tbody tr th:only-of-type {\n",
       "        vertical-align: middle;\n",
       "    }\n",
       "\n",
       "    .dataframe tbody tr th {\n",
       "        vertical-align: top;\n",
       "    }\n",
       "\n",
       "    .dataframe thead th {\n",
       "        text-align: right;\n",
       "    }\n",
       "</style>\n",
       "<table border=\"1\" class=\"dataframe\">\n",
       "  <thead>\n",
       "    <tr style=\"text-align: right;\">\n",
       "      <th></th>\n",
       "      <th>event_id</th>\n",
       "      <th>pagetitle</th>\n",
       "      <th>event_date</th>\n",
       "      <th>economic_region</th>\n",
       "      <th>country</th>\n",
       "      <th>continent</th>\n",
       "      <th>cat</th>\n",
       "      <th>categories</th>\n",
       "      <th>views_7_sum</th>\n",
       "      <th>views_before_mean</th>\n",
       "      <th>...</th>\n",
       "      <th>Country/Area</th>\n",
       "      <th>Year</th>\n",
       "      <th>GDP_pc</th>\n",
       "      <th>GDP</th>\n",
       "      <th>oecd</th>\n",
       "      <th>in_code_lang</th>\n",
       "      <th>in_code_region</th>\n",
       "      <th>date_month</th>\n",
       "      <th>views_baseline</th>\n",
       "      <th>view_country_article</th>\n",
       "    </tr>\n",
       "  </thead>\n",
       "  <tbody>\n",
       "  </tbody>\n",
       "</table>\n",
       "<p>0 rows × 43 columns</p>\n",
       "</div>"
      ],
      "text/plain": [
       "Empty DataFrame\n",
       "Columns: [event_id, pagetitle, event_date, economic_region, country, continent, cat, categories, views_7_sum, views_before_mean, views_before_sum, views_before_max, views_before_min, views_before_median, views_before_increase, list_views_7_days, diff_days, year, planed, surprising, factor, page_creation, edits_7_sum, edits_before_min, edits_before_mean, edits_before_max, edits_before_median, edits_before_sum, code, bing_hits, gni_class, gni_region, population, Country/Area, Year, GDP_pc, GDP, oecd, in_code_lang, in_code_region, date_month, views_baseline, view_country_article]\n",
       "Index: []\n",
       "\n",
       "[0 rows x 43 columns]"
      ]
     },
     "execution_count": 4,
     "metadata": {},
     "output_type": "execute_result"
    }
   ],
   "source": [
    "df_crawled = df_crawled[df_crawled.cat != 'undefined']\n",
    "df_crawled = df_crawled.drop_duplicates()\n",
    "df_crawled[df_crawled.pagetitle.duplicated(keep=False)]"
   ]
  },
  {
   "cell_type": "markdown",
   "metadata": {},
   "source": [
    "# News Value analysis:\n",
    "\n",
    "1965 Galtung and Ruge:\n",
    "- Unambiguity. The less ambiguity, the more likely the event is to become news. The more clearly an event can be understood, and interpreted without multiple meanings, the greater the chance of it being selected.\n",
    "- Threshold. Events have to pass a threshold before being recorded at all. After that, the greater the intensity, the more gruesome the murder, and the more casualties in an accident - the greater the impact on the perception of those responsible for news selection.\n",
    "- Unambiguity. The less ambiguity, the more likely the event is to become news. The more clearly an event can be understood, and interpreted without multiple meanings, the greater the chance of it being selected.\n",
    "- Meaningfulness. The culturally similar is likely to be selected because it fits into the news selector’s frame of reference. Thus, the involvement of UK citizens will make an event in a remote country more meaningful to the UK media. Similarly, news from the USA is seen as more relevant to the UK than is news from countries which are less culturally familiar. F5. Consonance. The news selector may predict - or, indeed, want - something to happen, thus forming a mental ‘pre-image’ of an event which in turn increases its chances of becoming news.\n",
    "- Unexpectedness. The most unexpected or rare events - within those that are culturally familiar and/or consonant - will have the greatest chance of being selected as news.\n",
    "- Continuity. Once an event has become headline news it remains in the media spotlight for some time - even if its amplitude has been greatly reduced - because it has become familiar and easier to interpret. Continuing coverage also acts to justify the attention an event attracted in the first place.\n",
    "- Composition. An event may be included as news, less because of its intrinsic news value than because it fits into the overall composition or balance of a newspaper or news broadcast. This might not just mean ‘light’ stories to balance heavy news; it could also mean that, in the context of newspaper reports on alleged institutional racism within the police, for example, positive initiatives to combat racism which would normally go unreported might make it onto the news pages.\n",
    "- Reference to elite nations. The actions of elite nations are seen as more consequential than the actions of other nations. Definitions of elite nations will be culturally, politically and economically determined and will vary from country to country, although there may be universal agreement about the inclusion of some nations (eg the USA) among the elite. F10. Reference to elite people. The actions of elite people, who will usually be famous, may be seen by news selectors as having more consequence than the actions of others. Also, readers may identify with them\n",
    "- Reference to persons. News has a tendency to present events as the actions of named people rather than a result of social forces. This personification goes beyond ‘human interest’ stories and could relate to ‘cultural idealism according to which man is the master of his own destiny and events can be seen as the outcome of an act of free will’.\n",
    "- Reference to something negative. Negative news could be seen as unambiguous and consensual, generally more likely to be unexpected and to occur over a shorter period of time than positive news.\n",
    "\n",
    "\n",
    "2001 Harcup and O'Neill:\n",
    "- The power elite: Stories concerning powerful individuals, organisations or institutions.\n",
    "- Celebrity: Stories concerning people who are already famous\n",
    "- Entertainment: Stories concerning sex, showbusiness, human interest, animals, an unfolding drama, or offering opportunities for humorous treatment, entertaining photographs or witty headlines.\n",
    "- Surprise: Stories that have an element of surprise and/or contrast.\n",
    "- Bad news: Stories with particularly negative overtones, such as conflict or tragedy.\n",
    "- Good news: Stories with particularly positive overtones, such as rescues and cures.\n",
    "- Magnitude: Stories that are perceived as sufficiently significant either in the numbers of people involved or in potential impact.\n",
    "- Relevance: Stories about issues, groups and nations perceived to be relevant to the audience.\n",
    "- Follow-up: Stories about subjects already in the news.\n",
    "- Newspaper agenda: Stories that set or fit the news organisation’s own agenda (Harcup and O’Neill 2001, 278–279).\n",
    "    \n",
    "2017 Harcup and O'Neill:\n",
    "- Exclusivity: Stories generated by, or available first to, the news organisation as a result of interviews, letters, investigations, surveys, polls, and so on.\n",
    "- Bad news: Stories with particularly negative overtones such as death, injury, defeat and loss (of a job, for example).\n",
    "- Conflict: Stories concerning conflict such as controversies, arguments, splits, strikes, fights, insurrections and warfare.\n",
    "- Surprise: Stories that have an element of surprise, contrast and/or the unusual about them.\n",
    "- Audio-visuals: Stories that have arresting photographs, video, audio and/or which can be illustrated with infographics.\n",
    "- Shareability: Stories that are thought likely to generate sharing and comments via Face- book, Twitter and other forms of social media.\n",
    "- Entertainment: Soft stories concerning sex, showbusiness, sport, lighter human interest, animals, or offering opportunities for humorous treatment, witty headlines or lists.\n",
    "- Drama: Stories concerning an unfolding drama such as escapes, accidents, searches, sieges, rescues, battles or court cases.\n",
    "- Follow-up: Stories about subjects already in the news.\n",
    "- The power elite: Stories concerning powerful individuals, organisations, institutions or corporations.\n",
    "- Relevance: Stories about groups or nations perceived to be influential with, or culturally or historically familiar to, the audience.\n",
    "- Magnitude: Stories perceived as sufficiently significant in the large numbers of people involved or in potential impact, or involving a degree of extreme behaviour or extreme occurrence.\n",
    "- Celebrity: Stories concerning people who are already famous.\n",
    "- Good news: Stories with particularly positive overtones such as recoveries, break- throughs, cures, wins and celebrations.\n",
    "- News organisation’s agenda: Stories that set or fit the news organisation’s own agenda, whether ideological, commercial or as part of a specific campaign.\n",
    "\n",
    "Gildersleve 2021:\n",
    "- Attention features:\n",
    "    - Prominence: Median pageviews in 30 days before an event\n",
    "    - Magnitude: Excess of attention attributable to the event to the articles in the community. (Community article - prominence)\n",
    "    - Surprise: Weighted Maximum gradient peak value in 48 hours after event.\n",
    "- Relation Features\n",
    "    - Uniqueness: If a story of that topic appeared in the news before, on a continuous scale. (#news reactions in parent topic/time window)\n",
    "    - Follow-up: # news articles of same topic in previous week\n",
    "- Event Content Features\n",
    "    - Power Elite: get Wikipedia Article of person via NER, take median of partial PageRank weighted sum of pageviews of that article.\n",
    "    - Proximity/Relevance: Fraction of locations mentioned in text that are of that language.\n",
    "    - Good/Bad news: VADER NLP on event title\n",
    "    \n",
    "Ours:\n",
    "- Uniqueness in 30 days before for country\n",
    "- Event Content Features:\n",
    "    - Power Elite/Elite Countries/Elite Organisations: GDP_pc or Economical High\n",
    "    - Proximity: \n",
    "    - Relevance: Is the language of the Wikipedia edition an official language in the country where it happens?\n",
    "    - Category of the event (encodes: good news/bad news a bit intrinsically)\n",
    "    \n",
    "It depends: Do we want to predict everything WITHOUT KNOWLEDGE WHAT HAPPENS AFTER???\n",
    "    - cause then we maybe don't want to have that"
   ]
  },
  {
   "cell_type": "code",
   "execution_count": 96,
   "metadata": {},
   "outputs": [],
   "source": [
    "from dateutil.relativedelta import relativedelta\n",
    "\n",
    "n_days = 30\n",
    "column = 'country'\n",
    "\n",
    "df_col_grouped = df_crawled.groupby(['code', column, 'event_date'])['event_id'].count().rename('n_articles').reset_index()\n",
    "df_col_grouped['event_date'] = pd.to_datetime(df_col_grouped.event_date)\n",
    "df_col_grouped['window_unique'] = df_col_grouped.event_date - pd.to_timedelta(f'{n_days} days')\n",
    "df_col_grouped['n_count'] = df_col_grouped.apply(lambda row: np.sum(df_col_grouped[(df_col_grouped.code == row.code) & (df_col_grouped[column] == row[column]) & (df_col_grouped.event_date >= row.window_unique) & (df_col_grouped.event_date < row.event_date)].n_articles), axis=1)"
   ]
  },
  {
   "cell_type": "code",
   "execution_count": 99,
   "metadata": {},
   "outputs": [
    {
     "data": {
      "text/html": [
       "<div>\n",
       "<style scoped>\n",
       "    .dataframe tbody tr th:only-of-type {\n",
       "        vertical-align: middle;\n",
       "    }\n",
       "\n",
       "    .dataframe tbody tr th {\n",
       "        vertical-align: top;\n",
       "    }\n",
       "\n",
       "    .dataframe thead th {\n",
       "        text-align: right;\n",
       "    }\n",
       "</style>\n",
       "<table border=\"1\" class=\"dataframe\">\n",
       "  <thead>\n",
       "    <tr style=\"text-align: right;\">\n",
       "      <th></th>\n",
       "      <th>code</th>\n",
       "      <th>country</th>\n",
       "      <th>event_date</th>\n",
       "      <th>n_articles</th>\n",
       "      <th>window_unique</th>\n",
       "      <th>n_count</th>\n",
       "    </tr>\n",
       "  </thead>\n",
       "  <tbody>\n",
       "    <tr>\n",
       "      <th>12</th>\n",
       "      <td>de</td>\n",
       "      <td>Algeria</td>\n",
       "      <td>2018-02-16</td>\n",
       "      <td>1</td>\n",
       "      <td>2018-01-17</td>\n",
       "      <td>1</td>\n",
       "    </tr>\n",
       "    <tr>\n",
       "      <th>22</th>\n",
       "      <td>de</td>\n",
       "      <td>Argentina</td>\n",
       "      <td>2016-01-11</td>\n",
       "      <td>1</td>\n",
       "      <td>2015-12-12</td>\n",
       "      <td>1</td>\n",
       "    </tr>\n",
       "    <tr>\n",
       "      <th>23</th>\n",
       "      <td>de</td>\n",
       "      <td>Argentina</td>\n",
       "      <td>2016-02-06</td>\n",
       "      <td>1</td>\n",
       "      <td>2016-01-07</td>\n",
       "      <td>1</td>\n",
       "    </tr>\n",
       "    <tr>\n",
       "      <th>31</th>\n",
       "      <td>de</td>\n",
       "      <td>Argentina</td>\n",
       "      <td>2018-10-07</td>\n",
       "      <td>17</td>\n",
       "      <td>2018-09-07</td>\n",
       "      <td>2</td>\n",
       "    </tr>\n",
       "    <tr>\n",
       "      <th>32</th>\n",
       "      <td>de</td>\n",
       "      <td>Argentina</td>\n",
       "      <td>2018-10-08</td>\n",
       "      <td>1</td>\n",
       "      <td>2018-09-08</td>\n",
       "      <td>19</td>\n",
       "    </tr>\n",
       "    <tr>\n",
       "      <th>...</th>\n",
       "      <td>...</td>\n",
       "      <td>...</td>\n",
       "      <td>...</td>\n",
       "      <td>...</td>\n",
       "      <td>...</td>\n",
       "      <td>...</td>\n",
       "    </tr>\n",
       "    <tr>\n",
       "      <th>14128</th>\n",
       "      <td>it</td>\n",
       "      <td>United States</td>\n",
       "      <td>2020-11-15</td>\n",
       "      <td>1</td>\n",
       "      <td>2020-10-16</td>\n",
       "      <td>3</td>\n",
       "    </tr>\n",
       "    <tr>\n",
       "      <th>14129</th>\n",
       "      <td>it</td>\n",
       "      <td>United States</td>\n",
       "      <td>2020-11-22</td>\n",
       "      <td>1</td>\n",
       "      <td>2020-10-23</td>\n",
       "      <td>4</td>\n",
       "    </tr>\n",
       "    <tr>\n",
       "      <th>14130</th>\n",
       "      <td>it</td>\n",
       "      <td>United States</td>\n",
       "      <td>2020-12-18</td>\n",
       "      <td>1</td>\n",
       "      <td>2020-11-18</td>\n",
       "      <td>1</td>\n",
       "    </tr>\n",
       "    <tr>\n",
       "      <th>14131</th>\n",
       "      <td>it</td>\n",
       "      <td>United States</td>\n",
       "      <td>2020-12-20</td>\n",
       "      <td>1</td>\n",
       "      <td>2020-11-20</td>\n",
       "      <td>2</td>\n",
       "    </tr>\n",
       "    <tr>\n",
       "      <th>14142</th>\n",
       "      <td>it</td>\n",
       "      <td>Uzbekistan</td>\n",
       "      <td>2016-03-05</td>\n",
       "      <td>1</td>\n",
       "      <td>2016-02-04</td>\n",
       "      <td>1</td>\n",
       "    </tr>\n",
       "  </tbody>\n",
       "</table>\n",
       "<p>9153 rows × 6 columns</p>\n",
       "</div>"
      ],
      "text/plain": [
       "      code        country event_date  n_articles window_unique  n_count\n",
       "12      de        Algeria 2018-02-16           1    2018-01-17        1\n",
       "22      de      Argentina 2016-01-11           1    2015-12-12        1\n",
       "23      de      Argentina 2016-02-06           1    2016-01-07        1\n",
       "31      de      Argentina 2018-10-07          17    2018-09-07        2\n",
       "32      de      Argentina 2018-10-08           1    2018-09-08       19\n",
       "...    ...            ...        ...         ...           ...      ...\n",
       "14128   it  United States 2020-11-15           1    2020-10-16        3\n",
       "14129   it  United States 2020-11-22           1    2020-10-23        4\n",
       "14130   it  United States 2020-12-18           1    2020-11-18        1\n",
       "14131   it  United States 2020-12-20           1    2020-11-20        2\n",
       "14142   it     Uzbekistan 2016-03-05           1    2016-02-04        1\n",
       "\n",
       "[9153 rows x 6 columns]"
      ]
     },
     "execution_count": 99,
     "metadata": {},
     "output_type": "execute_result"
    }
   ],
   "source": [
    "df_col_grouped[(df_col_grouped.n_count > 0)]"
   ]
  },
  {
   "cell_type": "code",
   "execution_count": 95,
   "metadata": {},
   "outputs": [
    {
     "data": {
      "text/html": [
       "<div>\n",
       "<style scoped>\n",
       "    .dataframe tbody tr th:only-of-type {\n",
       "        vertical-align: middle;\n",
       "    }\n",
       "\n",
       "    .dataframe tbody tr th {\n",
       "        vertical-align: top;\n",
       "    }\n",
       "\n",
       "    .dataframe thead th {\n",
       "        text-align: right;\n",
       "    }\n",
       "</style>\n",
       "<table border=\"1\" class=\"dataframe\">\n",
       "  <thead>\n",
       "    <tr style=\"text-align: right;\">\n",
       "      <th></th>\n",
       "      <th>code</th>\n",
       "      <th>country</th>\n",
       "      <th>event_date</th>\n",
       "      <th>n_articles</th>\n",
       "      <th>window_unique</th>\n",
       "      <th>n_count</th>\n",
       "    </tr>\n",
       "  </thead>\n",
       "  <tbody>\n",
       "    <tr>\n",
       "      <th>2936</th>\n",
       "      <td>en</td>\n",
       "      <td>Afghanistan</td>\n",
       "      <td>2016-04-10</td>\n",
       "      <td>1</td>\n",
       "      <td>2016-03-11</td>\n",
       "      <td>0</td>\n",
       "    </tr>\n",
       "    <tr>\n",
       "      <th>2937</th>\n",
       "      <td>en</td>\n",
       "      <td>Afghanistan</td>\n",
       "      <td>2016-04-11</td>\n",
       "      <td>1</td>\n",
       "      <td>2016-03-12</td>\n",
       "      <td>2</td>\n",
       "    </tr>\n",
       "    <tr>\n",
       "      <th>2938</th>\n",
       "      <td>en</td>\n",
       "      <td>Afghanistan</td>\n",
       "      <td>2016-04-12</td>\n",
       "      <td>1</td>\n",
       "      <td>2016-03-13</td>\n",
       "      <td>3</td>\n",
       "    </tr>\n",
       "    <tr>\n",
       "      <th>8792</th>\n",
       "      <td>es</td>\n",
       "      <td>Afghanistan</td>\n",
       "      <td>2016-04-10</td>\n",
       "      <td>1</td>\n",
       "      <td>2016-03-11</td>\n",
       "      <td>0</td>\n",
       "    </tr>\n",
       "  </tbody>\n",
       "</table>\n",
       "</div>"
      ],
      "text/plain": [
       "     code      country event_date  n_articles window_unique  n_count\n",
       "2936   en  Afghanistan 2016-04-10           1    2016-03-11        0\n",
       "2937   en  Afghanistan 2016-04-11           1    2016-03-12        2\n",
       "2938   en  Afghanistan 2016-04-12           1    2016-03-13        3\n",
       "8792   es  Afghanistan 2016-04-10           1    2016-03-11        0"
      ]
     },
     "execution_count": 95,
     "metadata": {},
     "output_type": "execute_result"
    }
   ],
   "source": [
    "df_col_grouped[(df_col_grouped[column] == 'Afghanistan') & (df_col_grouped.event_date >= '2016-03-20') & (df_col_grouped.event_date < '2016-04-19')]"
   ]
  },
  {
   "cell_type": "code",
   "execution_count": 92,
   "metadata": {},
   "outputs": [
    {
     "data": {
      "text/html": [
       "<div>\n",
       "<style scoped>\n",
       "    .dataframe tbody tr th:only-of-type {\n",
       "        vertical-align: middle;\n",
       "    }\n",
       "\n",
       "    .dataframe tbody tr th {\n",
       "        vertical-align: top;\n",
       "    }\n",
       "\n",
       "    .dataframe thead th {\n",
       "        text-align: right;\n",
       "    }\n",
       "</style>\n",
       "<table border=\"1\" class=\"dataframe\">\n",
       "  <thead>\n",
       "    <tr style=\"text-align: right;\">\n",
       "      <th></th>\n",
       "      <th>code</th>\n",
       "      <th>country</th>\n",
       "      <th>event_date</th>\n",
       "      <th>n_articles</th>\n",
       "      <th>window_unique</th>\n",
       "      <th>n_count</th>\n",
       "    </tr>\n",
       "  </thead>\n",
       "  <tbody>\n",
       "    <tr>\n",
       "      <th>0</th>\n",
       "      <td>de</td>\n",
       "      <td>Afghanistan</td>\n",
       "      <td>2016-04-19</td>\n",
       "      <td>1</td>\n",
       "      <td>2016-03-20</td>\n",
       "      <td>4</td>\n",
       "    </tr>\n",
       "    <tr>\n",
       "      <th>1</th>\n",
       "      <td>de</td>\n",
       "      <td>Afghanistan</td>\n",
       "      <td>2016-07-23</td>\n",
       "      <td>1</td>\n",
       "      <td>2016-06-23</td>\n",
       "      <td>0</td>\n",
       "    </tr>\n",
       "    <tr>\n",
       "      <th>2</th>\n",
       "      <td>de</td>\n",
       "      <td>Afghanistan</td>\n",
       "      <td>2017-05-31</td>\n",
       "      <td>1</td>\n",
       "      <td>2017-05-01</td>\n",
       "      <td>0</td>\n",
       "    </tr>\n",
       "    <tr>\n",
       "      <th>3</th>\n",
       "      <td>de</td>\n",
       "      <td>Afghanistan</td>\n",
       "      <td>2017-07-24</td>\n",
       "      <td>1</td>\n",
       "      <td>2017-06-24</td>\n",
       "      <td>0</td>\n",
       "    </tr>\n",
       "    <tr>\n",
       "      <th>4</th>\n",
       "      <td>de</td>\n",
       "      <td>Afghanistan</td>\n",
       "      <td>2019-08-07</td>\n",
       "      <td>1</td>\n",
       "      <td>2019-07-08</td>\n",
       "      <td>0</td>\n",
       "    </tr>\n",
       "    <tr>\n",
       "      <th>...</th>\n",
       "      <td>...</td>\n",
       "      <td>...</td>\n",
       "      <td>...</td>\n",
       "      <td>...</td>\n",
       "      <td>...</td>\n",
       "      <td>...</td>\n",
       "    </tr>\n",
       "    <tr>\n",
       "      <th>14150</th>\n",
       "      <td>it</td>\n",
       "      <td>Vietnam</td>\n",
       "      <td>2016-10-13</td>\n",
       "      <td>1</td>\n",
       "      <td>2016-09-13</td>\n",
       "      <td>3</td>\n",
       "    </tr>\n",
       "    <tr>\n",
       "      <th>14151</th>\n",
       "      <td>it</td>\n",
       "      <td>Vietnam</td>\n",
       "      <td>2017-06-28</td>\n",
       "      <td>1</td>\n",
       "      <td>2017-05-29</td>\n",
       "      <td>0</td>\n",
       "    </tr>\n",
       "    <tr>\n",
       "      <th>14152</th>\n",
       "      <td>it</td>\n",
       "      <td>Zambia</td>\n",
       "      <td>2016-08-11</td>\n",
       "      <td>1</td>\n",
       "      <td>2016-07-12</td>\n",
       "      <td>0</td>\n",
       "    </tr>\n",
       "    <tr>\n",
       "      <th>14153</th>\n",
       "      <td>it</td>\n",
       "      <td>Zimbabwe</td>\n",
       "      <td>2017-11-14</td>\n",
       "      <td>1</td>\n",
       "      <td>2017-10-15</td>\n",
       "      <td>0</td>\n",
       "    </tr>\n",
       "    <tr>\n",
       "      <th>14154</th>\n",
       "      <td>it</td>\n",
       "      <td>Zimbabwe</td>\n",
       "      <td>2018-07-30</td>\n",
       "      <td>1</td>\n",
       "      <td>2018-06-30</td>\n",
       "      <td>0</td>\n",
       "    </tr>\n",
       "  </tbody>\n",
       "</table>\n",
       "<p>14155 rows × 6 columns</p>\n",
       "</div>"
      ],
      "text/plain": [
       "      code      country event_date  n_articles window_unique  n_count\n",
       "0       de  Afghanistan 2016-04-19           1    2016-03-20        4\n",
       "1       de  Afghanistan 2016-07-23           1    2016-06-23        0\n",
       "2       de  Afghanistan 2017-05-31           1    2017-05-01        0\n",
       "3       de  Afghanistan 2017-07-24           1    2017-06-24        0\n",
       "4       de  Afghanistan 2019-08-07           1    2019-07-08        0\n",
       "...    ...          ...        ...         ...           ...      ...\n",
       "14150   it      Vietnam 2016-10-13           1    2016-09-13        3\n",
       "14151   it      Vietnam 2017-06-28           1    2017-05-29        0\n",
       "14152   it       Zambia 2016-08-11           1    2016-07-12        0\n",
       "14153   it     Zimbabwe 2017-11-14           1    2017-10-15        0\n",
       "14154   it     Zimbabwe 2018-07-30           1    2018-06-30        0\n",
       "\n",
       "[14155 rows x 6 columns]"
      ]
     },
     "execution_count": 92,
     "metadata": {},
     "output_type": "execute_result"
    }
   ],
   "source": [
    "df_col_grouped"
   ]
  },
  {
   "cell_type": "code",
   "execution_count": 94,
   "metadata": {},
   "outputs": [
    {
     "data": {
      "text/plain": [
       "False"
      ]
     },
     "execution_count": 94,
     "metadata": {},
     "output_type": "execute_result"
    }
   ],
   "source": [
    "('2016-04-19' >= '2016-03-20') & ('2016-04-19' > '2016-07-23')"
   ]
  },
  {
   "cell_type": "code",
   "execution_count": 36,
   "metadata": {},
   "outputs": [
    {
     "data": {
      "text/plain": [
       "<matplotlib.axes._subplots.AxesSubplot at 0x7fe115942950>"
      ]
     },
     "execution_count": 36,
     "metadata": {},
     "output_type": "execute_result"
    },
    {
     "data": {
      "image/png": "[encoded data removed]",
      "text/plain": [
       "<Figure size 432x288 with 1 Axes>"
      ]
     },
     "metadata": {
      "needs_background": "light"
     },
     "output_type": "display_data"
    }
   ],
   "source": [
    "df_crawled.views_7_diff.hist(bins=100)"
   ]
  },
  {
   "cell_type": "code",
   "execution_count": 39,
   "metadata": {},
   "outputs": [
    {
     "data": {
      "text/plain": [
       "event_id                                                         Q25396697\n",
       "pagetitle                Archery at the 2016 Summer Olympics – Women's ...\n",
       "event_date                                                      2016-08-13\n",
       "economic_region                                               Global South\n",
       "country                                                             Brazil\n",
       "continent                                                    South America\n",
       "cat                                                                 sports\n",
       "categories               [\"Category:2016 in women's archery\", 'Category...\n",
       "views_7_sum                                                           4318\n",
       "views_before_mean                                                  13124.1\n",
       "views_before_sum                                                     91869\n",
       "views_before_max                                                     25669\n",
       "views_before_min                                                      4583\n",
       "views_before_median                                                  14519\n",
       "views_before_increase                                                -1720\n",
       "list_views_7_days                           [1346 691 622 508 408 400 341]\n",
       "diff_days                                                             -533\n",
       "year                                                                  2016\n",
       "planed                                                              planed\n",
       "surprising                                                  not_surprising\n",
       "factor                                                              before\n",
       "page_creation                                         2015-02-27T07:42:14Z\n",
       "edits_7_sum                                                              0\n",
       "edits_before_min                                                         0\n",
       "edits_before_mean                                                       38\n",
       "edits_before_max                                                        74\n",
       "edits_before_median                                                     42\n",
       "edits_before_sum                                                       228\n",
       "code                                                                    en\n",
       "bing_hits                                                            14900\n",
       "gni_class                                                               UM\n",
       "gni_region                                       Latin America & Caribbean\n",
       "population                                                     2.06163e+08\n",
       "Country/Area                                                        Brazil\n",
       "Year                                                                  2016\n",
       "GDP_pc                                                             8710.06\n",
       "GDP                                                            1.79569e+12\n",
       "oecd                                                                 False\n",
       "in_code_lang                                                         False\n",
       "in_code_region                                                       False\n",
       "date_month                                                      2016-08-01\n",
       "views_baseline                                                  6.0483e+07\n",
       "view_country_article                                                 12908\n",
       "views_7_diff                                                        -87551\n",
       "Name: 2099, dtype: object"
      ]
     },
     "execution_count": 39,
     "metadata": {},
     "output_type": "execute_result"
    }
   ],
   "source": [
    "df_crawled.iloc[1929]"
   ]
  },
  {
   "cell_type": "code",
   "execution_count": 31,
   "metadata": {},
   "outputs": [],
   "source": [
    "df_crawled['views_7_diff'] = df_crawled.views_7_sum - df_crawled.views_before_sum"
   ]
  },
  {
   "cell_type": "code",
   "execution_count": 30,
   "metadata": {},
   "outputs": [
    {
     "data": {
      "text/plain": [
       "7662485"
      ]
     },
     "execution_count": 30,
     "metadata": {},
     "output_type": "execute_result"
    }
   ],
   "source": [
    "np.sum([int(num) for num in df_crawled.iloc[1111].list_views_7_days[1:-1:].split(' ')])"
   ]
  },
  {
   "cell_type": "code",
   "execution_count": 17,
   "metadata": {},
   "outputs": [
    {
     "data": {
      "text/plain": [
       "1111"
      ]
     },
     "execution_count": 17,
     "metadata": {},
     "output_type": "execute_result"
    }
   ],
   "source": [
    "(df_crawled.views_before_median - df_crawled.views_before_mean).argmin()"
   ]
  }
 ],
 "metadata": {
  "kernelspec": {
   "display_name": "Python 3",
   "language": "python",
   "name": "python3"
  },
  "language_info": {
   "codemirror_mode": {
    "name": "ipython",
    "version": 3
   },
   "file_extension": ".py",
   "mimetype": "text/x-python",
   "name": "python",
   "nbconvert_exporter": "python",
   "pygments_lexer": "ipython3",
   "version": "3.7.6"
  }
 },
 "nbformat": 4,
 "nbformat_minor": 4
}
