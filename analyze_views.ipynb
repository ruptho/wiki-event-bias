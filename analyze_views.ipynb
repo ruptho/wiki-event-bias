{
 "cells": [
  {
   "cell_type": "code",
   "execution_count": 1,
   "metadata": {},
   "outputs": [],
   "source": [
    "import pandas as pd"
   ]
  },
  {
   "cell_type": "code",
   "execution_count": 2,
   "metadata": {},
   "outputs": [],
   "source": [
    "events_old = pd.read_csv('events/oldfiles/events_2015-2020_de.csv')"
   ]
  },
  {
   "cell_type": "code",
   "execution_count": 21,
   "metadata": {},
   "outputs": [],
   "source": [
    "df_crawled = pd.read_csv('events/new/processed_0_manually_with_wikiviews.csv').drop_duplicates()"
   ]
  },
  {
   "cell_type": "code",
   "execution_count": 24,
   "metadata": {},
   "outputs": [
    {
     "data": {
      "text/plain": [
       "0        Q18413459\n",
       "1        Q18450378\n",
       "2        Q18577969\n",
       "3        Q18589121\n",
       "4        Q18589152\n",
       "           ...    \n",
       "5016    Q109417278\n",
       "5017     Q98073118\n",
       "5018     Q98129149\n",
       "5019     Q98645805\n",
       "5020    Q100534658\n",
       "Name: event_id, Length: 5021, dtype: object"
      ]
     },
     "execution_count": 24,
     "metadata": {},
     "output_type": "execute_result"
    }
   ],
   "source": [
    "events_old.event_id"
   ]
  },
  {
   "cell_type": "code",
   "execution_count": 27,
   "metadata": {},
   "outputs": [
    {
     "data": {
      "text/html": [
       "<div>\n",
       "<style scoped>\n",
       "    .dataframe tbody tr th:only-of-type {\n",
       "        vertical-align: middle;\n",
       "    }\n",
       "\n",
       "    .dataframe tbody tr th {\n",
       "        vertical-align: top;\n",
       "    }\n",
       "\n",
       "    .dataframe thead th {\n",
       "        text-align: right;\n",
       "    }\n",
       "</style>\n",
       "<table border=\"1\" class=\"dataframe\">\n",
       "  <thead>\n",
       "    <tr style=\"text-align: right;\">\n",
       "      <th></th>\n",
       "      <th>pagetitle</th>\n",
       "      <th>event_date</th>\n",
       "      <th>list_views_7_days</th>\n",
       "      <th>list_views_7_days_redirects</th>\n",
       "    </tr>\n",
       "  </thead>\n",
       "  <tbody>\n",
       "    <tr>\n",
       "      <th>647</th>\n",
       "      <td>Terroranschläge am 13. November 2015 in Paris</td>\n",
       "      <td>2015-11-13T00:00:00Z</td>\n",
       "      <td>[34, 11, 3909, 27169, 28903, 25685]</td>\n",
       "      <td>[208703, 88331, 95130, 23400, 11820, 5362, 29,...</td>\n",
       "    </tr>\n",
       "    <tr>\n",
       "      <th>802</th>\n",
       "      <td>Spanische Parlamentswahlen 2015</td>\n",
       "      <td>2015-12-20T00:00:00Z</td>\n",
       "      <td>[11017, 15974, 4671, 2388, 913, 580, 593]</td>\n",
       "      <td>[24, 18, 5, 5, 2, 2, 2, 81, 68, 24, 17, 5, 6, ...</td>\n",
       "    </tr>\n",
       "    <tr>\n",
       "      <th>816</th>\n",
       "      <td>Bundesratswahl 2015</td>\n",
       "      <td>2015-12-09T00:00:00Z</td>\n",
       "      <td>[37, 3, 1]</td>\n",
       "      <td>[9242, 2528, 1505, 778, 537, 430, 361]</td>\n",
       "    </tr>\n",
       "    <tr>\n",
       "      <th>887</th>\n",
       "      <td>UN-Klimakonferenz in Paris 2015</td>\n",
       "      <td>2015-11-30T00:00:00Z</td>\n",
       "      <td>[10709, 8530, 8060, 6147, 4025, 3062, 5220]</td>\n",
       "      <td>[27, 17, 8, 12, 17, 5, 6, 79, 43, 28, 14, 23, ...</td>\n",
       "    </tr>\n",
       "    <tr>\n",
       "      <th>918</th>\n",
       "      <td>Internationale Filmfestspiele von Venedig 2016</td>\n",
       "      <td>2016-08-31T00:00:00Z</td>\n",
       "      <td>[336, 880, 908, 654, 1164, 2633, 2550]</td>\n",
       "      <td>[3, 6, 1, 1, 1, 3, 4, 2, 2, 1, 4, 2, 2, 1, 4, ...</td>\n",
       "    </tr>\n",
       "    <tr>\n",
       "      <th>...</th>\n",
       "      <td>...</td>\n",
       "      <td>...</td>\n",
       "      <td>...</td>\n",
       "      <td>...</td>\n",
       "    </tr>\n",
       "    <tr>\n",
       "      <th>4864</th>\n",
       "      <td>Oscarverleihung 2020</td>\n",
       "      <td>2020-02-09T00:00:00Z</td>\n",
       "      <td>[42819, 191458, 27174, 12707, 9038, 7073, 7496]</td>\n",
       "      <td>[153, 1096, 165, 79, 59, 37, 30, 2, 8, 3, 1, 1...</td>\n",
       "    </tr>\n",
       "    <tr>\n",
       "      <th>4950</th>\n",
       "      <td>Australian Poker Open 2020</td>\n",
       "      <td>2020-01-25T00:00:00Z</td>\n",
       "      <td>[13, 21, 11, 12, 21, 27, 34]</td>\n",
       "      <td>[1, 1, 1, 2]</td>\n",
       "    </tr>\n",
       "    <tr>\n",
       "      <th>4978</th>\n",
       "      <td>Primetime-Emmy-Verleihung 2020</td>\n",
       "      <td>2020-09-20T00:00:00Z</td>\n",
       "      <td>[2351, 13918, 4374, 2247, 786, 721, 539]</td>\n",
       "      <td>[2, 5, 51, 17, 1, 4, 2, 10, 83, 22, 9, 2, 3, 3...</td>\n",
       "    </tr>\n",
       "    <tr>\n",
       "      <th>4995</th>\n",
       "      <td>Terroranschlag in Wien 2020</td>\n",
       "      <td>2020-11-02T00:00:00Z</td>\n",
       "      <td>[3712, 62665, 20043, 15443, 17865, 12922, 11037]</td>\n",
       "      <td>[116, 52, 15, 38, 32, 8, 13, 159, 65, 23, 23, ...</td>\n",
       "    </tr>\n",
       "    <tr>\n",
       "      <th>5005</th>\n",
       "      <td>Präsidentschaftswahl in Belarus 2020</td>\n",
       "      <td>2020-08-09T00:00:00Z</td>\n",
       "      <td>[778, 636, 329, 182, 148, 175, 137]</td>\n",
       "      <td>[7, 9, 1, 1, 6575, 9888, 6653, 4264, 4140, 461...</td>\n",
       "    </tr>\n",
       "  </tbody>\n",
       "</table>\n",
       "<p>178 rows × 4 columns</p>\n",
       "</div>"
      ],
      "text/plain": [
       "                                           pagetitle            event_date  \\\n",
       "647    Terroranschläge am 13. November 2015 in Paris  2015-11-13T00:00:00Z   \n",
       "802                  Spanische Parlamentswahlen 2015  2015-12-20T00:00:00Z   \n",
       "816                              Bundesratswahl 2015  2015-12-09T00:00:00Z   \n",
       "887                  UN-Klimakonferenz in Paris 2015  2015-11-30T00:00:00Z   \n",
       "918   Internationale Filmfestspiele von Venedig 2016  2016-08-31T00:00:00Z   \n",
       "...                                              ...                   ...   \n",
       "4864                            Oscarverleihung 2020  2020-02-09T00:00:00Z   \n",
       "4950                      Australian Poker Open 2020  2020-01-25T00:00:00Z   \n",
       "4978                  Primetime-Emmy-Verleihung 2020  2020-09-20T00:00:00Z   \n",
       "4995                     Terroranschlag in Wien 2020  2020-11-02T00:00:00Z   \n",
       "5005            Präsidentschaftswahl in Belarus 2020  2020-08-09T00:00:00Z   \n",
       "\n",
       "                                     list_views_7_days  \\\n",
       "647                [34, 11, 3909, 27169, 28903, 25685]   \n",
       "802          [11017, 15974, 4671, 2388, 913, 580, 593]   \n",
       "816                                         [37, 3, 1]   \n",
       "887        [10709, 8530, 8060, 6147, 4025, 3062, 5220]   \n",
       "918             [336, 880, 908, 654, 1164, 2633, 2550]   \n",
       "...                                                ...   \n",
       "4864   [42819, 191458, 27174, 12707, 9038, 7073, 7496]   \n",
       "4950                      [13, 21, 11, 12, 21, 27, 34]   \n",
       "4978          [2351, 13918, 4374, 2247, 786, 721, 539]   \n",
       "4995  [3712, 62665, 20043, 15443, 17865, 12922, 11037]   \n",
       "5005               [778, 636, 329, 182, 148, 175, 137]   \n",
       "\n",
       "                            list_views_7_days_redirects  \n",
       "647   [208703, 88331, 95130, 23400, 11820, 5362, 29,...  \n",
       "802   [24, 18, 5, 5, 2, 2, 2, 81, 68, 24, 17, 5, 6, ...  \n",
       "816              [9242, 2528, 1505, 778, 537, 430, 361]  \n",
       "887   [27, 17, 8, 12, 17, 5, 6, 79, 43, 28, 14, 23, ...  \n",
       "918   [3, 6, 1, 1, 1, 3, 4, 2, 2, 1, 4, 2, 2, 1, 4, ...  \n",
       "...                                                 ...  \n",
       "4864  [153, 1096, 165, 79, 59, 37, 30, 2, 8, 3, 1, 1...  \n",
       "4950                                       [1, 1, 1, 2]  \n",
       "4978  [2, 5, 51, 17, 1, 4, 2, 10, 83, 22, 9, 2, 3, 3...  \n",
       "4995  [116, 52, 15, 38, 32, 8, 13, 159, 65, 23, 23, ...  \n",
       "5005  [7, 9, 1, 1, 6575, 9888, 6653, 4264, 4140, 461...  \n",
       "\n",
       "[178 rows x 4 columns]"
      ]
     },
     "execution_count": 27,
     "metadata": {},
     "output_type": "execute_result"
    }
   ],
   "source": [
    "def check_numbers_7(row):\n",
    "    len_1 = len(row.list_views_7_days.split(','))\n",
    "    len_2 = len(row.list_views_7_days_redirects.split(','))\n",
    "    \n",
    "    return (len_2 > 1) and (len_1 > 1) and (len_1 != len_2) and (row.event_id in df_crawled.event_id.values)\n",
    "\n",
    "events_old[events_old.apply(lambda l: check_numbers_7(l), axis=1)][['pagetitle', 'event_date','list_views_7_days', 'list_views_7_days_redirects']]"
   ]
  }
 ],
 "metadata": {
  "kernelspec": {
   "display_name": "Python 3",
   "language": "python",
   "name": "python3"
  },
  "language_info": {
   "codemirror_mode": {
    "name": "ipython",
    "version": 3
   },
   "file_extension": ".py",
   "mimetype": "text/x-python",
   "name": "python",
   "nbconvert_exporter": "python",
   "pygments_lexer": "ipython3",
   "version": "3.7.6"
  }
 },
 "nbformat": 4,
 "nbformat_minor": 4
}
