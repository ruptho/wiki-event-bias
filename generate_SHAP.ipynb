{
 "cells": [
  {
   "cell_type": "code",
   "execution_count": 1,
   "outputs": [],
   "source": [
    "%load_ext autoreload\n",
    "%autoreload 2"
   ],
   "metadata": {
    "collapsed": false,
    "pycharm": {
     "name": "#%%\n"
    }
   }
  },
  {
   "cell_type": "code",
   "execution_count": 2,
   "outputs": [
    {
     "name": "stderr",
     "output_type": "stream",
     "text": [
      "/home/ruptho/.local/lib/python3.10/site-packages/tqdm/auto.py:22: TqdmWarning: IProgress not found. Please update jupyter and ipywidgets. See https://ipywidgets.readthedocs.io/en/stable/user_install.html\n",
      "  from .autonotebook import tqdm as notebook_tqdm\n"
     ]
    }
   ],
   "source": [
    "import pickle\n",
    "\n",
    "import pandas as pd\n",
    "\n",
    "import shap\n",
    "from util.prediction import prepare_experiment_dfs"
   ],
   "metadata": {
    "collapsed": false,
    "pycharm": {
     "name": "#%%\n"
    }
   }
  },
  {
   "cell_type": "code",
   "execution_count": 3,
   "outputs": [],
   "source": [
    "df_crawled, df_reg, df_editreg, df_class = prepare_experiment_dfs('data/events/all_events.csv.gz')"
   ],
   "metadata": {
    "collapsed": false,
    "pycharm": {
     "name": "#%%\n"
    }
   }
  },
  {
   "cell_type": "code",
   "execution_count": null,
   "outputs": [],
   "source": [
    "from util.shapley import get_indices, compute_shap_values\n",
    "from util.prediction import load_rf_and_xgb_models\n",
    "\n",
    "shap_vals_noreg, shap_vals_noreg_alt, shap_vals_noreg_alt_int = {}, {}, {}\n",
    "models, model_eval = load_rf_and_xgb_models(df_class, df_reg, df_editreg)"
   ],
   "metadata": {
    "collapsed": false,
    "pycharm": {
     "name": "#%%\n",
     "is_executing": true
    }
   }
  },
  {
   "cell_type": "code",
   "execution_count": null,
   "outputs": [],
   "source": [
    "for key, model in model_eval.items():\n",
    "    # SHAP values\n",
    "    if '_xgb' in key:\n",
    "        print(f'Retrain {key}')\n",
    "        model.retrain_full()\n",
    "        print(f'Fit shapval {key}')\n",
    "        df_full = pd.concat([model.df_train_full, model.df_test])[model.encoded_columns]\n",
    "        cat_indices = get_indices(model.encoded_columns, baselines={'code_en': 4, 'cat_disaster': 4})\n",
    "        shap_vals_noreg[key] = compute_shap_values(model.full_model, df_full, df_full, model.encoded_columns,\n",
    "                                                   cat_indices)\n",
    "        explainer = shap.Explainer(model.full_model)\n",
    "        shap_vals_noreg_alt[key] = explainer(df_full)\n",
    "        shap_vals_noreg_alt_int[key] = explainer.shap_interaction_values(df_full)\n",
    "\n",
    "        with open(f'shap/ACV_SHAP_SHAPINT_noreg.pkl', 'wb') as outp:  # Overwrites any existing file.\n",
    "            pickle.dump([shap_vals_noreg, shap_vals_noreg_alt, shap_vals_noreg_alt_int], outp, pickle.HIGHEST_PROTOCOL)\n",
    "\n",
    "for key, model in model_eval.items():\n",
    "    # ACV shap values\n",
    "    if '_xgb' in key:\n",
    "        print(f'Retrain {key}')\n",
    "        model.retrain_full()\n",
    "        print(f'Fit shapval {key}')\n",
    "        df_full = pd.concat([model.df_train_full, model.df_test])[model.encoded_columns]\n",
    "        cat_indices = get_indices(model.encoded_columns, baselines={'code_en': 4, 'cat_disaster': 4})\n",
    "        shap_vals_noreg[key] = compute_shap_values(model.full_model, df_full, df_full, model.encoded_columns,\n",
    "                                                   cat_indices)\n",
    "\n",
    "        with open(f'shap/ACV_SHAP_SHAPINT_noreg.pkl', 'wb') as outp:  # Overwrites any existing file.\n",
    "            pickle.dump([shap_vals_noreg, shap_vals_noreg_alt, shap_vals_noreg_alt_int], outp, pickle.HIGHEST_PROTOCOL)"
   ],
   "metadata": {
    "collapsed": false,
    "pycharm": {
     "name": "#%%\n"
    }
   }
  }
 ],
 "metadata": {
  "kernelspec": {
   "display_name": "Python 3",
   "language": "python",
   "name": "python3"
  },
  "language_info": {
   "codemirror_mode": {
    "name": "ipython",
    "version": 3
   },
   "file_extension": ".py",
   "mimetype": "text/x-python",
   "name": "python",
   "nbconvert_exporter": "python",
   "pygments_lexer": "ipython3",
   "version": "3.7.8"
  }
 },
 "nbformat": 4,
 "nbformat_minor": 5
}