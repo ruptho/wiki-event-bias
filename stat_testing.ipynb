{
 "cells": [
  {
   "cell_type": "code",
   "execution_count": 1,
   "metadata": {
    "collapsed": true
   },
   "outputs": [],
   "source": [
    "%load_ext autoreload\n",
    "%autoreload 2"
   ]
  },
  {
   "cell_type": "code",
   "execution_count": 2,
   "outputs": [],
   "source": [
    "import pandas as pd\n",
    "import numpy as np\n",
    "from util.prediction import prepare_experiment_dfs\n",
    "from scipy.stats import chi2_contingency\n",
    "from statsmodels.stats.multitest import multipletests\n",
    "import itertools"
   ],
   "metadata": {
    "collapsed": false,
    "pycharm": {
     "name": "#%%\n"
    }
   }
  },
  {
   "cell_type": "code",
   "execution_count": 3,
   "outputs": [],
   "source": [
    "\n",
    "df_crawled, df_reg, df_editreg, df_class = prepare_experiment_dfs('data/events/all_events.csv.gz')\n",
    "df_class['higher'] = df_class.gni_class.isin(['H', 'UM'])"
   ],
   "metadata": {
    "collapsed": false,
    "pycharm": {
     "name": "#%%\n"
    }
   }
  },
  {
   "cell_type": "markdown",
   "source": [
    "# Tests for \"Descriptive analysis of event articles\""
   ],
   "metadata": {
    "collapsed": false,
    "pycharm": {
     "name": "#%% md\n"
    }
   }
  },
  {
   "cell_type": "markdown",
   "source": [
    "### Difference between noticed articles across languages"
   ],
   "metadata": {
    "collapsed": false,
    "pycharm": {
     "name": "#%% md\n"
    }
   }
  },
  {
   "cell_type": "markdown",
   "source": [
    "### Tests for \"Descriptive analysis of event articles\""
   ],
   "metadata": {
    "collapsed": false,
    "pycharm": {
     "name": "#%% md\n"
    }
   }
  },
  {
   "cell_type": "markdown",
   "source": [
    "#### Attention by category and income"
   ],
   "metadata": {
    "collapsed": false,
    "pycharm": {
     "name": "#%% md\n"
    }
   }
  },
  {
   "cell_type": "code",
   "execution_count": 4,
   "outputs": [],
   "source": [
    "from util.stats import make_contingency_table, calc_and_print_chi2, perform_chi2_3d, perform_chi2_2d\n",
    "from scipy.stats import chi2_contingency, ttest_1samp, ttest_ind"
   ],
   "metadata": {
    "collapsed": false,
    "pycharm": {
     "name": "#%%\n"
    }
   }
  },
  {
   "cell_type": "code",
   "execution_count": 5,
   "outputs": [
    {
     "name": "stdout",
     "output_type": "stream",
     "text": [
      "Chi2 Overall 0.00000 (val=1641.997, dof=1)\n",
      "Chi2 Overall 0.00000 (val=632.292, dof=1)\n"
     ]
    },
    {
     "data": {
      "text/plain": "edited              0           1\nworldwide                        \nFalse      774.343911 -774.343911\nTrue      -774.343911  774.343911",
      "text/html": "<div>\n<style scoped>\n    .dataframe tbody tr th:only-of-type {\n        vertical-align: middle;\n    }\n\n    .dataframe tbody tr th {\n        vertical-align: top;\n    }\n\n    .dataframe thead th {\n        text-align: right;\n    }\n</style>\n<table border=\"1\" class=\"dataframe\">\n  <thead>\n    <tr style=\"text-align: right;\">\n      <th>edited</th>\n      <th>0</th>\n      <th>1</th>\n    </tr>\n    <tr>\n      <th>worldwide</th>\n      <th></th>\n      <th></th>\n    </tr>\n  </thead>\n  <tbody>\n    <tr>\n      <th>False</th>\n      <td>774.343911</td>\n      <td>-774.343911</td>\n    </tr>\n    <tr>\n      <th>True</th>\n      <td>-774.343911</td>\n      <td>774.343911</td>\n    </tr>\n  </tbody>\n</table>\n</div>"
     },
     "execution_count": 5,
     "metadata": {},
     "output_type": "execute_result"
    }
   ],
   "source": [
    "# Worldwide (en/es) Wikis are more likely to have noticed/edited articles\n",
    "df_code_noticed = make_contingency_table(df_class, 'worldwide', 'noticed')\n",
    "p_val, expected, cont_tables = calc_and_print_chi2(df_code_noticed, text='Chi2 Overall')\n",
    "df_code_noticed.subtract(expected, axis='columns')\n",
    "df_code_edited = make_contingency_table(df_class, 'worldwide', 'edited')\n",
    "p_val, expected, cont_tables = calc_and_print_chi2(df_code_edited, text='Chi2 Overall')\n",
    "df_code_edited.subtract(expected, axis='columns')"
   ],
   "metadata": {
    "collapsed": false,
    "pycharm": {
     "name": "#%%\n"
    }
   }
  },
  {
   "cell_type": "code",
   "execution_count": 6,
   "outputs": [
    {
     "name": "stdout",
     "output_type": "stream",
     "text": [
      "Test separation by de\n",
      "Chi2 Overall 0.00000 (val=265.652, dof=3)\n",
      "Test separation by en\n",
      "Chi2 Overall 0.00000 (val=125.391, dof=3)\n",
      "Test separation by es\n",
      "Chi2 Overall 0.00000 (val=191.433, dof=3)\n",
      "Test separation by it\n",
      "Chi2 Overall 0.00000 (val=46.128, dof=3)\n"
     ]
    },
    {
     "data": {
      "text/plain": "(array([ True,  True,  True,  True]),\n array([1.07683069e-56, 2.12913403e-26, 1.19733863e-40, 2.13098725e-09]),\n 0.012741455098566168,\n 0.0125)"
     },
     "execution_count": 6,
     "metadata": {},
     "output_type": "execute_result"
    }
   ],
   "source": [
    "#  differences in attention and coverage between language editions when partitioned into the four article categories\n",
    "p_val, expected, cont_tables = perform_chi2_3d(df_class, 'code', 'cat', 'noticed', pairwise=False)\n",
    "multipletests(list(p_val.values()), method='bonferroni')"
   ],
   "metadata": {
    "collapsed": false,
    "pycharm": {
     "name": "#%%\n"
    }
   }
  },
  {
   "cell_type": "code",
   "execution_count": 7,
   "outputs": [
    {
     "name": "stdout",
     "output_type": "stream",
     "text": [
      "Test separation by politics\n",
      "Chi2 Overall 0.00000 (val=391.322, dof=3)\n",
      "de vs. en\n",
      "Chi2 0.00000 (val=29.818, dof=1)\n",
      "de vs. es\n",
      "Chi2 0.01015 (val=6.608, dof=1)\n",
      "de vs. it\n",
      "Chi2 0.00000 (val=89.042, dof=1)\n",
      "en vs. es\n",
      "Chi2 0.00000 (val=123.307, dof=1)\n",
      "en vs. it\n",
      "Chi2 0.00000 (val=382.740, dof=1)\n",
      "es vs. it\n",
      "Chi2 0.00000 (val=71.250, dof=1)\n",
      "(array([ True,  True, False,  True,  True,  True,  True]), array([1.17444081e-83, 3.32147370e-07, 7.10623252e-02, 2.70500683e-20,\n",
      "       8.36191962e-28, 2.20529587e-84, 2.20249134e-16]), 0.007300831979014655, 0.0071428571428571435)\n",
      "Test separation by politics\n",
      "Chi2 Overall 0.00000 (val=321.471, dof=3)\n",
      "de vs. en\n",
      "Chi2 0.06269 (val=3.465, dof=1)\n",
      "de vs. es\n",
      "Chi2 0.00000 (val=57.057, dof=1)\n",
      "de vs. it\n",
      "Chi2 0.00000 (val=80.610, dof=1)\n",
      "en vs. es\n",
      "Chi2 0.00000 (val=198.412, dof=1)\n",
      "en vs. it\n",
      "Chi2 0.00000 (val=200.491, dof=1)\n",
      "es vs. it\n",
      "Chi2 0.00389 (val=8.336, dof=1)\n"
     ]
    },
    {
     "data": {
      "text/plain": "(array([ True, False,  True,  True,  True,  True,  True]),\n array([1.56845571e-68, 4.38803184e-01, 2.96338021e-13, 1.92474169e-18,\n        3.24740824e-44, 1.14207815e-44, 2.72103452e-02]),\n 0.007300831979014655,\n 0.0071428571428571435)"
     },
     "execution_count": 7,
     "metadata": {},
     "output_type": "execute_result"
    }
   ],
   "source": [
    "# politics are less likely to be viewed or edited in Italian\n",
    "p_val, expected, cont_tables = perform_chi2_3d(df_class[df_class.cat.isin(['politics'])], 'cat', 'code', 'noticed', pairwise=True)\n",
    "print(multipletests(list(p_val.values()), method='bonferroni'))\n",
    "p_val, expected, cont_tables = perform_chi2_3d(df_class[df_class.cat.isin(['politics'])], 'cat', 'code', 'edited', pairwise=True)\n",
    "multipletests(list(p_val.values()), method='bonferroni')"
   ],
   "metadata": {
    "collapsed": false,
    "pycharm": {
     "name": "#%%\n"
    }
   }
  },
  {
   "cell_type": "code",
   "execution_count": 8,
   "outputs": [
    {
     "name": "stdout",
     "output_type": "stream",
     "text": [
      "Test separation by disaster\n",
      "Chi2 Overall 0.00000 (val=54.860, dof=3)\n",
      "de vs. en\n",
      "Chi2 0.65959 (val=0.194, dof=1)\n",
      "de vs. es\n",
      "Chi2 0.00048 (val=12.174, dof=1)\n",
      "de vs. it\n",
      "Chi2 0.00000 (val=29.279, dof=1)\n",
      "en vs. es\n",
      "Chi2 0.00001 (val=18.935, dof=1)\n",
      "en vs. it\n",
      "Chi2 0.00000 (val=39.330, dof=1)\n",
      "es vs. it\n",
      "Chi2 0.00427 (val=8.167, dof=1)\n",
      "(array([ True, False,  True,  True,  True,  True,  True]), array([5.14827804e-11, 1.00000000e+00, 3.39147073e-03, 4.38642310e-07,\n",
      "       9.46943341e-05, 2.50540767e-09, 2.98578929e-02]), 0.007300831979014655, 0.0071428571428571435)\n",
      "Test separation by disaster\n",
      "Chi2 Overall 0.00000 (val=91.530, dof=3)\n",
      "de vs. en\n",
      "Chi2 0.06527 (val=3.398, dof=1)\n",
      "de vs. es\n",
      "Chi2 0.00000 (val=45.238, dof=1)\n",
      "de vs. it\n",
      "Chi2 0.00000 (val=37.229, dof=1)\n",
      "en vs. es\n",
      "Chi2 0.00000 (val=52.247, dof=1)\n",
      "en vs. it\n",
      "Chi2 0.00000 (val=33.750, dof=1)\n",
      "es vs. it\n",
      "Chi2 0.45629 (val=0.555, dof=1)\n",
      "(array([ True, False,  True,  True,  True,  True, False]), array([7.19488396e-19, 4.56866252e-01, 1.22130520e-10, 7.35415379e-09,\n",
      "       3.42621776e-12, 4.38795234e-08, 1.00000000e+00]), 0.007300831979014655, 0.0071428571428571435)\n"
     ]
    }
   ],
   "source": [
    "# disasters are less likely to be viewed or edited in Italian\n",
    "p_val, expected, cont_tables = perform_chi2_3d(df_class[df_class.cat.isin(['disaster'])], 'cat', 'code', 'noticed', pairwise=True)\n",
    "print(multipletests(list(p_val.values()), method='bonferroni'))\n",
    "p_val, expected, cont_tables = perform_chi2_3d(df_class[df_class.cat.isin(['disaster'])], 'cat', 'code', 'edited', pairwise=True)\n",
    "print(multipletests(list(p_val.values()), method='bonferroni'))"
   ],
   "metadata": {
    "collapsed": false,
    "pycharm": {
     "name": "#%%\n"
    }
   }
  },
  {
   "cell_type": "code",
   "execution_count": 15,
   "outputs": [
    {
     "name": "stdout",
     "output_type": "stream",
     "text": [
      "Test separation by de\n",
      "Chi2 Overall 0.05664 (val=3.633, dof=1)\n",
      "Test separation by en\n",
      "Chi2 Overall 0.00002 (val=17.949, dof=1)\n",
      "Test separation by es\n",
      "Chi2 Overall 0.00000 (val=41.968, dof=1)\n",
      "Test separation by it\n",
      "Chi2 Overall 0.00000 (val=46.228, dof=1)\n",
      "Test separation by de\n",
      "Chi2 Overall 0.29280 (val=1.107, dof=1)\n",
      "Test separation by en\n",
      "Chi2 Overall 0.01236 (val=6.259, dof=1)\n",
      "Test separation by es\n",
      "Chi2 Overall 0.00310 (val=8.745, dof=1)\n",
      "Test separation by it\n",
      "Chi2 Overall 0.00000 (val=34.854, dof=1)\n"
     ]
    },
    {
     "data": {
      "text/plain": "(array([False,  True,  True,  True]),\n array([1.00000000e+00, 4.94267442e-02, 1.24191192e-02, 1.42169079e-08]),\n 0.012741455098566168,\n 0.0125)"
     },
     "execution_count": 15,
     "metadata": {},
     "output_type": "execute_result"
    }
   ],
   "source": [
    "# in all languages users are more likely to view or edit articles from countries in the upper-middle or high-income classes\n",
    "p_val, expected, cont_tables = perform_chi2_3d(df_class, 'code', 'higher', 'noticed', pairwise=False)\n",
    "multipletests(list(p_val.values()), method='bonferroni')\n",
    "p_val, expected, cont_tables = perform_chi2_3d(df_class, 'code', 'higher', 'edited', pairwise=False)\n",
    "multipletests(list(p_val.values()), method='bonferroni')"
   ],
   "metadata": {
    "collapsed": false,
    "pycharm": {
     "name": "#%%\n"
    }
   }
  },
  {
   "cell_type": "code",
   "execution_count": 16,
   "outputs": [
    {
     "name": "stdout",
     "output_type": "stream",
     "text": [
      "Chi2 Overall 0.00000 (val=41.968, dof=1)\n",
      "(array([ True]), array([9.2798465e-11]), 0.050000000000000044, 0.05)\n",
      "Chi2 Overall 0.00310 (val=8.745, dof=1)\n",
      "(array([ True]), array([0.00310478]), 0.050000000000000044, 0.05)\n"
     ]
    }
   ],
   "source": [
    "# In Spanish, although more articles about events in high-income countries exist, events in upper-middle income countries are more likely to be viewed or edited\n",
    "df_class['is_UM'] = df_class.gni_class == 'UM'\n",
    "p_val, expected, cont_tables = perform_chi2_2d(df_class[df_class.code == 'es'], 'higher', 'noticed')\n",
    "print(multipletests(list(p_val.values()), method='bonferroni'))\n",
    "p_val, expected, cont_tables = perform_chi2_2d(df_class[df_class.code == 'es'], 'higher', 'edited')\n",
    "print(multipletests(list(p_val.values()), method='bonferroni'))"
   ],
   "metadata": {
    "collapsed": false,
    "pycharm": {
     "name": "#%%\n"
    }
   }
  },
  {
   "cell_type": "code",
   "execution_count": 17,
   "outputs": [
    {
     "name": "stdout",
     "output_type": "stream",
     "text": [
      "Chi2 Overall 0.00000 (val=1081.972, dof=3)\n",
      "culture vs. disaster\n",
      "Chi2 0.00000 (val=190.946, dof=1)\n",
      "culture vs. politics\n",
      "Chi2 0.00000 (val=42.675, dof=1)\n",
      "culture vs. sports\n",
      "Chi2 0.00008 (val=15.447, dof=1)\n",
      "disaster vs. politics\n",
      "Chi2 0.00000 (val=127.549, dof=1)\n",
      "disaster vs. sports\n",
      "Chi2 0.00000 (val=1059.916, dof=1)\n",
      "politics vs. sports\n",
      "Chi2 0.00000 (val=378.313, dof=1)\n",
      "(array([ True,  True,  True,  True,  True,  True,  True]), array([2.07648758e-233, 1.38315006e-042, 4.52437481e-010, 5.94008765e-004,\n",
      "       9.86390865e-029, 1.19154477e-231, 2.02895174e-083]), 0.007300831979014655, 0.0071428571428571435)\n",
      "Chi2 Overall 0.00000 (val=1081.972, dof=3)\n",
      "culture vs. disaster\n",
      "Chi2 0.00000 (val=190.946, dof=1)\n",
      "culture vs. politics\n",
      "Chi2 0.00000 (val=42.675, dof=1)\n",
      "culture vs. sports\n",
      "Chi2 0.00008 (val=15.447, dof=1)\n",
      "disaster vs. politics\n",
      "Chi2 0.00000 (val=127.549, dof=1)\n",
      "disaster vs. sports\n",
      "Chi2 0.00000 (val=1059.916, dof=1)\n",
      "politics vs. sports\n",
      "Chi2 0.00000 (val=378.313, dof=1)\n",
      "(array([ True,  True,  True,  True,  True,  True,  True]), array([2.07648758e-233, 1.38315006e-042, 4.52437481e-010, 5.94008765e-004,\n",
      "       9.86390865e-029, 1.19154477e-231, 2.02895174e-083]), 0.007300831979014655, 0.0071428571428571435)\n"
     ]
    }
   ],
   "source": [
    "# lower and middle-income countries are more likely to have articles that are noticed or edited\n",
    "p_val, expected, cont_tables = perform_chi2_2d(df_class, 'cat', 'higher')\n",
    "print(multipletests(list(p_val.values()), method='bonferroni'))\n",
    "p_val, expected, cont_tables = perform_chi2_2d(df_class, 'cat', 'higher')\n",
    "print(multipletests(list(p_val.values()), method='bonferroni'))"
   ],
   "metadata": {
    "collapsed": false,
    "pycharm": {
     "name": "#%%\n"
    }
   }
  },
  {
   "cell_type": "code",
   "execution_count": 18,
   "outputs": [
    {
     "name": "stdout",
     "output_type": "stream",
     "text": [
      "Chi2 Overall 0.00000 (val=1081.972, dof=3)\n"
     ]
    },
    {
     "data": {
      "text/plain": "higher         False        True\ncat                             \nculture   -24.964437   24.964437\ndisaster  344.260949 -344.260949\npolitics  192.536993 -192.536993\nsports   -511.833505  511.833505",
      "text/html": "<div>\n<style scoped>\n    .dataframe tbody tr th:only-of-type {\n        vertical-align: middle;\n    }\n\n    .dataframe tbody tr th {\n        vertical-align: top;\n    }\n\n    .dataframe thead th {\n        text-align: right;\n    }\n</style>\n<table border=\"1\" class=\"dataframe\">\n  <thead>\n    <tr style=\"text-align: right;\">\n      <th>higher</th>\n      <th>False</th>\n      <th>True</th>\n    </tr>\n    <tr>\n      <th>cat</th>\n      <th></th>\n      <th></th>\n    </tr>\n  </thead>\n  <tbody>\n    <tr>\n      <th>culture</th>\n      <td>-24.964437</td>\n      <td>24.964437</td>\n    </tr>\n    <tr>\n      <th>disaster</th>\n      <td>344.260949</td>\n      <td>-344.260949</td>\n    </tr>\n    <tr>\n      <th>politics</th>\n      <td>192.536993</td>\n      <td>-192.536993</td>\n    </tr>\n    <tr>\n      <th>sports</th>\n      <td>-511.833505</td>\n      <td>511.833505</td>\n    </tr>\n  </tbody>\n</table>\n</div>"
     },
     "metadata": {},
     "output_type": "display_data"
    }
   ],
   "source": [
    "p_val, expected, cont_tables = perform_chi2_2d(df_class, 'cat', 'higher', pairwise=False)\n",
    "for key, val in cont_tables.items():\n",
    "    display(val.subtract(expected[key]))"
   ],
   "metadata": {
    "collapsed": false,
    "pycharm": {
     "name": "#%%\n"
    }
   }
  },
  {
   "cell_type": "code",
   "execution_count": 9,
   "outputs": [
    {
     "name": "stdout",
     "output_type": "stream",
     "text": [
      "Chi2 Overall 1.00000 (val=0.000, dof=0)\n"
     ]
    },
    {
     "data": {
      "text/plain": "('code', 'all')"
     },
     "metadata": {},
     "output_type": "display_data"
    },
    {
     "data": {
      "text/plain": "cat   disaster\ncode          \nde         0.0\nen         0.0\nes         0.0\nit         0.0",
      "text/html": "<div>\n<style scoped>\n    .dataframe tbody tr th:only-of-type {\n        vertical-align: middle;\n    }\n\n    .dataframe tbody tr th {\n        vertical-align: top;\n    }\n\n    .dataframe thead th {\n        text-align: right;\n    }\n</style>\n<table border=\"1\" class=\"dataframe\">\n  <thead>\n    <tr style=\"text-align: right;\">\n      <th>cat</th>\n      <th>disaster</th>\n    </tr>\n    <tr>\n      <th>code</th>\n      <th></th>\n    </tr>\n  </thead>\n  <tbody>\n    <tr>\n      <th>de</th>\n      <td>0.0</td>\n    </tr>\n    <tr>\n      <th>en</th>\n      <td>0.0</td>\n    </tr>\n    <tr>\n      <th>es</th>\n      <td>0.0</td>\n    </tr>\n    <tr>\n      <th>it</th>\n      <td>0.0</td>\n    </tr>\n  </tbody>\n</table>\n</div>"
     },
     "metadata": {},
     "output_type": "display_data"
    }
   ],
   "source": [
    "p_val, expected, cont_tables = perform_chi2_2d(df_class.query('cat == \"disaster\"'), 'code', 'cat', pairwise=False)\n",
    "for key, val in cont_tables.items():\n",
    "    display(key)\n",
    "    display(val.subtract(expected[key]))"
   ],
   "metadata": {
    "collapsed": false,
    "pycharm": {
     "name": "#%%\n"
    }
   }
  },
  {
   "cell_type": "markdown",
   "source": [],
   "metadata": {
    "collapsed": false
   }
  },
  {
   "cell_type": "markdown",
   "source": [
    "### Geography and attention to events"
   ],
   "metadata": {
    "collapsed": false,
    "pycharm": {
     "name": "#%% md\n"
    }
   }
  },
  {
   "cell_type": "code",
   "execution_count": 10,
   "outputs": [],
   "source": [
    "from scipy.stats import mannwhitneyu"
   ],
   "metadata": {
    "collapsed": false,
    "pycharm": {
     "name": "#%%\n"
    }
   }
  },
  {
   "cell_type": "markdown",
   "source": [],
   "metadata": {
    "collapsed": false
   }
  },
  {
   "cell_type": "markdown",
   "source": [],
   "metadata": {
    "collapsed": false
   }
  },
  {
   "cell_type": "code",
   "execution_count": 11,
   "outputs": [
    {
     "data": {
      "text/plain": "0.46064673581452104"
     },
     "execution_count": 11,
     "metadata": {},
     "output_type": "execute_result"
    }
   ],
   "source": [
    "df_continent_de = df_class[df_class.code == 'de'].continent.value_counts()\n",
    "df_continent_de['Europe'] / df_continent_de.sum()"
   ],
   "metadata": {
    "collapsed": false,
    "pycharm": {
     "name": "#%%\n"
    }
   }
  },
  {
   "cell_type": "code",
   "execution_count": 12,
   "outputs": [
    {
     "data": {
      "text/plain": "United States    0.093655\nBrazil           0.081757\nName: country, dtype: float64"
     },
     "execution_count": 12,
     "metadata": {},
     "output_type": "execute_result"
    }
   ],
   "source": [
    "df_de_articles = df_class[df_class.code == 'de'].country.value_counts()\n",
    "df_de_articles[['United States', 'Brazil']] / df_de_articles.sum()"
   ],
   "metadata": {
    "collapsed": false,
    "pycharm": {
     "name": "#%%\n"
    }
   }
  },
  {
   "cell_type": "code",
   "execution_count": 13,
   "outputs": [
    {
     "data": {
      "text/plain": "United States    0.082938\nBrazil           0.119109\nName: country, dtype: float64"
     },
     "execution_count": 13,
     "metadata": {},
     "output_type": "execute_result"
    }
   ],
   "source": [
    "df_it_articles = df_class[df_class.code == 'it'].country.value_counts()\n",
    "df_it_articles[['United States', 'Brazil']] / df_it_articles.sum()"
   ],
   "metadata": {
    "collapsed": false,
    "pycharm": {
     "name": "#%%\n"
    }
   }
  },
  {
   "cell_type": "code",
   "execution_count": 14,
   "outputs": [
    {
     "data": {
      "text/plain": "0.5436609426379247"
     },
     "execution_count": 14,
     "metadata": {},
     "output_type": "execute_result"
    }
   ],
   "source": [
    "df_continent_it = df_class[df_class.code == 'it'].continent.value_counts()\n",
    "df_continent_it['Europe'] / df_continent_it.sum()"
   ],
   "metadata": {
    "collapsed": false,
    "pycharm": {
     "name": "#%%\n"
    }
   }
  },
  {
   "cell_type": "code",
   "execution_count": 15,
   "outputs": [
    {
     "data": {
      "text/plain": "United States    0.082938\nBrazil           0.119109\nName: country, dtype: float64"
     },
     "execution_count": 15,
     "metadata": {},
     "output_type": "execute_result"
    }
   ],
   "source": [
    "df_it_articles = df_class[df_class.code == 'it'].country.value_counts()\n",
    "df_it_articles[['United States', 'Brazil']] / df_it_articles.sum()"
   ],
   "metadata": {
    "collapsed": false,
    "pycharm": {
     "name": "#%%\n"
    }
   }
  },
  {
   "cell_type": "code",
   "execution_count": 16,
   "outputs": [
    {
     "data": {
      "text/plain": "United States    0.133358\nSpain            0.138838\nName: country, dtype: float64"
     },
     "execution_count": 16,
     "metadata": {},
     "output_type": "execute_result"
    }
   ],
   "source": [
    "df_es_articles = df_class[df_class.code == 'es'].country.value_counts()\n",
    "df_es_articles[['United States', 'Spain']] / df_it_articles.sum()"
   ],
   "metadata": {
    "collapsed": false,
    "pycharm": {
     "name": "#%%\n"
    }
   }
  },
  {
   "cell_type": "code",
   "execution_count": 17,
   "outputs": [
    {
     "data": {
      "text/plain": "0.23100731570061903"
     },
     "execution_count": 17,
     "metadata": {},
     "output_type": "execute_result"
    }
   ],
   "source": [
    "df_region_es = df_class[df_class.code == 'es'].gni_region.value_counts()\n",
    "df_region_es['Latin America & Caribbean'] / df_region_es.sum()"
   ],
   "metadata": {
    "collapsed": false,
    "pycharm": {
     "name": "#%%\n"
    }
   }
  },
  {
   "cell_type": "code",
   "execution_count": 18,
   "outputs": [
    {
     "name": "stdout",
     "output_type": "stream",
     "text": [
      "it vs. es (0.12 vs. 0.07) 4.928308246213556e-13\n",
      "it vs. en (0.12 vs. 0.05) 2.250516796081022e-38\n",
      "it vs. de (0.12 vs. 0.08) 6.643688702432038e-07\n"
     ]
    }
   ],
   "source": [
    "from statsmodels.stats.proportion import proportions_ztest\n",
    "country = 'Brazil'\n",
    "code = 'it'\n",
    "other_codes = ['es', 'en', 'de']\n",
    "df_country_it = df_class[df_class.code == code].country.value_counts()\n",
    "for c in other_codes:\n",
    "    df_country_c = df_class[df_class.code == c].country.value_counts()\n",
    "    z_stat, p_value = proportions_ztest(\n",
    "        [df_country_it[country], df_country_c[country]], [df_country_it.sum(), df_country_c.sum()], alternative='larger')\n",
    "    print(f'{code} vs. {c} ({df_country_it[country]/df_country_it.sum():.2f} vs. {df_country_c[country] / df_country_c.sum():.2f})', p_value)"
   ],
   "metadata": {
    "collapsed": false,
    "pycharm": {
     "name": "#%%\n"
    }
   }
  },
  {
   "cell_type": "code",
   "execution_count": 19,
   "outputs": [
    {
     "name": "stdout",
     "output_type": "stream",
     "text": [
      "es vs. en (0.11 vs. 0.02) 1.4290592650903739e-78\n",
      "es vs. it (0.11 vs. 0.04) 7.0539613101279e-22\n",
      "es vs. de (0.11 vs. 0.02) 1.0783953788610659e-49\n"
     ]
    }
   ],
   "source": [
    "from statsmodels.stats.proportion import proportions_ztest\n",
    "country = 'Spain'\n",
    "code = 'es'\n",
    "other_codes = ['es', 'en', 'it','de']\n",
    "other_codes.remove(code)\n",
    "df_country_it = df_class[df_class.code == code].country.value_counts()\n",
    "for c in other_codes:\n",
    "    df_country_c = df_class[df_class.code == c].country.value_counts()\n",
    "    z_stat, p_value = proportions_ztest(\n",
    "        [df_country_it[country], df_country_c[country]], [df_country_it.sum(), df_country_c.sum()], alternative='larger')\n",
    "    print(f'{code} vs. {c} ({df_country_it[country]/df_country_it.sum():.2f} vs. {df_country_c[country] / df_country_c.sum():.2f})', p_value)"
   ],
   "metadata": {
    "collapsed": false,
    "pycharm": {
     "name": "#%%\n"
    }
   }
  },
  {
   "cell_type": "code",
   "execution_count": 21,
   "outputs": [
    {
     "name": "stdout",
     "output_type": "stream",
     "text": [
      "es vs. en (0.10 vs. 0.23) 3.5920626073691374e-77\n",
      "es vs. it (0.18 vs. 0.23) 4.363731375578671e-06\n",
      "es vs. de (0.15 vs. 0.23) 1.856978044853246e-18\n"
     ]
    }
   ],
   "source": [
    "from statsmodels.stats.proportion import proportions_ztest\n",
    "region = 'Latin America & Caribbean'\n",
    "code = 'es'\n",
    "other_codes = ['es', 'en', 'it','de']\n",
    "other_codes.remove(code)\n",
    "df_region = df_class[df_class.code == code].gni_region.value_counts()\n",
    "for c in other_codes:\n",
    "    df_region_c = df_class[df_class.code == c].gni_region.value_counts()\n",
    "    z_stat, p_value = proportions_ztest(\n",
    "        [df_region[region], df_region_c[region]], [df_region.sum(), df_region_c.sum()], alternative='larger')\n",
    "    print(f'{code} vs. {c} ({df_region_c[region]/df_region_c.sum():.2f} vs. {df_region[region] / df_region.sum():.2f})', p_value)"
   ],
   "metadata": {
    "collapsed": false,
    "pycharm": {
     "name": "#%%\n"
    }
   }
  },
  {
   "cell_type": "code",
   "execution_count": 22,
   "outputs": [],
   "source": [
    "from util.preprocessing import label_language\n",
    "\n",
    "df_class = label_language(df_class)"
   ],
   "metadata": {
    "collapsed": false,
    "pycharm": {
     "name": "#%%\n"
    }
   }
  },
  {
   "cell_type": "code",
   "execution_count": 23,
   "outputs": [],
   "source": [
    "df_anglophone = df_class[df_class.in_code_lang & (df_class.code=='en')].country.value_counts()\n",
    "df_non_anglophone = df_class[~df_class.in_code_lang & (df_class.code=='en')].country.value_counts()\n",
    "usa_anglo_articles = df_anglophone.values\n",
    "other_articles = df_non_anglophone.values"
   ],
   "metadata": {
    "collapsed": false,
    "pycharm": {
     "name": "#%%\n"
    }
   }
  },
  {
   "cell_type": "code",
   "execution_count": 47,
   "outputs": [
    {
     "name": "stdout",
     "output_type": "stream",
     "text": [
      "de MannwhitneyuResult(statistic=719503.0, pvalue=2.504895318194536e-17)\n",
      "en MannwhitneyuResult(statistic=8416175.0, pvalue=5.681794966514316e-12)\n",
      "es MannwhitneyuResult(statistic=1399975.5, pvalue=3.157464293691152e-10)\n",
      "it MannwhitneyuResult(statistic=455290.0, pvalue=1.6497448895645982e-11)\n"
     ]
    }
   ],
   "source": [
    "for code, df_code in df_class.groupby(['code']):\n",
    "     df_lang = df_code.groupby(['in_code_lang']).views_7_sum.agg(list)\n",
    "     print(f'{code}', mannwhitneyu(df_lang[True], df_lang[False], alternative='greater'))"
   ],
   "metadata": {
    "collapsed": false,
    "pycharm": {
     "name": "#%%\n"
    }
   }
  },
  {
   "cell_type": "markdown",
   "source": [
    "# SHAP Values"
   ],
   "metadata": {
    "collapsed": false,
    "pycharm": {
     "name": "#%% md\n"
    }
   }
  },
  {
   "cell_type": "code",
   "execution_count": 26,
   "outputs": [],
   "source": [
    "from util.prediction import load_rf_and_xgb_models\n",
    "from util.shapley import combine_categories_SHAP_all, load_shapval_results\n",
    "from scipy.stats import spearmanr, pearsonr, f_oneway, kruskal"
   ],
   "metadata": {
    "collapsed": false,
    "pycharm": {
     "name": "#%%\n"
    }
   }
  },
  {
   "cell_type": "code",
   "execution_count": 27,
   "outputs": [
    {
     "name": "stderr",
     "output_type": "stream",
     "text": [
      "/home/ruptho/.local/lib/python3.10/site-packages/sklearn/base.py:329: UserWarning: Trying to unpickle estimator RandomizedSearchCV from version 0.24.2 when using version 1.1.1. This might lead to breaking code or invalid results. Use at your own risk. For more info please refer to:\n",
      "https://scikit-learn.org/stable/model_persistence.html#security-maintainability-limitations\n",
      "  warnings.warn(\n",
      "/home/ruptho/.local/lib/python3.10/site-packages/sklearn/base.py:329: UserWarning: Trying to unpickle estimator RandomizedSearchCV from version 0.24.2 when using version 1.1.1. This might lead to breaking code or invalid results. Use at your own risk. For more info please refer to:\n",
      "https://scikit-learn.org/stable/model_persistence.html#security-maintainability-limitations\n",
      "  warnings.warn(\n",
      "/home/ruptho/.local/lib/python3.10/site-packages/sklearn/base.py:329: UserWarning: Trying to unpickle estimator RandomizedSearchCV from version 0.24.2 when using version 1.1.1. This might lead to breaking code or invalid results. Use at your own risk. For more info please refer to:\n",
      "https://scikit-learn.org/stable/model_persistence.html#security-maintainability-limitations\n",
      "  warnings.warn(\n",
      "/home/ruptho/.local/lib/python3.10/site-packages/sklearn/base.py:329: UserWarning: Trying to unpickle estimator RandomizedSearchCV from version 0.24.2 when using version 1.1.1. This might lead to breaking code or invalid results. Use at your own risk. For more info please refer to:\n",
      "https://scikit-learn.org/stable/model_persistence.html#security-maintainability-limitations\n",
      "  warnings.warn(\n",
      "/home/ruptho/.local/lib/python3.10/site-packages/sklearn/base.py:329: UserWarning: Trying to unpickle estimator DecisionTreeClassifier from version 0.24.2 when using version 1.1.1. This might lead to breaking code or invalid results. Use at your own risk. For more info please refer to:\n",
      "https://scikit-learn.org/stable/model_persistence.html#security-maintainability-limitations\n",
      "  warnings.warn(\n",
      "/home/ruptho/.local/lib/python3.10/site-packages/sklearn/base.py:329: UserWarning: Trying to unpickle estimator RandomForestClassifier from version 0.24.2 when using version 1.1.1. This might lead to breaking code or invalid results. Use at your own risk. For more info please refer to:\n",
      "https://scikit-learn.org/stable/model_persistence.html#security-maintainability-limitations\n",
      "  warnings.warn(\n",
      "/home/ruptho/.local/lib/python3.10/site-packages/sklearn/base.py:329: UserWarning: Trying to unpickle estimator RandomizedSearchCV from version 0.24.2 when using version 1.1.1. This might lead to breaking code or invalid results. Use at your own risk. For more info please refer to:\n",
      "https://scikit-learn.org/stable/model_persistence.html#security-maintainability-limitations\n",
      "  warnings.warn(\n",
      "/home/ruptho/.local/lib/python3.10/site-packages/sklearn/base.py:329: UserWarning: Trying to unpickle estimator DecisionTreeRegressor from version 0.24.2 when using version 1.1.1. This might lead to breaking code or invalid results. Use at your own risk. For more info please refer to:\n",
      "https://scikit-learn.org/stable/model_persistence.html#security-maintainability-limitations\n",
      "  warnings.warn(\n",
      "/home/ruptho/.local/lib/python3.10/site-packages/sklearn/base.py:329: UserWarning: Trying to unpickle estimator RandomForestRegressor from version 0.24.2 when using version 1.1.1. This might lead to breaking code or invalid results. Use at your own risk. For more info please refer to:\n",
      "https://scikit-learn.org/stable/model_persistence.html#security-maintainability-limitations\n",
      "  warnings.warn(\n",
      "/home/ruptho/.local/lib/python3.10/site-packages/sklearn/base.py:329: UserWarning: Trying to unpickle estimator RandomizedSearchCV from version 0.24.2 when using version 1.1.1. This might lead to breaking code or invalid results. Use at your own risk. For more info please refer to:\n",
      "https://scikit-learn.org/stable/model_persistence.html#security-maintainability-limitations\n",
      "  warnings.warn(\n",
      "/home/ruptho/.local/lib/python3.10/site-packages/sklearn/base.py:329: UserWarning: Trying to unpickle estimator DecisionTreeClassifier from version 0.24.2 when using version 1.1.1. This might lead to breaking code or invalid results. Use at your own risk. For more info please refer to:\n",
      "https://scikit-learn.org/stable/model_persistence.html#security-maintainability-limitations\n",
      "  warnings.warn(\n",
      "/home/ruptho/.local/lib/python3.10/site-packages/sklearn/base.py:329: UserWarning: Trying to unpickle estimator RandomForestClassifier from version 0.24.2 when using version 1.1.1. This might lead to breaking code or invalid results. Use at your own risk. For more info please refer to:\n",
      "https://scikit-learn.org/stable/model_persistence.html#security-maintainability-limitations\n",
      "  warnings.warn(\n",
      "/home/ruptho/.local/lib/python3.10/site-packages/sklearn/base.py:329: UserWarning: Trying to unpickle estimator RandomizedSearchCV from version 0.24.2 when using version 1.1.1. This might lead to breaking code or invalid results. Use at your own risk. For more info please refer to:\n",
      "https://scikit-learn.org/stable/model_persistence.html#security-maintainability-limitations\n",
      "  warnings.warn(\n",
      "/home/ruptho/.local/lib/python3.10/site-packages/sklearn/base.py:329: UserWarning: Trying to unpickle estimator DecisionTreeRegressor from version 0.24.2 when using version 1.1.1. This might lead to breaking code or invalid results. Use at your own risk. For more info please refer to:\n",
      "https://scikit-learn.org/stable/model_persistence.html#security-maintainability-limitations\n",
      "  warnings.warn(\n",
      "/home/ruptho/.local/lib/python3.10/site-packages/sklearn/base.py:329: UserWarning: Trying to unpickle estimator RandomForestRegressor from version 0.24.2 when using version 1.1.1. This might lead to breaking code or invalid results. Use at your own risk. For more info please refer to:\n",
      "https://scikit-learn.org/stable/model_persistence.html#security-maintainability-limitations\n",
      "  warnings.warn(\n",
      "/home/ruptho/.local/lib/python3.10/site-packages/sklearn/base.py:329: UserWarning: Trying to unpickle estimator RandomizedSearchCV from version 0.24.2 when using version 1.1.1. This might lead to breaking code or invalid results. Use at your own risk. For more info please refer to:\n",
      "https://scikit-learn.org/stable/model_persistence.html#security-maintainability-limitations\n",
      "  warnings.warn(\n"
     ]
    }
   ],
   "source": [
    "models, model_eval = load_rf_and_xgb_models(df_class, df_reg, df_editreg)"
   ],
   "metadata": {
    "collapsed": false,
    "pycharm": {
     "name": "#%%\n"
    }
   }
  },
  {
   "cell_type": "code",
   "execution_count": 28,
   "outputs": [
    {
     "name": "stderr",
     "output_type": "stream",
     "text": [
      "/home/ruptho/.local/lib/python3.10/site-packages/tqdm/auto.py:22: TqdmWarning: IProgress not found. Please update jupyter and ipywidgets. See https://ipywidgets.readthedocs.io/en/stable/user_install.html\n",
      "  from .autonotebook import tqdm as notebook_tqdm\n"
     ]
    }
   ],
   "source": [
    "shap_vals, shap_vals_acv, shap_vals_acv_int = load_shapval_results('shap/ACV_SHAP_SHAPINT_noreg.pkl')\n",
    "shap_vals = combine_categories_SHAP_all(shap_vals)"
   ],
   "metadata": {
    "collapsed": false,
    "pycharm": {
     "name": "#%%\n"
    }
   }
  },
  {
   "cell_type": "code",
   "execution_count": 67,
   "outputs": [],
   "source": [
    "model_prefix, model_postfix ='noreg_', '_xgb'\n",
    "model_str = 'views'\n",
    "full_model_str = f'{model_prefix}{model_str}{model_postfix}'\n",
    "\n",
    "model, shapvals = model_eval[full_model_str], shap_vals[full_model_str]\n",
    "df_full = model.get_full_dataset(decoded=True, all_cols=True)\n",
    "x_cont = 'GDP_pc_log'\n",
    "x_col = 'GDP_pc_log'\n",
    "shap_vals_plot = pd.Series(shapvals[:, x_cont if x_cont else x_col].values,\n",
    "                           name=x_cont if x_cont else x_col).to_frame()\n",
    "df_full['shap_vals'] = shap_vals_plot.values"
   ],
   "metadata": {
    "collapsed": false,
    "pycharm": {
     "name": "#%%\n"
    }
   }
  },
  {
   "cell_type": "code",
   "execution_count": 152,
   "outputs": [
    {
     "data": {
      "text/plain": "gni_region Language Category                      Region  South Asia  \\\n0            German  Culture                  South Asia         NaN   \n1            German  Culture         East Asia & Pacific         NaN   \n2            German  Culture   Latin America & Caribbean         NaN   \n3            German  Culture  Middle East & North Africa         NaN   \n4            German  Culture       Europe & Central Asia         NaN   \n..              ...      ...                         ...         ...   \n107         Italian   Sports   Latin America & Caribbean       0.168   \n108         Italian   Sports  Middle East & North Africa       0.449   \n109         Italian   Sports       Europe & Central Asia       0.214   \n110         Italian   Sports          Sub-Saharan Africa       1.000   \n111         Italian   Sports               North America       0.970   \n\ngni_region  East Asia & Pacific  Latin America & Caribbean  \\\n0                           NaN                        NaN   \n1                           NaN                        NaN   \n2                           NaN                        NaN   \n3                           NaN                        NaN   \n4                           NaN                        NaN   \n..                          ...                        ...   \n107                       0.000                        NaN   \n108                       0.467                      0.000   \n109                       0.000                      0.000   \n110                       0.930                      0.100   \n111                       0.060                      0.864   \n\ngni_region  Middle East & North Africa  Europe & Central Asia  \\\n0                                  NaN                    NaN   \n1                                  NaN                    NaN   \n2                                  NaN                    NaN   \n3                                  NaN                    NaN   \n4                                0.157                    NaN   \n..                                 ...                    ...   \n107                                NaN                    NaN   \n108                                NaN                    NaN   \n109                              0.000                    NaN   \n110                              1.000                  0.151   \n111                              0.892                  0.000   \n\ngni_region  Sub-Saharan Africa  North America  \n0                          NaN            NaN  \n1                          NaN            NaN  \n2                          NaN            NaN  \n3                          NaN            NaN  \n4                          NaN            NaN  \n..                         ...            ...  \n107                        NaN            NaN  \n108                        NaN            NaN  \n109                        NaN            NaN  \n110                        NaN            NaN  \n111                       0.27            0.0  \n\n[112 rows x 10 columns]",
      "text/html": "<div>\n<style scoped>\n    .dataframe tbody tr th:only-of-type {\n        vertical-align: middle;\n    }\n\n    .dataframe tbody tr th {\n        vertical-align: top;\n    }\n\n    .dataframe thead th {\n        text-align: right;\n    }\n</style>\n<table border=\"1\" class=\"dataframe\">\n  <thead>\n    <tr style=\"text-align: right;\">\n      <th>gni_region</th>\n      <th>Language</th>\n      <th>Category</th>\n      <th>Region</th>\n      <th>South Asia</th>\n      <th>East Asia &amp; Pacific</th>\n      <th>Latin America &amp; Caribbean</th>\n      <th>Middle East &amp; North Africa</th>\n      <th>Europe &amp; Central Asia</th>\n      <th>Sub-Saharan Africa</th>\n      <th>North America</th>\n    </tr>\n  </thead>\n  <tbody>\n    <tr>\n      <th>0</th>\n      <td>German</td>\n      <td>Culture</td>\n      <td>South Asia</td>\n      <td>NaN</td>\n      <td>NaN</td>\n      <td>NaN</td>\n      <td>NaN</td>\n      <td>NaN</td>\n      <td>NaN</td>\n      <td>NaN</td>\n    </tr>\n    <tr>\n      <th>1</th>\n      <td>German</td>\n      <td>Culture</td>\n      <td>East Asia &amp; Pacific</td>\n      <td>NaN</td>\n      <td>NaN</td>\n      <td>NaN</td>\n      <td>NaN</td>\n      <td>NaN</td>\n      <td>NaN</td>\n      <td>NaN</td>\n    </tr>\n    <tr>\n      <th>2</th>\n      <td>German</td>\n      <td>Culture</td>\n      <td>Latin America &amp; Caribbean</td>\n      <td>NaN</td>\n      <td>NaN</td>\n      <td>NaN</td>\n      <td>NaN</td>\n      <td>NaN</td>\n      <td>NaN</td>\n      <td>NaN</td>\n    </tr>\n    <tr>\n      <th>3</th>\n      <td>German</td>\n      <td>Culture</td>\n      <td>Middle East &amp; North Africa</td>\n      <td>NaN</td>\n      <td>NaN</td>\n      <td>NaN</td>\n      <td>NaN</td>\n      <td>NaN</td>\n      <td>NaN</td>\n      <td>NaN</td>\n    </tr>\n    <tr>\n      <th>4</th>\n      <td>German</td>\n      <td>Culture</td>\n      <td>Europe &amp; Central Asia</td>\n      <td>NaN</td>\n      <td>NaN</td>\n      <td>NaN</td>\n      <td>0.157</td>\n      <td>NaN</td>\n      <td>NaN</td>\n      <td>NaN</td>\n    </tr>\n    <tr>\n      <th>...</th>\n      <td>...</td>\n      <td>...</td>\n      <td>...</td>\n      <td>...</td>\n      <td>...</td>\n      <td>...</td>\n      <td>...</td>\n      <td>...</td>\n      <td>...</td>\n      <td>...</td>\n    </tr>\n    <tr>\n      <th>107</th>\n      <td>Italian</td>\n      <td>Sports</td>\n      <td>Latin America &amp; Caribbean</td>\n      <td>0.168</td>\n      <td>0.000</td>\n      <td>NaN</td>\n      <td>NaN</td>\n      <td>NaN</td>\n      <td>NaN</td>\n      <td>NaN</td>\n    </tr>\n    <tr>\n      <th>108</th>\n      <td>Italian</td>\n      <td>Sports</td>\n      <td>Middle East &amp; North Africa</td>\n      <td>0.449</td>\n      <td>0.467</td>\n      <td>0.000</td>\n      <td>NaN</td>\n      <td>NaN</td>\n      <td>NaN</td>\n      <td>NaN</td>\n    </tr>\n    <tr>\n      <th>109</th>\n      <td>Italian</td>\n      <td>Sports</td>\n      <td>Europe &amp; Central Asia</td>\n      <td>0.214</td>\n      <td>0.000</td>\n      <td>0.000</td>\n      <td>0.000</td>\n      <td>NaN</td>\n      <td>NaN</td>\n      <td>NaN</td>\n    </tr>\n    <tr>\n      <th>110</th>\n      <td>Italian</td>\n      <td>Sports</td>\n      <td>Sub-Saharan Africa</td>\n      <td>1.000</td>\n      <td>0.930</td>\n      <td>0.100</td>\n      <td>1.000</td>\n      <td>0.151</td>\n      <td>NaN</td>\n      <td>NaN</td>\n    </tr>\n    <tr>\n      <th>111</th>\n      <td>Italian</td>\n      <td>Sports</td>\n      <td>North America</td>\n      <td>0.970</td>\n      <td>0.060</td>\n      <td>0.864</td>\n      <td>0.892</td>\n      <td>0.000</td>\n      <td>0.27</td>\n      <td>0.0</td>\n    </tr>\n  </tbody>\n</table>\n<p>112 rows × 10 columns</p>\n</div>"
     },
     "execution_count": 152,
     "metadata": {},
     "output_type": "execute_result"
    }
   ],
   "source": [
    "rescomp = three_way_mwu(df_full, 'shap_vals', adjust='fdr_bh')\n",
    "rep_dict = {'de': 'German', 'en': 'English', 'it': 'Italian', 'es': 'Spanish',\n",
    "            'culture': 'Culture', 'disaster': 'Disaster', 'sports': 'Sports', 'politics': 'Politics', 'cat': 'Category', 'code': 'Language', 'gni_region': 'Region'}\n",
    "rescomp = rescomp.replace(rep_dict)\n",
    "rescomp = rescomp.rename(rep_dict, axis=1)\n",
    "rescomp.to_csv('shap/reg_cat_comp.csv', index=False)\n",
    "rescomp"
   ],
   "metadata": {
    "collapsed": false,
    "pycharm": {
     "name": "#%%\n"
    }
   }
  },
  {
   "cell_type": "code",
   "execution_count": 165,
   "outputs": [
    {
     "name": "stdout",
     "output_type": "stream",
     "text": [
      "de (-0.5032945112314637, 1.4819369703383136e-107)\n",
      "en (-0.557800934412676, 0.0)\n",
      "es (-0.6003776889639811, 2.134521816819079e-274)\n",
      "it (-0.5056593320458029, 7.263629413285498e-103)\n"
     ]
    }
   ],
   "source": [
    "for code, df_code in df_full.groupby(['code']):\n",
    "    print(code, pearsonr(df_code['GDP_pc_log'], df_code['shap_vals']))"
   ],
   "metadata": {
    "collapsed": false,
    "pycharm": {
     "name": "#%%\n"
    }
   }
  }
 ],
 "metadata": {
  "kernelspec": {
   "display_name": "Python 3",
   "language": "python",
   "name": "python3"
  },
  "language_info": {
   "codemirror_mode": {
    "name": "ipython",
    "version": 2
   },
   "file_extension": ".py",
   "mimetype": "text/x-python",
   "name": "python",
   "nbconvert_exporter": "python",
   "pygments_lexer": "ipython2",
   "version": "2.7.6"
  }
 },
 "nbformat": 4,
 "nbformat_minor": 0
}