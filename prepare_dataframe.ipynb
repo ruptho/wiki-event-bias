{
 "cells": [
  {
   "cell_type": "code",
   "execution_count": 3,
   "metadata": {
    "pycharm": {
     "name": "#%%\n"
    }
   },
   "outputs": [
    {
     "name": "stdout",
     "output_type": "stream",
     "text": [
      "The autoreload extension is already loaded. To reload it, use:\n",
      "  %reload_ext autoreload\n"
     ]
    }
   ],
   "source": [
    "import matplotlib.pyplot as plt\n",
    "import pandas as pd\n",
    "import numpy as np\n",
    "from preprocessing import load_gni_pc, load_events, load_bing_results, check_counts_and_merge, load_gni_class, load_gni_region,load_population, load_gdp, load_if_in_country_or_lang, load_views\n",
    "%load_ext autoreload\n",
    "%autoreload 2"
   ]
  },
  {
   "cell_type": "markdown",
   "metadata": {},
   "source": [
    "## load df"
   ]
  },
  {
   "cell_type": "code",
   "execution_count": 4,
   "metadata": {
    "pycharm": {
     "name": "#%%\n"
    }
   },
   "outputs": [
    {
     "name": "stdout",
     "output_type": "stream",
     "text": [
      "Loading de\n",
      "LOAD FROM scraping/results/de_bingnews.json, Articles now: 2304\n",
      "LOAD FROM scraping/results/de_bingnews_missing.json, Articles now: 2376\n",
      "LOAD FROM scraping/results/de_bingnews_0.json, Articles now: 4152\n",
      "Loading en\n",
      "LOAD FROM scraping/results/en_bingnews.json, Articles now: 5262\n",
      "LOAD FROM scraping/results/en_bingnews_rest.json, Articles now: 7761\n",
      "LOAD FROM scraping/results/en_bingnews_missing.json, Articles now: 7761\n",
      "LOAD FROM scraping/results/en_bingnews_0.json, Articles now: 9182\n",
      "Loading it\n",
      "LOAD FROM scraping/results/it_bingnews.json, Articles now: 2297\n",
      "LOAD FROM scraping/results/it_bingnews_missing.json, Articles now: 2358\n",
      "LOAD FROM scraping/results/it_bingnews_0.json, Articles now: 3622\n",
      "Loading es\n",
      "LOAD FROM scraping/results/es_bingnews_es-ES.json, Articles now: 3253\n",
      "LOAD FROM scraping/results/es_bingnews_es-ES_missing.json, Articles now: 3448\n",
      "LOAD FROM scraping/results/es_bingnews_0.json, Articles now: 4292\n",
      "Loading es\n",
      "LOAD FROM scraping/results/es_bingnews_es-ES_corrected.json, Articles now: 552\n",
      "de 4152 4547\n",
      "it 3622 4063\n",
      "es 4292 4629\n",
      "en 9182 9591\n",
      "total 22830 21248\n",
      "With duplicates, from bing 22830\n",
      "Without duplicates 19305\n",
      "de 3682\n",
      "it 2991\n",
      "es 3865\n",
      "en 8767\n"
     ]
    }
   ],
   "source": [
    "df = load_events(drop_zeroes=False)\n",
    "df_news = load_bing_results()\n",
    "df_crawled = check_counts_and_merge(df, df_news, dropna=False)\n",
    "# show article counts"
   ]
  },
  {
   "cell_type": "code",
   "execution_count": null,
   "metadata": {},
   "outputs": [],
   "source": []
  },
  {
   "cell_type": "code",
   "execution_count": 5,
   "metadata": {},
   "outputs": [
    {
     "data": {
      "text/plain": [
       "array(['Taiwan', 'Brunei', 'Ireland', 'Jersey', 'France', 'China',\n",
       "       'Pitcairn Islands', 'Faeroe Islands', 'Cook Islands', 'Gibraltar'],\n",
       "      dtype=object)"
      ]
     },
     "execution_count": 5,
     "metadata": {},
     "output_type": "execute_result"
    }
   ],
   "source": [
    "df_crawled[pd.isna(df_crawled.bing_hits) & pd.isna(df_crawled.bing_hits)].country.unique()"
   ]
  },
  {
   "cell_type": "markdown",
   "metadata": {},
   "source": [
    "## load gni region and regional class"
   ]
  },
  {
   "cell_type": "code",
   "execution_count": 6,
   "metadata": {
    "pycharm": {
     "name": "#%%\n"
    }
   },
   "outputs": [
    {
     "name": "stdout",
     "output_type": "stream",
     "text": [
      "Lost Events for class: 28\n",
      "Lost Events for region:  0\n"
     ]
    }
   ],
   "source": [
    "df_crawled, df_missing_class = load_gni_class(df_crawled)\n",
    "df_crawled, df_missing_region = load_gni_region(df_crawled)\n"
   ]
  },
  {
   "cell_type": "code",
   "execution_count": 7,
   "metadata": {},
   "outputs": [
    {
     "data": {
      "text/plain": [
       "array(['Falkland Islands', 'Faeroe Islands', 'Brunei', 'Jersey',\n",
       "       'Cook Islands', 'Pitcairn Islands'], dtype=object)"
      ]
     },
     "execution_count": 7,
     "metadata": {},
     "output_type": "execute_result"
    }
   ],
   "source": [
    "df_missing_class.country.unique()"
   ]
  },
  {
   "cell_type": "markdown",
   "metadata": {},
   "source": [
    "## load population"
   ]
  },
  {
   "cell_type": "code",
   "execution_count": 8,
   "metadata": {
    "pycharm": {
     "name": "#%%\n"
    }
   },
   "outputs": [
    {
     "name": "stdout",
     "output_type": "stream",
     "text": [
      "Lost Events for population:  0\n"
     ]
    }
   ],
   "source": [
    "df_crawled, df_missing_pop = load_population(df_crawled)"
   ]
  },
  {
   "cell_type": "markdown",
   "metadata": {},
   "source": [
    "# Merge with GDP"
   ]
  },
  {
   "cell_type": "code",
   "execution_count": 9,
   "metadata": {
    "pycharm": {
     "name": "#%%\n"
    }
   },
   "outputs": [
    {
     "name": "stdout",
     "output_type": "stream",
     "text": [
      "Lost Events for gdp:  4\n"
     ]
    }
   ],
   "source": [
    "df_crawled, df_missing_gdp = load_gdp(df_crawled)"
   ]
  },
  {
   "cell_type": "code",
   "execution_count": 10,
   "metadata": {},
   "outputs": [
    {
     "data": {
      "text/plain": [
       "array(['Gibraltar'], dtype=object)"
      ]
     },
     "execution_count": 10,
     "metadata": {},
     "output_type": "execute_result"
    }
   ],
   "source": [
    "df_missing_gdp.country.unique()"
   ]
  },
  {
   "cell_type": "markdown",
   "metadata": {},
   "source": [
    "# compute lang and code assignment"
   ]
  },
  {
   "cell_type": "code",
   "execution_count": 11,
   "metadata": {
    "pycharm": {
     "name": "#%%\n"
    }
   },
   "outputs": [],
   "source": [
    "df_crawled = load_if_in_country_or_lang(df_crawled)"
   ]
  },
  {
   "cell_type": "markdown",
   "metadata": {},
   "source": [
    "# Store resulting dataframe, then change manually which events were not found"
   ]
  },
  {
   "cell_type": "markdown",
   "metadata": {
    "pycharm": {
     "name": "#%% md\n"
    }
   },
   "source": [
    "Note that these are commented out because we already did that once. the manually processed df is fine from here on out."
   ]
  },
  {
   "cell_type": "code",
   "execution_count": null,
   "metadata": {},
   "outputs": [],
   "source": [
    "filter_disaster = (df_crawled.cat == 'undefined')\n",
    "df_crawled[filter_disaster].to_csv('events/processed_0_undefined.csv', index=False)\n",
    "df_crawled[~filter_disaster].to_csv('events/processed_0.csv', index=False)"
   ]
  },
  {
   "cell_type": "code",
   "execution_count": 21,
   "metadata": {},
   "outputs": [],
   "source": [
    "# now, fix undefined by hand, and reload\n",
    "df_fixed = pd.read_csv('events/processed_0_fixed.csv')"
   ]
  },
  {
   "cell_type": "code",
   "execution_count": null,
   "metadata": {},
   "outputs": [],
   "source": [
    "df_new = pd.concat([df_crawled[~filter_disaster], df_fixed])"
   ]
  },
  {
   "cell_type": "code",
   "execution_count": null,
   "metadata": {},
   "outputs": [],
   "source": [
    "### Store missing bing-results\n",
    "for code, df in df_new.groupby('code'):\n",
    "    np.savetxt(f'scraping/scripts/{code}_articles_0.txt', df[pd.isna(df.bing_hits)].pagetitle.values, fmt='%s')"
   ]
  },
  {
   "cell_type": "code",
   "execution_count": null,
   "metadata": {},
   "outputs": [],
   "source": []
  },
  {
   "cell_type": "markdown",
   "metadata": {},
   "source": [
    "# Merge with views"
   ]
  },
  {
   "cell_type": "code",
   "execution_count": 12,
   "metadata": {
    "pycharm": {
     "name": "#%%\n"
    }
   },
   "outputs": [],
   "source": [
    "from preprocessing import compute_view_baseline\n",
    "from preprocessing import replace_country_names"
   ]
  },
  {
   "cell_type": "code",
   "execution_count": 14,
   "metadata": {
    "pycharm": {
     "name": "#%%\n"
    }
   },
   "outputs": [
    {
     "data": {
      "text/html": [
       "<div>\n",
       "<style scoped>\n",
       "    .dataframe tbody tr th:only-of-type {\n",
       "        vertical-align: middle;\n",
       "    }\n",
       "\n",
       "    .dataframe tbody tr th {\n",
       "        vertical-align: top;\n",
       "    }\n",
       "\n",
       "    .dataframe thead th {\n",
       "        text-align: right;\n",
       "    }\n",
       "</style>\n",
       "<table border=\"1\" class=\"dataframe\">\n",
       "  <thead>\n",
       "    <tr style=\"text-align: right;\">\n",
       "      <th></th>\n",
       "      <th>event_id</th>\n",
       "      <th>pagetitle</th>\n",
       "      <th>event_date</th>\n",
       "      <th>economic_region</th>\n",
       "      <th>country</th>\n",
       "      <th>continent</th>\n",
       "      <th>cat</th>\n",
       "      <th>categories</th>\n",
       "      <th>views_7_sum</th>\n",
       "      <th>views_before_mean</th>\n",
       "      <th>...</th>\n",
       "      <th>gni_region</th>\n",
       "      <th>population</th>\n",
       "      <th>Country/Area</th>\n",
       "      <th>Year</th>\n",
       "      <th>GDP_pc</th>\n",
       "      <th>GDP</th>\n",
       "      <th>oecd</th>\n",
       "      <th>in_code_lang</th>\n",
       "      <th>in_code_region</th>\n",
       "      <th>date_month</th>\n",
       "    </tr>\n",
       "  </thead>\n",
       "  <tbody>\n",
       "    <tr>\n",
       "      <th>0</th>\n",
       "      <td>Q100021</td>\n",
       "      <td>Pakistan International Airlines Flight 661</td>\n",
       "      <td>2016-12-07</td>\n",
       "      <td>Global South</td>\n",
       "      <td>Pakistan</td>\n",
       "      <td>Asia</td>\n",
       "      <td>disaster</td>\n",
       "      <td>['Category:2016 disasters in Pakistan', 'Categ...</td>\n",
       "      <td>248274</td>\n",
       "      <td>0.0</td>\n",
       "      <td>...</td>\n",
       "      <td>South Asia</td>\n",
       "      <td>2.036314e+08</td>\n",
       "      <td>Pakistan</td>\n",
       "      <td>2016.0</td>\n",
       "      <td>1362.860008</td>\n",
       "      <td>2.775210e+11</td>\n",
       "      <td>False</td>\n",
       "      <td>True</td>\n",
       "      <td>False</td>\n",
       "      <td>2016-12-01</td>\n",
       "    </tr>\n",
       "    <tr>\n",
       "      <th>1</th>\n",
       "      <td>Q100231328</td>\n",
       "      <td>Gretchen Whitmer kidnapping plot</td>\n",
       "      <td>2020-10-08</td>\n",
       "      <td>Global North</td>\n",
       "      <td>United States</td>\n",
       "      <td>North America</td>\n",
       "      <td>disaster</td>\n",
       "      <td>['Category:2020 crimes in the United States', ...</td>\n",
       "      <td>74144</td>\n",
       "      <td>0.0</td>\n",
       "      <td>...</td>\n",
       "      <td>North America</td>\n",
       "      <td>3.294841e+08</td>\n",
       "      <td>United States</td>\n",
       "      <td>2020.0</td>\n",
       "      <td>63122.594145</td>\n",
       "      <td>2.089375e+13</td>\n",
       "      <td>True</td>\n",
       "      <td>True</td>\n",
       "      <td>True</td>\n",
       "      <td>2020-10-01</td>\n",
       "    </tr>\n",
       "    <tr>\n",
       "      <th>2</th>\n",
       "      <td>Q100256872</td>\n",
       "      <td>Killing of Babu Lal Vaishnav</td>\n",
       "      <td>2020-10-08</td>\n",
       "      <td>Global South</td>\n",
       "      <td>India</td>\n",
       "      <td>Asia</td>\n",
       "      <td>disaster</td>\n",
       "      <td>['Category:2020 crimes in India', 'Category:20...</td>\n",
       "      <td>427</td>\n",
       "      <td>0.0</td>\n",
       "      <td>...</td>\n",
       "      <td>South Asia</td>\n",
       "      <td>1.380004e+09</td>\n",
       "      <td>India</td>\n",
       "      <td>2020.0</td>\n",
       "      <td>1930.971218</td>\n",
       "      <td>2.664749e+12</td>\n",
       "      <td>False</td>\n",
       "      <td>True</td>\n",
       "      <td>False</td>\n",
       "      <td>2020-10-01</td>\n",
       "    </tr>\n",
       "    <tr>\n",
       "      <th>3</th>\n",
       "      <td>Q100270220</td>\n",
       "      <td>Killing of Brendin Horner</td>\n",
       "      <td>2020-10-01</td>\n",
       "      <td>Global South</td>\n",
       "      <td>South Africa</td>\n",
       "      <td>Africa</td>\n",
       "      <td>disaster</td>\n",
       "      <td>['Category:2020 deaths', 'Category:2020 in Sou...</td>\n",
       "      <td>0</td>\n",
       "      <td>0.0</td>\n",
       "      <td>...</td>\n",
       "      <td>Sub-Saharan Africa</td>\n",
       "      <td>5.930869e+07</td>\n",
       "      <td>South Africa</td>\n",
       "      <td>2020.0</td>\n",
       "      <td>5094.384038</td>\n",
       "      <td>3.021412e+11</td>\n",
       "      <td>False</td>\n",
       "      <td>True</td>\n",
       "      <td>False</td>\n",
       "      <td>2020-10-01</td>\n",
       "    </tr>\n",
       "    <tr>\n",
       "      <th>4</th>\n",
       "      <td>Q100276857</td>\n",
       "      <td>2020 shooting of Los Angeles police officers</td>\n",
       "      <td>2020-09-12</td>\n",
       "      <td>Global North</td>\n",
       "      <td>United States</td>\n",
       "      <td>North America</td>\n",
       "      <td>disaster</td>\n",
       "      <td>['Category:2020 in Los Angeles County, Califor...</td>\n",
       "      <td>0</td>\n",
       "      <td>0.0</td>\n",
       "      <td>...</td>\n",
       "      <td>North America</td>\n",
       "      <td>3.294841e+08</td>\n",
       "      <td>United States</td>\n",
       "      <td>2020.0</td>\n",
       "      <td>63122.594145</td>\n",
       "      <td>2.089375e+13</td>\n",
       "      <td>True</td>\n",
       "      <td>True</td>\n",
       "      <td>True</td>\n",
       "      <td>2020-09-01</td>\n",
       "    </tr>\n",
       "  </tbody>\n",
       "</table>\n",
       "<p>5 rows × 41 columns</p>\n",
       "</div>"
      ],
      "text/plain": [
       "     event_id                                     pagetitle event_date  \\\n",
       "0     Q100021    Pakistan International Airlines Flight 661 2016-12-07   \n",
       "1  Q100231328              Gretchen Whitmer kidnapping plot 2020-10-08   \n",
       "2  Q100256872                  Killing of Babu Lal Vaishnav 2020-10-08   \n",
       "3  Q100270220                     Killing of Brendin Horner 2020-10-01   \n",
       "4  Q100276857  2020 shooting of Los Angeles police officers 2020-09-12   \n",
       "\n",
       "  economic_region        country      continent       cat  \\\n",
       "0    Global South       Pakistan           Asia  disaster   \n",
       "1    Global North  United States  North America  disaster   \n",
       "2    Global South          India           Asia  disaster   \n",
       "3    Global South   South Africa         Africa  disaster   \n",
       "4    Global North  United States  North America  disaster   \n",
       "\n",
       "                                          categories  views_7_sum  \\\n",
       "0  ['Category:2016 disasters in Pakistan', 'Categ...       248274   \n",
       "1  ['Category:2020 crimes in the United States', ...        74144   \n",
       "2  ['Category:2020 crimes in India', 'Category:20...          427   \n",
       "3  ['Category:2020 deaths', 'Category:2020 in Sou...            0   \n",
       "4  ['Category:2020 in Los Angeles County, Califor...            0   \n",
       "\n",
       "   views_before_mean  ...          gni_region    population   Country/Area  \\\n",
       "0                0.0  ...          South Asia  2.036314e+08       Pakistan   \n",
       "1                0.0  ...       North America  3.294841e+08  United States   \n",
       "2                0.0  ...          South Asia  1.380004e+09          India   \n",
       "3                0.0  ...  Sub-Saharan Africa  5.930869e+07   South Africa   \n",
       "4                0.0  ...       North America  3.294841e+08  United States   \n",
       "\n",
       "     Year        GDP_pc           GDP   oecd  in_code_lang in_code_region  \\\n",
       "0  2016.0   1362.860008  2.775210e+11  False          True          False   \n",
       "1  2020.0  63122.594145  2.089375e+13   True          True           True   \n",
       "2  2020.0   1930.971218  2.664749e+12  False          True          False   \n",
       "3  2020.0   5094.384038  3.021412e+11  False          True          False   \n",
       "4  2020.0  63122.594145  2.089375e+13   True          True           True   \n",
       "\n",
       "  date_month  \n",
       "0 2016-12-01  \n",
       "1 2020-10-01  \n",
       "2 2020-10-01  \n",
       "3 2020-10-01  \n",
       "4 2020-09-01  \n",
       "\n",
       "[5 rows x 41 columns]"
      ]
     },
     "execution_count": 14,
     "metadata": {},
     "output_type": "execute_result"
    }
   ],
   "source": [
    "#df_new = pd.read_csv('events/new/processed_manually.csv')\n",
    "df_new = df_crawled\n",
    "df_new.event_date = pd.to_datetime(df_new.event_date)\n",
    "df_new['date_month'] = df_new.event_date.apply(lambda d: pd.to_datetime(f'{d.year}-{d.month:02d}'))\n",
    "df_new.head()"
   ]
  },
  {
   "cell_type": "markdown",
   "metadata": {},
   "source": [
    "### load views to wikipedia edition from event country"
   ]
  },
  {
   "cell_type": "code",
   "execution_count": 15,
   "metadata": {
    "pycharm": {
     "name": "#%%\n"
    }
   },
   "outputs": [],
   "source": [
    "# this takes some time!\n",
    "df_views = load_views()\n",
    "df_views_rel, min_date = compute_view_baseline(df_views, start_date_views='2015-05-01', months_before=6,\n",
    "                                               func_agg=np.median)\n",
    "# build final df\n",
    "df_views_rel = df_views_rel[['code', 'date_month', 'country', 'views_baseline']]\n",
    "df_view_merged = df_new.merge(df_views_rel, left_on=['code', 'country', 'date_month'],\n",
    "                              right_on=['code', 'country', 'date_month'], how='left')\n",
    "df_view_merged = df_view_merged[df_view_merged.date_month >= min_date]"
   ]
  },
  {
   "cell_type": "code",
   "execution_count": 16,
   "metadata": {
    "pycharm": {
     "name": "#%%\n"
    }
   },
   "outputs": [
    {
     "data": {
      "text/html": [
       "<div>\n",
       "<style scoped>\n",
       "    .dataframe tbody tr th:only-of-type {\n",
       "        vertical-align: middle;\n",
       "    }\n",
       "\n",
       "    .dataframe tbody tr th {\n",
       "        vertical-align: top;\n",
       "    }\n",
       "\n",
       "    .dataframe thead th {\n",
       "        text-align: right;\n",
       "    }\n",
       "</style>\n",
       "<table border=\"1\" class=\"dataframe\">\n",
       "  <thead>\n",
       "    <tr style=\"text-align: right;\">\n",
       "      <th></th>\n",
       "      <th>code</th>\n",
       "      <th>country</th>\n",
       "      <th>event_date</th>\n",
       "      <th>views_baseline</th>\n",
       "    </tr>\n",
       "  </thead>\n",
       "  <tbody>\n",
       "    <tr>\n",
       "      <th>3588</th>\n",
       "      <td>en</td>\n",
       "      <td>Federated States of Micronesia</td>\n",
       "      <td>2017-03-07</td>\n",
       "      <td>47000.0</td>\n",
       "    </tr>\n",
       "    <tr>\n",
       "      <th>6583</th>\n",
       "      <td>en</td>\n",
       "      <td>Federated States of Micronesia</td>\n",
       "      <td>2019-03-05</td>\n",
       "      <td>35500.0</td>\n",
       "    </tr>\n",
       "    <tr>\n",
       "      <th>6666</th>\n",
       "      <td>en</td>\n",
       "      <td>Federated States of Micronesia</td>\n",
       "      <td>2018-09-28</td>\n",
       "      <td>35000.0</td>\n",
       "    </tr>\n",
       "    <tr>\n",
       "      <th>10960</th>\n",
       "      <td>de</td>\n",
       "      <td>Federated States of Micronesia</td>\n",
       "      <td>2017-03-07</td>\n",
       "      <td>1000.0</td>\n",
       "    </tr>\n",
       "    <tr>\n",
       "      <th>12221</th>\n",
       "      <td>de</td>\n",
       "      <td>Federated States of Micronesia</td>\n",
       "      <td>2018-09-28</td>\n",
       "      <td>1000.0</td>\n",
       "    </tr>\n",
       "    <tr>\n",
       "      <th>14619</th>\n",
       "      <td>it</td>\n",
       "      <td>Federated States of Micronesia</td>\n",
       "      <td>2017-03-07</td>\n",
       "      <td>0.0</td>\n",
       "    </tr>\n",
       "    <tr>\n",
       "      <th>15785</th>\n",
       "      <td>it</td>\n",
       "      <td>Federated States of Micronesia</td>\n",
       "      <td>2018-09-28</td>\n",
       "      <td>0.0</td>\n",
       "    </tr>\n",
       "    <tr>\n",
       "      <th>19574</th>\n",
       "      <td>es</td>\n",
       "      <td>Federated States of Micronesia</td>\n",
       "      <td>2019-03-05</td>\n",
       "      <td>NaN</td>\n",
       "    </tr>\n",
       "    <tr>\n",
       "      <th>19618</th>\n",
       "      <td>es</td>\n",
       "      <td>Federated States of Micronesia</td>\n",
       "      <td>2018-09-28</td>\n",
       "      <td>NaN</td>\n",
       "    </tr>\n",
       "  </tbody>\n",
       "</table>\n",
       "</div>"
      ],
      "text/plain": [
       "      code                         country event_date  views_baseline\n",
       "3588    en  Federated States of Micronesia 2017-03-07         47000.0\n",
       "6583    en  Federated States of Micronesia 2019-03-05         35500.0\n",
       "6666    en  Federated States of Micronesia 2018-09-28         35000.0\n",
       "10960   de  Federated States of Micronesia 2017-03-07          1000.0\n",
       "12221   de  Federated States of Micronesia 2018-09-28          1000.0\n",
       "14619   it  Federated States of Micronesia 2017-03-07             0.0\n",
       "15785   it  Federated States of Micronesia 2018-09-28             0.0\n",
       "19574   es  Federated States of Micronesia 2019-03-05             NaN\n",
       "19618   es  Federated States of Micronesia 2018-09-28             NaN"
      ]
     },
     "execution_count": 16,
     "metadata": {},
     "output_type": "execute_result"
    }
   ],
   "source": [
    "# check if results are valid\n",
    "countries_na = df_view_merged[pd.isna(df_view_merged.views_baseline)].country.unique()\n",
    "countries_not_na = df_view_merged[~pd.isna(df_view_merged.views_baseline)].country.unique()\n",
    "df_countries_partial_data = df_view_merged[df_view_merged.country.isin(countries_na) & df_view_merged.country.isin(countries_not_na)][\n",
    "    ['code', 'country', 'event_date', 'views_baseline']]\n",
    "df_countries_no_data = df_view_merged[df_view_merged.country.isin(countries_na) & ~df_view_merged.country.isin(countries_not_na)][\n",
    "    ['code', 'country', 'event_date', 'views_baseline']]\n",
    "# YES THEY ARE! some countries don't have pageviews for a specific timespan...\n",
    "df_countries_partial_data"
   ]
  },
  {
   "cell_type": "code",
   "execution_count": 17,
   "metadata": {
    "pycharm": {
     "name": "#%%\n"
    }
   },
   "outputs": [],
   "source": [
    "# ... and we just fill them with 0s here!\n",
    "# in theory. we could also change how we handle this for these small-resource countries during data retrieval. but with median, this should be fine rn.\n",
    "df_view_merged.views_baseline.fillna(0, inplace=True)"
   ]
  },
  {
   "cell_type": "markdown",
   "metadata": {},
   "source": [
    "### load views to event country article from wikipedia edition"
   ]
  },
  {
   "cell_type": "code",
   "execution_count": 18,
   "metadata": {},
   "outputs": [
    {
     "name": "stderr",
     "output_type": "stream",
     "text": [
      "/opt/conda/lib/python3.7/site-packages/numpy/core/fromnumeric.py:3335: RuntimeWarning: Mean of empty slice.\n",
      "  out=out, **kwargs)\n",
      "/opt/conda/lib/python3.7/site-packages/numpy/core/_methods.py:161: RuntimeWarning: invalid value encountered in double_scalars\n",
      "  ret = ret.dtype.type(ret / rcount)\n"
     ]
    }
   ],
   "source": [
    "from preprocessing import load_country_article_views, compute_country_article_baseline\n",
    "\n",
    "df_ca_views = load_country_article_views()\n",
    "df_view_merged = compute_country_article_baseline(df_view_merged, df_ca_views)"
   ]
  },
  {
   "cell_type": "code",
   "execution_count": 20,
   "metadata": {},
   "outputs": [
    {
     "data": {
      "text/html": [
       "<div>\n",
       "<style scoped>\n",
       "    .dataframe tbody tr th:only-of-type {\n",
       "        vertical-align: middle;\n",
       "    }\n",
       "\n",
       "    .dataframe tbody tr th {\n",
       "        vertical-align: top;\n",
       "    }\n",
       "\n",
       "    .dataframe thead th {\n",
       "        text-align: right;\n",
       "    }\n",
       "</style>\n",
       "<table border=\"1\" class=\"dataframe\">\n",
       "  <thead>\n",
       "    <tr style=\"text-align: right;\">\n",
       "      <th></th>\n",
       "      <th>event_id</th>\n",
       "      <th>pagetitle</th>\n",
       "      <th>event_date</th>\n",
       "      <th>economic_region</th>\n",
       "      <th>country</th>\n",
       "      <th>continent</th>\n",
       "      <th>cat</th>\n",
       "      <th>categories</th>\n",
       "      <th>views_7_sum</th>\n",
       "      <th>views_before_mean</th>\n",
       "      <th>...</th>\n",
       "      <th>Country/Area</th>\n",
       "      <th>Year</th>\n",
       "      <th>GDP_pc</th>\n",
       "      <th>GDP</th>\n",
       "      <th>oecd</th>\n",
       "      <th>in_code_lang</th>\n",
       "      <th>in_code_region</th>\n",
       "      <th>date_month</th>\n",
       "      <th>views_baseline</th>\n",
       "      <th>view_country_article</th>\n",
       "    </tr>\n",
       "  </thead>\n",
       "  <tbody>\n",
       "    <tr>\n",
       "      <th>0</th>\n",
       "      <td>Q100021</td>\n",
       "      <td>Pakistan International Airlines Flight 661</td>\n",
       "      <td>2016-12-07</td>\n",
       "      <td>Global South</td>\n",
       "      <td>Pakistan</td>\n",
       "      <td>Asia</td>\n",
       "      <td>disaster</td>\n",
       "      <td>['Category:2016 disasters in Pakistan', 'Categ...</td>\n",
       "      <td>248274</td>\n",
       "      <td>0.0</td>\n",
       "      <td>...</td>\n",
       "      <td>Pakistan</td>\n",
       "      <td>2016.0</td>\n",
       "      <td>1362.860008</td>\n",
       "      <td>2.775210e+11</td>\n",
       "      <td>False</td>\n",
       "      <td>True</td>\n",
       "      <td>False</td>\n",
       "      <td>2016-12-01</td>\n",
       "      <td>8.536700e+07</td>\n",
       "      <td>13789.0</td>\n",
       "    </tr>\n",
       "    <tr>\n",
       "      <th>1</th>\n",
       "      <td>Q100231328</td>\n",
       "      <td>Gretchen Whitmer kidnapping plot</td>\n",
       "      <td>2020-10-08</td>\n",
       "      <td>Global North</td>\n",
       "      <td>United States</td>\n",
       "      <td>North America</td>\n",
       "      <td>disaster</td>\n",
       "      <td>['Category:2020 crimes in the United States', ...</td>\n",
       "      <td>74144</td>\n",
       "      <td>0.0</td>\n",
       "      <td>...</td>\n",
       "      <td>United States</td>\n",
       "      <td>2020.0</td>\n",
       "      <td>63122.594145</td>\n",
       "      <td>2.089375e+13</td>\n",
       "      <td>True</td>\n",
       "      <td>True</td>\n",
       "      <td>True</td>\n",
       "      <td>2020-10-01</td>\n",
       "      <td>3.151887e+09</td>\n",
       "      <td>48147.0</td>\n",
       "    </tr>\n",
       "    <tr>\n",
       "      <th>2</th>\n",
       "      <td>Q100256872</td>\n",
       "      <td>Killing of Babu Lal Vaishnav</td>\n",
       "      <td>2020-10-08</td>\n",
       "      <td>Global South</td>\n",
       "      <td>India</td>\n",
       "      <td>Asia</td>\n",
       "      <td>disaster</td>\n",
       "      <td>['Category:2020 crimes in India', 'Category:20...</td>\n",
       "      <td>427</td>\n",
       "      <td>0.0</td>\n",
       "      <td>...</td>\n",
       "      <td>India</td>\n",
       "      <td>2020.0</td>\n",
       "      <td>1930.971218</td>\n",
       "      <td>2.664749e+12</td>\n",
       "      <td>False</td>\n",
       "      <td>True</td>\n",
       "      <td>False</td>\n",
       "      <td>2020-10-01</td>\n",
       "      <td>7.199060e+08</td>\n",
       "      <td>33666.0</td>\n",
       "    </tr>\n",
       "    <tr>\n",
       "      <th>3</th>\n",
       "      <td>Q100270220</td>\n",
       "      <td>Killing of Brendin Horner</td>\n",
       "      <td>2020-10-01</td>\n",
       "      <td>Global South</td>\n",
       "      <td>South Africa</td>\n",
       "      <td>Africa</td>\n",
       "      <td>disaster</td>\n",
       "      <td>['Category:2020 deaths', 'Category:2020 in Sou...</td>\n",
       "      <td>0</td>\n",
       "      <td>0.0</td>\n",
       "      <td>...</td>\n",
       "      <td>South Africa</td>\n",
       "      <td>2020.0</td>\n",
       "      <td>5094.384038</td>\n",
       "      <td>3.021412e+11</td>\n",
       "      <td>False</td>\n",
       "      <td>True</td>\n",
       "      <td>False</td>\n",
       "      <td>2020-10-01</td>\n",
       "      <td>6.305050e+07</td>\n",
       "      <td>12988.0</td>\n",
       "    </tr>\n",
       "    <tr>\n",
       "      <th>4</th>\n",
       "      <td>Q100276857</td>\n",
       "      <td>2020 shooting of Los Angeles police officers</td>\n",
       "      <td>2020-09-12</td>\n",
       "      <td>Global North</td>\n",
       "      <td>United States</td>\n",
       "      <td>North America</td>\n",
       "      <td>disaster</td>\n",
       "      <td>['Category:2020 in Los Angeles County, Califor...</td>\n",
       "      <td>0</td>\n",
       "      <td>0.0</td>\n",
       "      <td>...</td>\n",
       "      <td>United States</td>\n",
       "      <td>2020.0</td>\n",
       "      <td>63122.594145</td>\n",
       "      <td>2.089375e+13</td>\n",
       "      <td>True</td>\n",
       "      <td>True</td>\n",
       "      <td>True</td>\n",
       "      <td>2020-09-01</td>\n",
       "      <td>3.310591e+09</td>\n",
       "      <td>51047.0</td>\n",
       "    </tr>\n",
       "    <tr>\n",
       "      <th>...</th>\n",
       "      <td>...</td>\n",
       "      <td>...</td>\n",
       "      <td>...</td>\n",
       "      <td>...</td>\n",
       "      <td>...</td>\n",
       "      <td>...</td>\n",
       "      <td>...</td>\n",
       "      <td>...</td>\n",
       "      <td>...</td>\n",
       "      <td>...</td>\n",
       "      <td>...</td>\n",
       "      <td>...</td>\n",
       "      <td>...</td>\n",
       "      <td>...</td>\n",
       "      <td>...</td>\n",
       "      <td>...</td>\n",
       "      <td>...</td>\n",
       "      <td>...</td>\n",
       "      <td>...</td>\n",
       "      <td>...</td>\n",
       "      <td>...</td>\n",
       "    </tr>\n",
       "    <tr>\n",
       "      <th>20779</th>\n",
       "      <td>Q99519600</td>\n",
       "      <td>Anexo:Ruta élite masculina en el Campeonato Mu...</td>\n",
       "      <td>2020-09-27</td>\n",
       "      <td>Global North</td>\n",
       "      <td>Italy</td>\n",
       "      <td>Europe</td>\n",
       "      <td>sports</td>\n",
       "      <td>['Categoría:Campeonato Mundial de Ciclismo en ...</td>\n",
       "      <td>1232</td>\n",
       "      <td>329.0</td>\n",
       "      <td>...</td>\n",
       "      <td>Italy</td>\n",
       "      <td>2020.0</td>\n",
       "      <td>31238.048346</td>\n",
       "      <td>1.888709e+12</td>\n",
       "      <td>True</td>\n",
       "      <td>False</td>\n",
       "      <td>False</td>\n",
       "      <td>2020-09-01</td>\n",
       "      <td>8.955000e+05</td>\n",
       "      <td>3094.0</td>\n",
       "    </tr>\n",
       "    <tr>\n",
       "      <th>20780</th>\n",
       "      <td>Q99519600</td>\n",
       "      <td>Anexo:Ruta élite masculina en el Campeonato Mu...</td>\n",
       "      <td>2020-09-27</td>\n",
       "      <td>Global North</td>\n",
       "      <td>Italy</td>\n",
       "      <td>Europe</td>\n",
       "      <td>sports</td>\n",
       "      <td>['Categoría:Campeonato Mundial de Ciclismo en ...</td>\n",
       "      <td>1232</td>\n",
       "      <td>329.0</td>\n",
       "      <td>...</td>\n",
       "      <td>Italy</td>\n",
       "      <td>2020.0</td>\n",
       "      <td>31238.048346</td>\n",
       "      <td>1.888709e+12</td>\n",
       "      <td>True</td>\n",
       "      <td>False</td>\n",
       "      <td>False</td>\n",
       "      <td>2020-09-01</td>\n",
       "      <td>8.955000e+05</td>\n",
       "      <td>3094.0</td>\n",
       "    </tr>\n",
       "    <tr>\n",
       "      <th>20781</th>\n",
       "      <td>Q99622119</td>\n",
       "      <td>Accidente del Antonov An-26 en Chugúyev de 2020</td>\n",
       "      <td>2020-09-25</td>\n",
       "      <td>Global South</td>\n",
       "      <td>Ukraine</td>\n",
       "      <td>Europe</td>\n",
       "      <td>disaster</td>\n",
       "      <td>['Categoría:Accidentes e incidentes aéreos de ...</td>\n",
       "      <td>1268</td>\n",
       "      <td>0.0</td>\n",
       "      <td>...</td>\n",
       "      <td>Ukraine</td>\n",
       "      <td>2020.0</td>\n",
       "      <td>3557.477356</td>\n",
       "      <td>1.555819e+11</td>\n",
       "      <td>False</td>\n",
       "      <td>False</td>\n",
       "      <td>False</td>\n",
       "      <td>2020-09-01</td>\n",
       "      <td>1.945000e+05</td>\n",
       "      <td>1502.0</td>\n",
       "    </tr>\n",
       "    <tr>\n",
       "      <th>20782</th>\n",
       "      <td>Q99754052</td>\n",
       "      <td>Muerte de Joyce Echaquan</td>\n",
       "      <td>2020-09-28</td>\n",
       "      <td>Global North</td>\n",
       "      <td>Canada</td>\n",
       "      <td>North America</td>\n",
       "      <td>undefined</td>\n",
       "      <td>['Categoría:Joliette (Municipio regional de co...</td>\n",
       "      <td>0</td>\n",
       "      <td>0.0</td>\n",
       "      <td>...</td>\n",
       "      <td>Canada</td>\n",
       "      <td>2020.0</td>\n",
       "      <td>43559.710092</td>\n",
       "      <td>1.644037e+12</td>\n",
       "      <td>True</td>\n",
       "      <td>False</td>\n",
       "      <td>False</td>\n",
       "      <td>2020-09-01</td>\n",
       "      <td>1.706000e+06</td>\n",
       "      <td>3924.0</td>\n",
       "    </tr>\n",
       "    <tr>\n",
       "      <th>20783</th>\n",
       "      <td>Q99767083</td>\n",
       "      <td>Asesinato de Juan Pablo Roldán</td>\n",
       "      <td>2020-09-28</td>\n",
       "      <td>Global South</td>\n",
       "      <td>Argentina</td>\n",
       "      <td>South America</td>\n",
       "      <td>disaster</td>\n",
       "      <td>['Categoría:Asesinatos en Argentina', 'Categor...</td>\n",
       "      <td>1718</td>\n",
       "      <td>0.0</td>\n",
       "      <td>...</td>\n",
       "      <td>Argentina</td>\n",
       "      <td>2020.0</td>\n",
       "      <td>8475.729582</td>\n",
       "      <td>3.830672e+11</td>\n",
       "      <td>False</td>\n",
       "      <td>True</td>\n",
       "      <td>False</td>\n",
       "      <td>2020-09-01</td>\n",
       "      <td>1.469370e+08</td>\n",
       "      <td>7072.0</td>\n",
       "    </tr>\n",
       "  </tbody>\n",
       "</table>\n",
       "<p>19657 rows × 43 columns</p>\n",
       "</div>"
      ],
      "text/plain": [
       "         event_id                                          pagetitle  \\\n",
       "0         Q100021         Pakistan International Airlines Flight 661   \n",
       "1      Q100231328                   Gretchen Whitmer kidnapping plot   \n",
       "2      Q100256872                       Killing of Babu Lal Vaishnav   \n",
       "3      Q100270220                          Killing of Brendin Horner   \n",
       "4      Q100276857       2020 shooting of Los Angeles police officers   \n",
       "...           ...                                                ...   \n",
       "20779   Q99519600  Anexo:Ruta élite masculina en el Campeonato Mu...   \n",
       "20780   Q99519600  Anexo:Ruta élite masculina en el Campeonato Mu...   \n",
       "20781   Q99622119    Accidente del Antonov An-26 en Chugúyev de 2020   \n",
       "20782   Q99754052                           Muerte de Joyce Echaquan   \n",
       "20783   Q99767083                     Asesinato de Juan Pablo Roldán   \n",
       "\n",
       "      event_date economic_region        country      continent        cat  \\\n",
       "0     2016-12-07    Global South       Pakistan           Asia   disaster   \n",
       "1     2020-10-08    Global North  United States  North America   disaster   \n",
       "2     2020-10-08    Global South          India           Asia   disaster   \n",
       "3     2020-10-01    Global South   South Africa         Africa   disaster   \n",
       "4     2020-09-12    Global North  United States  North America   disaster   \n",
       "...          ...             ...            ...            ...        ...   \n",
       "20779 2020-09-27    Global North          Italy         Europe     sports   \n",
       "20780 2020-09-27    Global North          Italy         Europe     sports   \n",
       "20781 2020-09-25    Global South        Ukraine         Europe   disaster   \n",
       "20782 2020-09-28    Global North         Canada  North America  undefined   \n",
       "20783 2020-09-28    Global South      Argentina  South America   disaster   \n",
       "\n",
       "                                              categories  views_7_sum  \\\n",
       "0      ['Category:2016 disasters in Pakistan', 'Categ...       248274   \n",
       "1      ['Category:2020 crimes in the United States', ...        74144   \n",
       "2      ['Category:2020 crimes in India', 'Category:20...          427   \n",
       "3      ['Category:2020 deaths', 'Category:2020 in Sou...            0   \n",
       "4      ['Category:2020 in Los Angeles County, Califor...            0   \n",
       "...                                                  ...          ...   \n",
       "20779  ['Categoría:Campeonato Mundial de Ciclismo en ...         1232   \n",
       "20780  ['Categoría:Campeonato Mundial de Ciclismo en ...         1232   \n",
       "20781  ['Categoría:Accidentes e incidentes aéreos de ...         1268   \n",
       "20782  ['Categoría:Joliette (Municipio regional de co...            0   \n",
       "20783  ['Categoría:Asesinatos en Argentina', 'Categor...         1718   \n",
       "\n",
       "       views_before_mean  ...   Country/Area    Year        GDP_pc  \\\n",
       "0                    0.0  ...       Pakistan  2016.0   1362.860008   \n",
       "1                    0.0  ...  United States  2020.0  63122.594145   \n",
       "2                    0.0  ...          India  2020.0   1930.971218   \n",
       "3                    0.0  ...   South Africa  2020.0   5094.384038   \n",
       "4                    0.0  ...  United States  2020.0  63122.594145   \n",
       "...                  ...  ...            ...     ...           ...   \n",
       "20779              329.0  ...          Italy  2020.0  31238.048346   \n",
       "20780              329.0  ...          Italy  2020.0  31238.048346   \n",
       "20781                0.0  ...        Ukraine  2020.0   3557.477356   \n",
       "20782                0.0  ...         Canada  2020.0  43559.710092   \n",
       "20783                0.0  ...      Argentina  2020.0   8475.729582   \n",
       "\n",
       "                GDP   oecd in_code_lang  in_code_region  date_month  \\\n",
       "0      2.775210e+11  False         True           False  2016-12-01   \n",
       "1      2.089375e+13   True         True            True  2020-10-01   \n",
       "2      2.664749e+12  False         True           False  2020-10-01   \n",
       "3      3.021412e+11  False         True           False  2020-10-01   \n",
       "4      2.089375e+13   True         True            True  2020-09-01   \n",
       "...             ...    ...          ...             ...         ...   \n",
       "20779  1.888709e+12   True        False           False  2020-09-01   \n",
       "20780  1.888709e+12   True        False           False  2020-09-01   \n",
       "20781  1.555819e+11  False        False           False  2020-09-01   \n",
       "20782  1.644037e+12   True        False           False  2020-09-01   \n",
       "20783  3.830672e+11  False         True           False  2020-09-01   \n",
       "\n",
       "      views_baseline view_country_article  \n",
       "0       8.536700e+07              13789.0  \n",
       "1       3.151887e+09              48147.0  \n",
       "2       7.199060e+08              33666.0  \n",
       "3       6.305050e+07              12988.0  \n",
       "4       3.310591e+09              51047.0  \n",
       "...              ...                  ...  \n",
       "20779   8.955000e+05               3094.0  \n",
       "20780   8.955000e+05               3094.0  \n",
       "20781   1.945000e+05               1502.0  \n",
       "20782   1.706000e+06               3924.0  \n",
       "20783   1.469370e+08               7072.0  \n",
       "\n",
       "[19657 rows x 43 columns]"
      ]
     },
     "execution_count": 20,
     "metadata": {},
     "output_type": "execute_result"
    }
   ],
   "source": [
    "df_view_merged"
   ]
  },
  {
   "cell_type": "code",
   "execution_count": 51,
   "metadata": {},
   "outputs": [],
   "source": [
    "### Post-processing\n",
    "df_view_merged.loc[:, 'cat'] = df_view_merged.apply(lambda e: df_fixed[(df_fixed.pagetitle == e.pagetitle)]['cat'].values[0] if ((df_fixed.pagetitle == e.pagetitle)).any() else e['cat'], axis=1)"
   ]
  },
  {
   "cell_type": "code",
   "execution_count": 52,
   "metadata": {
    "pycharm": {
     "name": "#%%\n"
    }
   },
   "outputs": [],
   "source": [
    "# so let's save this and use it now!\n",
    "df_view_merged.fillna(0).to_csv('events/new/processed_0_manually_with_wikiviews.csv', index=False)"
   ]
  }
 ],
 "metadata": {
  "kernelspec": {
   "display_name": "Python 3",
   "language": "python",
   "name": "python3"
  },
  "language_info": {
   "codemirror_mode": {
    "name": "ipython",
    "version": 3
   },
   "file_extension": ".py",
   "mimetype": "text/x-python",
   "name": "python",
   "nbconvert_exporter": "python",
   "pygments_lexer": "ipython3",
   "version": "3.7.6"
  }
 },
 "nbformat": 4,
 "nbformat_minor": 4
}
