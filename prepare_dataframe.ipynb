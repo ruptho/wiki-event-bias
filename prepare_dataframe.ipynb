{
 "cells": [
  {
   "cell_type": "code",
   "execution_count": 1,
   "metadata": {
    "pycharm": {
     "name": "#%%\n"
    }
   },
   "outputs": [],
   "source": [
    "import matplotlib.pyplot as plt\n",
    "import pandas as pd\n",
    "import numpy as np\n",
    "from preprocessing import load_events, load_bing_results, check_counts_and_merge, load_gni_class, load_gni_region,load_population, load_gdp, load_if_in_country_or_lang, load_views\n",
    "%load_ext autoreload\n",
    "%autoreload 2"
   ]
  },
  {
   "cell_type": "markdown",
   "metadata": {},
   "source": [
    "## load df"
   ]
  },
  {
   "cell_type": "code",
   "execution_count": 2,
   "metadata": {
    "pycharm": {
     "name": "#%%\n"
    }
   },
   "outputs": [
    {
     "name": "stdout",
     "output_type": "stream",
     "text": [
      "Loading de\n",
      "LOAD FROM scraping/results/de_bingnews.json, Articles now: 2304\n",
      "LOAD FROM scraping/results//de_bingnews_missing.json, Articles now: 2376\n",
      "Loading en\n",
      "LOAD FROM scraping/results/en_bingnews.json, Articles now: 5262\n",
      "LOAD FROM scraping/results/en_bingnews_rest.json, Articles now: 7761\n",
      "LOAD FROM scraping/results/en_bingnews_missing.json, Articles now: 7761\n",
      "Loading it\n",
      "LOAD FROM scraping/results/it_bingnews.json, Articles now: 2297\n",
      "LOAD FROM scraping/results//it_bingnews_missing.json, Articles now: 2358\n",
      "Loading es\n",
      "LOAD FROM scraping/results//es_bingnews_es-ES.json, Articles now: 3253\n",
      "LOAD FROM scraping/results//es_bingnews_es-ES_missing.json, Articles now: 3448\n",
      "Loading es\n",
      "LOAD FROM scraping/results/es_bingnews_es-ES_corrected.json, Articles now: 552\n",
      "de 2376 2502\n",
      "it 2358 2470\n",
      "es 3448 3587\n",
      "en 7761 8021\n",
      "total 16580 15943\n",
      "With duplicates, but dropped na from bing 16580\n",
      "Without duplicates 14198\n",
      "de 1994\n",
      "it 1804\n",
      "es 3051\n",
      "en 7349\n"
     ]
    },
    {
     "data": {
      "text/html": [
       "<div>\n",
       "<style scoped>\n",
       "    .dataframe tbody tr th:only-of-type {\n",
       "        vertical-align: middle;\n",
       "    }\n",
       "\n",
       "    .dataframe tbody tr th {\n",
       "        vertical-align: top;\n",
       "    }\n",
       "\n",
       "    .dataframe thead th {\n",
       "        text-align: right;\n",
       "    }\n",
       "</style>\n",
       "<table border=\"1\" class=\"dataframe\">\n",
       "  <thead>\n",
       "    <tr style=\"text-align: right;\">\n",
       "      <th></th>\n",
       "      <th>event_id</th>\n",
       "      <th>pagetitle</th>\n",
       "      <th>event_date</th>\n",
       "      <th>economic_region</th>\n",
       "      <th>country</th>\n",
       "      <th>continent</th>\n",
       "      <th>cat</th>\n",
       "      <th>categories</th>\n",
       "      <th>views_7_sum</th>\n",
       "      <th>views_before_mean</th>\n",
       "      <th>...</th>\n",
       "      <th>factor</th>\n",
       "      <th>page_creation</th>\n",
       "      <th>edits_7_sum</th>\n",
       "      <th>edits_before_min</th>\n",
       "      <th>edits_before_mean</th>\n",
       "      <th>edits_before_max</th>\n",
       "      <th>edits_before_median</th>\n",
       "      <th>edits_before_sum</th>\n",
       "      <th>code</th>\n",
       "      <th>bing_hits</th>\n",
       "    </tr>\n",
       "  </thead>\n",
       "  <tbody>\n",
       "    <tr>\n",
       "      <th>0</th>\n",
       "      <td>Q100021</td>\n",
       "      <td>Pakistan International Airlines Flight 661</td>\n",
       "      <td>2016-12-07</td>\n",
       "      <td>Global South</td>\n",
       "      <td>Pakistan</td>\n",
       "      <td>Asia</td>\n",
       "      <td>disaster</td>\n",
       "      <td>['Category:2016 disasters in Pakistan', 'Categ...</td>\n",
       "      <td>248274</td>\n",
       "      <td>0.000000</td>\n",
       "      <td>...</td>\n",
       "      <td>NaN</td>\n",
       "      <td>2016-12-07T12:37:39Z</td>\n",
       "      <td>518</td>\n",
       "      <td>0</td>\n",
       "      <td>0.000000</td>\n",
       "      <td>0</td>\n",
       "      <td>0.0</td>\n",
       "      <td>0</td>\n",
       "      <td>en</td>\n",
       "      <td>11</td>\n",
       "    </tr>\n",
       "    <tr>\n",
       "      <th>1</th>\n",
       "      <td>Q100231328</td>\n",
       "      <td>Gretchen Whitmer kidnapping plot</td>\n",
       "      <td>2020-10-08</td>\n",
       "      <td>Global North</td>\n",
       "      <td>United States</td>\n",
       "      <td>North America</td>\n",
       "      <td>disaster</td>\n",
       "      <td>['Category:2020 crimes in the United States', ...</td>\n",
       "      <td>74144</td>\n",
       "      <td>0.000000</td>\n",
       "      <td>...</td>\n",
       "      <td>NaN</td>\n",
       "      <td>2020-10-08T17:29:02Z</td>\n",
       "      <td>23</td>\n",
       "      <td>0</td>\n",
       "      <td>0.000000</td>\n",
       "      <td>0</td>\n",
       "      <td>0.0</td>\n",
       "      <td>0</td>\n",
       "      <td>en</td>\n",
       "      <td>6670</td>\n",
       "    </tr>\n",
       "    <tr>\n",
       "      <th>2</th>\n",
       "      <td>Q100256872</td>\n",
       "      <td>Killing of Babu Lal Vaishnav</td>\n",
       "      <td>2020-10-08</td>\n",
       "      <td>Global South</td>\n",
       "      <td>India</td>\n",
       "      <td>Asia</td>\n",
       "      <td>disaster</td>\n",
       "      <td>['Category:2020 crimes in India', 'Category:20...</td>\n",
       "      <td>427</td>\n",
       "      <td>0.000000</td>\n",
       "      <td>...</td>\n",
       "      <td>after</td>\n",
       "      <td>2020-10-10T09:08:38Z</td>\n",
       "      <td>39</td>\n",
       "      <td>0</td>\n",
       "      <td>0.000000</td>\n",
       "      <td>0</td>\n",
       "      <td>0.0</td>\n",
       "      <td>0</td>\n",
       "      <td>en</td>\n",
       "      <td>33</td>\n",
       "    </tr>\n",
       "    <tr>\n",
       "      <th>3</th>\n",
       "      <td>Q100279235</td>\n",
       "      <td>Miss Vietnam 2020</td>\n",
       "      <td>2020-11-20</td>\n",
       "      <td>Global South</td>\n",
       "      <td>Vietnam</td>\n",
       "      <td>Asia</td>\n",
       "      <td>culture</td>\n",
       "      <td>['Category:2020 beauty pageants', 'Category:Be...</td>\n",
       "      <td>1444</td>\n",
       "      <td>49.285714</td>\n",
       "      <td>...</td>\n",
       "      <td>before</td>\n",
       "      <td>2020-11-12T17:26:31Z</td>\n",
       "      <td>18</td>\n",
       "      <td>0</td>\n",
       "      <td>0.666667</td>\n",
       "      <td>3</td>\n",
       "      <td>0.0</td>\n",
       "      <td>4</td>\n",
       "      <td>en</td>\n",
       "      <td>44300</td>\n",
       "    </tr>\n",
       "    <tr>\n",
       "      <th>4</th>\n",
       "      <td>Q100288161</td>\n",
       "      <td>2020 Ganja missile attacks</td>\n",
       "      <td>2020-10-11</td>\n",
       "      <td>Global South</td>\n",
       "      <td>Azerbaijan</td>\n",
       "      <td>Asia</td>\n",
       "      <td>disaster</td>\n",
       "      <td>['Category:2020 in Azerbaijan', 'Category:Arti...</td>\n",
       "      <td>7410</td>\n",
       "      <td>0.000000</td>\n",
       "      <td>...</td>\n",
       "      <td>after</td>\n",
       "      <td>2020-10-15T10:07:12Z</td>\n",
       "      <td>44</td>\n",
       "      <td>0</td>\n",
       "      <td>0.000000</td>\n",
       "      <td>0</td>\n",
       "      <td>0.0</td>\n",
       "      <td>0</td>\n",
       "      <td>en</td>\n",
       "      <td>237000</td>\n",
       "    </tr>\n",
       "  </tbody>\n",
       "</table>\n",
       "<p>5 rows × 30 columns</p>\n",
       "</div>"
      ],
      "text/plain": [
       "     event_id                                   pagetitle  event_date  \\\n",
       "0     Q100021  Pakistan International Airlines Flight 661  2016-12-07   \n",
       "1  Q100231328            Gretchen Whitmer kidnapping plot  2020-10-08   \n",
       "2  Q100256872                Killing of Babu Lal Vaishnav  2020-10-08   \n",
       "3  Q100279235                           Miss Vietnam 2020  2020-11-20   \n",
       "4  Q100288161                  2020 Ganja missile attacks  2020-10-11   \n",
       "\n",
       "  economic_region        country      continent       cat  \\\n",
       "0    Global South       Pakistan           Asia  disaster   \n",
       "1    Global North  United States  North America  disaster   \n",
       "2    Global South          India           Asia  disaster   \n",
       "3    Global South        Vietnam           Asia   culture   \n",
       "4    Global South     Azerbaijan           Asia  disaster   \n",
       "\n",
       "                                          categories  views_7_sum  \\\n",
       "0  ['Category:2016 disasters in Pakistan', 'Categ...       248274   \n",
       "1  ['Category:2020 crimes in the United States', ...        74144   \n",
       "2  ['Category:2020 crimes in India', 'Category:20...          427   \n",
       "3  ['Category:2020 beauty pageants', 'Category:Be...         1444   \n",
       "4  ['Category:2020 in Azerbaijan', 'Category:Arti...         7410   \n",
       "\n",
       "   views_before_mean  ...  factor         page_creation  edits_7_sum  \\\n",
       "0           0.000000  ...     NaN  2016-12-07T12:37:39Z          518   \n",
       "1           0.000000  ...     NaN  2020-10-08T17:29:02Z           23   \n",
       "2           0.000000  ...   after  2020-10-10T09:08:38Z           39   \n",
       "3          49.285714  ...  before  2020-11-12T17:26:31Z           18   \n",
       "4           0.000000  ...   after  2020-10-15T10:07:12Z           44   \n",
       "\n",
       "   edits_before_min  edits_before_mean edits_before_max  edits_before_median  \\\n",
       "0                 0           0.000000                0                  0.0   \n",
       "1                 0           0.000000                0                  0.0   \n",
       "2                 0           0.000000                0                  0.0   \n",
       "3                 0           0.666667                3                  0.0   \n",
       "4                 0           0.000000                0                  0.0   \n",
       "\n",
       "   edits_before_sum code bing_hits  \n",
       "0                 0   en        11  \n",
       "1                 0   en      6670  \n",
       "2                 0   en        33  \n",
       "3                 4   en     44300  \n",
       "4                 0   en    237000  \n",
       "\n",
       "[5 rows x 30 columns]"
      ]
     },
     "execution_count": 2,
     "metadata": {},
     "output_type": "execute_result"
    }
   ],
   "source": [
    "df = load_events()\n",
    "df_news = load_bing_results()\n",
    "df_crawled = check_counts_and_merge(df, df_news)\n",
    "# show article counts\n",
    "df_crawled.head()"
   ]
  },
  {
   "cell_type": "markdown",
   "metadata": {},
   "source": [
    "## load gni region and regional class"
   ]
  },
  {
   "cell_type": "code",
   "execution_count": 3,
   "metadata": {
    "pycharm": {
     "name": "#%%\n"
    }
   },
   "outputs": [
    {
     "name": "stdout",
     "output_type": "stream",
     "text": [
      "Lost Events for class: 15\n",
      "Lost Events for region:  0\n"
     ]
    }
   ],
   "source": [
    "df_crawled, df_missing_class = load_gni_class(df_crawled)\n",
    "df_crawled, df_missing_region = load_gni_region(df_crawled)"
   ]
  },
  {
   "cell_type": "markdown",
   "metadata": {},
   "source": []
  },
  {
   "cell_type": "code",
   "execution_count": 14,
   "metadata": {
    "pycharm": {
     "name": "#%%\n"
    }
   },
   "outputs": [
    {
     "data": {
      "text/plain": [
       "array(['Falkland Islands', 'Faeroe Islands', 'Cook Islands'], dtype=object)"
      ]
     },
     "execution_count": 14,
     "metadata": {},
     "output_type": "execute_result"
    }
   ],
   "source": [
    "df_missing_class.country.unique()"
   ]
  },
  {
   "cell_type": "markdown",
   "metadata": {},
   "source": [
    "## load population"
   ]
  },
  {
   "cell_type": "code",
   "execution_count": 5,
   "metadata": {
    "pycharm": {
     "name": "#%%\n"
    }
   },
   "outputs": [
    {
     "name": "stdout",
     "output_type": "stream",
     "text": [
      "Lost Events for population:  0\n"
     ]
    }
   ],
   "source": [
    "df_crawled, df_missing_pop = load_population(df_crawled)"
   ]
  },
  {
   "cell_type": "markdown",
   "metadata": {},
   "source": [
    "# Merge with GDP"
   ]
  },
  {
   "cell_type": "code",
   "execution_count": 6,
   "metadata": {
    "pycharm": {
     "name": "#%%\n"
    }
   },
   "outputs": [
    {
     "name": "stdout",
     "output_type": "stream",
     "text": [
      "Lost Events for gdp:  3\n"
     ]
    }
   ],
   "source": [
    "df_crawled, df_missing_gdp = load_gdp(df_crawled)"
   ]
  },
  {
   "cell_type": "code",
   "execution_count": 15,
   "metadata": {
    "pycharm": {
     "name": "#%%\n"
    }
   },
   "outputs": [
    {
     "data": {
      "text/plain": [
       "array(['Gibraltar'], dtype=object)"
      ]
     },
     "execution_count": 15,
     "metadata": {},
     "output_type": "execute_result"
    }
   ],
   "source": [
    "df_missing_gdp.country.unique()"
   ]
  },
  {
   "cell_type": "markdown",
   "metadata": {},
   "source": [
    "# compute lang and code assignment"
   ]
  },
  {
   "cell_type": "code",
   "execution_count": 8,
   "metadata": {
    "pycharm": {
     "name": "#%%\n"
    }
   },
   "outputs": [],
   "source": [
    "df_crawled = load_if_in_country_or_lang(df_crawled)"
   ]
  },
  {
   "cell_type": "markdown",
   "metadata": {},
   "source": [
    "# Store resulting dataframe, then change manually which events were not found"
   ]
  },
  {
   "cell_type": "markdown",
   "metadata": {
    "pycharm": {
     "name": "#%% md\n"
    }
   },
   "source": [
    "Note that these are commented out because we already did that once. the manually processed df is fine from here on out."
   ]
  },
  {
   "cell_type": "code",
   "execution_count": 9,
   "metadata": {
    "pycharm": {
     "name": "#%%\n"
    }
   },
   "outputs": [],
   "source": [
    "#df_crawled.to_csv(f'events/new/processed.csv')"
   ]
  },
  {
   "cell_type": "code",
   "execution_count": 16,
   "metadata": {
    "pycharm": {
     "name": "#%%\n"
    }
   },
   "outputs": [],
   "source": [
    "#df_manually_processed = pd.read_csv('events/processed_manually.csv')"
   ]
  },
  {
   "cell_type": "code",
   "execution_count": 11,
   "metadata": {
    "pycharm": {
     "name": "#%%\n"
    }
   },
   "outputs": [],
   "source": [
    "# some fixes for some missing events\n",
    "#pd.concat([df_manually_processed, df_crawled[~df_crawled.event_id.isin(df_manually_processed.event_id)]]).to_csv(\n",
    "# 'events/new/processed_manually.csv', index=False)"
   ]
  },
  {
   "cell_type": "markdown",
   "metadata": {},
   "source": [
    "# Merge with views"
   ]
  },
  {
   "cell_type": "code",
   "execution_count": 20,
   "metadata": {
    "pycharm": {
     "name": "#%%\n"
    }
   },
   "outputs": [],
   "source": [
    "from preprocessing import compute_view_baseline\n",
    "from preprocessing import replace_country_names"
   ]
  },
  {
   "cell_type": "code",
   "execution_count": 24,
   "metadata": {
    "pycharm": {
     "name": "#%%\n"
    }
   },
   "outputs": [
    {
     "data": {
      "text/html": [
       "<div>\n",
       "<style scoped>\n",
       "    .dataframe tbody tr th:only-of-type {\n",
       "        vertical-align: middle;\n",
       "    }\n",
       "\n",
       "    .dataframe tbody tr th {\n",
       "        vertical-align: top;\n",
       "    }\n",
       "\n",
       "    .dataframe thead th {\n",
       "        text-align: right;\n",
       "    }\n",
       "</style>\n",
       "<table border=\"1\" class=\"dataframe\">\n",
       "  <thead>\n",
       "    <tr style=\"text-align: right;\">\n",
       "      <th></th>\n",
       "      <th>event_id</th>\n",
       "      <th>pagetitle</th>\n",
       "      <th>event_date</th>\n",
       "      <th>economic_region</th>\n",
       "      <th>country</th>\n",
       "      <th>continent</th>\n",
       "      <th>cat</th>\n",
       "      <th>categories</th>\n",
       "      <th>views_7_sum</th>\n",
       "      <th>views_before_mean</th>\n",
       "      <th>...</th>\n",
       "      <th>bing_hits</th>\n",
       "      <th>gni_class</th>\n",
       "      <th>gni_region</th>\n",
       "      <th>population</th>\n",
       "      <th>Country/Area</th>\n",
       "      <th>Year</th>\n",
       "      <th>GDP_pc</th>\n",
       "      <th>GDP</th>\n",
       "      <th>oecd</th>\n",
       "      <th>date_month</th>\n",
       "    </tr>\n",
       "  </thead>\n",
       "  <tbody>\n",
       "    <tr>\n",
       "      <th>0</th>\n",
       "      <td>Q100021</td>\n",
       "      <td>Pakistan International Airlines Flight 661</td>\n",
       "      <td>2016-12-07</td>\n",
       "      <td>Global South</td>\n",
       "      <td>Pakistan</td>\n",
       "      <td>Asia</td>\n",
       "      <td>disaster</td>\n",
       "      <td>['Category:2016 disasters in Pakistan', 'Categ...</td>\n",
       "      <td>248274</td>\n",
       "      <td>0.000000</td>\n",
       "      <td>...</td>\n",
       "      <td>11</td>\n",
       "      <td>LM</td>\n",
       "      <td>South Asia</td>\n",
       "      <td>203631356</td>\n",
       "      <td>Pakistan</td>\n",
       "      <td>2016</td>\n",
       "      <td>1362.860008</td>\n",
       "      <td>2.775210e+11</td>\n",
       "      <td>False</td>\n",
       "      <td>2016-12-01</td>\n",
       "    </tr>\n",
       "    <tr>\n",
       "      <th>1</th>\n",
       "      <td>Q100231328</td>\n",
       "      <td>Gretchen Whitmer kidnapping plot</td>\n",
       "      <td>2020-10-08</td>\n",
       "      <td>Global North</td>\n",
       "      <td>United States</td>\n",
       "      <td>North America</td>\n",
       "      <td>disaster</td>\n",
       "      <td>['Category:2020 crimes in the United States', ...</td>\n",
       "      <td>74144</td>\n",
       "      <td>0.000000</td>\n",
       "      <td>...</td>\n",
       "      <td>6670</td>\n",
       "      <td>H</td>\n",
       "      <td>North America</td>\n",
       "      <td>329484123</td>\n",
       "      <td>United States</td>\n",
       "      <td>2020</td>\n",
       "      <td>63122.594145</td>\n",
       "      <td>2.089375e+13</td>\n",
       "      <td>True</td>\n",
       "      <td>2020-10-01</td>\n",
       "    </tr>\n",
       "    <tr>\n",
       "      <th>2</th>\n",
       "      <td>Q100256872</td>\n",
       "      <td>Killing of Babu Lal Vaishnav</td>\n",
       "      <td>2020-10-08</td>\n",
       "      <td>Global South</td>\n",
       "      <td>India</td>\n",
       "      <td>Asia</td>\n",
       "      <td>disaster</td>\n",
       "      <td>['Category:2020 crimes in India', 'Category:20...</td>\n",
       "      <td>427</td>\n",
       "      <td>0.000000</td>\n",
       "      <td>...</td>\n",
       "      <td>33</td>\n",
       "      <td>LM</td>\n",
       "      <td>South Asia</td>\n",
       "      <td>1380004385</td>\n",
       "      <td>India</td>\n",
       "      <td>2020</td>\n",
       "      <td>1930.971218</td>\n",
       "      <td>2.664749e+12</td>\n",
       "      <td>False</td>\n",
       "      <td>2020-10-01</td>\n",
       "    </tr>\n",
       "    <tr>\n",
       "      <th>3</th>\n",
       "      <td>Q100279235</td>\n",
       "      <td>Miss Vietnam 2020</td>\n",
       "      <td>2020-11-20</td>\n",
       "      <td>Global South</td>\n",
       "      <td>Vietnam</td>\n",
       "      <td>Asia</td>\n",
       "      <td>culture</td>\n",
       "      <td>['Category:2020 beauty pageants', 'Category:Be...</td>\n",
       "      <td>1444</td>\n",
       "      <td>49.285714</td>\n",
       "      <td>...</td>\n",
       "      <td>44300</td>\n",
       "      <td>LM</td>\n",
       "      <td>East Asia &amp; Pacific</td>\n",
       "      <td>97338583</td>\n",
       "      <td>Vietnam</td>\n",
       "      <td>2020</td>\n",
       "      <td>2785.724225</td>\n",
       "      <td>2.711584e+11</td>\n",
       "      <td>False</td>\n",
       "      <td>2020-11-01</td>\n",
       "    </tr>\n",
       "    <tr>\n",
       "      <th>4</th>\n",
       "      <td>Q100288161</td>\n",
       "      <td>2020 Ganja missile attacks</td>\n",
       "      <td>2020-10-11</td>\n",
       "      <td>Global South</td>\n",
       "      <td>Azerbaijan</td>\n",
       "      <td>Asia</td>\n",
       "      <td>disaster</td>\n",
       "      <td>['Category:2020 in Azerbaijan', 'Category:Arti...</td>\n",
       "      <td>7410</td>\n",
       "      <td>0.000000</td>\n",
       "      <td>...</td>\n",
       "      <td>237000</td>\n",
       "      <td>UM</td>\n",
       "      <td>Europe &amp; Central Asia</td>\n",
       "      <td>10093121</td>\n",
       "      <td>Azerbaijan</td>\n",
       "      <td>2020</td>\n",
       "      <td>4202.232239</td>\n",
       "      <td>4.260718e+10</td>\n",
       "      <td>False</td>\n",
       "      <td>2020-10-01</td>\n",
       "    </tr>\n",
       "  </tbody>\n",
       "</table>\n",
       "<p>5 rows × 39 columns</p>\n",
       "</div>"
      ],
      "text/plain": [
       "     event_id                                   pagetitle event_date  \\\n",
       "0     Q100021  Pakistan International Airlines Flight 661 2016-12-07   \n",
       "1  Q100231328            Gretchen Whitmer kidnapping plot 2020-10-08   \n",
       "2  Q100256872                Killing of Babu Lal Vaishnav 2020-10-08   \n",
       "3  Q100279235                           Miss Vietnam 2020 2020-11-20   \n",
       "4  Q100288161                  2020 Ganja missile attacks 2020-10-11   \n",
       "\n",
       "  economic_region        country      continent       cat  \\\n",
       "0    Global South       Pakistan           Asia  disaster   \n",
       "1    Global North  United States  North America  disaster   \n",
       "2    Global South          India           Asia  disaster   \n",
       "3    Global South        Vietnam           Asia   culture   \n",
       "4    Global South     Azerbaijan           Asia  disaster   \n",
       "\n",
       "                                          categories  views_7_sum  \\\n",
       "0  ['Category:2016 disasters in Pakistan', 'Categ...       248274   \n",
       "1  ['Category:2020 crimes in the United States', ...        74144   \n",
       "2  ['Category:2020 crimes in India', 'Category:20...          427   \n",
       "3  ['Category:2020 beauty pageants', 'Category:Be...         1444   \n",
       "4  ['Category:2020 in Azerbaijan', 'Category:Arti...         7410   \n",
       "\n",
       "   views_before_mean  ...  bing_hits  gni_class             gni_region  \\\n",
       "0           0.000000  ...         11         LM             South Asia   \n",
       "1           0.000000  ...       6670          H          North America   \n",
       "2           0.000000  ...         33         LM             South Asia   \n",
       "3          49.285714  ...      44300         LM    East Asia & Pacific   \n",
       "4           0.000000  ...     237000         UM  Europe & Central Asia   \n",
       "\n",
       "   population   Country/Area  Year        GDP_pc           GDP   oecd  \\\n",
       "0   203631356       Pakistan  2016   1362.860008  2.775210e+11  False   \n",
       "1   329484123  United States  2020  63122.594145  2.089375e+13   True   \n",
       "2  1380004385          India  2020   1930.971218  2.664749e+12  False   \n",
       "3    97338583        Vietnam  2020   2785.724225  2.711584e+11  False   \n",
       "4    10093121     Azerbaijan  2020   4202.232239  4.260718e+10  False   \n",
       "\n",
       "  date_month  \n",
       "0 2016-12-01  \n",
       "1 2020-10-01  \n",
       "2 2020-10-01  \n",
       "3 2020-11-01  \n",
       "4 2020-10-01  \n",
       "\n",
       "[5 rows x 39 columns]"
      ]
     },
     "execution_count": 24,
     "metadata": {},
     "output_type": "execute_result"
    }
   ],
   "source": [
    "df_new = pd.read_csv('events/new/processed_manually.csv')\n",
    "df_new.event_date = pd.to_datetime(df_new.event_date)\n",
    "df_new['date_month'] = df_new.event_date.apply(lambda d: pd.to_datetime(f'{d.year}-{d.month:02d}'))\n",
    "df_new.head()"
   ]
  },
  {
   "cell_type": "code",
   "execution_count": 45,
   "metadata": {
    "pycharm": {
     "name": "#%%\n"
    }
   },
   "outputs": [
    {
     "name": "stderr",
     "output_type": "stream",
     "text": [
      "/home/ruptho/.local/lib/python3.10/site-packages/numpy/core/fromnumeric.py:3474: RuntimeWarning: Mean of empty slice.\n",
      "  return _methods._mean(a, axis=axis, dtype=dtype,\n",
      "/home/ruptho/.local/lib/python3.10/site-packages/numpy/core/_methods.py:189: RuntimeWarning: invalid value encountered in double_scalars\n",
      "  ret = ret.dtype.type(ret / rcount)\n"
     ]
    }
   ],
   "source": [
    "# this takes some time!\n",
    "df_views = load_views()\n",
    "df_views_rel, min_date = compute_view_baseline(df_views, start_date_views='2015-05-01', months_before=5,\n",
    "                                               func_agg=np.median)"
   ]
  },
  {
   "cell_type": "code",
   "execution_count": 46,
   "metadata": {
    "pycharm": {
     "name": "#%%\n"
    }
   },
   "outputs": [],
   "source": [
    "df_views_rel = df_views_rel[['code', 'date_month', 'country', 'views_baseline']]\n",
    "#df_views_rel = replace_country_names(df_views_rel)"
   ]
  },
  {
   "cell_type": "code",
   "execution_count": 66,
   "metadata": {
    "pycharm": {
     "name": "#%%\n"
    }
   },
   "outputs": [],
   "source": [
    "df_views_rel = replace_country_names(df_views_rel)\n",
    "df_view_merged = df_new.merge(df_views_rel, left_on=['code', 'country', 'date_month'],\n",
    "                              right_on=['code', 'country', 'date_month'], how='left')\n",
    "df_view_merged = df_view_merged[df_view_merged.date_month >= min_date]"
   ]
  },
  {
   "cell_type": "code",
   "execution_count": 67,
   "metadata": {
    "pycharm": {
     "name": "#%%\n"
    }
   },
   "outputs": [
    {
     "data": {
      "text/plain": [
       "array(['Namibia', 'Tuvalu', 'North Korea', 'Solomon Islands', 'Tonga',\n",
       "       'Nauru'], dtype=object)"
      ]
     },
     "execution_count": 67,
     "metadata": {},
     "output_type": "execute_result"
    }
   ],
   "source": [
    "# check if results are valid\n",
    "countries_na = df_view_merged[pd.isna(df_view_merged.views_baseline)].country.unique()\n",
    "countries_not_na = df_view_merged[~pd.isna(df_view_merged.views_baseline)].country.unique()\n",
    "df_countries_partial_data = df_view_merged[df_view_merged.country.isin(countries_na) & df_view_merged.country.isin(countries_not_na)][\n",
    "    ['code', 'country', 'event_date', 'views_baseline']]\n",
    "df_countries_no_data = df_view_merged[df_view_merged.country.isin(countries_na) & ~df_view_merged.country.isin(countries_not_na)][\n",
    "    ['code', 'country', 'event_date', 'views_baseline']]\n",
    "# YES THEY ARE! some countries don't have pageviews for a specific timespan...\n",
    "df_countries_partial_data"
   ]
  },
  {
   "cell_type": "code",
   "execution_count": 102,
   "metadata": {
    "pycharm": {
     "name": "#%%\n"
    }
   },
   "outputs": [],
   "source": [
    "# ... and we just fill them with 0s here!\n",
    "# in theory. we could also change how we handle this for these small-resource countries during data retrieval. but with median, this should be fine rn.\n",
    "df_view_merged.views_baseline.fillna(0, inplace=True)"
   ]
  },
  {
   "cell_type": "code",
   "execution_count": 107,
   "metadata": {
    "pycharm": {
     "name": "#%%\n"
    }
   },
   "outputs": [],
   "source": [
    "# so let's save this and use it now!\n",
    "df_view_merged.to_csv('events/new/processed_manually_with_wikiviews.csv', index=False)"
   ]
  }
 ],
 "metadata": {
  "kernelspec": {
   "display_name": "Python 3 (ipykernel)",
   "language": "python",
   "name": "python3"
  },
  "language_info": {
   "codemirror_mode": {
    "name": "ipython",
    "version": 3
   },
   "file_extension": ".py",
   "mimetype": "text/x-python",
   "name": "python",
   "nbconvert_exporter": "python",
   "pygments_lexer": "ipython3",
   "version": "3.10.2"
  }
 },
 "nbformat": 4,
 "nbformat_minor": 1
}