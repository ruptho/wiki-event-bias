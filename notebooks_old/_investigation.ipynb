{
 "cells": [
  {
   "cell_type": "code",
   "execution_count": 2,
   "metadata": {},
   "outputs": [],
   "source": [
    "import pandas as pd\n",
    "import numpy as np\n",
    "import matplotlib.pyplot as plt"
   ]
  },
  {
   "cell_type": "code",
   "execution_count": 3,
   "metadata": {},
   "outputs": [],
   "source": [
    "DATA_PATH = '../../../data/coronawiki'"
   ]
  },
  {
   "cell_type": "code",
   "execution_count": null,
   "metadata": {},
   "outputs": [],
   "source": [
    "en_mwh = pd.read_csv(f'{DATA_PATH}/pipeline/enriched/en_mwh_processed.tsv.gz', sep='\\t')"
   ]
  },
  {
   "cell_type": "code",
   "execution_count": 9,
   "metadata": {},
   "outputs": [
    {
     "name": "stderr",
     "output_type": "stream",
     "text": [
      "/opt/conda/lib/python3.7/site-packages/IPython/core/interactiveshell.py:3170: DtypeWarning: Columns (5,8,9,17,26,28,34,35,36,39,40,41,42,43,44,52,53,55,58,61,66) have mixed types.Specify dtype option on import or set low_memory=False.\n",
      "  interactivity=interactivity, compiler=compiler, result=result)\n"
     ]
    }
   ],
   "source": [
    "de_mwh = pd.read_csv(f'{DATA_PATH}/pipeline/enriched/de_mwh_processed.tsv.gz', sep='\\t')"
   ]
  },
  {
   "cell_type": "code",
   "execution_count": null,
   "metadata": {},
   "outputs": [],
   "source": [
    "de_mwh[de_mwh.page_title_norm == 'Swedish_open_2015']"
   ]
  },
  {
   "cell_type": "code",
   "execution_count": null,
   "metadata": {},
   "outputs": [],
   "source": [
    "en_mwh_filt = en_mwh[(en_mwh.page_namespace == 0) & (en_mwh.event_entity=='revision') & (en_mwh.event_type=='create')]"
   ]
  },
  {
   "cell_type": "code",
   "execution_count": 10,
   "metadata": {},
   "outputs": [],
   "source": [
    "df_terr = pd.read_csv('../../terror/terror_articles.csv')"
   ]
  },
  {
   "cell_type": "code",
   "execution_count": 131,
   "metadata": {},
   "outputs": [
    {
     "data": {
      "text/html": [
       "<div>\n",
       "<style scoped>\n",
       "    .dataframe tbody tr th:only-of-type {\n",
       "        vertical-align: middle;\n",
       "    }\n",
       "\n",
       "    .dataframe tbody tr th {\n",
       "        vertical-align: top;\n",
       "    }\n",
       "\n",
       "    .dataframe thead th {\n",
       "        text-align: right;\n",
       "    }\n",
       "</style>\n",
       "<table border=\"1\" class=\"dataframe\">\n",
       "  <thead>\n",
       "    <tr style=\"text-align: right;\">\n",
       "      <th></th>\n",
       "      <th>wiki_db</th>\n",
       "      <th>event_entity</th>\n",
       "      <th>event_type</th>\n",
       "      <th>event_timestamp</th>\n",
       "      <th>event_comment</th>\n",
       "      <th>event_user_id</th>\n",
       "      <th>event_user_text_historical</th>\n",
       "      <th>event_user_text</th>\n",
       "      <th>event_user_blocks_historical</th>\n",
       "      <th>event_user_blocks</th>\n",
       "      <th>...</th>\n",
       "      <th>revision_is_identity_revert</th>\n",
       "      <th>revision_is_from_before_page_creation</th>\n",
       "      <th>revision_tags</th>\n",
       "      <th>user_kind</th>\n",
       "      <th>event_timestamp_t</th>\n",
       "      <th>date_utc</th>\n",
       "      <th>date</th>\n",
       "      <th>page_title_norm</th>\n",
       "      <th>page_title_historical_norm</th>\n",
       "      <th>Article_Norm</th>\n",
       "    </tr>\n",
       "  </thead>\n",
       "  <tbody>\n",
       "    <tr>\n",
       "      <th>2876226</th>\n",
       "      <td>enwiki</td>\n",
       "      <td>revision</td>\n",
       "      <td>create</td>\n",
       "      <td>2018-01-15 16:16:11.0</td>\n",
       "      <td>new</td>\n",
       "      <td>3.15552e+07</td>\n",
       "      <td>Koranion</td>\n",
       "      <td>Koranion</td>\n",
       "      <td>NaN</td>\n",
       "      <td>NaN</td>\n",
       "      <td>...</td>\n",
       "      <td>False</td>\n",
       "      <td>False</td>\n",
       "      <td>visualeditor</td>\n",
       "      <td>account</td>\n",
       "      <td>2018-01-15 16:16:11+00:00</td>\n",
       "      <td>20180115</td>\n",
       "      <td>20180115</td>\n",
       "      <td>2018_Baghdad_bombings</td>\n",
       "      <td>January_2018_Baghdad_bombings</td>\n",
       "      <td>2018_Baghdad_bombings</td>\n",
       "    </tr>\n",
       "    <tr>\n",
       "      <th>2876361</th>\n",
       "      <td>enwiki</td>\n",
       "      <td>revision</td>\n",
       "      <td>create</td>\n",
       "      <td>2018-01-15 16:17:01.0</td>\n",
       "      <td>update</td>\n",
       "      <td>3.15552e+07</td>\n",
       "      <td>Koranion</td>\n",
       "      <td>Koranion</td>\n",
       "      <td>NaN</td>\n",
       "      <td>NaN</td>\n",
       "      <td>...</td>\n",
       "      <td>False</td>\n",
       "      <td>False</td>\n",
       "      <td>visualeditor</td>\n",
       "      <td>account</td>\n",
       "      <td>2018-01-15 16:17:01+00:00</td>\n",
       "      <td>20180115</td>\n",
       "      <td>20180115</td>\n",
       "      <td>2018_Baghdad_bombings</td>\n",
       "      <td>January_2018_Baghdad_bombings</td>\n",
       "      <td>2018_Baghdad_bombings</td>\n",
       "    </tr>\n",
       "    <tr>\n",
       "      <th>2877613</th>\n",
       "      <td>enwiki</td>\n",
       "      <td>revision</td>\n",
       "      <td>create</td>\n",
       "      <td>2018-01-15 16:24:42.0</td>\n",
       "      <td>NaN</td>\n",
       "      <td>3.23852e+07</td>\n",
       "      <td>Cloverfield2Y</td>\n",
       "      <td>Cloverfield2Y</td>\n",
       "      <td>NaN</td>\n",
       "      <td>nocreate</td>\n",
       "      <td>...</td>\n",
       "      <td>False</td>\n",
       "      <td>False</td>\n",
       "      <td>NaN</td>\n",
       "      <td>account</td>\n",
       "      <td>2018-01-15 16:24:42+00:00</td>\n",
       "      <td>20180115</td>\n",
       "      <td>20180115</td>\n",
       "      <td>2018_Baghdad_bombings</td>\n",
       "      <td>January_2018_Baghdad_bombings</td>\n",
       "      <td>2018_Baghdad_bombings</td>\n",
       "    </tr>\n",
       "    <tr>\n",
       "      <th>3292159</th>\n",
       "      <td>enwiki</td>\n",
       "      <td>revision</td>\n",
       "      <td>create</td>\n",
       "      <td>2018-01-17 18:58:49.0</td>\n",
       "      <td>NaN</td>\n",
       "      <td>2.93025e+07</td>\n",
       "      <td>Dreadwyrm</td>\n",
       "      <td>Dreadwyrm</td>\n",
       "      <td>NaN</td>\n",
       "      <td>NaN</td>\n",
       "      <td>...</td>\n",
       "      <td>False</td>\n",
       "      <td>False</td>\n",
       "      <td>NaN</td>\n",
       "      <td>account</td>\n",
       "      <td>2018-01-17 18:58:49+00:00</td>\n",
       "      <td>20180117</td>\n",
       "      <td>20180117</td>\n",
       "      <td>2018_Baghdad_bombings</td>\n",
       "      <td>January_2018_Baghdad_bombings</td>\n",
       "      <td>2018_Baghdad_bombings</td>\n",
       "    </tr>\n",
       "    <tr>\n",
       "      <th>3299662</th>\n",
       "      <td>enwiki</td>\n",
       "      <td>revision</td>\n",
       "      <td>create</td>\n",
       "      <td>2018-01-17 19:42:14.0</td>\n",
       "      <td>ISIL claimed the attack via Amaq</td>\n",
       "      <td>3.15552e+07</td>\n",
       "      <td>Koranion</td>\n",
       "      <td>Koranion</td>\n",
       "      <td>NaN</td>\n",
       "      <td>NaN</td>\n",
       "      <td>...</td>\n",
       "      <td>False</td>\n",
       "      <td>False</td>\n",
       "      <td>visualeditor</td>\n",
       "      <td>account</td>\n",
       "      <td>2018-01-17 19:42:14+00:00</td>\n",
       "      <td>20180117</td>\n",
       "      <td>20180117</td>\n",
       "      <td>2018_Baghdad_bombings</td>\n",
       "      <td>January_2018_Baghdad_bombings</td>\n",
       "      <td>2018_Baghdad_bombings</td>\n",
       "    </tr>\n",
       "    <tr>\n",
       "      <th>...</th>\n",
       "      <td>...</td>\n",
       "      <td>...</td>\n",
       "      <td>...</td>\n",
       "      <td>...</td>\n",
       "      <td>...</td>\n",
       "      <td>...</td>\n",
       "      <td>...</td>\n",
       "      <td>...</td>\n",
       "      <td>...</td>\n",
       "      <td>...</td>\n",
       "      <td>...</td>\n",
       "      <td>...</td>\n",
       "      <td>...</td>\n",
       "      <td>...</td>\n",
       "      <td>...</td>\n",
       "      <td>...</td>\n",
       "      <td>...</td>\n",
       "      <td>...</td>\n",
       "      <td>...</td>\n",
       "      <td>...</td>\n",
       "      <td>...</td>\n",
       "    </tr>\n",
       "    <tr>\n",
       "      <th>201012898</th>\n",
       "      <td>enwiki</td>\n",
       "      <td>revision</td>\n",
       "      <td>create</td>\n",
       "      <td>2020-11-30 18:36:41.0</td>\n",
       "      <td>/* The attack */</td>\n",
       "      <td>NaN</td>\n",
       "      <td>2603:300E:151:C000:A4DD:42C3:5F41:244E</td>\n",
       "      <td>2603:300E:151:C000:A4DD:42C3:5F41:244E</td>\n",
       "      <td>NaN</td>\n",
       "      <td>NaN</td>\n",
       "      <td>...</td>\n",
       "      <td>False</td>\n",
       "      <td>False</td>\n",
       "      <td>NaN</td>\n",
       "      <td>anonymous</td>\n",
       "      <td>2020-11-30 18:36:41+00:00</td>\n",
       "      <td>20201130</td>\n",
       "      <td>20201130</td>\n",
       "      <td>2019_Bagram_Airfield_attack</td>\n",
       "      <td>2019_Bagram_Airfield_attack</td>\n",
       "      <td>2019_Bagram_Airfield_attack</td>\n",
       "    </tr>\n",
       "    <tr>\n",
       "      <th>201013508</th>\n",
       "      <td>enwiki</td>\n",
       "      <td>revision</td>\n",
       "      <td>create</td>\n",
       "      <td>2020-11-30 18:40:01.0</td>\n",
       "      <td>/* The attack */</td>\n",
       "      <td>NaN</td>\n",
       "      <td>174.58.171.179</td>\n",
       "      <td>174.58.171.179</td>\n",
       "      <td>NaN</td>\n",
       "      <td>NaN</td>\n",
       "      <td>...</td>\n",
       "      <td>False</td>\n",
       "      <td>False</td>\n",
       "      <td>NaN</td>\n",
       "      <td>anonymous</td>\n",
       "      <td>2020-11-30 18:40:01+00:00</td>\n",
       "      <td>20201130</td>\n",
       "      <td>20201130</td>\n",
       "      <td>2019_Bagram_Airfield_attack</td>\n",
       "      <td>2019_Bagram_Airfield_attack</td>\n",
       "      <td>2019_Bagram_Airfield_attack</td>\n",
       "    </tr>\n",
       "    <tr>\n",
       "      <th>201015562</th>\n",
       "      <td>enwiki</td>\n",
       "      <td>revision</td>\n",
       "      <td>create</td>\n",
       "      <td>2020-11-30 18:50:31.0</td>\n",
       "      <td>/* Events leading up to the murder */ this is ...</td>\n",
       "      <td>NaN</td>\n",
       "      <td>2600:1700:20C0:F600:65D7:4307:8D72:2ABF</td>\n",
       "      <td>2600:1700:20C0:F600:65D7:4307:8D72:2ABF</td>\n",
       "      <td>NaN</td>\n",
       "      <td>NaN</td>\n",
       "      <td>...</td>\n",
       "      <td>False</td>\n",
       "      <td>False</td>\n",
       "      <td>NaN</td>\n",
       "      <td>anonymous</td>\n",
       "      <td>2020-11-30 18:50:31+00:00</td>\n",
       "      <td>20201130</td>\n",
       "      <td>20201130</td>\n",
       "      <td>Murder_of_Samuel_Paty</td>\n",
       "      <td>Murder_of_Samuel_Paty</td>\n",
       "      <td>Murder_of_Samuel_Paty</td>\n",
       "    </tr>\n",
       "    <tr>\n",
       "      <th>201015660</th>\n",
       "      <td>enwiki</td>\n",
       "      <td>revision</td>\n",
       "      <td>create</td>\n",
       "      <td>2020-11-30 18:50:54.0</td>\n",
       "      <td>/* Events leading up to the murder */</td>\n",
       "      <td>NaN</td>\n",
       "      <td>2600:1700:20C0:F600:65D7:4307:8D72:2ABF</td>\n",
       "      <td>2600:1700:20C0:F600:65D7:4307:8D72:2ABF</td>\n",
       "      <td>NaN</td>\n",
       "      <td>NaN</td>\n",
       "      <td>...</td>\n",
       "      <td>False</td>\n",
       "      <td>False</td>\n",
       "      <td>NaN</td>\n",
       "      <td>anonymous</td>\n",
       "      <td>2020-11-30 18:50:54+00:00</td>\n",
       "      <td>20201130</td>\n",
       "      <td>20201130</td>\n",
       "      <td>Murder_of_Samuel_Paty</td>\n",
       "      <td>Murder_of_Samuel_Paty</td>\n",
       "      <td>Murder_of_Samuel_Paty</td>\n",
       "    </tr>\n",
       "    <tr>\n",
       "      <th>201039491</th>\n",
       "      <td>enwiki</td>\n",
       "      <td>revision</td>\n",
       "      <td>create</td>\n",
       "      <td>2020-11-30 20:49:43.0</td>\n",
       "      <td>spelling</td>\n",
       "      <td>1.08414e+07</td>\n",
       "      <td>Woodlot</td>\n",
       "      <td>Woodlot</td>\n",
       "      <td>NaN</td>\n",
       "      <td>NaN</td>\n",
       "      <td>...</td>\n",
       "      <td>False</td>\n",
       "      <td>False</td>\n",
       "      <td>visualeditor</td>\n",
       "      <td>account</td>\n",
       "      <td>2020-11-30 20:49:43+00:00</td>\n",
       "      <td>20201130</td>\n",
       "      <td>20201130</td>\n",
       "      <td>2019_Bagram_Airfield_attack</td>\n",
       "      <td>2019_Bagram_Airfield_attack</td>\n",
       "      <td>2019_Bagram_Airfield_attack</td>\n",
       "    </tr>\n",
       "  </tbody>\n",
       "</table>\n",
       "<p>44059 rows × 77 columns</p>\n",
       "</div>"
      ],
      "text/plain": [
       "          wiki_db event_entity event_type        event_timestamp  \\\n",
       "2876226    enwiki     revision     create  2018-01-15 16:16:11.0   \n",
       "2876361    enwiki     revision     create  2018-01-15 16:17:01.0   \n",
       "2877613    enwiki     revision     create  2018-01-15 16:24:42.0   \n",
       "3292159    enwiki     revision     create  2018-01-17 18:58:49.0   \n",
       "3299662    enwiki     revision     create  2018-01-17 19:42:14.0   \n",
       "...           ...          ...        ...                    ...   \n",
       "201012898  enwiki     revision     create  2020-11-30 18:36:41.0   \n",
       "201013508  enwiki     revision     create  2020-11-30 18:40:01.0   \n",
       "201015562  enwiki     revision     create  2020-11-30 18:50:31.0   \n",
       "201015660  enwiki     revision     create  2020-11-30 18:50:54.0   \n",
       "201039491  enwiki     revision     create  2020-11-30 20:49:43.0   \n",
       "\n",
       "                                               event_comment event_user_id  \\\n",
       "2876226                                                  new   3.15552e+07   \n",
       "2876361                                               update   3.15552e+07   \n",
       "2877613                                                  NaN   3.23852e+07   \n",
       "3292159                                                  NaN   2.93025e+07   \n",
       "3299662                     ISIL claimed the attack via Amaq   3.15552e+07   \n",
       "...                                                      ...           ...   \n",
       "201012898                                   /* The attack */           NaN   \n",
       "201013508                                   /* The attack */           NaN   \n",
       "201015562  /* Events leading up to the murder */ this is ...           NaN   \n",
       "201015660              /* Events leading up to the murder */           NaN   \n",
       "201039491                                           spelling   1.08414e+07   \n",
       "\n",
       "                        event_user_text_historical  \\\n",
       "2876226                                   Koranion   \n",
       "2876361                                   Koranion   \n",
       "2877613                              Cloverfield2Y   \n",
       "3292159                                  Dreadwyrm   \n",
       "3299662                                   Koranion   \n",
       "...                                            ...   \n",
       "201012898   2603:300E:151:C000:A4DD:42C3:5F41:244E   \n",
       "201013508                           174.58.171.179   \n",
       "201015562  2600:1700:20C0:F600:65D7:4307:8D72:2ABF   \n",
       "201015660  2600:1700:20C0:F600:65D7:4307:8D72:2ABF   \n",
       "201039491                                  Woodlot   \n",
       "\n",
       "                                   event_user_text  \\\n",
       "2876226                                   Koranion   \n",
       "2876361                                   Koranion   \n",
       "2877613                              Cloverfield2Y   \n",
       "3292159                                  Dreadwyrm   \n",
       "3299662                                   Koranion   \n",
       "...                                            ...   \n",
       "201012898   2603:300E:151:C000:A4DD:42C3:5F41:244E   \n",
       "201013508                           174.58.171.179   \n",
       "201015562  2600:1700:20C0:F600:65D7:4307:8D72:2ABF   \n",
       "201015660  2600:1700:20C0:F600:65D7:4307:8D72:2ABF   \n",
       "201039491                                  Woodlot   \n",
       "\n",
       "          event_user_blocks_historical event_user_blocks  ...  \\\n",
       "2876226                            NaN               NaN  ...   \n",
       "2876361                            NaN               NaN  ...   \n",
       "2877613                            NaN          nocreate  ...   \n",
       "3292159                            NaN               NaN  ...   \n",
       "3299662                            NaN               NaN  ...   \n",
       "...                                ...               ...  ...   \n",
       "201012898                          NaN               NaN  ...   \n",
       "201013508                          NaN               NaN  ...   \n",
       "201015562                          NaN               NaN  ...   \n",
       "201015660                          NaN               NaN  ...   \n",
       "201039491                          NaN               NaN  ...   \n",
       "\n",
       "          revision_is_identity_revert revision_is_from_before_page_creation  \\\n",
       "2876226                         False                                 False   \n",
       "2876361                         False                                 False   \n",
       "2877613                         False                                 False   \n",
       "3292159                         False                                 False   \n",
       "3299662                         False                                 False   \n",
       "...                               ...                                   ...   \n",
       "201012898                       False                                 False   \n",
       "201013508                       False                                 False   \n",
       "201015562                       False                                 False   \n",
       "201015660                       False                                 False   \n",
       "201039491                       False                                 False   \n",
       "\n",
       "          revision_tags  user_kind          event_timestamp_t  date_utc  \\\n",
       "2876226    visualeditor    account  2018-01-15 16:16:11+00:00  20180115   \n",
       "2876361    visualeditor    account  2018-01-15 16:17:01+00:00  20180115   \n",
       "2877613             NaN    account  2018-01-15 16:24:42+00:00  20180115   \n",
       "3292159             NaN    account  2018-01-17 18:58:49+00:00  20180117   \n",
       "3299662    visualeditor    account  2018-01-17 19:42:14+00:00  20180117   \n",
       "...                 ...        ...                        ...       ...   \n",
       "201012898           NaN  anonymous  2020-11-30 18:36:41+00:00  20201130   \n",
       "201013508           NaN  anonymous  2020-11-30 18:40:01+00:00  20201130   \n",
       "201015562           NaN  anonymous  2020-11-30 18:50:31+00:00  20201130   \n",
       "201015660           NaN  anonymous  2020-11-30 18:50:54+00:00  20201130   \n",
       "201039491  visualeditor    account  2020-11-30 20:49:43+00:00  20201130   \n",
       "\n",
       "               date              page_title_norm  \\\n",
       "2876226    20180115        2018_Baghdad_bombings   \n",
       "2876361    20180115        2018_Baghdad_bombings   \n",
       "2877613    20180115        2018_Baghdad_bombings   \n",
       "3292159    20180117        2018_Baghdad_bombings   \n",
       "3299662    20180117        2018_Baghdad_bombings   \n",
       "...             ...                          ...   \n",
       "201012898  20201130  2019_Bagram_Airfield_attack   \n",
       "201013508  20201130  2019_Bagram_Airfield_attack   \n",
       "201015562  20201130        Murder_of_Samuel_Paty   \n",
       "201015660  20201130        Murder_of_Samuel_Paty   \n",
       "201039491  20201130  2019_Bagram_Airfield_attack   \n",
       "\n",
       "              page_title_historical_norm                 Article_Norm  \n",
       "2876226    January_2018_Baghdad_bombings        2018_Baghdad_bombings  \n",
       "2876361    January_2018_Baghdad_bombings        2018_Baghdad_bombings  \n",
       "2877613    January_2018_Baghdad_bombings        2018_Baghdad_bombings  \n",
       "3292159    January_2018_Baghdad_bombings        2018_Baghdad_bombings  \n",
       "3299662    January_2018_Baghdad_bombings        2018_Baghdad_bombings  \n",
       "...                                  ...                          ...  \n",
       "201012898    2019_Bagram_Airfield_attack  2019_Bagram_Airfield_attack  \n",
       "201013508    2019_Bagram_Airfield_attack  2019_Bagram_Airfield_attack  \n",
       "201015562          Murder_of_Samuel_Paty        Murder_of_Samuel_Paty  \n",
       "201015660          Murder_of_Samuel_Paty        Murder_of_Samuel_Paty  \n",
       "201039491    2019_Bagram_Airfield_attack  2019_Bagram_Airfield_attack  \n",
       "\n",
       "[44059 rows x 77 columns]"
      ]
     },
     "execution_count": 131,
     "metadata": {},
     "output_type": "execute_result"
    }
   ],
   "source": [
    "en_mwh_filt_titles"
   ]
  },
  {
   "cell_type": "code",
   "execution_count": 71,
   "metadata": {},
   "outputs": [],
   "source": [
    "terr_titles = set(df_terr.Article_Norm.unique())"
   ]
  },
  {
   "cell_type": "code",
   "execution_count": 114,
   "metadata": {},
   "outputs": [],
   "source": [
    "en_mwh_filt_titles = en_mwh_filt[en_mwh_filt.page_title_norm.isin(terr_titles) | en_mwh_filt.page_title_historical_norm.isin(terr_titles)]"
   ]
  },
  {
   "cell_type": "code",
   "execution_count": 133,
   "metadata": {},
   "outputs": [],
   "source": [
    "en_mwh_filt_titles.to_csv('../../terror/enwiki_terror.csv')"
   ]
  },
  {
   "cell_type": "code",
   "execution_count": 119,
   "metadata": {},
   "outputs": [
    {
     "name": "stderr",
     "output_type": "stream",
     "text": [
      "/opt/conda/lib/python3.7/site-packages/ipykernel_launcher.py:1: SettingWithCopyWarning: \n",
      "A value is trying to be set on a copy of a slice from a DataFrame.\n",
      "Try using .loc[row_indexer,col_indexer] = value instead\n",
      "\n",
      "See the caveats in the documentation: https://pandas.pydata.org/pandas-docs/stable/user_guide/indexing.html#returning-a-view-versus-a-copy\n",
      "  \"\"\"Entry point for launching an IPython kernel.\n"
     ]
    }
   ],
   "source": []
  },
  {
   "cell_type": "code",
   "execution_count": 134,
   "metadata": {},
   "outputs": [
    {
     "data": {
      "text/html": [
       "<div>\n",
       "<style scoped>\n",
       "    .dataframe tbody tr th:only-of-type {\n",
       "        vertical-align: middle;\n",
       "    }\n",
       "\n",
       "    .dataframe tbody tr th {\n",
       "        vertical-align: top;\n",
       "    }\n",
       "\n",
       "    .dataframe thead th {\n",
       "        text-align: right;\n",
       "    }\n",
       "</style>\n",
       "<table border=\"1\" class=\"dataframe\">\n",
       "  <thead>\n",
       "    <tr style=\"text-align: right;\">\n",
       "      <th></th>\n",
       "      <th>wiki_db</th>\n",
       "      <th>event_entity</th>\n",
       "      <th>event_type</th>\n",
       "      <th>event_timestamp</th>\n",
       "      <th>event_comment</th>\n",
       "      <th>event_user_id</th>\n",
       "      <th>event_user_text_historical</th>\n",
       "      <th>event_user_text</th>\n",
       "      <th>event_user_blocks_historical</th>\n",
       "      <th>event_user_blocks</th>\n",
       "      <th>...</th>\n",
       "      <th>revision_is_identity_revert</th>\n",
       "      <th>revision_is_from_before_page_creation</th>\n",
       "      <th>revision_tags</th>\n",
       "      <th>user_kind</th>\n",
       "      <th>event_timestamp_t</th>\n",
       "      <th>date_utc</th>\n",
       "      <th>date</th>\n",
       "      <th>page_title_norm</th>\n",
       "      <th>page_title_historical_norm</th>\n",
       "      <th>Article_Norm</th>\n",
       "    </tr>\n",
       "  </thead>\n",
       "  <tbody>\n",
       "    <tr>\n",
       "      <th>2876226</th>\n",
       "      <td>enwiki</td>\n",
       "      <td>revision</td>\n",
       "      <td>create</td>\n",
       "      <td>2018-01-15 16:16:11.0</td>\n",
       "      <td>new</td>\n",
       "      <td>3.15552e+07</td>\n",
       "      <td>Koranion</td>\n",
       "      <td>Koranion</td>\n",
       "      <td>NaN</td>\n",
       "      <td>NaN</td>\n",
       "      <td>...</td>\n",
       "      <td>False</td>\n",
       "      <td>False</td>\n",
       "      <td>visualeditor</td>\n",
       "      <td>account</td>\n",
       "      <td>2018-01-15 16:16:11+00:00</td>\n",
       "      <td>20180115</td>\n",
       "      <td>20180115</td>\n",
       "      <td>2018_Baghdad_bombings</td>\n",
       "      <td>January_2018_Baghdad_bombings</td>\n",
       "      <td>2018_Baghdad_bombings</td>\n",
       "    </tr>\n",
       "    <tr>\n",
       "      <th>2876361</th>\n",
       "      <td>enwiki</td>\n",
       "      <td>revision</td>\n",
       "      <td>create</td>\n",
       "      <td>2018-01-15 16:17:01.0</td>\n",
       "      <td>update</td>\n",
       "      <td>3.15552e+07</td>\n",
       "      <td>Koranion</td>\n",
       "      <td>Koranion</td>\n",
       "      <td>NaN</td>\n",
       "      <td>NaN</td>\n",
       "      <td>...</td>\n",
       "      <td>False</td>\n",
       "      <td>False</td>\n",
       "      <td>visualeditor</td>\n",
       "      <td>account</td>\n",
       "      <td>2018-01-15 16:17:01+00:00</td>\n",
       "      <td>20180115</td>\n",
       "      <td>20180115</td>\n",
       "      <td>2018_Baghdad_bombings</td>\n",
       "      <td>January_2018_Baghdad_bombings</td>\n",
       "      <td>2018_Baghdad_bombings</td>\n",
       "    </tr>\n",
       "    <tr>\n",
       "      <th>2877613</th>\n",
       "      <td>enwiki</td>\n",
       "      <td>revision</td>\n",
       "      <td>create</td>\n",
       "      <td>2018-01-15 16:24:42.0</td>\n",
       "      <td>NaN</td>\n",
       "      <td>3.23852e+07</td>\n",
       "      <td>Cloverfield2Y</td>\n",
       "      <td>Cloverfield2Y</td>\n",
       "      <td>NaN</td>\n",
       "      <td>nocreate</td>\n",
       "      <td>...</td>\n",
       "      <td>False</td>\n",
       "      <td>False</td>\n",
       "      <td>NaN</td>\n",
       "      <td>account</td>\n",
       "      <td>2018-01-15 16:24:42+00:00</td>\n",
       "      <td>20180115</td>\n",
       "      <td>20180115</td>\n",
       "      <td>2018_Baghdad_bombings</td>\n",
       "      <td>January_2018_Baghdad_bombings</td>\n",
       "      <td>2018_Baghdad_bombings</td>\n",
       "    </tr>\n",
       "    <tr>\n",
       "      <th>3292159</th>\n",
       "      <td>enwiki</td>\n",
       "      <td>revision</td>\n",
       "      <td>create</td>\n",
       "      <td>2018-01-17 18:58:49.0</td>\n",
       "      <td>NaN</td>\n",
       "      <td>2.93025e+07</td>\n",
       "      <td>Dreadwyrm</td>\n",
       "      <td>Dreadwyrm</td>\n",
       "      <td>NaN</td>\n",
       "      <td>NaN</td>\n",
       "      <td>...</td>\n",
       "      <td>False</td>\n",
       "      <td>False</td>\n",
       "      <td>NaN</td>\n",
       "      <td>account</td>\n",
       "      <td>2018-01-17 18:58:49+00:00</td>\n",
       "      <td>20180117</td>\n",
       "      <td>20180117</td>\n",
       "      <td>2018_Baghdad_bombings</td>\n",
       "      <td>January_2018_Baghdad_bombings</td>\n",
       "      <td>2018_Baghdad_bombings</td>\n",
       "    </tr>\n",
       "    <tr>\n",
       "      <th>3299662</th>\n",
       "      <td>enwiki</td>\n",
       "      <td>revision</td>\n",
       "      <td>create</td>\n",
       "      <td>2018-01-17 19:42:14.0</td>\n",
       "      <td>ISIL claimed the attack via Amaq</td>\n",
       "      <td>3.15552e+07</td>\n",
       "      <td>Koranion</td>\n",
       "      <td>Koranion</td>\n",
       "      <td>NaN</td>\n",
       "      <td>NaN</td>\n",
       "      <td>...</td>\n",
       "      <td>False</td>\n",
       "      <td>False</td>\n",
       "      <td>visualeditor</td>\n",
       "      <td>account</td>\n",
       "      <td>2018-01-17 19:42:14+00:00</td>\n",
       "      <td>20180117</td>\n",
       "      <td>20180117</td>\n",
       "      <td>2018_Baghdad_bombings</td>\n",
       "      <td>January_2018_Baghdad_bombings</td>\n",
       "      <td>2018_Baghdad_bombings</td>\n",
       "    </tr>\n",
       "    <tr>\n",
       "      <th>...</th>\n",
       "      <td>...</td>\n",
       "      <td>...</td>\n",
       "      <td>...</td>\n",
       "      <td>...</td>\n",
       "      <td>...</td>\n",
       "      <td>...</td>\n",
       "      <td>...</td>\n",
       "      <td>...</td>\n",
       "      <td>...</td>\n",
       "      <td>...</td>\n",
       "      <td>...</td>\n",
       "      <td>...</td>\n",
       "      <td>...</td>\n",
       "      <td>...</td>\n",
       "      <td>...</td>\n",
       "      <td>...</td>\n",
       "      <td>...</td>\n",
       "      <td>...</td>\n",
       "      <td>...</td>\n",
       "      <td>...</td>\n",
       "      <td>...</td>\n",
       "    </tr>\n",
       "    <tr>\n",
       "      <th>201012898</th>\n",
       "      <td>enwiki</td>\n",
       "      <td>revision</td>\n",
       "      <td>create</td>\n",
       "      <td>2020-11-30 18:36:41.0</td>\n",
       "      <td>/* The attack */</td>\n",
       "      <td>NaN</td>\n",
       "      <td>2603:300E:151:C000:A4DD:42C3:5F41:244E</td>\n",
       "      <td>2603:300E:151:C000:A4DD:42C3:5F41:244E</td>\n",
       "      <td>NaN</td>\n",
       "      <td>NaN</td>\n",
       "      <td>...</td>\n",
       "      <td>False</td>\n",
       "      <td>False</td>\n",
       "      <td>NaN</td>\n",
       "      <td>anonymous</td>\n",
       "      <td>2020-11-30 18:36:41+00:00</td>\n",
       "      <td>20201130</td>\n",
       "      <td>20201130</td>\n",
       "      <td>2019_Bagram_Airfield_attack</td>\n",
       "      <td>2019_Bagram_Airfield_attack</td>\n",
       "      <td>2019_Bagram_Airfield_attack</td>\n",
       "    </tr>\n",
       "    <tr>\n",
       "      <th>201013508</th>\n",
       "      <td>enwiki</td>\n",
       "      <td>revision</td>\n",
       "      <td>create</td>\n",
       "      <td>2020-11-30 18:40:01.0</td>\n",
       "      <td>/* The attack */</td>\n",
       "      <td>NaN</td>\n",
       "      <td>174.58.171.179</td>\n",
       "      <td>174.58.171.179</td>\n",
       "      <td>NaN</td>\n",
       "      <td>NaN</td>\n",
       "      <td>...</td>\n",
       "      <td>False</td>\n",
       "      <td>False</td>\n",
       "      <td>NaN</td>\n",
       "      <td>anonymous</td>\n",
       "      <td>2020-11-30 18:40:01+00:00</td>\n",
       "      <td>20201130</td>\n",
       "      <td>20201130</td>\n",
       "      <td>2019_Bagram_Airfield_attack</td>\n",
       "      <td>2019_Bagram_Airfield_attack</td>\n",
       "      <td>2019_Bagram_Airfield_attack</td>\n",
       "    </tr>\n",
       "    <tr>\n",
       "      <th>201015562</th>\n",
       "      <td>enwiki</td>\n",
       "      <td>revision</td>\n",
       "      <td>create</td>\n",
       "      <td>2020-11-30 18:50:31.0</td>\n",
       "      <td>/* Events leading up to the murder */ this is ...</td>\n",
       "      <td>NaN</td>\n",
       "      <td>2600:1700:20C0:F600:65D7:4307:8D72:2ABF</td>\n",
       "      <td>2600:1700:20C0:F600:65D7:4307:8D72:2ABF</td>\n",
       "      <td>NaN</td>\n",
       "      <td>NaN</td>\n",
       "      <td>...</td>\n",
       "      <td>False</td>\n",
       "      <td>False</td>\n",
       "      <td>NaN</td>\n",
       "      <td>anonymous</td>\n",
       "      <td>2020-11-30 18:50:31+00:00</td>\n",
       "      <td>20201130</td>\n",
       "      <td>20201130</td>\n",
       "      <td>Murder_of_Samuel_Paty</td>\n",
       "      <td>Murder_of_Samuel_Paty</td>\n",
       "      <td>Murder_of_Samuel_Paty</td>\n",
       "    </tr>\n",
       "    <tr>\n",
       "      <th>201015660</th>\n",
       "      <td>enwiki</td>\n",
       "      <td>revision</td>\n",
       "      <td>create</td>\n",
       "      <td>2020-11-30 18:50:54.0</td>\n",
       "      <td>/* Events leading up to the murder */</td>\n",
       "      <td>NaN</td>\n",
       "      <td>2600:1700:20C0:F600:65D7:4307:8D72:2ABF</td>\n",
       "      <td>2600:1700:20C0:F600:65D7:4307:8D72:2ABF</td>\n",
       "      <td>NaN</td>\n",
       "      <td>NaN</td>\n",
       "      <td>...</td>\n",
       "      <td>False</td>\n",
       "      <td>False</td>\n",
       "      <td>NaN</td>\n",
       "      <td>anonymous</td>\n",
       "      <td>2020-11-30 18:50:54+00:00</td>\n",
       "      <td>20201130</td>\n",
       "      <td>20201130</td>\n",
       "      <td>Murder_of_Samuel_Paty</td>\n",
       "      <td>Murder_of_Samuel_Paty</td>\n",
       "      <td>Murder_of_Samuel_Paty</td>\n",
       "    </tr>\n",
       "    <tr>\n",
       "      <th>201039491</th>\n",
       "      <td>enwiki</td>\n",
       "      <td>revision</td>\n",
       "      <td>create</td>\n",
       "      <td>2020-11-30 20:49:43.0</td>\n",
       "      <td>spelling</td>\n",
       "      <td>1.08414e+07</td>\n",
       "      <td>Woodlot</td>\n",
       "      <td>Woodlot</td>\n",
       "      <td>NaN</td>\n",
       "      <td>NaN</td>\n",
       "      <td>...</td>\n",
       "      <td>False</td>\n",
       "      <td>False</td>\n",
       "      <td>visualeditor</td>\n",
       "      <td>account</td>\n",
       "      <td>2020-11-30 20:49:43+00:00</td>\n",
       "      <td>20201130</td>\n",
       "      <td>20201130</td>\n",
       "      <td>2019_Bagram_Airfield_attack</td>\n",
       "      <td>2019_Bagram_Airfield_attack</td>\n",
       "      <td>2019_Bagram_Airfield_attack</td>\n",
       "    </tr>\n",
       "  </tbody>\n",
       "</table>\n",
       "<p>44059 rows × 77 columns</p>\n",
       "</div>"
      ],
      "text/plain": [
       "          wiki_db event_entity event_type        event_timestamp  \\\n",
       "2876226    enwiki     revision     create  2018-01-15 16:16:11.0   \n",
       "2876361    enwiki     revision     create  2018-01-15 16:17:01.0   \n",
       "2877613    enwiki     revision     create  2018-01-15 16:24:42.0   \n",
       "3292159    enwiki     revision     create  2018-01-17 18:58:49.0   \n",
       "3299662    enwiki     revision     create  2018-01-17 19:42:14.0   \n",
       "...           ...          ...        ...                    ...   \n",
       "201012898  enwiki     revision     create  2020-11-30 18:36:41.0   \n",
       "201013508  enwiki     revision     create  2020-11-30 18:40:01.0   \n",
       "201015562  enwiki     revision     create  2020-11-30 18:50:31.0   \n",
       "201015660  enwiki     revision     create  2020-11-30 18:50:54.0   \n",
       "201039491  enwiki     revision     create  2020-11-30 20:49:43.0   \n",
       "\n",
       "                                               event_comment event_user_id  \\\n",
       "2876226                                                  new   3.15552e+07   \n",
       "2876361                                               update   3.15552e+07   \n",
       "2877613                                                  NaN   3.23852e+07   \n",
       "3292159                                                  NaN   2.93025e+07   \n",
       "3299662                     ISIL claimed the attack via Amaq   3.15552e+07   \n",
       "...                                                      ...           ...   \n",
       "201012898                                   /* The attack */           NaN   \n",
       "201013508                                   /* The attack */           NaN   \n",
       "201015562  /* Events leading up to the murder */ this is ...           NaN   \n",
       "201015660              /* Events leading up to the murder */           NaN   \n",
       "201039491                                           spelling   1.08414e+07   \n",
       "\n",
       "                        event_user_text_historical  \\\n",
       "2876226                                   Koranion   \n",
       "2876361                                   Koranion   \n",
       "2877613                              Cloverfield2Y   \n",
       "3292159                                  Dreadwyrm   \n",
       "3299662                                   Koranion   \n",
       "...                                            ...   \n",
       "201012898   2603:300E:151:C000:A4DD:42C3:5F41:244E   \n",
       "201013508                           174.58.171.179   \n",
       "201015562  2600:1700:20C0:F600:65D7:4307:8D72:2ABF   \n",
       "201015660  2600:1700:20C0:F600:65D7:4307:8D72:2ABF   \n",
       "201039491                                  Woodlot   \n",
       "\n",
       "                                   event_user_text  \\\n",
       "2876226                                   Koranion   \n",
       "2876361                                   Koranion   \n",
       "2877613                              Cloverfield2Y   \n",
       "3292159                                  Dreadwyrm   \n",
       "3299662                                   Koranion   \n",
       "...                                            ...   \n",
       "201012898   2603:300E:151:C000:A4DD:42C3:5F41:244E   \n",
       "201013508                           174.58.171.179   \n",
       "201015562  2600:1700:20C0:F600:65D7:4307:8D72:2ABF   \n",
       "201015660  2600:1700:20C0:F600:65D7:4307:8D72:2ABF   \n",
       "201039491                                  Woodlot   \n",
       "\n",
       "          event_user_blocks_historical event_user_blocks  ...  \\\n",
       "2876226                            NaN               NaN  ...   \n",
       "2876361                            NaN               NaN  ...   \n",
       "2877613                            NaN          nocreate  ...   \n",
       "3292159                            NaN               NaN  ...   \n",
       "3299662                            NaN               NaN  ...   \n",
       "...                                ...               ...  ...   \n",
       "201012898                          NaN               NaN  ...   \n",
       "201013508                          NaN               NaN  ...   \n",
       "201015562                          NaN               NaN  ...   \n",
       "201015660                          NaN               NaN  ...   \n",
       "201039491                          NaN               NaN  ...   \n",
       "\n",
       "          revision_is_identity_revert revision_is_from_before_page_creation  \\\n",
       "2876226                         False                                 False   \n",
       "2876361                         False                                 False   \n",
       "2877613                         False                                 False   \n",
       "3292159                         False                                 False   \n",
       "3299662                         False                                 False   \n",
       "...                               ...                                   ...   \n",
       "201012898                       False                                 False   \n",
       "201013508                       False                                 False   \n",
       "201015562                       False                                 False   \n",
       "201015660                       False                                 False   \n",
       "201039491                       False                                 False   \n",
       "\n",
       "          revision_tags  user_kind          event_timestamp_t  date_utc  \\\n",
       "2876226    visualeditor    account  2018-01-15 16:16:11+00:00  20180115   \n",
       "2876361    visualeditor    account  2018-01-15 16:17:01+00:00  20180115   \n",
       "2877613             NaN    account  2018-01-15 16:24:42+00:00  20180115   \n",
       "3292159             NaN    account  2018-01-17 18:58:49+00:00  20180117   \n",
       "3299662    visualeditor    account  2018-01-17 19:42:14+00:00  20180117   \n",
       "...                 ...        ...                        ...       ...   \n",
       "201012898           NaN  anonymous  2020-11-30 18:36:41+00:00  20201130   \n",
       "201013508           NaN  anonymous  2020-11-30 18:40:01+00:00  20201130   \n",
       "201015562           NaN  anonymous  2020-11-30 18:50:31+00:00  20201130   \n",
       "201015660           NaN  anonymous  2020-11-30 18:50:54+00:00  20201130   \n",
       "201039491  visualeditor    account  2020-11-30 20:49:43+00:00  20201130   \n",
       "\n",
       "               date              page_title_norm  \\\n",
       "2876226    20180115        2018_Baghdad_bombings   \n",
       "2876361    20180115        2018_Baghdad_bombings   \n",
       "2877613    20180115        2018_Baghdad_bombings   \n",
       "3292159    20180117        2018_Baghdad_bombings   \n",
       "3299662    20180117        2018_Baghdad_bombings   \n",
       "...             ...                          ...   \n",
       "201012898  20201130  2019_Bagram_Airfield_attack   \n",
       "201013508  20201130  2019_Bagram_Airfield_attack   \n",
       "201015562  20201130        Murder_of_Samuel_Paty   \n",
       "201015660  20201130        Murder_of_Samuel_Paty   \n",
       "201039491  20201130  2019_Bagram_Airfield_attack   \n",
       "\n",
       "              page_title_historical_norm                 Article_Norm  \n",
       "2876226    January_2018_Baghdad_bombings        2018_Baghdad_bombings  \n",
       "2876361    January_2018_Baghdad_bombings        2018_Baghdad_bombings  \n",
       "2877613    January_2018_Baghdad_bombings        2018_Baghdad_bombings  \n",
       "3292159    January_2018_Baghdad_bombings        2018_Baghdad_bombings  \n",
       "3299662    January_2018_Baghdad_bombings        2018_Baghdad_bombings  \n",
       "...                                  ...                          ...  \n",
       "201012898    2019_Bagram_Airfield_attack  2019_Bagram_Airfield_attack  \n",
       "201013508    2019_Bagram_Airfield_attack  2019_Bagram_Airfield_attack  \n",
       "201015562          Murder_of_Samuel_Paty        Murder_of_Samuel_Paty  \n",
       "201015660          Murder_of_Samuel_Paty        Murder_of_Samuel_Paty  \n",
       "201039491    2019_Bagram_Airfield_attack  2019_Bagram_Airfield_attack  \n",
       "\n",
       "[44059 rows x 77 columns]"
      ]
     },
     "execution_count": 134,
     "metadata": {},
     "output_type": "execute_result"
    }
   ],
   "source": [
    "en_mwh_filt_titles"
   ]
  },
  {
   "cell_type": "code",
   "execution_count": 4,
   "metadata": {},
   "outputs": [
    {
     "ename": "NameError",
     "evalue": "name 'en_mwh_filt_titles' is not defined",
     "output_type": "error",
     "traceback": [
      "\u001b[0;31m---------------------------------------------------------------------------\u001b[0m",
      "\u001b[0;31mNameError\u001b[0m                                 Traceback (most recent call last)",
      "\u001b[0;32m<ipython-input-4-21419b3123d2>\u001b[0m in \u001b[0;36m<module>\u001b[0;34m\u001b[0m\n\u001b[0;32m----> 1\u001b[0;31m \u001b[0men_mwh_filt_fields\u001b[0m \u001b[0;34m=\u001b[0m \u001b[0men_mwh_filt_titles\u001b[0m\u001b[0;34m[\u001b[0m\u001b[0;34m[\u001b[0m\u001b[0;34m'date'\u001b[0m\u001b[0;34m,\u001b[0m \u001b[0;34m'Article_Norm'\u001b[0m\u001b[0;34m,\u001b[0m \u001b[0;34m'page_title_norm'\u001b[0m\u001b[0;34m,\u001b[0m \u001b[0;34m'page_title_historical_norm'\u001b[0m\u001b[0;34m,\u001b[0m \u001b[0;34m'user_kind'\u001b[0m\u001b[0;34m,\u001b[0m  \u001b[0;34m'revision_text_bytes'\u001b[0m\u001b[0;34m,\u001b[0m \u001b[0;34m'revision_text_bytes_diff'\u001b[0m\u001b[0;34m,\u001b[0m \u001b[0;34m'revision_is_identity_reverted'\u001b[0m\u001b[0;34m,\u001b[0m \u001b[0;34m'revision_is_identity_revert'\u001b[0m\u001b[0;34m,\u001b[0m \u001b[0;34m'revision_seconds_to_identity_revert'\u001b[0m\u001b[0;34m,\u001b[0m \u001b[0;34m'page_revision_count'\u001b[0m\u001b[0;34m,\u001b[0m \u001b[0;34m'page_seconds_since_previous_revision'\u001b[0m\u001b[0;34m,\u001b[0m \u001b[0;34m'event_timestamp_t'\u001b[0m\u001b[0;34m]\u001b[0m\u001b[0;34m]\u001b[0m\u001b[0;34m\u001b[0m\u001b[0;34m\u001b[0m\u001b[0m\n\u001b[0m\u001b[1;32m      2\u001b[0m \u001b[0men_mwh_filt_fields\u001b[0m\u001b[0;34m.\u001b[0m\u001b[0mto_csv\u001b[0m\u001b[0;34m(\u001b[0m\u001b[0;34m'bias/enwiki_terror_filtered.csv'\u001b[0m\u001b[0;34m)\u001b[0m\u001b[0;34m\u001b[0m\u001b[0;34m\u001b[0m\u001b[0m\n\u001b[1;32m      3\u001b[0m \u001b[0men_mwh_filt_fields\u001b[0m\u001b[0;34m\u001b[0m\u001b[0;34m\u001b[0m\u001b[0m\n",
      "\u001b[0;31mNameError\u001b[0m: name 'en_mwh_filt_titles' is not defined"
     ]
    }
   ],
   "source": [
    "en_mwh_filt_fields = en_mwh_filt_titles[['date', 'Article_Norm', 'page_title_norm', 'page_title_historical_norm', 'user_kind',  'revision_text_bytes', 'revision_text_bytes_diff', 'revision_is_identity_reverted', 'revision_is_identity_revert', 'revision_seconds_to_identity_revert', 'page_revision_count', 'page_seconds_since_previous_revision', 'event_timestamp_t']]\n",
    "en_mwh_filt_fields.to_csv('bias/enwiki_terror_filtered.csv')\n",
    "en_mwh_filt_fields"
   ]
  },
  {
   "cell_type": "markdown",
   "metadata": {},
   "source": [
    "# Load and regenerate"
   ]
  },
  {
   "cell_type": "code",
   "execution_count": 12,
   "metadata": {},
   "outputs": [
    {
     "data": {
      "text/plain": [
       "'/home/jovyan/work/steinkasserer'"
      ]
     },
     "execution_count": 12,
     "metadata": {},
     "output_type": "execute_result"
    }
   ],
   "source": [
    "import os\n",
    "cwd = os.getcwd()\n",
    "cwd"
   ]
  },
  {
   "cell_type": "code",
   "execution_count": 14,
   "metadata": {},
   "outputs": [],
   "source": [
    "en_mwh_filt_fields = pd.read_csv('bias/enwiki_terror_filtered.csv')\n",
    "en_mwh_filt_fields.revision_is_identity_reverted = en_mwh_filt_fields.revision_is_identity_reverted.astype(bool)\n",
    "en_mwh_filt_fields.revision_is_identity_revert = en_mwh_filt_fields.revision_is_identity_revert.astype(bool)"
   ]
  },
  {
   "cell_type": "code",
   "execution_count": 15,
   "metadata": {},
   "outputs": [
    {
     "data": {
      "text/html": [
       "<div>\n",
       "<style scoped>\n",
       "    .dataframe tbody tr th:only-of-type {\n",
       "        vertical-align: middle;\n",
       "    }\n",
       "\n",
       "    .dataframe tbody tr th {\n",
       "        vertical-align: top;\n",
       "    }\n",
       "\n",
       "    .dataframe thead th {\n",
       "        text-align: right;\n",
       "    }\n",
       "</style>\n",
       "<table border=\"1\" class=\"dataframe\">\n",
       "  <thead>\n",
       "    <tr style=\"text-align: right;\">\n",
       "      <th></th>\n",
       "      <th>date</th>\n",
       "      <th>Article_Norm</th>\n",
       "      <th>user_kind</th>\n",
       "      <th>revision_text_bytes</th>\n",
       "      <th>revision_text_bytes_diff</th>\n",
       "      <th>revision_is_identity_reverted</th>\n",
       "      <th>revision_is_identity_revert</th>\n",
       "      <th>page_revision_count</th>\n",
       "      <th>page_title_historical_norm</th>\n",
       "      <th>date_dt</th>\n",
       "    </tr>\n",
       "  </thead>\n",
       "  <tbody>\n",
       "    <tr>\n",
       "      <th>0</th>\n",
       "      <td>20180115</td>\n",
       "      <td>2018_Baghdad_bombings</td>\n",
       "      <td>account</td>\n",
       "      <td>5395.0</td>\n",
       "      <td>1735.0</td>\n",
       "      <td>0.0</td>\n",
       "      <td>0.0</td>\n",
       "      <td>3</td>\n",
       "      <td>[January_2018_Baghdad_bombings, January_2018_B...</td>\n",
       "      <td>2018-01-15</td>\n",
       "    </tr>\n",
       "    <tr>\n",
       "      <th>1</th>\n",
       "      <td>20180117</td>\n",
       "      <td>2018_Baghdad_bombings</td>\n",
       "      <td>account</td>\n",
       "      <td>10326.0</td>\n",
       "      <td>530.0</td>\n",
       "      <td>1.0</td>\n",
       "      <td>1.0</td>\n",
       "      <td>5</td>\n",
       "      <td>[January_2018_Baghdad_bombings, January_2018_B...</td>\n",
       "      <td>2018-01-17</td>\n",
       "    </tr>\n",
       "    <tr>\n",
       "      <th>2</th>\n",
       "      <td>20180118</td>\n",
       "      <td>2018_Baghdad_bombings</td>\n",
       "      <td>account</td>\n",
       "      <td>17261.0</td>\n",
       "      <td>516.0</td>\n",
       "      <td>0.0</td>\n",
       "      <td>1.0</td>\n",
       "      <td>7</td>\n",
       "      <td>[January_2018_Baghdad_bombings, January_2018_B...</td>\n",
       "      <td>2018-01-18</td>\n",
       "    </tr>\n",
       "    <tr>\n",
       "      <th>3</th>\n",
       "      <td>20180119</td>\n",
       "      <td>2018_Baghdad_bombings</td>\n",
       "      <td>account</td>\n",
       "      <td>2781.0</td>\n",
       "      <td>0.0</td>\n",
       "      <td>0.0</td>\n",
       "      <td>1.0</td>\n",
       "      <td>1</td>\n",
       "      <td>[2018_Baghdad_bombings]</td>\n",
       "      <td>2018-01-19</td>\n",
       "    </tr>\n",
       "    <tr>\n",
       "      <th>4</th>\n",
       "      <td>20180120</td>\n",
       "      <td>2018_Baghdad_bombings</td>\n",
       "      <td>account</td>\n",
       "      <td>20578.0</td>\n",
       "      <td>321.0</td>\n",
       "      <td>0.0</td>\n",
       "      <td>2.0</td>\n",
       "      <td>9</td>\n",
       "      <td>[January_15th,_2018_Baghdad_bombings, 2018_Bag...</td>\n",
       "      <td>2018-01-20</td>\n",
       "    </tr>\n",
       "    <tr>\n",
       "      <th>...</th>\n",
       "      <td>...</td>\n",
       "      <td>...</td>\n",
       "      <td>...</td>\n",
       "      <td>...</td>\n",
       "      <td>...</td>\n",
       "      <td>...</td>\n",
       "      <td>...</td>\n",
       "      <td>...</td>\n",
       "      <td>...</td>\n",
       "      <td>...</td>\n",
       "    </tr>\n",
       "    <tr>\n",
       "      <th>6451</th>\n",
       "      <td>20201130</td>\n",
       "      <td>Koshebe_massacre</td>\n",
       "      <td>account</td>\n",
       "      <td>33679.0</td>\n",
       "      <td>28.0</td>\n",
       "      <td>0.0</td>\n",
       "      <td>0.0</td>\n",
       "      <td>7</td>\n",
       "      <td>[Koshebe_massacre, Koshebe_massacre, Koshebe_m...</td>\n",
       "      <td>2020-11-30</td>\n",
       "    </tr>\n",
       "    <tr>\n",
       "      <th>6452</th>\n",
       "      <td>20201130</td>\n",
       "      <td>Koshebe_massacre</td>\n",
       "      <td>bot</td>\n",
       "      <td>4823.0</td>\n",
       "      <td>19.0</td>\n",
       "      <td>0.0</td>\n",
       "      <td>0.0</td>\n",
       "      <td>1</td>\n",
       "      <td>[Koshebe_massacre]</td>\n",
       "      <td>2020-11-30</td>\n",
       "    </tr>\n",
       "    <tr>\n",
       "      <th>6453</th>\n",
       "      <td>20201130</td>\n",
       "      <td>Murder_of_Samuel_Paty</td>\n",
       "      <td>account</td>\n",
       "      <td>164177.0</td>\n",
       "      <td>0.0</td>\n",
       "      <td>1.0</td>\n",
       "      <td>1.0</td>\n",
       "      <td>2</td>\n",
       "      <td>[Murder_of_Samuel_Paty, Murder_of_Samuel_Paty]</td>\n",
       "      <td>2020-11-30</td>\n",
       "    </tr>\n",
       "    <tr>\n",
       "      <th>6454</th>\n",
       "      <td>20201130</td>\n",
       "      <td>Murder_of_Samuel_Paty</td>\n",
       "      <td>anonymous</td>\n",
       "      <td>164221.0</td>\n",
       "      <td>7.0</td>\n",
       "      <td>0.0</td>\n",
       "      <td>0.0</td>\n",
       "      <td>2</td>\n",
       "      <td>[Murder_of_Samuel_Paty, Murder_of_Samuel_Paty]</td>\n",
       "      <td>2020-11-30</td>\n",
       "    </tr>\n",
       "    <tr>\n",
       "      <th>6455</th>\n",
       "      <td>20201130</td>\n",
       "      <td>October_2018_United_States_mail_bombing_attempts</td>\n",
       "      <td>account</td>\n",
       "      <td>93313.0</td>\n",
       "      <td>-17.0</td>\n",
       "      <td>0.0</td>\n",
       "      <td>0.0</td>\n",
       "      <td>1</td>\n",
       "      <td>[October_2018_United_States_mail_bombing_attem...</td>\n",
       "      <td>2020-11-30</td>\n",
       "    </tr>\n",
       "  </tbody>\n",
       "</table>\n",
       "<p>6456 rows × 10 columns</p>\n",
       "</div>"
      ],
      "text/plain": [
       "          date                                      Article_Norm  user_kind  \\\n",
       "0     20180115                             2018_Baghdad_bombings    account   \n",
       "1     20180117                             2018_Baghdad_bombings    account   \n",
       "2     20180118                             2018_Baghdad_bombings    account   \n",
       "3     20180119                             2018_Baghdad_bombings    account   \n",
       "4     20180120                             2018_Baghdad_bombings    account   \n",
       "...        ...                                               ...        ...   \n",
       "6451  20201130                                  Koshebe_massacre    account   \n",
       "6452  20201130                                  Koshebe_massacre        bot   \n",
       "6453  20201130                             Murder_of_Samuel_Paty    account   \n",
       "6454  20201130                             Murder_of_Samuel_Paty  anonymous   \n",
       "6455  20201130  October_2018_United_States_mail_bombing_attempts    account   \n",
       "\n",
       "      revision_text_bytes  revision_text_bytes_diff  \\\n",
       "0                  5395.0                    1735.0   \n",
       "1                 10326.0                     530.0   \n",
       "2                 17261.0                     516.0   \n",
       "3                  2781.0                       0.0   \n",
       "4                 20578.0                     321.0   \n",
       "...                   ...                       ...   \n",
       "6451              33679.0                      28.0   \n",
       "6452               4823.0                      19.0   \n",
       "6453             164177.0                       0.0   \n",
       "6454             164221.0                       7.0   \n",
       "6455              93313.0                     -17.0   \n",
       "\n",
       "      revision_is_identity_reverted  revision_is_identity_revert  \\\n",
       "0                               0.0                          0.0   \n",
       "1                               1.0                          1.0   \n",
       "2                               0.0                          1.0   \n",
       "3                               0.0                          1.0   \n",
       "4                               0.0                          2.0   \n",
       "...                             ...                          ...   \n",
       "6451                            0.0                          0.0   \n",
       "6452                            0.0                          0.0   \n",
       "6453                            1.0                          1.0   \n",
       "6454                            0.0                          0.0   \n",
       "6455                            0.0                          0.0   \n",
       "\n",
       "      page_revision_count                         page_title_historical_norm  \\\n",
       "0                       3  [January_2018_Baghdad_bombings, January_2018_B...   \n",
       "1                       5  [January_2018_Baghdad_bombings, January_2018_B...   \n",
       "2                       7  [January_2018_Baghdad_bombings, January_2018_B...   \n",
       "3                       1                            [2018_Baghdad_bombings]   \n",
       "4                       9  [January_15th,_2018_Baghdad_bombings, 2018_Bag...   \n",
       "...                   ...                                                ...   \n",
       "6451                    7  [Koshebe_massacre, Koshebe_massacre, Koshebe_m...   \n",
       "6452                    1                                 [Koshebe_massacre]   \n",
       "6453                    2     [Murder_of_Samuel_Paty, Murder_of_Samuel_Paty]   \n",
       "6454                    2     [Murder_of_Samuel_Paty, Murder_of_Samuel_Paty]   \n",
       "6455                    1  [October_2018_United_States_mail_bombing_attem...   \n",
       "\n",
       "        date_dt  \n",
       "0    2018-01-15  \n",
       "1    2018-01-17  \n",
       "2    2018-01-18  \n",
       "3    2018-01-19  \n",
       "4    2018-01-20  \n",
       "...         ...  \n",
       "6451 2020-11-30  \n",
       "6452 2020-11-30  \n",
       "6453 2020-11-30  \n",
       "6454 2020-11-30  \n",
       "6455 2020-11-30  \n",
       "\n",
       "[6456 rows x 10 columns]"
      ]
     },
     "execution_count": 15,
     "metadata": {},
     "output_type": "execute_result"
    }
   ],
   "source": [
    "en_terr_grped = en_mwh_filt_fields.groupby(['date', 'Article_Norm', 'user_kind']).agg({'revision_text_bytes': 'sum', \n",
    "                                                                                       'revision_text_bytes_diff': 'sum', \n",
    "                                                                                       'revision_is_identity_reverted': 'sum', \n",
    "                                                                                       'revision_is_identity_revert': 'sum',                                                                                     \n",
    "                                                                                      # 'revision_seconds_to_identity_revert': 'mean', \n",
    "                                                                                       'page_revision_count': 'size',\n",
    "                                                                                       'page_title_historical_norm': list}).reset_index()\n",
    "en_terr_grped['date_dt'] = en_terr_grped.date.apply(lambda d: pd.to_datetime(f'{str(d)[:4]}-{str(d)[4:6]}-{str(d)[6:]}'))\n",
    "en_terr_grped"
   ]
  },
  {
   "cell_type": "code",
   "execution_count": 17,
   "metadata": {},
   "outputs": [
    {
     "data": {
      "text/html": [
       "<div>\n",
       "<style scoped>\n",
       "    .dataframe tbody tr th:only-of-type {\n",
       "        vertical-align: middle;\n",
       "    }\n",
       "\n",
       "    .dataframe tbody tr th {\n",
       "        vertical-align: top;\n",
       "    }\n",
       "\n",
       "    .dataframe thead th {\n",
       "        text-align: right;\n",
       "    }\n",
       "</style>\n",
       "<table border=\"1\" class=\"dataframe\">\n",
       "  <thead>\n",
       "    <tr style=\"text-align: right;\">\n",
       "      <th></th>\n",
       "      <th>Date</th>\n",
       "      <th>Type</th>\n",
       "      <th>Dead</th>\n",
       "      <th>Injured</th>\n",
       "      <th>Location</th>\n",
       "      <th>Article</th>\n",
       "      <th>Details</th>\n",
       "      <th>Perpetrator</th>\n",
       "      <th>Part of</th>\n",
       "      <th>year</th>\n",
       "      <th>Article_Norm</th>\n",
       "      <th>Perpetrator_Norm</th>\n",
       "      <th>Part of_Norm</th>\n",
       "      <th>deaths</th>\n",
       "      <th>injuries</th>\n",
       "      <th>date_dt</th>\n",
       "      <th>date_w1</th>\n",
       "      <th>date_w2</th>\n",
       "      <th>date_w4</th>\n",
       "    </tr>\n",
       "  </thead>\n",
       "  <tbody>\n",
       "    <tr>\n",
       "      <th>0</th>\n",
       "      <td>10 January</td>\n",
       "      <td>Stabbing</td>\n",
       "      <td>1</td>\n",
       "      <td>0</td>\n",
       "      <td>Orange County, United States</td>\n",
       "      <td>Murder of Blaze Bernstein</td>\n",
       "      <td>The California man accused of killing a gay an...</td>\n",
       "      <td>Atomwaffen Division</td>\n",
       "      <td>Terrorism in the United States</td>\n",
       "      <td>2018</td>\n",
       "      <td>Murder_of_Blaze_Bernstein</td>\n",
       "      <td>Atomwaffen_Division</td>\n",
       "      <td>Terrorism_in_the_United_States</td>\n",
       "      <td>1</td>\n",
       "      <td>0</td>\n",
       "      <td>2018-01-10</td>\n",
       "      <td>2018-01-17</td>\n",
       "      <td>2018-01-24</td>\n",
       "      <td>2018-02-09</td>\n",
       "    </tr>\n",
       "    <tr>\n",
       "      <th>1</th>\n",
       "      <td>15 January</td>\n",
       "      <td>Suicide bombings</td>\n",
       "      <td>38 (+2)</td>\n",
       "      <td>105</td>\n",
       "      <td>Baghdad, Iraq</td>\n",
       "      <td>2018 Baghdad bombings</td>\n",
       "      <td>38 people were killed and at least 105 others ...</td>\n",
       "      <td>Islamic State</td>\n",
       "      <td>Iraqi insurgency</td>\n",
       "      <td>2018</td>\n",
       "      <td>2018_Baghdad_bombings</td>\n",
       "      <td>Islamic_State</td>\n",
       "      <td>Iraqi_insurgency</td>\n",
       "      <td>40</td>\n",
       "      <td>105</td>\n",
       "      <td>2018-01-15</td>\n",
       "      <td>2018-01-22</td>\n",
       "      <td>2018-01-29</td>\n",
       "      <td>2018-02-14</td>\n",
       "    </tr>\n",
       "    <tr>\n",
       "      <th>2</th>\n",
       "      <td>20-21 January</td>\n",
       "      <td>Shooting, arson, hostage taking</td>\n",
       "      <td>40 (+6)</td>\n",
       "      <td>22</td>\n",
       "      <td>Kabul, Afghanistan</td>\n",
       "      <td>2018 Inter-Continental Hotel Kabul attack</td>\n",
       "      <td>Gunmen launched an attack on the Inter-Contine...</td>\n",
       "      <td>Taliban and Haqqani Network</td>\n",
       "      <td>War in Afghanistan</td>\n",
       "      <td>2018</td>\n",
       "      <td>2018_Inter-Continental_Hotel_Kabul_attack</td>\n",
       "      <td>Taliban_and_Haqqani_Network</td>\n",
       "      <td>War_in_Afghanistan</td>\n",
       "      <td>46</td>\n",
       "      <td>22</td>\n",
       "      <td>2018-01-21</td>\n",
       "      <td>2018-01-28</td>\n",
       "      <td>2018-02-04</td>\n",
       "      <td>2018-02-20</td>\n",
       "    </tr>\n",
       "    <tr>\n",
       "      <th>3</th>\n",
       "      <td>23 January</td>\n",
       "      <td>Car bombing</td>\n",
       "      <td>41</td>\n",
       "      <td>80</td>\n",
       "      <td>Benghazi, Libya</td>\n",
       "      <td>January 2018 Benghazi bombing</td>\n",
       "      <td>A twin car bomb attack outside a mosque in Ben...</td>\n",
       "      <td>Unknown</td>\n",
       "      <td>Libyan Civil War (2014–present)</td>\n",
       "      <td>2018</td>\n",
       "      <td>January_2018_Benghazi_bombing</td>\n",
       "      <td>Unknown</td>\n",
       "      <td>Libyan_Civil_War_(2014–present)</td>\n",
       "      <td>41</td>\n",
       "      <td>80</td>\n",
       "      <td>2018-01-23</td>\n",
       "      <td>2018-01-30</td>\n",
       "      <td>2018-02-06</td>\n",
       "      <td>2018-02-22</td>\n",
       "    </tr>\n",
       "    <tr>\n",
       "      <th>4</th>\n",
       "      <td>24 January</td>\n",
       "      <td>Shooting, suicide car bombing</td>\n",
       "      <td>6</td>\n",
       "      <td>27</td>\n",
       "      <td>Jalalabad, Afghanistan</td>\n",
       "      <td>2018 Save The Children Jalalabad attack</td>\n",
       "      <td>A complex attack began with a suicide car bomb...</td>\n",
       "      <td>Islamic State</td>\n",
       "      <td>War in Afghanistan</td>\n",
       "      <td>2018</td>\n",
       "      <td>2018_Save_The_Children_Jalalabad_attack</td>\n",
       "      <td>Islamic_State</td>\n",
       "      <td>War_in_Afghanistan</td>\n",
       "      <td>6</td>\n",
       "      <td>27</td>\n",
       "      <td>2018-01-24</td>\n",
       "      <td>2018-01-31</td>\n",
       "      <td>2018-02-07</td>\n",
       "      <td>2018-02-23</td>\n",
       "    </tr>\n",
       "    <tr>\n",
       "      <th>...</th>\n",
       "      <td>...</td>\n",
       "      <td>...</td>\n",
       "      <td>...</td>\n",
       "      <td>...</td>\n",
       "      <td>...</td>\n",
       "      <td>...</td>\n",
       "      <td>...</td>\n",
       "      <td>...</td>\n",
       "      <td>...</td>\n",
       "      <td>...</td>\n",
       "      <td>...</td>\n",
       "      <td>...</td>\n",
       "      <td>...</td>\n",
       "      <td>...</td>\n",
       "      <td>...</td>\n",
       "      <td>...</td>\n",
       "      <td>...</td>\n",
       "      <td>...</td>\n",
       "      <td>...</td>\n",
       "    </tr>\n",
       "    <tr>\n",
       "      <th>183</th>\n",
       "      <td>29 October</td>\n",
       "      <td>Stabbing</td>\n",
       "      <td>3</td>\n",
       "      <td>0 (+1)</td>\n",
       "      <td>Nice, France</td>\n",
       "      <td>2020 Nice stabbing</td>\n",
       "      <td>Three people were killed in a stabbing attack ...</td>\n",
       "      <td>Brahim Aouissaoui (suspected)</td>\n",
       "      <td>Islamic terrorism in Europe</td>\n",
       "      <td>2020</td>\n",
       "      <td>2020_Nice_stabbing</td>\n",
       "      <td>Brahim_Aouissaoui_(suspected)</td>\n",
       "      <td>Islamic_terrorism_in_Europe</td>\n",
       "      <td>3</td>\n",
       "      <td>1</td>\n",
       "      <td>2020-10-29</td>\n",
       "      <td>2020-11-05</td>\n",
       "      <td>2020-11-12</td>\n",
       "      <td>2020-11-28</td>\n",
       "    </tr>\n",
       "    <tr>\n",
       "      <th>184</th>\n",
       "      <td>2 November</td>\n",
       "      <td>Shooting</td>\n",
       "      <td>32 (+3)</td>\n",
       "      <td>50</td>\n",
       "      <td>Kabul, Afghanistan</td>\n",
       "      <td>2020 Kabul University attack</td>\n",
       "      <td>Militants opened fire at Kabul University's ca...</td>\n",
       "      <td>Islamic State – Khorasan Province</td>\n",
       "      <td>War in Afghanistan</td>\n",
       "      <td>2020</td>\n",
       "      <td>2020_Kabul_University_attack</td>\n",
       "      <td>Islamic_State_–_Khorasan_Province</td>\n",
       "      <td>War_in_Afghanistan</td>\n",
       "      <td>35</td>\n",
       "      <td>50</td>\n",
       "      <td>2020-11-02</td>\n",
       "      <td>2020-11-09</td>\n",
       "      <td>2020-11-16</td>\n",
       "      <td>2020-12-02</td>\n",
       "    </tr>\n",
       "    <tr>\n",
       "      <th>185</th>\n",
       "      <td>2 November</td>\n",
       "      <td>Mass shooting</td>\n",
       "      <td>4 (+1)</td>\n",
       "      <td>23</td>\n",
       "      <td>Vienna, Austria</td>\n",
       "      <td>2020 Vienna attack</td>\n",
       "      <td>At around 20:00 local time, a gunman opened fi...</td>\n",
       "      <td>Kujtim Fejzullai</td>\n",
       "      <td>Islamic terrorism in Europe</td>\n",
       "      <td>2020</td>\n",
       "      <td>2020_Vienna_attack</td>\n",
       "      <td>Kujtim_Fejzullai</td>\n",
       "      <td>Islamic_terrorism_in_Europe</td>\n",
       "      <td>5</td>\n",
       "      <td>23</td>\n",
       "      <td>2020-11-02</td>\n",
       "      <td>2020-11-09</td>\n",
       "      <td>2020-11-16</td>\n",
       "      <td>2020-12-02</td>\n",
       "    </tr>\n",
       "    <tr>\n",
       "      <th>186</th>\n",
       "      <td>28 November</td>\n",
       "      <td>Massacre, beheading</td>\n",
       "      <td>110</td>\n",
       "      <td>6</td>\n",
       "      <td>Jere, Nigeria</td>\n",
       "      <td>Koshebe massacre</td>\n",
       "      <td>About 110 civilians, most of whom were peasant...</td>\n",
       "      <td>Boko Haram</td>\n",
       "      <td>Boko Haram insurgency</td>\n",
       "      <td>2020</td>\n",
       "      <td>Koshebe_massacre</td>\n",
       "      <td>Boko_Haram</td>\n",
       "      <td>Boko_Haram_insurgency</td>\n",
       "      <td>110</td>\n",
       "      <td>6</td>\n",
       "      <td>2020-11-28</td>\n",
       "      <td>2020-12-05</td>\n",
       "      <td>2020-12-12</td>\n",
       "      <td>2020-12-28</td>\n",
       "    </tr>\n",
       "    <tr>\n",
       "      <th>187</th>\n",
       "      <td>30 December</td>\n",
       "      <td>Bombing, mass shooting</td>\n",
       "      <td>25</td>\n",
       "      <td>110</td>\n",
       "      <td>Aden, Yemen</td>\n",
       "      <td>2020 Aden attacks</td>\n",
       "      <td>There was at least one, possibly two explosion...</td>\n",
       "      <td>Houthis (suspected)</td>\n",
       "      <td>Yemeni Civil War</td>\n",
       "      <td>2020</td>\n",
       "      <td>2020_Aden_attacks</td>\n",
       "      <td>Houthis_(suspected)</td>\n",
       "      <td>Yemeni_Civil_War</td>\n",
       "      <td>25</td>\n",
       "      <td>110</td>\n",
       "      <td>2020-12-30</td>\n",
       "      <td>2021-01-06</td>\n",
       "      <td>2021-01-13</td>\n",
       "      <td>2021-01-29</td>\n",
       "    </tr>\n",
       "  </tbody>\n",
       "</table>\n",
       "<p>188 rows × 19 columns</p>\n",
       "</div>"
      ],
      "text/plain": [
       "              Date                             Type     Dead Injured  \\\n",
       "0       10 January                         Stabbing        1       0   \n",
       "1       15 January                 Suicide bombings  38 (+2)     105   \n",
       "2    20-21 January  Shooting, arson, hostage taking  40 (+6)      22   \n",
       "3       23 January                      Car bombing       41      80   \n",
       "4       24 January    Shooting, suicide car bombing        6      27   \n",
       "..             ...                              ...      ...     ...   \n",
       "183     29 October                         Stabbing        3  0 (+1)   \n",
       "184     2 November                         Shooting  32 (+3)      50   \n",
       "185     2 November                    Mass shooting   4 (+1)      23   \n",
       "186    28 November              Massacre, beheading      110       6   \n",
       "187    30 December           Bombing, mass shooting       25     110   \n",
       "\n",
       "                         Location                                    Article  \\\n",
       "0    Orange County, United States                  Murder of Blaze Bernstein   \n",
       "1                   Baghdad, Iraq                      2018 Baghdad bombings   \n",
       "2              Kabul, Afghanistan  2018 Inter-Continental Hotel Kabul attack   \n",
       "3                 Benghazi, Libya              January 2018 Benghazi bombing   \n",
       "4          Jalalabad, Afghanistan    2018 Save The Children Jalalabad attack   \n",
       "..                            ...                                        ...   \n",
       "183                  Nice, France                         2020 Nice stabbing   \n",
       "184            Kabul, Afghanistan               2020 Kabul University attack   \n",
       "185               Vienna, Austria                         2020 Vienna attack   \n",
       "186                 Jere, Nigeria                           Koshebe massacre   \n",
       "187                   Aden, Yemen                          2020 Aden attacks   \n",
       "\n",
       "                                               Details  \\\n",
       "0    The California man accused of killing a gay an...   \n",
       "1    38 people were killed and at least 105 others ...   \n",
       "2    Gunmen launched an attack on the Inter-Contine...   \n",
       "3    A twin car bomb attack outside a mosque in Ben...   \n",
       "4    A complex attack began with a suicide car bomb...   \n",
       "..                                                 ...   \n",
       "183  Three people were killed in a stabbing attack ...   \n",
       "184  Militants opened fire at Kabul University's ca...   \n",
       "185  At around 20:00 local time, a gunman opened fi...   \n",
       "186  About 110 civilians, most of whom were peasant...   \n",
       "187  There was at least one, possibly two explosion...   \n",
       "\n",
       "                           Perpetrator                          Part of  year  \\\n",
       "0                  Atomwaffen Division   Terrorism in the United States  2018   \n",
       "1                        Islamic State                 Iraqi insurgency  2018   \n",
       "2          Taliban and Haqqani Network               War in Afghanistan  2018   \n",
       "3                              Unknown  Libyan Civil War (2014–present)  2018   \n",
       "4                        Islamic State               War in Afghanistan  2018   \n",
       "..                                 ...                              ...   ...   \n",
       "183      Brahim Aouissaoui (suspected)      Islamic terrorism in Europe  2020   \n",
       "184  Islamic State – Khorasan Province               War in Afghanistan  2020   \n",
       "185                   Kujtim Fejzullai      Islamic terrorism in Europe  2020   \n",
       "186                         Boko Haram            Boko Haram insurgency  2020   \n",
       "187                Houthis (suspected)                 Yemeni Civil War  2020   \n",
       "\n",
       "                                  Article_Norm  \\\n",
       "0                    Murder_of_Blaze_Bernstein   \n",
       "1                        2018_Baghdad_bombings   \n",
       "2    2018_Inter-Continental_Hotel_Kabul_attack   \n",
       "3                January_2018_Benghazi_bombing   \n",
       "4      2018_Save_The_Children_Jalalabad_attack   \n",
       "..                                         ...   \n",
       "183                         2020_Nice_stabbing   \n",
       "184               2020_Kabul_University_attack   \n",
       "185                         2020_Vienna_attack   \n",
       "186                           Koshebe_massacre   \n",
       "187                          2020_Aden_attacks   \n",
       "\n",
       "                      Perpetrator_Norm                     Part of_Norm  \\\n",
       "0                  Atomwaffen_Division   Terrorism_in_the_United_States   \n",
       "1                        Islamic_State                 Iraqi_insurgency   \n",
       "2          Taliban_and_Haqqani_Network               War_in_Afghanistan   \n",
       "3                              Unknown  Libyan_Civil_War_(2014–present)   \n",
       "4                        Islamic_State               War_in_Afghanistan   \n",
       "..                                 ...                              ...   \n",
       "183      Brahim_Aouissaoui_(suspected)      Islamic_terrorism_in_Europe   \n",
       "184  Islamic_State_–_Khorasan_Province               War_in_Afghanistan   \n",
       "185                   Kujtim_Fejzullai      Islamic_terrorism_in_Europe   \n",
       "186                         Boko_Haram            Boko_Haram_insurgency   \n",
       "187                Houthis_(suspected)                 Yemeni_Civil_War   \n",
       "\n",
       "     deaths  injuries    date_dt    date_w1    date_w2    date_w4  \n",
       "0         1         0 2018-01-10 2018-01-17 2018-01-24 2018-02-09  \n",
       "1        40       105 2018-01-15 2018-01-22 2018-01-29 2018-02-14  \n",
       "2        46        22 2018-01-21 2018-01-28 2018-02-04 2018-02-20  \n",
       "3        41        80 2018-01-23 2018-01-30 2018-02-06 2018-02-22  \n",
       "4         6        27 2018-01-24 2018-01-31 2018-02-07 2018-02-23  \n",
       "..      ...       ...        ...        ...        ...        ...  \n",
       "183       3         1 2020-10-29 2020-11-05 2020-11-12 2020-11-28  \n",
       "184      35        50 2020-11-02 2020-11-09 2020-11-16 2020-12-02  \n",
       "185       5        23 2020-11-02 2020-11-09 2020-11-16 2020-12-02  \n",
       "186     110         6 2020-11-28 2020-12-05 2020-12-12 2020-12-28  \n",
       "187      25       110 2020-12-30 2021-01-06 2021-01-13 2021-01-29  \n",
       "\n",
       "[188 rows x 19 columns]"
      ]
     },
     "execution_count": 17,
     "metadata": {},
     "output_type": "execute_result"
    }
   ],
   "source": [
    "from dateutil.relativedelta import relativedelta\n",
    "\n",
    "df_terr = pd.read_csv('bias/terror_articles.csv').iloc[:,1:]\n",
    "def sum_deaths_or_injured(caus_string):\n",
    "    split = caus_string.split(' (+') \n",
    "    #print(caus_string, split)\n",
    "    split_dash = split[0].replace('–', '-').split('-')\n",
    "    #print(split_dash, len(split_dash))\n",
    "    sum_d = 0 if ('Unknown' in split[0] or '?' in split[0]) else int((split_dash[0] if len(split_dash) == 1 else split_dash[1]).replace('+', '').replace(' Kidnapped', '').replace('[100]', '').replace('Several', '0'))\n",
    "\n",
    "    if len(split) > 1:\n",
    "        #print(split[1])\n",
    "        sum_d += 0 if ('Unknown' in split[1] or '?' in split[1]) else int(split[1][:split[1].index(')')].replace('+', ''))\n",
    "        \n",
    "    return sum_d\n",
    "    \n",
    "df_terr['deaths'] = df_terr['Dead'].apply(lambda d: sum_deaths_or_injured(d))\n",
    "df_terr['injuries'] = df_terr['Injured'].apply(lambda d: sum_deaths_or_injured(d))\n",
    "df_terr['date_dt'] = df_terr.apply(lambda t: pd.to_datetime(f'{t.Date.replace(\"–\", \"-\").split(\"-\")[1] if len(t.Date.replace(\"–\", \"-\").split(\"-\")) > 1 else t.Date} {t.year}'), axis=1)\n",
    "df_terr['date_w1'] = df_terr.date_dt.apply(lambda d: d + relativedelta(days=7))\n",
    "df_terr['date_w2'] = df_terr.date_dt.apply(lambda d: d + relativedelta(days=14))\n",
    "df_terr['date_w4'] = df_terr.date_dt.apply(lambda d: d + relativedelta(days=30))\n",
    "df_terr"
   ]
  },
  {
   "cell_type": "code",
   "execution_count": 18,
   "metadata": {},
   "outputs": [],
   "source": [
    "import requests as rq\n",
    "\n",
    "WM_API = 'https://wikimedia.org/api/rest_v1'\n",
    "DEVICES = ['desktop', 'mobile-app', 'mobile-web']\n",
    "\n",
    "# all-agents\n",
    "def retrieve_pageviews_page(article, lang='en', start=20180101, end=20200201, access='all-access',\n",
    "                                 granularity='daily', agent='user'):\n",
    "    url = f'{WM_API}/metrics/pageviews/per-article/{lang}.wikipedia.org/{access}/{agent}/{article}/{granularity}/{start}/{end}'\n",
    "    response = rq.get(url, headers={'User-Agent': 'th.ruprechter@gmail.com'})\n",
    "    page_result = {'date': [], 'views': []}\n",
    "    json = response.json()\n",
    "    try:\n",
    "        for res in json['items']:\n",
    "            page_result['date'].append(pd.to_datetime(res['timestamp'][:-2], format='%Y%m%d'))\n",
    "            page_result['views'].append(res['views'])\n",
    "    except:\n",
    "        print(json)\n",
    "    return pd.DataFrame(page_result)\n",
    "\n",
    "def retrieve_pageviews_aggregate_all_pages(articles, code='en', start=20180101, end=20200201, access='all-access',\n",
    "                                           granularity='daily', agent='user'):\n",
    "    df_article_list = []\n",
    "    for article in articles:\n",
    "        df_page = retrieve_pageviews_page(article, code, start, end, access, granularity, agent)\n",
    "        df_page['article'] = article\n",
    "        df_article_list.append(df_page)\n",
    "    return pd.concat(df_article_list)\n",
    "\n",
    "def retrieve_all_editor_activity_levels(articles, code='en', start=20180101, end=20210201, granularity='daily', agent='user'):\n",
    "    pd_list = []\n",
    "    for device in DEVICES:\n",
    "        df_access = retrieve_pageviews_aggregate_all_pages(articles, code, start, end, device, granularity, agent)\n",
    "        df_access['access'] = device\n",
    "        pd_list.append(df_access)\n",
    "\n",
    "    #pd_list = [df.set_index('date', drop=True) for df in pd_list]\n",
    "    return pd.concat(pd_list)"
   ]
  },
  {
   "cell_type": "code",
   "execution_count": 19,
   "metadata": {},
   "outputs": [
    {
     "name": "stdout",
     "output_type": "stream",
     "text": [
      "{'type': 'https://mediawiki.org/wiki/HyperSwitch/errors/not_found#route', 'title': 'Not found.', 'method': 'get', 'uri': '/wikimedia.org/v1/metrics/pageviews/per-article/en.wikipedia.org/desktop/user/Takinginterest01/sandbox/daily/20180101/20210201'}\n",
      "{'type': 'https://mediawiki.org/wiki/HyperSwitch/errors/not_found#route', 'title': 'Not found.', 'method': 'get', 'uri': '/wikimedia.org/v1/metrics/pageviews/per-article/en.wikipedia.org/mobile-app/user/Takinginterest01/sandbox/daily/20180101/20210201'}\n",
      "{'type': 'https://mediawiki.org/wiki/HyperSwitch/errors/not_found#route', 'title': 'Not found.', 'method': 'get', 'uri': '/wikimedia.org/v1/metrics/pageviews/per-article/en.wikipedia.org/mobile-web/user/Takinginterest01/sandbox/daily/20180101/20210201'}\n",
      "{'type': 'https://mediawiki.org/wiki/HyperSwitch/errors/not_found#route', 'title': 'Not found.', 'method': 'get', 'uri': '/wikimedia.org/v1/metrics/pageviews/per-article/en.wikipedia.org/desktop/user/Forest90/sandbox/Gunman_attack_in_Tripoli_2019/daily/20180101/20210201'}\n",
      "{'type': 'https://mediawiki.org/wiki/HyperSwitch/errors/not_found#route', 'title': 'Not found.', 'method': 'get', 'uri': '/wikimedia.org/v1/metrics/pageviews/per-article/en.wikipedia.org/mobile-app/user/Forest90/sandbox/Gunman_attack_in_Tripoli_2019/daily/20180101/20210201'}\n",
      "{'type': 'https://mediawiki.org/wiki/HyperSwitch/errors/not_found#route', 'title': 'Not found.', 'method': 'get', 'uri': '/wikimedia.org/v1/metrics/pageviews/per-article/en.wikipedia.org/mobile-web/user/Forest90/sandbox/Gunman_attack_in_Tripoli_2019/daily/20180101/20210201'}\n",
      "{'type': 'https://mediawiki.org/wiki/HyperSwitch/errors/not_found#route', 'title': 'Not found.', 'method': 'get', 'uri': '/wikimedia.org/v1/metrics/pageviews/per-article/en.wikipedia.org/desktop/user/LaserLegs/2020_Mogadishu_car_bombing/daily/20180101/20210201'}\n",
      "{'type': 'https://mediawiki.org/wiki/HyperSwitch/errors/not_found#route', 'title': 'Not found.', 'method': 'get', 'uri': '/wikimedia.org/v1/metrics/pageviews/per-article/en.wikipedia.org/mobile-app/user/LaserLegs/2020_Mogadishu_car_bombing/daily/20180101/20210201'}\n",
      "{'type': 'https://mediawiki.org/wiki/HyperSwitch/errors/not_found#route', 'title': 'Not found.', 'method': 'get', 'uri': '/wikimedia.org/v1/metrics/pageviews/per-article/en.wikipedia.org/mobile-web/user/LaserLegs/2020_Mogadishu_car_bombing/daily/20180101/20210201'}\n",
      "{'type': 'https://mediawiki.org/wiki/HyperSwitch/errors/not_found#route', 'title': 'Not found.', 'method': 'get', 'uri': '/wikimedia.org/v1/metrics/pageviews/per-article/en.wikipedia.org/desktop/user/Sokrates2987/February_2018_Benghazi_bombing/daily/20180101/20210201'}\n",
      "{'type': 'https://mediawiki.org/wiki/HyperSwitch/errors/not_found#route', 'title': 'Not found.', 'method': 'get', 'uri': '/wikimedia.org/v1/metrics/pageviews/per-article/en.wikipedia.org/mobile-app/user/Sokrates2987/February_2018_Benghazi_bombing/daily/20180101/20210201'}\n",
      "{'type': 'https://mediawiki.org/wiki/HyperSwitch/errors/not_found#route', 'title': 'Not found.', 'method': 'get', 'uri': '/wikimedia.org/v1/metrics/pageviews/per-article/en.wikipedia.org/mobile-web/user/Sokrates2987/February_2018_Benghazi_bombing/daily/20180101/20210201'}\n",
      "{'type': 'https://mediawiki.org/wiki/HyperSwitch/errors/not_found#route', 'title': 'Not found.', 'method': 'get', 'uri': '/wikimedia.org/v1/metrics/pageviews/per-article/en.wikipedia.org/desktop/user/Sokrates2987/2018_Benghazi_bombings/daily/20180101/20210201'}\n",
      "{'type': 'https://mediawiki.org/wiki/HyperSwitch/errors/not_found#route', 'title': 'Not found.', 'method': 'get', 'uri': '/wikimedia.org/v1/metrics/pageviews/per-article/en.wikipedia.org/mobile-app/user/Sokrates2987/2018_Benghazi_bombings/daily/20180101/20210201'}\n",
      "{'type': 'https://mediawiki.org/wiki/HyperSwitch/errors/not_found#route', 'title': 'Not found.', 'method': 'get', 'uri': '/wikimedia.org/v1/metrics/pageviews/per-article/en.wikipedia.org/mobile-web/user/Sokrates2987/2018_Benghazi_bombings/daily/20180101/20210201'}\n",
      "{'type': 'https://mediawiki.org/wiki/HyperSwitch/errors/not_found', 'title': 'Not found.', 'method': 'get', 'detail': 'The date(s) you used are valid, but we either do not have data for those date(s), or the project you asked for is not loaded yet.  Please check https://wikimedia.org/api/rest_v1/?doc for more information.', 'uri': '/analytics.wikimedia.org/v1/pageviews/per-article/en.wikipedia.org/desktop/user/Sudan_Massacre_-_2_June_2019/daily/20180101/20210201'}\n",
      "{'type': 'https://mediawiki.org/wiki/HyperSwitch/errors/not_found', 'title': 'Not found.', 'method': 'get', 'detail': 'The date(s) you used are valid, but we either do not have data for those date(s), or the project you asked for is not loaded yet.  Please check https://wikimedia.org/api/rest_v1/?doc for more information.', 'uri': '/analytics.wikimedia.org/v1/pageviews/per-article/en.wikipedia.org/mobile-app/user/Sudan_Massacre_-_2_June_2019/daily/20180101/20210201'}\n",
      "{'type': 'https://mediawiki.org/wiki/HyperSwitch/errors/not_found', 'title': 'Not found.', 'method': 'get', 'detail': 'The date(s) you used are valid, but we either do not have data for those date(s), or the project you asked for is not loaded yet.  Please check https://wikimedia.org/api/rest_v1/?doc for more information.', 'uri': '/analytics.wikimedia.org/v1/pageviews/per-article/en.wikipedia.org/mobile-web/user/Sudan_Massacre_-_2_June_2019/daily/20180101/20210201'}\n",
      "{'type': 'https://mediawiki.org/wiki/HyperSwitch/errors/not_found#route', 'title': 'Not found.', 'method': 'get', 'uri': '/wikimedia.org/v1/metrics/pageviews/per-article/en.wikipedia.org/desktop/user/Forest90/sandbox/Louisiana_black_church_fires/daily/20180101/20210201'}\n",
      "{'type': 'https://mediawiki.org/wiki/HyperSwitch/errors/not_found#route', 'title': 'Not found.', 'method': 'get', 'uri': '/wikimedia.org/v1/metrics/pageviews/per-article/en.wikipedia.org/mobile-app/user/Forest90/sandbox/Louisiana_black_church_fires/daily/20180101/20210201'}\n",
      "{'type': 'https://mediawiki.org/wiki/HyperSwitch/errors/not_found#route', 'title': 'Not found.', 'method': 'get', 'uri': '/wikimedia.org/v1/metrics/pageviews/per-article/en.wikipedia.org/mobile-web/user/Forest90/sandbox/Louisiana_black_church_fires/daily/20180101/20210201'}\n",
      "{'type': 'https://mediawiki.org/wiki/HyperSwitch/errors/not_found', 'title': 'Not found.', 'method': 'get', 'detail': 'The date(s) you used are valid, but we either do not have data for those date(s), or the project you asked for is not loaded yet.  Please check https://wikimedia.org/api/rest_v1/?doc for more information.', 'uri': '/analytics.wikimedia.org/v1/pageviews/per-article/en.wikipedia.org/desktop/user/2018_Jalalabad_suicide_bombing/daily/20180101/20210201'}\n",
      "{'type': 'https://mediawiki.org/wiki/HyperSwitch/errors/not_found', 'title': 'Not found.', 'method': 'get', 'detail': 'The date(s) you used are valid, but we either do not have data for those date(s), or the project you asked for is not loaded yet.  Please check https://wikimedia.org/api/rest_v1/?doc for more information.', 'uri': '/analytics.wikimedia.org/v1/pageviews/per-article/en.wikipedia.org/mobile-app/user/2018_Jalalabad_suicide_bombing/daily/20180101/20210201'}\n",
      "{'type': 'https://mediawiki.org/wiki/HyperSwitch/errors/not_found', 'title': 'Not found.', 'method': 'get', 'detail': 'The date(s) you used are valid, but we either do not have data for those date(s), or the project you asked for is not loaded yet.  Please check https://wikimedia.org/api/rest_v1/?doc for more information.', 'uri': '/analytics.wikimedia.org/v1/pageviews/per-article/en.wikipedia.org/mobile-web/user/2018_Jalalabad_suicide_bombing/daily/20180101/20210201'}\n",
      "{'type': 'https://mediawiki.org/wiki/HyperSwitch/errors/not_found#route', 'title': 'Not found.', 'method': 'get', 'uri': '/wikimedia.org/v1/metrics/pageviews/per-article/en.wikipedia.org/desktop/user/Kimdime/article/daily/20180101/20210201'}\n",
      "{'type': 'https://mediawiki.org/wiki/HyperSwitch/errors/not_found#route', 'title': 'Not found.', 'method': 'get', 'uri': '/wikimedia.org/v1/metrics/pageviews/per-article/en.wikipedia.org/mobile-app/user/Kimdime/article/daily/20180101/20210201'}\n",
      "{'type': 'https://mediawiki.org/wiki/HyperSwitch/errors/not_found#route', 'title': 'Not found.', 'method': 'get', 'uri': '/wikimedia.org/v1/metrics/pageviews/per-article/en.wikipedia.org/mobile-web/user/Kimdime/article/daily/20180101/20210201'}\n"
     ]
    }
   ],
   "source": [
    "# do this after below\n",
    "flatten = lambda t: [item for sublist in t for item in sublist]\n",
    "\n",
    "def unify_historical_norms(t):\n",
    "    return set(flatten(t.values))\n",
    "\n",
    "match_hist_pages = en_terr_grped[['Article_Norm', 'page_title_historical_norm']].groupby(['Article_Norm']).agg(lambda t: list(set(flatten(t.values)))).reset_index()\n",
    "match_hist_pages['page_title_historical_norm_diff'] = match_hist_pages.apply(lambda row: [title for title in row.page_title_historical_norm if title != row.Article_Norm], axis=1)\n",
    "\n",
    "pd_matched = []\n",
    "for title, titles_hist, title_hist_diff in match_hist_pages.values:\n",
    "    retrieve_list = [title] + list(title_hist_diff)\n",
    "    retrieved_title = retrieve_all_editor_activity_levels(retrieve_list, 'en')\n",
    "    retrieved_title.article = title\n",
    "    pd_matched.append(retrieved_title)\n",
    "df_final = pd.concat(pd_matched)"
   ]
  },
  {
   "cell_type": "code",
   "execution_count": 20,
   "metadata": {},
   "outputs": [
    {
     "data": {
      "text/html": [
       "<div>\n",
       "<style scoped>\n",
       "    .dataframe tbody tr th:only-of-type {\n",
       "        vertical-align: middle;\n",
       "    }\n",
       "\n",
       "    .dataframe tbody tr th {\n",
       "        vertical-align: top;\n",
       "    }\n",
       "\n",
       "    .dataframe thead th {\n",
       "        text-align: right;\n",
       "    }\n",
       "</style>\n",
       "<table border=\"1\" class=\"dataframe\">\n",
       "  <thead>\n",
       "    <tr style=\"text-align: right;\">\n",
       "      <th></th>\n",
       "      <th>date_dt</th>\n",
       "      <th>Article_Norm</th>\n",
       "      <th>views</th>\n",
       "    </tr>\n",
       "  </thead>\n",
       "  <tbody>\n",
       "    <tr>\n",
       "      <th>0</th>\n",
       "      <td>2018-01-15</td>\n",
       "      <td>2018_Baghdad_bombings</td>\n",
       "      <td>216.0</td>\n",
       "    </tr>\n",
       "    <tr>\n",
       "      <th>1</th>\n",
       "      <td>2018-01-16</td>\n",
       "      <td>2018_Baghdad_bombings</td>\n",
       "      <td>309.0</td>\n",
       "    </tr>\n",
       "    <tr>\n",
       "      <th>2</th>\n",
       "      <td>2018-01-17</td>\n",
       "      <td>2018_Baghdad_bombings</td>\n",
       "      <td>200.0</td>\n",
       "    </tr>\n",
       "    <tr>\n",
       "      <th>3</th>\n",
       "      <td>2018-01-18</td>\n",
       "      <td>2018_Baghdad_bombings</td>\n",
       "      <td>324.0</td>\n",
       "    </tr>\n",
       "    <tr>\n",
       "      <th>4</th>\n",
       "      <td>2018-01-19</td>\n",
       "      <td>2018_Baghdad_bombings</td>\n",
       "      <td>259.0</td>\n",
       "    </tr>\n",
       "    <tr>\n",
       "      <th>...</th>\n",
       "      <td>...</td>\n",
       "      <td>...</td>\n",
       "      <td>...</td>\n",
       "    </tr>\n",
       "    <tr>\n",
       "      <th>114311</th>\n",
       "      <td>2021-02-01</td>\n",
       "      <td>Sobane_Da_massacre</td>\n",
       "      <td>7.0</td>\n",
       "    </tr>\n",
       "    <tr>\n",
       "      <th>114312</th>\n",
       "      <td>2021-02-01</td>\n",
       "      <td>Stoneman_Douglas_High_School_shooting</td>\n",
       "      <td>11937.0</td>\n",
       "    </tr>\n",
       "    <tr>\n",
       "      <th>114313</th>\n",
       "      <td>2021-02-01</td>\n",
       "      <td>Surabaya_bombings</td>\n",
       "      <td>36.0</td>\n",
       "    </tr>\n",
       "    <tr>\n",
       "      <th>114314</th>\n",
       "      <td>2021-02-01</td>\n",
       "      <td>Terrorist_attack_against_cyclists_in_Tajikistan</td>\n",
       "      <td>19.0</td>\n",
       "    </tr>\n",
       "    <tr>\n",
       "      <th>114315</th>\n",
       "      <td>2021-02-01</td>\n",
       "      <td>Tinsukia_killings</td>\n",
       "      <td>0.0</td>\n",
       "    </tr>\n",
       "  </tbody>\n",
       "</table>\n",
       "<p>114316 rows × 3 columns</p>\n",
       "</div>"
      ],
      "text/plain": [
       "          date_dt                                     Article_Norm    views\n",
       "0      2018-01-15                            2018_Baghdad_bombings    216.0\n",
       "1      2018-01-16                            2018_Baghdad_bombings    309.0\n",
       "2      2018-01-17                            2018_Baghdad_bombings    200.0\n",
       "3      2018-01-18                            2018_Baghdad_bombings    324.0\n",
       "4      2018-01-19                            2018_Baghdad_bombings    259.0\n",
       "...           ...                                              ...      ...\n",
       "114311 2021-02-01                               Sobane_Da_massacre      7.0\n",
       "114312 2021-02-01            Stoneman_Douglas_High_School_shooting  11937.0\n",
       "114313 2021-02-01                                Surabaya_bombings     36.0\n",
       "114314 2021-02-01  Terrorist_attack_against_cyclists_in_Tajikistan     19.0\n",
       "114315 2021-02-01                                Tinsukia_killings      0.0\n",
       "\n",
       "[114316 rows x 3 columns]"
      ]
     },
     "execution_count": 20,
     "metadata": {},
     "output_type": "execute_result"
    }
   ],
   "source": [
    "# retrieved[retrieved.access=='desktop'].groupby(['date', 'article'])['views'].sum().reset_index()\n",
    "daily_article_views = df_final.groupby(['date', 'article'])['views'].sum().reset_index()\n",
    "daily_article_views.columns = ['date_dt', 'Article_Norm', 'views']\n",
    "daily_article_views"
   ]
  },
  {
   "cell_type": "code",
   "execution_count": 21,
   "metadata": {},
   "outputs": [
    {
     "data": {
      "text/html": [
       "<div>\n",
       "<style scoped>\n",
       "    .dataframe tbody tr th:only-of-type {\n",
       "        vertical-align: middle;\n",
       "    }\n",
       "\n",
       "    .dataframe tbody tr th {\n",
       "        vertical-align: top;\n",
       "    }\n",
       "\n",
       "    .dataframe thead th {\n",
       "        text-align: right;\n",
       "    }\n",
       "</style>\n",
       "<table border=\"1\" class=\"dataframe\">\n",
       "  <thead>\n",
       "    <tr style=\"text-align: right;\">\n",
       "      <th></th>\n",
       "      <th>date_dt</th>\n",
       "      <th>Article_Norm</th>\n",
       "      <th>date</th>\n",
       "      <th>revision_text_bytes</th>\n",
       "      <th>revision_text_bytes_diff</th>\n",
       "      <th>revision_is_identity_reverted</th>\n",
       "      <th>revision_is_identity_revert</th>\n",
       "      <th>page_revision_count</th>\n",
       "    </tr>\n",
       "  </thead>\n",
       "  <tbody>\n",
       "    <tr>\n",
       "      <th>0</th>\n",
       "      <td>2018-01-15</td>\n",
       "      <td>2018_Baghdad_bombings</td>\n",
       "      <td>20180115</td>\n",
       "      <td>5395.0</td>\n",
       "      <td>1735.0</td>\n",
       "      <td>0.0</td>\n",
       "      <td>0.0</td>\n",
       "      <td>3</td>\n",
       "    </tr>\n",
       "    <tr>\n",
       "      <th>1</th>\n",
       "      <td>2018-01-17</td>\n",
       "      <td>2018_Baghdad_bombings</td>\n",
       "      <td>20180117</td>\n",
       "      <td>10326.0</td>\n",
       "      <td>530.0</td>\n",
       "      <td>1.0</td>\n",
       "      <td>1.0</td>\n",
       "      <td>5</td>\n",
       "    </tr>\n",
       "    <tr>\n",
       "      <th>2</th>\n",
       "      <td>2018-01-18</td>\n",
       "      <td>2018_Baghdad_bombings</td>\n",
       "      <td>20180118</td>\n",
       "      <td>17261.0</td>\n",
       "      <td>516.0</td>\n",
       "      <td>0.0</td>\n",
       "      <td>1.0</td>\n",
       "      <td>7</td>\n",
       "    </tr>\n",
       "    <tr>\n",
       "      <th>3</th>\n",
       "      <td>2018-01-19</td>\n",
       "      <td>2018_Baghdad_bombings</td>\n",
       "      <td>20180119</td>\n",
       "      <td>2781.0</td>\n",
       "      <td>0.0</td>\n",
       "      <td>0.0</td>\n",
       "      <td>1.0</td>\n",
       "      <td>1</td>\n",
       "    </tr>\n",
       "    <tr>\n",
       "      <th>4</th>\n",
       "      <td>2018-01-20</td>\n",
       "      <td>2018_Baghdad_bombings</td>\n",
       "      <td>20180120</td>\n",
       "      <td>20578.0</td>\n",
       "      <td>321.0</td>\n",
       "      <td>0.0</td>\n",
       "      <td>2.0</td>\n",
       "      <td>9</td>\n",
       "    </tr>\n",
       "    <tr>\n",
       "      <th>...</th>\n",
       "      <td>...</td>\n",
       "      <td>...</td>\n",
       "      <td>...</td>\n",
       "      <td>...</td>\n",
       "      <td>...</td>\n",
       "      <td>...</td>\n",
       "      <td>...</td>\n",
       "      <td>...</td>\n",
       "    </tr>\n",
       "    <tr>\n",
       "      <th>4765</th>\n",
       "      <td>2020-11-30</td>\n",
       "      <td>Christchurch_mosque_shootings</td>\n",
       "      <td>20201130</td>\n",
       "      <td>254911.0</td>\n",
       "      <td>38.0</td>\n",
       "      <td>0.0</td>\n",
       "      <td>0.0</td>\n",
       "      <td>1</td>\n",
       "    </tr>\n",
       "    <tr>\n",
       "      <th>4766</th>\n",
       "      <td>2020-11-30</td>\n",
       "      <td>Halle_synagogue_shooting</td>\n",
       "      <td>20201130</td>\n",
       "      <td>38920.0</td>\n",
       "      <td>-23.0</td>\n",
       "      <td>0.0</td>\n",
       "      <td>0.0</td>\n",
       "      <td>1</td>\n",
       "    </tr>\n",
       "    <tr>\n",
       "      <th>4767</th>\n",
       "      <td>2020-11-30</td>\n",
       "      <td>Koshebe_massacre</td>\n",
       "      <td>20201130</td>\n",
       "      <td>33679.0</td>\n",
       "      <td>28.0</td>\n",
       "      <td>0.0</td>\n",
       "      <td>0.0</td>\n",
       "      <td>7</td>\n",
       "    </tr>\n",
       "    <tr>\n",
       "      <th>4768</th>\n",
       "      <td>2020-11-30</td>\n",
       "      <td>Murder_of_Samuel_Paty</td>\n",
       "      <td>40402260</td>\n",
       "      <td>328398.0</td>\n",
       "      <td>7.0</td>\n",
       "      <td>1.0</td>\n",
       "      <td>1.0</td>\n",
       "      <td>4</td>\n",
       "    </tr>\n",
       "    <tr>\n",
       "      <th>4769</th>\n",
       "      <td>2020-11-30</td>\n",
       "      <td>October_2018_United_States_mail_bombing_attempts</td>\n",
       "      <td>20201130</td>\n",
       "      <td>93313.0</td>\n",
       "      <td>-17.0</td>\n",
       "      <td>0.0</td>\n",
       "      <td>0.0</td>\n",
       "      <td>1</td>\n",
       "    </tr>\n",
       "  </tbody>\n",
       "</table>\n",
       "<p>4770 rows × 8 columns</p>\n",
       "</div>"
      ],
      "text/plain": [
       "        date_dt                                      Article_Norm      date  \\\n",
       "0    2018-01-15                             2018_Baghdad_bombings  20180115   \n",
       "1    2018-01-17                             2018_Baghdad_bombings  20180117   \n",
       "2    2018-01-18                             2018_Baghdad_bombings  20180118   \n",
       "3    2018-01-19                             2018_Baghdad_bombings  20180119   \n",
       "4    2018-01-20                             2018_Baghdad_bombings  20180120   \n",
       "...         ...                                               ...       ...   \n",
       "4765 2020-11-30                     Christchurch_mosque_shootings  20201130   \n",
       "4766 2020-11-30                          Halle_synagogue_shooting  20201130   \n",
       "4767 2020-11-30                                  Koshebe_massacre  20201130   \n",
       "4768 2020-11-30                             Murder_of_Samuel_Paty  40402260   \n",
       "4769 2020-11-30  October_2018_United_States_mail_bombing_attempts  20201130   \n",
       "\n",
       "      revision_text_bytes  revision_text_bytes_diff  \\\n",
       "0                  5395.0                    1735.0   \n",
       "1                 10326.0                     530.0   \n",
       "2                 17261.0                     516.0   \n",
       "3                  2781.0                       0.0   \n",
       "4                 20578.0                     321.0   \n",
       "...                   ...                       ...   \n",
       "4765             254911.0                      38.0   \n",
       "4766              38920.0                     -23.0   \n",
       "4767              33679.0                      28.0   \n",
       "4768             328398.0                       7.0   \n",
       "4769              93313.0                     -17.0   \n",
       "\n",
       "      revision_is_identity_reverted  revision_is_identity_revert  \\\n",
       "0                               0.0                          0.0   \n",
       "1                               1.0                          1.0   \n",
       "2                               0.0                          1.0   \n",
       "3                               0.0                          1.0   \n",
       "4                               0.0                          2.0   \n",
       "...                             ...                          ...   \n",
       "4765                            0.0                          0.0   \n",
       "4766                            0.0                          0.0   \n",
       "4767                            0.0                          0.0   \n",
       "4768                            1.0                          1.0   \n",
       "4769                            0.0                          0.0   \n",
       "\n",
       "      page_revision_count  \n",
       "0                       3  \n",
       "1                       5  \n",
       "2                       7  \n",
       "3                       1  \n",
       "4                       9  \n",
       "...                   ...  \n",
       "4765                    1  \n",
       "4766                    1  \n",
       "4767                    7  \n",
       "4768                    4  \n",
       "4769                    1  \n",
       "\n",
       "[4770 rows x 8 columns]"
      ]
     },
     "execution_count": 21,
     "metadata": {},
     "output_type": "execute_result"
    }
   ],
   "source": [
    "en_terr_daily = en_terr_grped[en_terr_grped.user_kind != 'bot'].groupby(['date_dt', 'Article_Norm']).sum().reset_index()\n",
    "en_terr_daily"
   ]
  },
  {
   "cell_type": "code",
   "execution_count": 22,
   "metadata": {},
   "outputs": [
    {
     "data": {
      "text/html": [
       "<div>\n",
       "<style scoped>\n",
       "    .dataframe tbody tr th:only-of-type {\n",
       "        vertical-align: middle;\n",
       "    }\n",
       "\n",
       "    .dataframe tbody tr th {\n",
       "        vertical-align: top;\n",
       "    }\n",
       "\n",
       "    .dataframe thead th {\n",
       "        text-align: right;\n",
       "    }\n",
       "</style>\n",
       "<table border=\"1\" class=\"dataframe\">\n",
       "  <thead>\n",
       "    <tr style=\"text-align: right;\">\n",
       "      <th></th>\n",
       "      <th>date_dt</th>\n",
       "      <th>Article_Norm</th>\n",
       "      <th>date</th>\n",
       "      <th>revision_text_bytes</th>\n",
       "      <th>revision_text_bytes_diff</th>\n",
       "      <th>revision_is_identity_reverted</th>\n",
       "      <th>revision_is_identity_revert</th>\n",
       "      <th>page_revision_count</th>\n",
       "      <th>views</th>\n",
       "      <th>Date</th>\n",
       "      <th>...</th>\n",
       "      <th>injuries</th>\n",
       "      <th>date_dt_y</th>\n",
       "      <th>date_w1</th>\n",
       "      <th>date_w2</th>\n",
       "      <th>date_w4</th>\n",
       "      <th>country</th>\n",
       "      <th>name</th>\n",
       "      <th>iso_code</th>\n",
       "      <th>economic_region</th>\n",
       "      <th>maxmind_continent</th>\n",
       "    </tr>\n",
       "  </thead>\n",
       "  <tbody>\n",
       "    <tr>\n",
       "      <th>0</th>\n",
       "      <td>2018-01-15</td>\n",
       "      <td>2018_Baghdad_bombings</td>\n",
       "      <td>20180115.0</td>\n",
       "      <td>5395.0</td>\n",
       "      <td>1735.0</td>\n",
       "      <td>0.0</td>\n",
       "      <td>0.0</td>\n",
       "      <td>3.0</td>\n",
       "      <td>216.0</td>\n",
       "      <td>15 January</td>\n",
       "      <td>...</td>\n",
       "      <td>105</td>\n",
       "      <td>2018-01-15</td>\n",
       "      <td>2018-01-22</td>\n",
       "      <td>2018-01-29</td>\n",
       "      <td>2018-02-14</td>\n",
       "      <td>Iraq</td>\n",
       "      <td>Iraq</td>\n",
       "      <td>IQ</td>\n",
       "      <td>Global South</td>\n",
       "      <td>Asia</td>\n",
       "    </tr>\n",
       "    <tr>\n",
       "      <th>1</th>\n",
       "      <td>2018-01-17</td>\n",
       "      <td>2018_Baghdad_bombings</td>\n",
       "      <td>20180117.0</td>\n",
       "      <td>10326.0</td>\n",
       "      <td>530.0</td>\n",
       "      <td>1.0</td>\n",
       "      <td>1.0</td>\n",
       "      <td>5.0</td>\n",
       "      <td>200.0</td>\n",
       "      <td>15 January</td>\n",
       "      <td>...</td>\n",
       "      <td>105</td>\n",
       "      <td>2018-01-15</td>\n",
       "      <td>2018-01-22</td>\n",
       "      <td>2018-01-29</td>\n",
       "      <td>2018-02-14</td>\n",
       "      <td>Iraq</td>\n",
       "      <td>Iraq</td>\n",
       "      <td>IQ</td>\n",
       "      <td>Global South</td>\n",
       "      <td>Asia</td>\n",
       "    </tr>\n",
       "    <tr>\n",
       "      <th>2</th>\n",
       "      <td>2018-01-18</td>\n",
       "      <td>2018_Baghdad_bombings</td>\n",
       "      <td>20180118.0</td>\n",
       "      <td>17261.0</td>\n",
       "      <td>516.0</td>\n",
       "      <td>0.0</td>\n",
       "      <td>1.0</td>\n",
       "      <td>7.0</td>\n",
       "      <td>324.0</td>\n",
       "      <td>15 January</td>\n",
       "      <td>...</td>\n",
       "      <td>105</td>\n",
       "      <td>2018-01-15</td>\n",
       "      <td>2018-01-22</td>\n",
       "      <td>2018-01-29</td>\n",
       "      <td>2018-02-14</td>\n",
       "      <td>Iraq</td>\n",
       "      <td>Iraq</td>\n",
       "      <td>IQ</td>\n",
       "      <td>Global South</td>\n",
       "      <td>Asia</td>\n",
       "    </tr>\n",
       "    <tr>\n",
       "      <th>3</th>\n",
       "      <td>2018-01-19</td>\n",
       "      <td>2018_Baghdad_bombings</td>\n",
       "      <td>20180119.0</td>\n",
       "      <td>2781.0</td>\n",
       "      <td>0.0</td>\n",
       "      <td>0.0</td>\n",
       "      <td>1.0</td>\n",
       "      <td>1.0</td>\n",
       "      <td>259.0</td>\n",
       "      <td>15 January</td>\n",
       "      <td>...</td>\n",
       "      <td>105</td>\n",
       "      <td>2018-01-15</td>\n",
       "      <td>2018-01-22</td>\n",
       "      <td>2018-01-29</td>\n",
       "      <td>2018-02-14</td>\n",
       "      <td>Iraq</td>\n",
       "      <td>Iraq</td>\n",
       "      <td>IQ</td>\n",
       "      <td>Global South</td>\n",
       "      <td>Asia</td>\n",
       "    </tr>\n",
       "    <tr>\n",
       "      <th>4</th>\n",
       "      <td>2018-01-20</td>\n",
       "      <td>2018_Baghdad_bombings</td>\n",
       "      <td>20180120.0</td>\n",
       "      <td>20578.0</td>\n",
       "      <td>321.0</td>\n",
       "      <td>0.0</td>\n",
       "      <td>2.0</td>\n",
       "      <td>9.0</td>\n",
       "      <td>296.0</td>\n",
       "      <td>15 January</td>\n",
       "      <td>...</td>\n",
       "      <td>105</td>\n",
       "      <td>2018-01-15</td>\n",
       "      <td>2018-01-22</td>\n",
       "      <td>2018-01-29</td>\n",
       "      <td>2018-02-14</td>\n",
       "      <td>Iraq</td>\n",
       "      <td>Iraq</td>\n",
       "      <td>IQ</td>\n",
       "      <td>Global South</td>\n",
       "      <td>Asia</td>\n",
       "    </tr>\n",
       "    <tr>\n",
       "      <th>...</th>\n",
       "      <td>...</td>\n",
       "      <td>...</td>\n",
       "      <td>...</td>\n",
       "      <td>...</td>\n",
       "      <td>...</td>\n",
       "      <td>...</td>\n",
       "      <td>...</td>\n",
       "      <td>...</td>\n",
       "      <td>...</td>\n",
       "      <td>...</td>\n",
       "      <td>...</td>\n",
       "      <td>...</td>\n",
       "      <td>...</td>\n",
       "      <td>...</td>\n",
       "      <td>...</td>\n",
       "      <td>...</td>\n",
       "      <td>...</td>\n",
       "      <td>...</td>\n",
       "      <td>...</td>\n",
       "      <td>...</td>\n",
       "      <td>...</td>\n",
       "    </tr>\n",
       "    <tr>\n",
       "      <th>116140</th>\n",
       "      <td>2021-02-01</td>\n",
       "      <td>Sobane_Da_massacre</td>\n",
       "      <td>0.0</td>\n",
       "      <td>0.0</td>\n",
       "      <td>0.0</td>\n",
       "      <td>0.0</td>\n",
       "      <td>0.0</td>\n",
       "      <td>0.0</td>\n",
       "      <td>7.0</td>\n",
       "      <td>10 June</td>\n",
       "      <td>...</td>\n",
       "      <td>0</td>\n",
       "      <td>2019-06-10</td>\n",
       "      <td>2019-06-17</td>\n",
       "      <td>2019-06-24</td>\n",
       "      <td>2019-07-10</td>\n",
       "      <td>Mali</td>\n",
       "      <td>Mali</td>\n",
       "      <td>ML</td>\n",
       "      <td>Global South</td>\n",
       "      <td>Africa</td>\n",
       "    </tr>\n",
       "    <tr>\n",
       "      <th>116141</th>\n",
       "      <td>2021-02-01</td>\n",
       "      <td>Stoneman_Douglas_High_School_shooting</td>\n",
       "      <td>0.0</td>\n",
       "      <td>0.0</td>\n",
       "      <td>0.0</td>\n",
       "      <td>0.0</td>\n",
       "      <td>0.0</td>\n",
       "      <td>0.0</td>\n",
       "      <td>11937.0</td>\n",
       "      <td>14 February</td>\n",
       "      <td>...</td>\n",
       "      <td>17</td>\n",
       "      <td>2018-02-14</td>\n",
       "      <td>2018-02-21</td>\n",
       "      <td>2018-02-28</td>\n",
       "      <td>2018-03-16</td>\n",
       "      <td>United States</td>\n",
       "      <td>United States</td>\n",
       "      <td>US</td>\n",
       "      <td>Global North</td>\n",
       "      <td>North America</td>\n",
       "    </tr>\n",
       "    <tr>\n",
       "      <th>116142</th>\n",
       "      <td>2021-02-01</td>\n",
       "      <td>Surabaya_bombings</td>\n",
       "      <td>0.0</td>\n",
       "      <td>0.0</td>\n",
       "      <td>0.0</td>\n",
       "      <td>0.0</td>\n",
       "      <td>0.0</td>\n",
       "      <td>0.0</td>\n",
       "      <td>36.0</td>\n",
       "      <td>13–14 May</td>\n",
       "      <td>...</td>\n",
       "      <td>57</td>\n",
       "      <td>2018-05-14</td>\n",
       "      <td>2018-05-21</td>\n",
       "      <td>2018-05-28</td>\n",
       "      <td>2018-06-13</td>\n",
       "      <td>Indonesia</td>\n",
       "      <td>Indonesia</td>\n",
       "      <td>ID</td>\n",
       "      <td>Global South</td>\n",
       "      <td>Asia</td>\n",
       "    </tr>\n",
       "    <tr>\n",
       "      <th>116143</th>\n",
       "      <td>2021-02-01</td>\n",
       "      <td>Terrorist_attack_against_cyclists_in_Tajikistan</td>\n",
       "      <td>0.0</td>\n",
       "      <td>0.0</td>\n",
       "      <td>0.0</td>\n",
       "      <td>0.0</td>\n",
       "      <td>0.0</td>\n",
       "      <td>0.0</td>\n",
       "      <td>19.0</td>\n",
       "      <td>29 July</td>\n",
       "      <td>...</td>\n",
       "      <td>2</td>\n",
       "      <td>2018-07-29</td>\n",
       "      <td>2018-08-05</td>\n",
       "      <td>2018-08-12</td>\n",
       "      <td>2018-08-28</td>\n",
       "      <td>Tajikistan</td>\n",
       "      <td>Tajikistan</td>\n",
       "      <td>TJ</td>\n",
       "      <td>Global South</td>\n",
       "      <td>Asia</td>\n",
       "    </tr>\n",
       "    <tr>\n",
       "      <th>116144</th>\n",
       "      <td>2021-02-01</td>\n",
       "      <td>Tinsukia_killings</td>\n",
       "      <td>0.0</td>\n",
       "      <td>0.0</td>\n",
       "      <td>0.0</td>\n",
       "      <td>0.0</td>\n",
       "      <td>0.0</td>\n",
       "      <td>0.0</td>\n",
       "      <td>0.0</td>\n",
       "      <td>1 November</td>\n",
       "      <td>...</td>\n",
       "      <td>2</td>\n",
       "      <td>2018-11-01</td>\n",
       "      <td>2018-11-08</td>\n",
       "      <td>2018-11-15</td>\n",
       "      <td>2018-12-01</td>\n",
       "      <td>India</td>\n",
       "      <td>India</td>\n",
       "      <td>IN</td>\n",
       "      <td>Global South</td>\n",
       "      <td>Asia</td>\n",
       "    </tr>\n",
       "  </tbody>\n",
       "</table>\n",
       "<p>116145 rows × 32 columns</p>\n",
       "</div>"
      ],
      "text/plain": [
       "          date_dt                                     Article_Norm  \\\n",
       "0      2018-01-15                            2018_Baghdad_bombings   \n",
       "1      2018-01-17                            2018_Baghdad_bombings   \n",
       "2      2018-01-18                            2018_Baghdad_bombings   \n",
       "3      2018-01-19                            2018_Baghdad_bombings   \n",
       "4      2018-01-20                            2018_Baghdad_bombings   \n",
       "...           ...                                              ...   \n",
       "116140 2021-02-01                               Sobane_Da_massacre   \n",
       "116141 2021-02-01            Stoneman_Douglas_High_School_shooting   \n",
       "116142 2021-02-01                                Surabaya_bombings   \n",
       "116143 2021-02-01  Terrorist_attack_against_cyclists_in_Tajikistan   \n",
       "116144 2021-02-01                                Tinsukia_killings   \n",
       "\n",
       "              date  revision_text_bytes  revision_text_bytes_diff  \\\n",
       "0       20180115.0               5395.0                    1735.0   \n",
       "1       20180117.0              10326.0                     530.0   \n",
       "2       20180118.0              17261.0                     516.0   \n",
       "3       20180119.0               2781.0                       0.0   \n",
       "4       20180120.0              20578.0                     321.0   \n",
       "...            ...                  ...                       ...   \n",
       "116140         0.0                  0.0                       0.0   \n",
       "116141         0.0                  0.0                       0.0   \n",
       "116142         0.0                  0.0                       0.0   \n",
       "116143         0.0                  0.0                       0.0   \n",
       "116144         0.0                  0.0                       0.0   \n",
       "\n",
       "        revision_is_identity_reverted  revision_is_identity_revert  \\\n",
       "0                                 0.0                          0.0   \n",
       "1                                 1.0                          1.0   \n",
       "2                                 0.0                          1.0   \n",
       "3                                 0.0                          1.0   \n",
       "4                                 0.0                          2.0   \n",
       "...                               ...                          ...   \n",
       "116140                            0.0                          0.0   \n",
       "116141                            0.0                          0.0   \n",
       "116142                            0.0                          0.0   \n",
       "116143                            0.0                          0.0   \n",
       "116144                            0.0                          0.0   \n",
       "\n",
       "        page_revision_count    views         Date  ... injuries  date_dt_y  \\\n",
       "0                       3.0    216.0   15 January  ...      105 2018-01-15   \n",
       "1                       5.0    200.0   15 January  ...      105 2018-01-15   \n",
       "2                       7.0    324.0   15 January  ...      105 2018-01-15   \n",
       "3                       1.0    259.0   15 January  ...      105 2018-01-15   \n",
       "4                       9.0    296.0   15 January  ...      105 2018-01-15   \n",
       "...                     ...      ...          ...  ...      ...        ...   \n",
       "116140                  0.0      7.0      10 June  ...        0 2019-06-10   \n",
       "116141                  0.0  11937.0  14 February  ...       17 2018-02-14   \n",
       "116142                  0.0     36.0    13–14 May  ...       57 2018-05-14   \n",
       "116143                  0.0     19.0      29 July  ...        2 2018-07-29   \n",
       "116144                  0.0      0.0   1 November  ...        2 2018-11-01   \n",
       "\n",
       "          date_w1    date_w2    date_w4        country           name  \\\n",
       "0      2018-01-22 2018-01-29 2018-02-14           Iraq           Iraq   \n",
       "1      2018-01-22 2018-01-29 2018-02-14           Iraq           Iraq   \n",
       "2      2018-01-22 2018-01-29 2018-02-14           Iraq           Iraq   \n",
       "3      2018-01-22 2018-01-29 2018-02-14           Iraq           Iraq   \n",
       "4      2018-01-22 2018-01-29 2018-02-14           Iraq           Iraq   \n",
       "...           ...        ...        ...            ...            ...   \n",
       "116140 2019-06-17 2019-06-24 2019-07-10           Mali           Mali   \n",
       "116141 2018-02-21 2018-02-28 2018-03-16  United States  United States   \n",
       "116142 2018-05-21 2018-05-28 2018-06-13      Indonesia      Indonesia   \n",
       "116143 2018-08-05 2018-08-12 2018-08-28     Tajikistan     Tajikistan   \n",
       "116144 2018-11-08 2018-11-15 2018-12-01          India          India   \n",
       "\n",
       "       iso_code  economic_region maxmind_continent  \n",
       "0            IQ     Global South              Asia  \n",
       "1            IQ     Global South              Asia  \n",
       "2            IQ     Global South              Asia  \n",
       "3            IQ     Global South              Asia  \n",
       "4            IQ     Global South              Asia  \n",
       "...         ...              ...               ...  \n",
       "116140       ML     Global South            Africa  \n",
       "116141       US     Global North     North America  \n",
       "116142       ID     Global South              Asia  \n",
       "116143       TJ     Global South              Asia  \n",
       "116144       IN     Global South              Asia  \n",
       "\n",
       "[116145 rows x 32 columns]"
      ]
     },
     "execution_count": 22,
     "metadata": {},
     "output_type": "execute_result"
    }
   ],
   "source": [
    "mrg_terr_daily = en_terr_daily.merge(daily_article_views, on=['date_dt', 'Article_Norm'], how='outer').fillna(0)\n",
    "terr_mrg = mrg_terr_daily.merge(df_terr, on='Article_Norm', how='left')\n",
    "gn_sn = pd.read_csv('bias/countries.csv')\n",
    "\n",
    "# not nice in pandas\n",
    "terr_mrg['country'] = 'unknown'\n",
    "for index, row in terr_mrg.iterrows():   \n",
    "    for name in gn_sn.name:\n",
    "        if name in row.Location:\n",
    "            terr_mrg.loc[index, 'country'] = name\n",
    "            \n",
    "terr_mrg = terr_mrg.merge(gn_sn, left_on='country', right_on='name', how='left')\n",
    "terr_mrg.fillna('unknown')\n",
    "terr_mrg.loc[terr_mrg.Article_Norm == 'Jeffersontown_Kroger_shooting', 'economic_region'] = 'Global North'\n",
    "terr_mrg.loc[terr_mrg.Article_Norm == 'Jeffersontown_Kroger_shooting', 'maxmind_continent'] = 'North America'\n",
    "terr_mrg.loc[terr_mrg.Article_Norm == 'Jeffersontown_Kroger_shooting', 'country'] = 'United States'\n",
    "terr_mrg.loc[terr_mrg.Article_Norm == 'Jeffersontown_Kroger_shooting', 'iso_code'] = 'US'\n",
    "terr_mrg.rename({'date_dt_x': 'date_dt'}, axis=1, inplace=True)\n",
    "terr_mrg"
   ]
  },
  {
   "cell_type": "code",
   "execution_count": 23,
   "metadata": {},
   "outputs": [],
   "source": [
    "def group_timeperiod(terr_mrg, mask):\n",
    "    terr_sum = (terr_mrg[mask] if mask is not None else terr_mrg).groupby(['Article_Norm']).agg({'page_revision_count': sum, 'views':sum, 'revision_text_bytes': sum, 'revision_text_bytes_diff': sum, 'revision_is_identity_reverted': sum, 'revision_is_identity_revert': sum, 'Perpetrator_Norm': 'first', 'Part of_Norm': 'first', 'deaths': 'first', 'injuries': 'first', 'Location': 'first', 'economic_region': 'first', 'maxmind_continent': 'first'})\n",
    "    terr_sum['log_views'] = np.log1p(terr_sum['views'])\n",
    "    terr_sum['log_edits'] = np.log1p(terr_sum['page_revision_count'])\n",
    "    terr_sum['reverted_rate'] = terr_sum['revision_is_identity_reverted'] / terr_sum['page_revision_count']\n",
    "    terr_sum['revert_rate'] = terr_sum['revision_is_identity_revert'] / terr_sum['page_revision_count']\n",
    "    terr_sum['edits_per_view'] = np.nan_to_num(terr_sum['views'] / terr_sum['page_revision_count'], posinf=0, neginf=0)\n",
    "    terr_sum['log_edits_per_view'] = np.log1p(terr_sum['edits_per_view'])\n",
    "    terr_sum['log_deaths_per_view'] = np.log1p(terr_sum['edits_per_view'])\n",
    "    terr_sum['log_deaths'] = np.log1p(terr_sum['deaths'])\n",
    "    terr_sum['log_injuries'] = np.log1p(terr_sum['injuries'])\n",
    "    terr_sum['log_views_per_death'] = np.log1p(np.nan_to_num(terr_sum['views'].divide(terr_sum['deaths']), posinf=0, neginf=0))\n",
    "    terr_sum['log_edits_per_death'] = np.log1p(np.nan_to_num(terr_sum['page_revision_count'].divide(terr_sum['deaths']), posinf=0))\n",
    "    terr_sum['affected'] = terr_sum['deaths'] +  terr_sum['injuries']\n",
    "    terr_sum['log_affected'] = np.log1p(terr_sum['affected'])\n",
    "    terr_sum['log_edits_per_affected'] = np.log1p(np.nan_to_num(terr_sum['page_revision_count'].divide(terr_sum['affected']), posinf=0))\n",
    "    terr_sum['log_views_per_affected'] = np.log1p(np.nan_to_num(terr_sum['views'].divide(terr_sum['affected']), posinf=0))\n",
    "\n",
    "    med_deaths = np.median(terr_sum.deaths)\n",
    "    terr_sum['cat_deaths'] = terr_sum.deaths.apply(lambda d: f'>{med_deaths}' if d > med_deaths else f'<{med_deaths}')\n",
    "    med_affected = np.median(terr_sum.affected)\n",
    "    terr_sum['cat_affected'] = terr_sum.affected.apply(lambda d: f'>{med_affected}' if d > med_deaths else f'<{med_affected}')\n",
    "    return terr_sum\n",
    "\n",
    "terr_w1_sum = group_timeperiod(terr_mrg, terr_mrg.date_dt < terr_mrg.date_w1)\n",
    "terr_w2_sum = group_timeperiod(terr_mrg, terr_mrg.date_dt < terr_mrg.date_w2)\n",
    "terr_w4_sum = group_timeperiod(terr_mrg, terr_mrg.date_dt < terr_mrg.date_w4)\n",
    "terr_all = group_timeperiod(terr_mrg, None)\n",
    "\n",
    "inv_cols = ['page_revision_count', 'views', 'reverted_rate', 'revert_rate', 'deaths', 'injuries', 'edits_per_view', 'log_edits_per_view', 'log_views_per_death', 'log_edits_per_death', 'log_edits_per_affected', 'log_views_per_affected']"
   ]
  },
  {
   "cell_type": "code",
   "execution_count": 24,
   "metadata": {},
   "outputs": [
    {
     "data": {
      "text/html": [
       "<div>\n",
       "<style scoped>\n",
       "    .dataframe tbody tr th:only-of-type {\n",
       "        vertical-align: middle;\n",
       "    }\n",
       "\n",
       "    .dataframe tbody tr th {\n",
       "        vertical-align: top;\n",
       "    }\n",
       "\n",
       "    .dataframe thead th {\n",
       "        text-align: right;\n",
       "    }\n",
       "</style>\n",
       "<table border=\"1\" class=\"dataframe\">\n",
       "  <thead>\n",
       "    <tr style=\"text-align: right;\">\n",
       "      <th></th>\n",
       "      <th>page_title_norm</th>\n",
       "      <th>page_title_historical_norm</th>\n",
       "    </tr>\n",
       "  </thead>\n",
       "  <tbody>\n",
       "    <tr>\n",
       "      <th>7502</th>\n",
       "      <td>September_2018_Jalalabad_suicide_bombing</td>\n",
       "      <td>2018_Jalalabad_suicide_bombing</td>\n",
       "    </tr>\n",
       "  </tbody>\n",
       "</table>\n",
       "</div>"
      ],
      "text/plain": [
       "                               page_title_norm      page_title_historical_norm\n",
       "7502  September_2018_Jalalabad_suicide_bombing  2018_Jalalabad_suicide_bombing"
      ]
     },
     "execution_count": 24,
     "metadata": {},
     "output_type": "execute_result"
    }
   ],
   "source": [
    "hist_nofound = en_mwh_filt_fields[en_mwh_filt_fields.page_title_norm.isin(list(terr_w1_sum[terr_w1_sum.views == 0].index)) &(en_mwh_filt_fields.page_title_norm != en_mwh_filt_fields.page_title_historical_norm)][['page_title_norm', 'page_title_historical_norm']].drop_duplicates()\n",
    "hist_nofound\n",
    "#retrieved_hist = retrieve_all_editor_activity_levels(hist_nofound.page_title_historical_norm.values, 'en')"
   ]
  },
  {
   "cell_type": "code",
   "execution_count": 25,
   "metadata": {},
   "outputs": [],
   "source": [
    "def plot_scatter_groups(terr_df, lab_x, lab_y, lab_group, figsize=None):\n",
    "    if lab_group:\n",
    "        fig,ax = plt.subplots(figsize=figsize)\n",
    "        sorted_groupby = sorted([(k,d) for k, d in terr_df.groupby(lab_group)], key=lambda x: x[0])\n",
    "        for k, d in sorted_groupby:\n",
    "            ax.scatter(d[lab_x], d[lab_y], label=k, alpha=0.75)\n",
    "        ax.set_xlabel(lab_x)\n",
    "        ax.set_ylabel(lab_y)\n",
    "        plt.legend()\n",
    "        return ax\n",
    "    else:\n",
    "        return terr_df.plot.scatter(lab_x, lab_y)\n",
    "def compute_correlation(terr_df, lab_x, lab_y):\n",
    "    print('Pearson', terr_df[lab_x].corr(terr_df[lab_y], method='pearson'))\n",
    "    print('Spearman', terr_df[lab_x].corr(terr_df[lab_y], method='spearman'))\n",
    "    print('Kendall', terr_df[lab_x].corr(terr_df[lab_y], method='kendall'))"
   ]
  },
  {
   "cell_type": "code",
   "execution_count": 15,
   "metadata": {},
   "outputs": [
    {
     "data": {
      "text/html": [
       "<div>\n",
       "<style scoped>\n",
       "    .dataframe tbody tr th:only-of-type {\n",
       "        vertical-align: middle;\n",
       "    }\n",
       "\n",
       "    .dataframe tbody tr th {\n",
       "        vertical-align: top;\n",
       "    }\n",
       "\n",
       "    .dataframe thead th {\n",
       "        text-align: right;\n",
       "    }\n",
       "</style>\n",
       "<table border=\"1\" class=\"dataframe\">\n",
       "  <thead>\n",
       "    <tr style=\"text-align: right;\">\n",
       "      <th></th>\n",
       "      <th>page_revision_count</th>\n",
       "      <th>views</th>\n",
       "      <th>reverted_rate</th>\n",
       "      <th>revert_rate</th>\n",
       "      <th>deaths</th>\n",
       "      <th>injuries</th>\n",
       "      <th>edits_per_view</th>\n",
       "      <th>log_edits_per_view</th>\n",
       "      <th>log_views_per_death</th>\n",
       "      <th>log_edits_per_death</th>\n",
       "      <th>log_edits_per_affected</th>\n",
       "      <th>log_views_per_affected</th>\n",
       "    </tr>\n",
       "  </thead>\n",
       "  <tbody>\n",
       "    <tr>\n",
       "      <th>page_revision_count</th>\n",
       "      <td>1.000000</td>\n",
       "      <td>0.889965</td>\n",
       "      <td>0.633655</td>\n",
       "      <td>0.355674</td>\n",
       "      <td>0.003443</td>\n",
       "      <td>0.082646</td>\n",
       "      <td>0.544921</td>\n",
       "      <td>0.544921</td>\n",
       "      <td>0.742770</td>\n",
       "      <td>0.660927</td>\n",
       "      <td>0.623162</td>\n",
       "      <td>0.736925</td>\n",
       "    </tr>\n",
       "    <tr>\n",
       "      <th>views</th>\n",
       "      <td>0.889965</td>\n",
       "      <td>1.000000</td>\n",
       "      <td>0.559789</td>\n",
       "      <td>0.293175</td>\n",
       "      <td>0.111113</td>\n",
       "      <td>0.140400</td>\n",
       "      <td>0.843237</td>\n",
       "      <td>0.843237</td>\n",
       "      <td>0.776380</td>\n",
       "      <td>0.553324</td>\n",
       "      <td>0.498119</td>\n",
       "      <td>0.781252</td>\n",
       "    </tr>\n",
       "    <tr>\n",
       "      <th>reverted_rate</th>\n",
       "      <td>0.633655</td>\n",
       "      <td>0.559789</td>\n",
       "      <td>1.000000</td>\n",
       "      <td>0.674175</td>\n",
       "      <td>-0.003604</td>\n",
       "      <td>0.173489</td>\n",
       "      <td>0.349473</td>\n",
       "      <td>0.349473</td>\n",
       "      <td>0.534956</td>\n",
       "      <td>0.470166</td>\n",
       "      <td>0.455060</td>\n",
       "      <td>0.523715</td>\n",
       "    </tr>\n",
       "    <tr>\n",
       "      <th>revert_rate</th>\n",
       "      <td>0.355674</td>\n",
       "      <td>0.293175</td>\n",
       "      <td>0.674175</td>\n",
       "      <td>1.000000</td>\n",
       "      <td>-0.036006</td>\n",
       "      <td>0.028722</td>\n",
       "      <td>0.156495</td>\n",
       "      <td>0.156495</td>\n",
       "      <td>0.281202</td>\n",
       "      <td>0.265888</td>\n",
       "      <td>0.285735</td>\n",
       "      <td>0.291614</td>\n",
       "    </tr>\n",
       "    <tr>\n",
       "      <th>deaths</th>\n",
       "      <td>0.003443</td>\n",
       "      <td>0.111113</td>\n",
       "      <td>-0.003604</td>\n",
       "      <td>-0.036006</td>\n",
       "      <td>1.000000</td>\n",
       "      <td>0.543586</td>\n",
       "      <td>0.286323</td>\n",
       "      <td>0.286323</td>\n",
       "      <td>-0.166756</td>\n",
       "      <td>-0.359435</td>\n",
       "      <td>-0.504226</td>\n",
       "      <td>-0.273343</td>\n",
       "    </tr>\n",
       "    <tr>\n",
       "      <th>injuries</th>\n",
       "      <td>0.082646</td>\n",
       "      <td>0.140400</td>\n",
       "      <td>0.173489</td>\n",
       "      <td>0.028722</td>\n",
       "      <td>0.543586</td>\n",
       "      <td>1.000000</td>\n",
       "      <td>0.204742</td>\n",
       "      <td>0.204742</td>\n",
       "      <td>-0.003545</td>\n",
       "      <td>-0.129206</td>\n",
       "      <td>-0.391271</td>\n",
       "      <td>-0.196088</td>\n",
       "    </tr>\n",
       "    <tr>\n",
       "      <th>edits_per_view</th>\n",
       "      <td>0.544921</td>\n",
       "      <td>0.843237</td>\n",
       "      <td>0.349473</td>\n",
       "      <td>0.156495</td>\n",
       "      <td>0.286323</td>\n",
       "      <td>0.204742</td>\n",
       "      <td>1.000000</td>\n",
       "      <td>1.000000</td>\n",
       "      <td>0.607714</td>\n",
       "      <td>0.276062</td>\n",
       "      <td>0.205452</td>\n",
       "      <td>0.614910</td>\n",
       "    </tr>\n",
       "    <tr>\n",
       "      <th>log_edits_per_view</th>\n",
       "      <td>0.544921</td>\n",
       "      <td>0.843237</td>\n",
       "      <td>0.349473</td>\n",
       "      <td>0.156495</td>\n",
       "      <td>0.286323</td>\n",
       "      <td>0.204742</td>\n",
       "      <td>1.000000</td>\n",
       "      <td>1.000000</td>\n",
       "      <td>0.607714</td>\n",
       "      <td>0.276062</td>\n",
       "      <td>0.205452</td>\n",
       "      <td>0.614910</td>\n",
       "    </tr>\n",
       "    <tr>\n",
       "      <th>log_views_per_death</th>\n",
       "      <td>0.742770</td>\n",
       "      <td>0.776380</td>\n",
       "      <td>0.534956</td>\n",
       "      <td>0.281202</td>\n",
       "      <td>-0.166756</td>\n",
       "      <td>-0.003545</td>\n",
       "      <td>0.607714</td>\n",
       "      <td>0.607714</td>\n",
       "      <td>1.000000</td>\n",
       "      <td>0.913531</td>\n",
       "      <td>0.737700</td>\n",
       "      <td>0.871340</td>\n",
       "    </tr>\n",
       "    <tr>\n",
       "      <th>log_edits_per_death</th>\n",
       "      <td>0.660927</td>\n",
       "      <td>0.553324</td>\n",
       "      <td>0.470166</td>\n",
       "      <td>0.265888</td>\n",
       "      <td>-0.359435</td>\n",
       "      <td>-0.129206</td>\n",
       "      <td>0.276062</td>\n",
       "      <td>0.276062</td>\n",
       "      <td>0.913531</td>\n",
       "      <td>1.000000</td>\n",
       "      <td>0.824135</td>\n",
       "      <td>0.765571</td>\n",
       "    </tr>\n",
       "    <tr>\n",
       "      <th>log_edits_per_affected</th>\n",
       "      <td>0.623162</td>\n",
       "      <td>0.498119</td>\n",
       "      <td>0.455060</td>\n",
       "      <td>0.285735</td>\n",
       "      <td>-0.504226</td>\n",
       "      <td>-0.391271</td>\n",
       "      <td>0.205452</td>\n",
       "      <td>0.205452</td>\n",
       "      <td>0.737700</td>\n",
       "      <td>0.824135</td>\n",
       "      <td>1.000000</td>\n",
       "      <td>0.876253</td>\n",
       "    </tr>\n",
       "    <tr>\n",
       "      <th>log_views_per_affected</th>\n",
       "      <td>0.736925</td>\n",
       "      <td>0.781252</td>\n",
       "      <td>0.523715</td>\n",
       "      <td>0.291614</td>\n",
       "      <td>-0.273343</td>\n",
       "      <td>-0.196088</td>\n",
       "      <td>0.614910</td>\n",
       "      <td>0.614910</td>\n",
       "      <td>0.871340</td>\n",
       "      <td>0.765571</td>\n",
       "      <td>0.876253</td>\n",
       "      <td>1.000000</td>\n",
       "    </tr>\n",
       "  </tbody>\n",
       "</table>\n",
       "</div>"
      ],
      "text/plain": [
       "                        page_revision_count     views  reverted_rate  \\\n",
       "page_revision_count                1.000000  0.889965       0.633655   \n",
       "views                              0.889965  1.000000       0.559789   \n",
       "reverted_rate                      0.633655  0.559789       1.000000   \n",
       "revert_rate                        0.355674  0.293175       0.674175   \n",
       "deaths                             0.003443  0.111113      -0.003604   \n",
       "injuries                           0.082646  0.140400       0.173489   \n",
       "edits_per_view                     0.544921  0.843237       0.349473   \n",
       "log_edits_per_view                 0.544921  0.843237       0.349473   \n",
       "log_views_per_death                0.742770  0.776380       0.534956   \n",
       "log_edits_per_death                0.660927  0.553324       0.470166   \n",
       "log_edits_per_affected             0.623162  0.498119       0.455060   \n",
       "log_views_per_affected             0.736925  0.781252       0.523715   \n",
       "\n",
       "                        revert_rate    deaths  injuries  edits_per_view  \\\n",
       "page_revision_count        0.355674  0.003443  0.082646        0.544921   \n",
       "views                      0.293175  0.111113  0.140400        0.843237   \n",
       "reverted_rate              0.674175 -0.003604  0.173489        0.349473   \n",
       "revert_rate                1.000000 -0.036006  0.028722        0.156495   \n",
       "deaths                    -0.036006  1.000000  0.543586        0.286323   \n",
       "injuries                   0.028722  0.543586  1.000000        0.204742   \n",
       "edits_per_view             0.156495  0.286323  0.204742        1.000000   \n",
       "log_edits_per_view         0.156495  0.286323  0.204742        1.000000   \n",
       "log_views_per_death        0.281202 -0.166756 -0.003545        0.607714   \n",
       "log_edits_per_death        0.265888 -0.359435 -0.129206        0.276062   \n",
       "log_edits_per_affected     0.285735 -0.504226 -0.391271        0.205452   \n",
       "log_views_per_affected     0.291614 -0.273343 -0.196088        0.614910   \n",
       "\n",
       "                        log_edits_per_view  log_views_per_death  \\\n",
       "page_revision_count               0.544921             0.742770   \n",
       "views                             0.843237             0.776380   \n",
       "reverted_rate                     0.349473             0.534956   \n",
       "revert_rate                       0.156495             0.281202   \n",
       "deaths                            0.286323            -0.166756   \n",
       "injuries                          0.204742            -0.003545   \n",
       "edits_per_view                    1.000000             0.607714   \n",
       "log_edits_per_view                1.000000             0.607714   \n",
       "log_views_per_death               0.607714             1.000000   \n",
       "log_edits_per_death               0.276062             0.913531   \n",
       "log_edits_per_affected            0.205452             0.737700   \n",
       "log_views_per_affected            0.614910             0.871340   \n",
       "\n",
       "                        log_edits_per_death  log_edits_per_affected  \\\n",
       "page_revision_count                0.660927                0.623162   \n",
       "views                              0.553324                0.498119   \n",
       "reverted_rate                      0.470166                0.455060   \n",
       "revert_rate                        0.265888                0.285735   \n",
       "deaths                            -0.359435               -0.504226   \n",
       "injuries                          -0.129206               -0.391271   \n",
       "edits_per_view                     0.276062                0.205452   \n",
       "log_edits_per_view                 0.276062                0.205452   \n",
       "log_views_per_death                0.913531                0.737700   \n",
       "log_edits_per_death                1.000000                0.824135   \n",
       "log_edits_per_affected             0.824135                1.000000   \n",
       "log_views_per_affected             0.765571                0.876253   \n",
       "\n",
       "                        log_views_per_affected  \n",
       "page_revision_count                   0.736925  \n",
       "views                                 0.781252  \n",
       "reverted_rate                         0.523715  \n",
       "revert_rate                           0.291614  \n",
       "deaths                               -0.273343  \n",
       "injuries                             -0.196088  \n",
       "edits_per_view                        0.614910  \n",
       "log_edits_per_view                    0.614910  \n",
       "log_views_per_death                   0.871340  \n",
       "log_edits_per_death                   0.765571  \n",
       "log_edits_per_affected                0.876253  \n",
       "log_views_per_affected                1.000000  "
      ]
     },
     "execution_count": 15,
     "metadata": {},
     "output_type": "execute_result"
    }
   ],
   "source": [
    "terr_w1_sum[inv_cols].corr('spearman')"
   ]
  },
  {
   "cell_type": "code",
   "execution_count": 16,
   "metadata": {},
   "outputs": [
    {
     "name": "stderr",
     "output_type": "stream",
     "text": [
      "/opt/conda/lib/python3.7/site-packages/numpy/core/_asarray.py:102: VisibleDeprecationWarning: Creating an ndarray from ragged nested sequences (which is a list-or-tuple of lists-or-tuples-or ndarrays with different lengths or shapes) is deprecated. If you meant to do this, you must specify 'dtype=object' when creating the ndarray.\n",
      "  return array(a, dtype, copy=False, order=order)\n",
      "/opt/conda/lib/python3.7/site-packages/numpy/core/_asarray.py:102: VisibleDeprecationWarning: Creating an ndarray from ragged nested sequences (which is a list-or-tuple of lists-or-tuples-or ndarrays with different lengths or shapes) is deprecated. If you meant to do this, you must specify 'dtype=object' when creating the ndarray.\n",
      "  return array(a, dtype, copy=False, order=order)\n",
      "/opt/conda/lib/python3.7/site-packages/numpy/core/_asarray.py:102: VisibleDeprecationWarning: Creating an ndarray from ragged nested sequences (which is a list-or-tuple of lists-or-tuples-or ndarrays with different lengths or shapes) is deprecated. If you meant to do this, you must specify 'dtype=object' when creating the ndarray.\n",
      "  return array(a, dtype, copy=False, order=order)\n",
      "/opt/conda/lib/python3.7/site-packages/numpy/core/_asarray.py:102: VisibleDeprecationWarning: Creating an ndarray from ragged nested sequences (which is a list-or-tuple of lists-or-tuples-or ndarrays with different lengths or shapes) is deprecated. If you meant to do this, you must specify 'dtype=object' when creating the ndarray.\n",
      "  return array(a, dtype, copy=False, order=order)\n",
      "/opt/conda/lib/python3.7/site-packages/numpy/core/_asarray.py:102: VisibleDeprecationWarning: Creating an ndarray from ragged nested sequences (which is a list-or-tuple of lists-or-tuples-or ndarrays with different lengths or shapes) is deprecated. If you meant to do this, you must specify 'dtype=object' when creating the ndarray.\n",
      "  return array(a, dtype, copy=False, order=order)\n",
      "/opt/conda/lib/python3.7/site-packages/numpy/core/_asarray.py:102: VisibleDeprecationWarning: Creating an ndarray from ragged nested sequences (which is a list-or-tuple of lists-or-tuples-or ndarrays with different lengths or shapes) is deprecated. If you meant to do this, you must specify 'dtype=object' when creating the ndarray.\n",
      "  return array(a, dtype, copy=False, order=order)\n"
     ]
    },
    {
     "data": {
      "image/png": "[encoded data removed]",
      "text/plain": [
       "<Figure size 720x360 with 2 Axes>"
      ]
     },
     "metadata": {
      "needs_background": "light"
     },
     "output_type": "display_data"
    },
    {
     "data": {
      "image/png": "[encoded data removed]",
      "text/plain": [
       "<Figure size 720x360 with 2 Axes>"
      ]
     },
     "metadata": {
      "needs_background": "light"
     },
     "output_type": "display_data"
    },
    {
     "data": {
      "image/png": "[encoded data removed]",
      "text/plain": [
       "<Figure size 720x360 with 2 Axes>"
      ]
     },
     "metadata": {
      "needs_background": "light"
     },
     "output_type": "display_data"
    }
   ],
   "source": [
    "boxplot1 = terr_all.boxplot(column=['revert_rate', 'reverted_rate'], by='cat_deaths', figsize=(10, 5), layout=(1,2), rot=30)\n",
    "boxplot2 = terr_all.boxplot(column=['revert_rate', 'reverted_rate'], by='economic_region', figsize=(10, 5), layout=(1,2), rot=30)\n",
    "boxplot3 = terr_all.boxplot(column=['revert_rate', 'reverted_rate'], by='maxmind_continent', figsize=(10, 5), layout=(1,2), rot=30)"
   ]
  },
  {
   "cell_type": "code",
   "execution_count": 17,
   "metadata": {},
   "outputs": [
    {
     "name": "stderr",
     "output_type": "stream",
     "text": [
      "/opt/conda/lib/python3.7/site-packages/numpy/core/_asarray.py:102: VisibleDeprecationWarning: Creating an ndarray from ragged nested sequences (which is a list-or-tuple of lists-or-tuples-or ndarrays with different lengths or shapes) is deprecated. If you meant to do this, you must specify 'dtype=object' when creating the ndarray.\n",
      "  return array(a, dtype, copy=False, order=order)\n",
      "/opt/conda/lib/python3.7/site-packages/numpy/core/_asarray.py:102: VisibleDeprecationWarning: Creating an ndarray from ragged nested sequences (which is a list-or-tuple of lists-or-tuples-or ndarrays with different lengths or shapes) is deprecated. If you meant to do this, you must specify 'dtype=object' when creating the ndarray.\n",
      "  return array(a, dtype, copy=False, order=order)\n",
      "/opt/conda/lib/python3.7/site-packages/numpy/core/_asarray.py:102: VisibleDeprecationWarning: Creating an ndarray from ragged nested sequences (which is a list-or-tuple of lists-or-tuples-or ndarrays with different lengths or shapes) is deprecated. If you meant to do this, you must specify 'dtype=object' when creating the ndarray.\n",
      "  return array(a, dtype, copy=False, order=order)\n",
      "/opt/conda/lib/python3.7/site-packages/numpy/core/_asarray.py:102: VisibleDeprecationWarning: Creating an ndarray from ragged nested sequences (which is a list-or-tuple of lists-or-tuples-or ndarrays with different lengths or shapes) is deprecated. If you meant to do this, you must specify 'dtype=object' when creating the ndarray.\n",
      "  return array(a, dtype, copy=False, order=order)\n",
      "/opt/conda/lib/python3.7/site-packages/numpy/core/_asarray.py:102: VisibleDeprecationWarning: Creating an ndarray from ragged nested sequences (which is a list-or-tuple of lists-or-tuples-or ndarrays with different lengths or shapes) is deprecated. If you meant to do this, you must specify 'dtype=object' when creating the ndarray.\n",
      "  return array(a, dtype, copy=False, order=order)\n",
      "/opt/conda/lib/python3.7/site-packages/numpy/core/_asarray.py:102: VisibleDeprecationWarning: Creating an ndarray from ragged nested sequences (which is a list-or-tuple of lists-or-tuples-or ndarrays with different lengths or shapes) is deprecated. If you meant to do this, you must specify 'dtype=object' when creating the ndarray.\n",
      "  return array(a, dtype, copy=False, order=order)\n",
      "/opt/conda/lib/python3.7/site-packages/numpy/core/_asarray.py:102: VisibleDeprecationWarning: Creating an ndarray from ragged nested sequences (which is a list-or-tuple of lists-or-tuples-or ndarrays with different lengths or shapes) is deprecated. If you meant to do this, you must specify 'dtype=object' when creating the ndarray.\n",
      "  return array(a, dtype, copy=False, order=order)\n",
      "/opt/conda/lib/python3.7/site-packages/numpy/core/_asarray.py:102: VisibleDeprecationWarning: Creating an ndarray from ragged nested sequences (which is a list-or-tuple of lists-or-tuples-or ndarrays with different lengths or shapes) is deprecated. If you meant to do this, you must specify 'dtype=object' when creating the ndarray.\n",
      "  return array(a, dtype, copy=False, order=order)\n",
      "/opt/conda/lib/python3.7/site-packages/numpy/core/_asarray.py:102: VisibleDeprecationWarning: Creating an ndarray from ragged nested sequences (which is a list-or-tuple of lists-or-tuples-or ndarrays with different lengths or shapes) is deprecated. If you meant to do this, you must specify 'dtype=object' when creating the ndarray.\n",
      "  return array(a, dtype, copy=False, order=order)\n",
      "/opt/conda/lib/python3.7/site-packages/numpy/core/_asarray.py:102: VisibleDeprecationWarning: Creating an ndarray from ragged nested sequences (which is a list-or-tuple of lists-or-tuples-or ndarrays with different lengths or shapes) is deprecated. If you meant to do this, you must specify 'dtype=object' when creating the ndarray.\n",
      "  return array(a, dtype, copy=False, order=order)\n",
      "/opt/conda/lib/python3.7/site-packages/numpy/core/_asarray.py:102: VisibleDeprecationWarning: Creating an ndarray from ragged nested sequences (which is a list-or-tuple of lists-or-tuples-or ndarrays with different lengths or shapes) is deprecated. If you meant to do this, you must specify 'dtype=object' when creating the ndarray.\n",
      "  return array(a, dtype, copy=False, order=order)\n",
      "/opt/conda/lib/python3.7/site-packages/numpy/core/_asarray.py:102: VisibleDeprecationWarning: Creating an ndarray from ragged nested sequences (which is a list-or-tuple of lists-or-tuples-or ndarrays with different lengths or shapes) is deprecated. If you meant to do this, you must specify 'dtype=object' when creating the ndarray.\n",
      "  return array(a, dtype, copy=False, order=order)\n",
      "/opt/conda/lib/python3.7/site-packages/numpy/core/_asarray.py:102: VisibleDeprecationWarning: Creating an ndarray from ragged nested sequences (which is a list-or-tuple of lists-or-tuples-or ndarrays with different lengths or shapes) is deprecated. If you meant to do this, you must specify 'dtype=object' when creating the ndarray.\n",
      "  return array(a, dtype, copy=False, order=order)\n",
      "/opt/conda/lib/python3.7/site-packages/numpy/core/_asarray.py:102: VisibleDeprecationWarning: Creating an ndarray from ragged nested sequences (which is a list-or-tuple of lists-or-tuples-or ndarrays with different lengths or shapes) is deprecated. If you meant to do this, you must specify 'dtype=object' when creating the ndarray.\n",
      "  return array(a, dtype, copy=False, order=order)\n",
      "/opt/conda/lib/python3.7/site-packages/numpy/core/_asarray.py:102: VisibleDeprecationWarning: Creating an ndarray from ragged nested sequences (which is a list-or-tuple of lists-or-tuples-or ndarrays with different lengths or shapes) is deprecated. If you meant to do this, you must specify 'dtype=object' when creating the ndarray.\n",
      "  return array(a, dtype, copy=False, order=order)\n",
      "/opt/conda/lib/python3.7/site-packages/numpy/core/_asarray.py:102: VisibleDeprecationWarning: Creating an ndarray from ragged nested sequences (which is a list-or-tuple of lists-or-tuples-or ndarrays with different lengths or shapes) is deprecated. If you meant to do this, you must specify 'dtype=object' when creating the ndarray.\n",
      "  return array(a, dtype, copy=False, order=order)\n",
      "/opt/conda/lib/python3.7/site-packages/numpy/core/_asarray.py:102: VisibleDeprecationWarning: Creating an ndarray from ragged nested sequences (which is a list-or-tuple of lists-or-tuples-or ndarrays with different lengths or shapes) is deprecated. If you meant to do this, you must specify 'dtype=object' when creating the ndarray.\n",
      "  return array(a, dtype, copy=False, order=order)\n",
      "/opt/conda/lib/python3.7/site-packages/numpy/core/_asarray.py:102: VisibleDeprecationWarning: Creating an ndarray from ragged nested sequences (which is a list-or-tuple of lists-or-tuples-or ndarrays with different lengths or shapes) is deprecated. If you meant to do this, you must specify 'dtype=object' when creating the ndarray.\n",
      "  return array(a, dtype, copy=False, order=order)\n",
      "/opt/conda/lib/python3.7/site-packages/numpy/core/_asarray.py:102: VisibleDeprecationWarning: Creating an ndarray from ragged nested sequences (which is a list-or-tuple of lists-or-tuples-or ndarrays with different lengths or shapes) is deprecated. If you meant to do this, you must specify 'dtype=object' when creating the ndarray.\n",
      "  return array(a, dtype, copy=False, order=order)\n",
      "/opt/conda/lib/python3.7/site-packages/numpy/core/_asarray.py:102: VisibleDeprecationWarning: Creating an ndarray from ragged nested sequences (which is a list-or-tuple of lists-or-tuples-or ndarrays with different lengths or shapes) is deprecated. If you meant to do this, you must specify 'dtype=object' when creating the ndarray.\n",
      "  return array(a, dtype, copy=False, order=order)\n",
      "/opt/conda/lib/python3.7/site-packages/numpy/core/_asarray.py:102: VisibleDeprecationWarning: Creating an ndarray from ragged nested sequences (which is a list-or-tuple of lists-or-tuples-or ndarrays with different lengths or shapes) is deprecated. If you meant to do this, you must specify 'dtype=object' when creating the ndarray.\n",
      "  return array(a, dtype, copy=False, order=order)\n",
      "/opt/conda/lib/python3.7/site-packages/numpy/core/_asarray.py:102: VisibleDeprecationWarning: Creating an ndarray from ragged nested sequences (which is a list-or-tuple of lists-or-tuples-or ndarrays with different lengths or shapes) is deprecated. If you meant to do this, you must specify 'dtype=object' when creating the ndarray.\n",
      "  return array(a, dtype, copy=False, order=order)\n",
      "/opt/conda/lib/python3.7/site-packages/numpy/core/_asarray.py:102: VisibleDeprecationWarning: Creating an ndarray from ragged nested sequences (which is a list-or-tuple of lists-or-tuples-or ndarrays with different lengths or shapes) is deprecated. If you meant to do this, you must specify 'dtype=object' when creating the ndarray.\n",
      "  return array(a, dtype, copy=False, order=order)\n",
      "/opt/conda/lib/python3.7/site-packages/numpy/core/_asarray.py:102: VisibleDeprecationWarning: Creating an ndarray from ragged nested sequences (which is a list-or-tuple of lists-or-tuples-or ndarrays with different lengths or shapes) is deprecated. If you meant to do this, you must specify 'dtype=object' when creating the ndarray.\n",
      "  return array(a, dtype, copy=False, order=order)\n",
      "/opt/conda/lib/python3.7/site-packages/numpy/core/_asarray.py:102: VisibleDeprecationWarning: Creating an ndarray from ragged nested sequences (which is a list-or-tuple of lists-or-tuples-or ndarrays with different lengths or shapes) is deprecated. If you meant to do this, you must specify 'dtype=object' when creating the ndarray.\n",
      "  return array(a, dtype, copy=False, order=order)\n",
      "/opt/conda/lib/python3.7/site-packages/numpy/core/_asarray.py:102: VisibleDeprecationWarning: Creating an ndarray from ragged nested sequences (which is a list-or-tuple of lists-or-tuples-or ndarrays with different lengths or shapes) is deprecated. If you meant to do this, you must specify 'dtype=object' when creating the ndarray.\n",
      "  return array(a, dtype, copy=False, order=order)\n",
      "/opt/conda/lib/python3.7/site-packages/numpy/core/_asarray.py:102: VisibleDeprecationWarning: Creating an ndarray from ragged nested sequences (which is a list-or-tuple of lists-or-tuples-or ndarrays with different lengths or shapes) is deprecated. If you meant to do this, you must specify 'dtype=object' when creating the ndarray.\n",
      "  return array(a, dtype, copy=False, order=order)\n"
     ]
    },
    {
     "data": {
      "image/png": "[encoded data removed]",
      "text/plain": [
       "<Figure size 2520x360 with 9 Axes>"
      ]
     },
     "metadata": {
      "needs_background": "light"
     },
     "output_type": "display_data"
    },
    {
     "data": {
      "image/png": "[encoded data removed]",
      "text/plain": [
       "<Figure size 2520x360 with 9 Axes>"
      ]
     },
     "metadata": {
      "needs_background": "light"
     },
     "output_type": "display_data"
    },
    {
     "data": {
      "image/png": "[encoded data removed]",
      "text/plain": [
       "<Figure size 2520x360 with 9 Axes>"
      ]
     },
     "metadata": {
      "needs_background": "light"
     },
     "output_type": "display_data"
    }
   ],
   "source": [
    "boxplot1 = terr_w1_sum.boxplot(column=['log_edits_per_view', 'log_views', 'log_edits', 'log_deaths', 'log_injuries', 'log_views_per_death', 'log_edits_per_death', 'log_views_per_affected', 'log_edits_per_affected'], by='cat_deaths', figsize=(35, 5), layout=(1, 9), rot=30)\n",
    "boxplot2 = terr_w1_sum.boxplot(column=['log_edits_per_view', 'log_views', 'log_edits', 'log_deaths', 'log_injuries', 'log_views_per_death', 'log_edits_per_death', 'log_views_per_affected', 'log_edits_per_affected'], by='economic_region', figsize=(35, 5), layout=(1,9), rot=30)\n",
    "boxplot3 = terr_w1_sum.boxplot(column=['log_edits_per_view', 'log_views', 'log_edits', 'log_deaths', 'log_injuries', 'log_views_per_death', 'log_edits_per_death', 'log_views_per_affected', 'log_edits_per_affected'], by='maxmind_continent', figsize=(35, 5), layout=(1,9), rot=30)\n",
    "#boxplot1 = terr_w1_sum.boxplot(column=['log_edits_per_view', 'log_views'], by='cat_deaths', figsize=(10, 5), rot=60)\n",
    "\n",
    "#boxplot2 = terr_w1_sum.boxplot(column=['deaths', 'injuries'], by='cat_deaths', figsize=(10, 5), rot=60)\n",
    "#boxplot3 = terr_w1_sum.boxplot(column=['log_deaths', 'log_injuries'], by='cat_deaths', figsize=(10, 5), rot=60)"
   ]
  },
  {
   "cell_type": "code",
   "execution_count": 18,
   "metadata": {},
   "outputs": [
    {
     "data": {
      "text/html": [
       "<div>\n",
       "<style scoped>\n",
       "    .dataframe tbody tr th:only-of-type {\n",
       "        vertical-align: middle;\n",
       "    }\n",
       "\n",
       "    .dataframe tbody tr th {\n",
       "        vertical-align: top;\n",
       "    }\n",
       "\n",
       "    .dataframe thead th {\n",
       "        text-align: right;\n",
       "    }\n",
       "</style>\n",
       "<table border=\"1\" class=\"dataframe\">\n",
       "  <thead>\n",
       "    <tr style=\"text-align: right;\">\n",
       "      <th></th>\n",
       "      <th>Asia</th>\n",
       "      <th>Africa</th>\n",
       "      <th>Europe</th>\n",
       "      <th>Oceania</th>\n",
       "      <th>South America</th>\n",
       "      <th>North America</th>\n",
       "    </tr>\n",
       "  </thead>\n",
       "  <tbody>\n",
       "    <tr>\n",
       "      <th>Asia</th>\n",
       "      <td>1.0</td>\n",
       "      <td>0.026272</td>\n",
       "      <td>0.0</td>\n",
       "      <td>0.010163</td>\n",
       "      <td>0.347288</td>\n",
       "      <td>0.000053</td>\n",
       "    </tr>\n",
       "    <tr>\n",
       "      <th>Africa</th>\n",
       "      <td>0.026272</td>\n",
       "      <td>1.0</td>\n",
       "      <td>0.000001</td>\n",
       "      <td>0.009754</td>\n",
       "      <td>0.20468</td>\n",
       "      <td>0.00007</td>\n",
       "    </tr>\n",
       "    <tr>\n",
       "      <th>Europe</th>\n",
       "      <td>0.0</td>\n",
       "      <td>0.000001</td>\n",
       "      <td>1.0</td>\n",
       "      <td>0.37288</td>\n",
       "      <td>0.11491</td>\n",
       "      <td>0.456355</td>\n",
       "    </tr>\n",
       "    <tr>\n",
       "      <th>Oceania</th>\n",
       "      <td>0.010163</td>\n",
       "      <td>0.009754</td>\n",
       "      <td>0.37288</td>\n",
       "      <td>1.0</td>\n",
       "      <td>0.270146</td>\n",
       "      <td>0.457229</td>\n",
       "    </tr>\n",
       "    <tr>\n",
       "      <th>South America</th>\n",
       "      <td>0.347288</td>\n",
       "      <td>0.20468</td>\n",
       "      <td>0.11491</td>\n",
       "      <td>0.270146</td>\n",
       "      <td>1.0</td>\n",
       "      <td>0.134191</td>\n",
       "    </tr>\n",
       "    <tr>\n",
       "      <th>North America</th>\n",
       "      <td>0.000053</td>\n",
       "      <td>0.00007</td>\n",
       "      <td>0.456355</td>\n",
       "      <td>0.457229</td>\n",
       "      <td>0.134191</td>\n",
       "      <td>1.0</td>\n",
       "    </tr>\n",
       "  </tbody>\n",
       "</table>\n",
       "</div>"
      ],
      "text/plain": [
       "                   Asia    Africa    Europe   Oceania South America  \\\n",
       "Asia                1.0  0.026272       0.0  0.010163      0.347288   \n",
       "Africa         0.026272       1.0  0.000001  0.009754       0.20468   \n",
       "Europe              0.0  0.000001       1.0   0.37288       0.11491   \n",
       "Oceania        0.010163  0.009754   0.37288       1.0      0.270146   \n",
       "South America  0.347288   0.20468   0.11491  0.270146           1.0   \n",
       "North America  0.000053   0.00007  0.456355  0.457229      0.134191   \n",
       "\n",
       "              North America  \n",
       "Asia               0.000053  \n",
       "Africa              0.00007  \n",
       "Europe             0.456355  \n",
       "Oceania            0.457229  \n",
       "South America      0.134191  \n",
       "North America           1.0  "
      ]
     },
     "execution_count": 18,
     "metadata": {},
     "output_type": "execute_result"
    }
   ],
   "source": [
    "from scipy import stats\n",
    "from itertools import combinations\n",
    "\n",
    "def pairwise_mwu_test(df, categories, cat_column, val_column):\n",
    "    df_test = pd.DataFrame(index=categories, columns=categories)\n",
    "\n",
    "    for comb1, comb2 in combinations(categories, 2):\n",
    "        df_test[comb1][comb2] = stats.mannwhitneyu(df[df[cat_column] == comb1][val_column], df[df[cat_column] == comb2][val_column]).pvalue\n",
    "        df_test[comb2][comb1] = df_test[comb1][comb2]\n",
    "        df_test[comb2][comb2] = 1.0\n",
    "        df_test[comb1][comb1] = 1.0\n",
    "    return df_test\n",
    "    \n",
    "pairwise_mwu_test(terr_w1_sum, terr_w1_sum.maxmind_continent.unique(), 'maxmind_continent', 'log_edits_per_affected')"
   ]
  },
  {
   "cell_type": "code",
   "execution_count": 19,
   "metadata": {},
   "outputs": [
    {
     "data": {
      "text/plain": [
       "KruskalResult(statistic=47.990524768733266, pvalue=3.5677765147413242e-09)"
      ]
     },
     "execution_count": 19,
     "metadata": {},
     "output_type": "execute_result"
    }
   ],
   "source": [
    "stats.kruskal(terr_w1_sum[terr_w1_sum.maxmind_continent == 'South America']['log_edits_per_affected'], terr_w1_sum[terr_w1_sum.maxmind_continent == 'Europe']['log_edits_per_affected'], terr_w1_sum[terr_w1_sum.maxmind_continent == 'Africa']['log_edits_per_affected'], terr_w1_sum[terr_w1_sum.maxmind_continent == 'North America']['log_edits_per_affected'], terr_w1_sum[terr_w1_sum.maxmind_continent == 'Oceania']['log_edits_per_affected'], terr_w1_sum[terr_w1_sum.maxmind_continent == 'Asia']['log_edits_per_affected'], nan_policy='raise')"
   ]
  },
  {
   "cell_type": "code",
   "execution_count": 20,
   "metadata": {},
   "outputs": [
    {
     "name": "stdout",
     "output_type": "stream",
     "text": [
      "Pearson 0.89835841283074\n",
      "Spearman 0.8899649640342278\n",
      "Kendall 0.7188938184110637\n"
     ]
    },
    {
     "data": {
      "image/png": "[encoded data removed]",
      "text/plain": [
       "<Figure size 432x288 with 1 Axes>"
      ]
     },
     "metadata": {
      "needs_background": "light"
     },
     "output_type": "display_data"
    },
    {
     "data": {
      "image/png": "[encoded data removed]",
      "text/plain": [
       "<Figure size 432x288 with 1 Axes>"
      ]
     },
     "metadata": {
      "needs_background": "light"
     },
     "output_type": "display_data"
    }
   ],
   "source": [
    "plot_scatter_groups(terr_w1_sum, 'log_edits', 'log_views', 'maxmind_continent')\n",
    "plot_scatter_groups(terr_w1_sum, 'log_edits', 'log_views', 'economic_region')\n",
    "compute_correlation(terr_w1_sum, 'log_edits', 'log_views')"
   ]
  },
  {
   "cell_type": "code",
   "execution_count": 22,
   "metadata": {},
   "outputs": [],
   "source": [
    "# can we predict activity on Wikipedia within the first 7-14 days by other parameters?\n",
    "# Dead column - add up activity\n",
    "# Add Text features?\n",
    "# Industrial statistics - think of tests used there, and check if there would be a possibility to categorize that! (multivariate)\n",
    "# Logistic regression\n",
    "# Perpetrator: Try and categorize - Islamic, Right-wing, left-wing, others, ...\n",
    "# year\n",
    "# Deaths\n",
    "# who it is directed at\n",
    "# Get pageviews! https://wikimedia.org/api/rest_v1/#/Pageviews%20data"
   ]
  },
  {
   "cell_type": "code",
   "execution_count": 18,
   "metadata": {},
   "outputs": [
    {
     "data": {
      "text/plain": [
       "<matplotlib.axes._subplots.AxesSubplot at 0x7f866a644410>"
      ]
     },
     "execution_count": 18,
     "metadata": {},
     "output_type": "execute_result"
    },
    {
     "data": {
      "image/png": "[encoded data removed]",
      "text/plain": [
       "<Figure size 432x288 with 1 Axes>"
      ]
     },
     "metadata": {
      "needs_background": "light"
     },
     "output_type": "display_data"
    },
    {
     "data": {
      "image/png": "[encoded data removed]",
      "text/plain": [
       "<Figure size 432x288 with 1 Axes>"
      ]
     },
     "metadata": {
      "needs_background": "light"
     },
     "output_type": "display_data"
    }
   ],
   "source": [
    "fig = plt.\n",
    "terr_mrg[terr_mrg.Article_Norm == '2020_Vienna_attack'].plot(x='date_dt', y=['views'])\n",
    "terr_mrg[terr_mrg.Article_Norm == '2020_Kabul_University_attack'].plot(x='date_dt', y=['views'])"
   ]
  },
  {
   "cell_type": "markdown",
   "metadata": {},
   "source": [
    "## Regression"
   ]
  },
  {
   "cell_type": "code",
   "execution_count": 22,
   "metadata": {},
   "outputs": [],
   "source": [
    "import statsmodels.api as sm\n",
    "import statsmodels.formula.api as smf"
   ]
  },
  {
   "cell_type": "code",
   "execution_count": 22,
   "metadata": {},
   "outputs": [
    {
     "data": {
      "text/html": [
       "<div>\n",
       "<style scoped>\n",
       "    .dataframe tbody tr th:only-of-type {\n",
       "        vertical-align: middle;\n",
       "    }\n",
       "\n",
       "    .dataframe tbody tr th {\n",
       "        vertical-align: top;\n",
       "    }\n",
       "\n",
       "    .dataframe thead th {\n",
       "        text-align: right;\n",
       "    }\n",
       "</style>\n",
       "<table border=\"1\" class=\"dataframe\">\n",
       "  <thead>\n",
       "    <tr style=\"text-align: right;\">\n",
       "      <th></th>\n",
       "      <th>page_revision_count</th>\n",
       "      <th>views</th>\n",
       "      <th>revision_text_bytes</th>\n",
       "      <th>revision_text_bytes_diff</th>\n",
       "      <th>revision_is_identity_reverted</th>\n",
       "      <th>revision_is_identity_revert</th>\n",
       "      <th>Perpetrator_Norm</th>\n",
       "      <th>Part of_Norm</th>\n",
       "      <th>deaths</th>\n",
       "      <th>injuries</th>\n",
       "      <th>...</th>\n",
       "      <th>log_deaths</th>\n",
       "      <th>log_injuries</th>\n",
       "      <th>log_views_per_death</th>\n",
       "      <th>log_edits_per_death</th>\n",
       "      <th>affected</th>\n",
       "      <th>log_affected</th>\n",
       "      <th>log_edits_per_affected</th>\n",
       "      <th>log_views_per_affected</th>\n",
       "      <th>cat_deaths</th>\n",
       "      <th>cat_affected</th>\n",
       "    </tr>\n",
       "    <tr>\n",
       "      <th>Article_Norm</th>\n",
       "      <th></th>\n",
       "      <th></th>\n",
       "      <th></th>\n",
       "      <th></th>\n",
       "      <th></th>\n",
       "      <th></th>\n",
       "      <th></th>\n",
       "      <th></th>\n",
       "      <th></th>\n",
       "      <th></th>\n",
       "      <th></th>\n",
       "      <th></th>\n",
       "      <th></th>\n",
       "      <th></th>\n",
       "      <th></th>\n",
       "      <th></th>\n",
       "      <th></th>\n",
       "      <th></th>\n",
       "      <th></th>\n",
       "      <th></th>\n",
       "      <th></th>\n",
       "    </tr>\n",
       "  </thead>\n",
       "  <tbody>\n",
       "    <tr>\n",
       "      <th>17_August_2019_Kabul_bombing</th>\n",
       "      <td>118.0</td>\n",
       "      <td>94085.0</td>\n",
       "      <td>1506401.0</td>\n",
       "      <td>18416.0</td>\n",
       "      <td>4.0</td>\n",
       "      <td>4.0</td>\n",
       "      <td>Islamic_State</td>\n",
       "      <td>War_in_Afghanistan</td>\n",
       "      <td>93</td>\n",
       "      <td>142</td>\n",
       "      <td>...</td>\n",
       "      <td>4.543295</td>\n",
       "      <td>4.962845</td>\n",
       "      <td>6.920342</td>\n",
       "      <td>0.819259</td>\n",
       "      <td>235</td>\n",
       "      <td>5.463832</td>\n",
       "      <td>0.406883</td>\n",
       "      <td>5.994863</td>\n",
       "      <td>&gt;11.0</td>\n",
       "      <td>&gt;28.0</td>\n",
       "    </tr>\n",
       "    <tr>\n",
       "      <th>1_July_2019_Kabul_attack</th>\n",
       "      <td>73.0</td>\n",
       "      <td>28879.0</td>\n",
       "      <td>856822.0</td>\n",
       "      <td>15033.0</td>\n",
       "      <td>1.0</td>\n",
       "      <td>2.0</td>\n",
       "      <td>Taliban</td>\n",
       "      <td>War_in_Afghanistan</td>\n",
       "      <td>45</td>\n",
       "      <td>100</td>\n",
       "      <td>...</td>\n",
       "      <td>3.828641</td>\n",
       "      <td>4.615121</td>\n",
       "      <td>6.465764</td>\n",
       "      <td>0.964022</td>\n",
       "      <td>145</td>\n",
       "      <td>4.983607</td>\n",
       "      <td>0.407761</td>\n",
       "      <td>5.299145</td>\n",
       "      <td>&gt;11.0</td>\n",
       "      <td>&gt;28.0</td>\n",
       "    </tr>\n",
       "    <tr>\n",
       "      <th>2018_African_Union_base_attack_in_Bulo_Marer</th>\n",
       "      <td>19.0</td>\n",
       "      <td>835.0</td>\n",
       "      <td>101577.0</td>\n",
       "      <td>5914.0</td>\n",
       "      <td>0.0</td>\n",
       "      <td>0.0</td>\n",
       "      <td>Al-Shabaab</td>\n",
       "      <td>Somali_Civil_War</td>\n",
       "      <td>73</td>\n",
       "      <td>0</td>\n",
       "      <td>...</td>\n",
       "      <td>4.304065</td>\n",
       "      <td>0.000000</td>\n",
       "      <td>2.520785</td>\n",
       "      <td>0.231329</td>\n",
       "      <td>73</td>\n",
       "      <td>4.304065</td>\n",
       "      <td>0.231329</td>\n",
       "      <td>2.520785</td>\n",
       "      <td>&gt;11.0</td>\n",
       "      <td>&gt;28.0</td>\n",
       "    </tr>\n",
       "  </tbody>\n",
       "</table>\n",
       "<p>3 rows × 30 columns</p>\n",
       "</div>"
      ],
      "text/plain": [
       "                                              page_revision_count    views  \\\n",
       "Article_Norm                                                                 \n",
       "17_August_2019_Kabul_bombing                                118.0  94085.0   \n",
       "1_July_2019_Kabul_attack                                     73.0  28879.0   \n",
       "2018_African_Union_base_attack_in_Bulo_Marer                 19.0    835.0   \n",
       "\n",
       "                                              revision_text_bytes  \\\n",
       "Article_Norm                                                        \n",
       "17_August_2019_Kabul_bombing                            1506401.0   \n",
       "1_July_2019_Kabul_attack                                 856822.0   \n",
       "2018_African_Union_base_attack_in_Bulo_Marer             101577.0   \n",
       "\n",
       "                                              revision_text_bytes_diff  \\\n",
       "Article_Norm                                                             \n",
       "17_August_2019_Kabul_bombing                                   18416.0   \n",
       "1_July_2019_Kabul_attack                                       15033.0   \n",
       "2018_African_Union_base_attack_in_Bulo_Marer                    5914.0   \n",
       "\n",
       "                                              revision_is_identity_reverted  \\\n",
       "Article_Norm                                                                  \n",
       "17_August_2019_Kabul_bombing                                            4.0   \n",
       "1_July_2019_Kabul_attack                                                1.0   \n",
       "2018_African_Union_base_attack_in_Bulo_Marer                            0.0   \n",
       "\n",
       "                                              revision_is_identity_revert  \\\n",
       "Article_Norm                                                                \n",
       "17_August_2019_Kabul_bombing                                          4.0   \n",
       "1_July_2019_Kabul_attack                                              2.0   \n",
       "2018_African_Union_base_attack_in_Bulo_Marer                          0.0   \n",
       "\n",
       "                                             Perpetrator_Norm  \\\n",
       "Article_Norm                                                    \n",
       "17_August_2019_Kabul_bombing                    Islamic_State   \n",
       "1_July_2019_Kabul_attack                              Taliban   \n",
       "2018_African_Union_base_attack_in_Bulo_Marer       Al-Shabaab   \n",
       "\n",
       "                                                    Part of_Norm  deaths  \\\n",
       "Article_Norm                                                               \n",
       "17_August_2019_Kabul_bombing                  War_in_Afghanistan      93   \n",
       "1_July_2019_Kabul_attack                      War_in_Afghanistan      45   \n",
       "2018_African_Union_base_attack_in_Bulo_Marer    Somali_Civil_War      73   \n",
       "\n",
       "                                              injuries  ... log_deaths  \\\n",
       "Article_Norm                                            ...              \n",
       "17_August_2019_Kabul_bombing                       142  ...   4.543295   \n",
       "1_July_2019_Kabul_attack                           100  ...   3.828641   \n",
       "2018_African_Union_base_attack_in_Bulo_Marer         0  ...   4.304065   \n",
       "\n",
       "                                             log_injuries log_views_per_death  \\\n",
       "Article_Norm                                                                    \n",
       "17_August_2019_Kabul_bombing                     4.962845            6.920342   \n",
       "1_July_2019_Kabul_attack                         4.615121            6.465764   \n",
       "2018_African_Union_base_attack_in_Bulo_Marer     0.000000            2.520785   \n",
       "\n",
       "                                              log_edits_per_death  affected  \\\n",
       "Article_Norm                                                                  \n",
       "17_August_2019_Kabul_bombing                             0.819259       235   \n",
       "1_July_2019_Kabul_attack                                 0.964022       145   \n",
       "2018_African_Union_base_attack_in_Bulo_Marer             0.231329        73   \n",
       "\n",
       "                                              log_affected  \\\n",
       "Article_Norm                                                 \n",
       "17_August_2019_Kabul_bombing                      5.463832   \n",
       "1_July_2019_Kabul_attack                          4.983607   \n",
       "2018_African_Union_base_attack_in_Bulo_Marer      4.304065   \n",
       "\n",
       "                                              log_edits_per_affected  \\\n",
       "Article_Norm                                                           \n",
       "17_August_2019_Kabul_bombing                                0.406883   \n",
       "1_July_2019_Kabul_attack                                    0.407761   \n",
       "2018_African_Union_base_attack_in_Bulo_Marer                0.231329   \n",
       "\n",
       "                                              log_views_per_affected  \\\n",
       "Article_Norm                                                           \n",
       "17_August_2019_Kabul_bombing                                5.994863   \n",
       "1_July_2019_Kabul_attack                                    5.299145   \n",
       "2018_African_Union_base_attack_in_Bulo_Marer                2.520785   \n",
       "\n",
       "                                              cat_deaths  cat_affected  \n",
       "Article_Norm                                                            \n",
       "17_August_2019_Kabul_bombing                       >11.0         >28.0  \n",
       "1_July_2019_Kabul_attack                           >11.0         >28.0  \n",
       "2018_African_Union_base_attack_in_Bulo_Marer       >11.0         >28.0  \n",
       "\n",
       "[3 rows x 30 columns]"
      ]
     },
     "execution_count": 22,
     "metadata": {},
     "output_type": "execute_result"
    }
   ],
   "source": [
    "terr_w1_sum.head(3)"
   ]
  },
  {
   "cell_type": "code",
   "execution_count": 28,
   "metadata": {},
   "outputs": [],
   "source": [
    "def plot_and_fit(df, col_y, col_xval, col_xcat, interaction=True, interval='confidence'):\n",
    "    ols = smf.ols(f'{col_y} ~ {col_xval} {\"*\" if interaction else \"+\"} {col_xcat}', data=df).fit()\n",
    "\n",
    "    ax_scatter = plot_scatter_groups(df, col_xval, col_y, col_xcat, (10,10))\n",
    "    for cat in sorted(df[col_xcat].unique()):\n",
    "        new_df = pd.DataFrame(columns=[col_xval, col_xcat])\n",
    "        new_df[col_xval] = np.arange(0, df[col_xval].max() + 0.5, 0.5)\n",
    "        new_df[col_xcat] = cat\n",
    "        predictions = ols.get_prediction(new_df)\n",
    "        pred_results = predictions.summary_frame(alpha=0.05)\n",
    "        new_df[f'pred_{col_y}'] = pred_results['mean']\n",
    "        new_df['band_upper'] = pred_results.mean_ci_upper if interval == 'confidence' else pred_results.obs_ci_upper #if interval == 'prediction' else np.na\n",
    "        new_df['band_lower'] = pred_results.mean_ci_lower if interval == 'confidence' else pred_results.obs_ci_lower #if interval == 'prediction' else np.na\n",
    "        new_df.plot(x=col_xval, y=f'pred_{col_y}', ax=ax_scatter, label='_nolegend_')\n",
    "        color = ax_scatter.get_lines()[-1].get_color()\n",
    "        if interval:\n",
    "            ax_scatter.fill_between(new_df[col_xval].values, new_df['band_lower'].values, new_df['band_upper'].values, color = color, alpha=.1)\n",
    "    return ols, ax_scatter"
   ]
  },
  {
   "cell_type": "markdown",
   "metadata": {},
   "source": [
    "# Continent"
   ]
  },
  {
   "cell_type": "code",
   "execution_count": 32,
   "metadata": {},
   "outputs": [
    {
     "name": "stderr",
     "output_type": "stream",
     "text": [
      "/opt/conda/lib/python3.7/site-packages/pandas/plotting/_matplotlib/core.py:613: UserWarning: The handle <matplotlib.lines.Line2D object at 0x7f8656bba5d0> has a label of '_nolegend_' which cannot be automatically added to the legend.\n",
      "  ax.legend(handles, labels, loc=\"best\", title=title)\n",
      "/opt/conda/lib/python3.7/site-packages/pandas/plotting/_matplotlib/core.py:613: UserWarning: The handle <matplotlib.lines.Line2D object at 0x7f8656b563d0> has a label of '_nolegend_' which cannot be automatically added to the legend.\n",
      "  ax.legend(handles, labels, loc=\"best\", title=title)\n",
      "/opt/conda/lib/python3.7/site-packages/pandas/plotting/_matplotlib/core.py:613: UserWarning: The handle <matplotlib.lines.Line2D object at 0x7f8656b56c90> has a label of '_nolegend_' which cannot be automatically added to the legend.\n",
      "  ax.legend(handles, labels, loc=\"best\", title=title)\n",
      "/opt/conda/lib/python3.7/site-packages/pandas/plotting/_matplotlib/core.py:613: UserWarning: The handle <matplotlib.lines.Line2D object at 0x7f8656b6ad50> has a label of '_nolegend_' which cannot be automatically added to the legend.\n",
      "  ax.legend(handles, labels, loc=\"best\", title=title)\n",
      "/opt/conda/lib/python3.7/site-packages/pandas/plotting/_matplotlib/core.py:613: UserWarning: The handle <matplotlib.lines.Line2D object at 0x7f8656b1cdd0> has a label of '_nolegend_' which cannot be automatically added to the legend.\n",
      "  ax.legend(handles, labels, loc=\"best\", title=title)\n",
      "/opt/conda/lib/python3.7/site-packages/pandas/plotting/_matplotlib/core.py:613: UserWarning: The handle <matplotlib.lines.Line2D object at 0x7f8656ab3dd0> has a label of '_nolegend_' which cannot be automatically added to the legend.\n",
      "  ax.legend(handles, labels, loc=\"best\", title=title)\n"
     ]
    },
    {
     "data": {
      "text/html": [
       "<table class=\"simpletable\">\n",
       "<tr>\n",
       "        <td>Model:</td>               <td>OLS</td>         <td>Adj. R-squared:</td>     <td>0.330</td> \n",
       "</tr>\n",
       "<tr>\n",
       "  <td>Dependent Variable:</td>     <td>log_views</td>           <td>AIC:</td>         <td>668.1196</td>\n",
       "</tr>\n",
       "<tr>\n",
       "         <td>Date:</td>        <td>2021-09-09 16:22</td>        <td>BIC:</td>         <td>701.4544</td>\n",
       "</tr>\n",
       "<tr>\n",
       "   <td>No. Observations:</td>         <td>153</td>         <td>Log-Likelihood:</td>    <td>-323.06</td>\n",
       "</tr>\n",
       "<tr>\n",
       "       <td>Df Model:</td>             <td>10</td>           <td>F-statistic:</td>       <td>8.500</td> \n",
       "</tr>\n",
       "<tr>\n",
       "     <td>Df Residuals:</td>           <td>142</td>       <td>Prob (F-statistic):</td> <td>9.00e-11</td>\n",
       "</tr>\n",
       "<tr>\n",
       "      <td>R-squared:</td>            <td>0.374</td>            <td>Scale:</td>         <td>4.3048</td> \n",
       "</tr>\n",
       "</table>\n",
       "<table class=\"simpletable\">\n",
       "<tr>\n",
       "                        <td></td>                         <th>Coef.</th>  <th>Std.Err.</th>    <th>t</th>     <th>P>|t|</th> <th>[0.025</th>  <th>0.975]</th>\n",
       "</tr>\n",
       "<tr>\n",
       "  <th>Intercept</th>                                     <td>4.9997</td>   <td>0.8340</td>  <td>5.9949</td>  <td>0.0000</td> <td>3.3511</td>  <td>6.6484</td>\n",
       "</tr>\n",
       "<tr>\n",
       "  <th>maxmind_continent[T.Asia]</th>                     <td>1.2243</td>   <td>1.0348</td>  <td>1.1832</td>  <td>0.2387</td> <td>-0.8212</td> <td>3.2698</td>\n",
       "</tr>\n",
       "<tr>\n",
       "  <th>maxmind_continent[T.Europe]</th>                   <td>2.2120</td>   <td>1.0813</td>  <td>2.0458</td>  <td>0.0426</td> <td>0.0746</td>  <td>4.3495</td>\n",
       "</tr>\n",
       "<tr>\n",
       "  <th>maxmind_continent[T.North America]</th>            <td>4.2018</td>   <td>1.5086</td>  <td>2.7852</td>  <td>0.0061</td> <td>1.2196</td>  <td>7.1841</td>\n",
       "</tr>\n",
       "<tr>\n",
       "  <th>maxmind_continent[T.Oceania]</th>                  <td>2.6927</td>   <td>3.0973</td>  <td>0.8694</td>  <td>0.3861</td> <td>-3.4301</td> <td>8.8154</td>\n",
       "</tr>\n",
       "<tr>\n",
       "  <th>maxmind_continent[T.South America]</th>            <td>0.3058</td>   <td>0.1990</td>  <td>1.5367</td>  <td>0.1266</td> <td>-0.0876</td> <td>0.6991</td>\n",
       "</tr>\n",
       "<tr>\n",
       "  <th>log_deaths</th>                                    <td>0.7235</td>   <td>0.2448</td>  <td>2.9555</td>  <td>0.0037</td> <td>0.2396</td>  <td>1.2074</td>\n",
       "</tr>\n",
       "<tr>\n",
       "  <th>log_deaths:maxmind_continent[T.Asia]</th>          <td>-0.0725</td>  <td>0.3186</td>  <td>-0.2274</td> <td>0.8204</td> <td>-0.7023</td> <td>0.5573</td>\n",
       "</tr>\n",
       "<tr>\n",
       "  <th>log_deaths:maxmind_continent[T.Europe]</th>        <td>1.3581</td>   <td>0.5936</td>  <td>2.2879</td>  <td>0.0236</td> <td>0.1847</td>  <td>2.5315</td>\n",
       "</tr>\n",
       "<tr>\n",
       "  <th>log_deaths:maxmind_continent[T.North America]</th> <td>0.5651</td>   <td>0.7143</td>  <td>0.7911</td>  <td>0.4302</td> <td>-0.8469</td> <td>1.9771</td>\n",
       "</tr>\n",
       "<tr>\n",
       "  <th>log_deaths:maxmind_continent[T.Oceania]</th>       <td>0.9389</td>   <td>1.0573</td>  <td>0.8880</td>  <td>0.3761</td> <td>-1.1513</td> <td>3.0290</td>\n",
       "</tr>\n",
       "<tr>\n",
       "  <th>log_deaths:maxmind_continent[T.South America]</th> <td>0.9451</td>   <td>0.6150</td>  <td>1.5367</td>  <td>0.1266</td> <td>-0.2706</td> <td>2.1609</td>\n",
       "</tr>\n",
       "</table>\n",
       "<table class=\"simpletable\">\n",
       "<tr>\n",
       "     <td>Omnibus:</td>    <td>15.960</td>  <td>Durbin-Watson:</td>         <td>1.927</td>      \n",
       "</tr>\n",
       "<tr>\n",
       "  <td>Prob(Omnibus):</td>  <td>0.000</td> <td>Jarque-Bera (JB):</td>      <td>28.690</td>      \n",
       "</tr>\n",
       "<tr>\n",
       "       <td>Skew:</td>     <td>-0.491</td>     <td>Prob(JB):</td>           <td>0.000</td>      \n",
       "</tr>\n",
       "<tr>\n",
       "     <td>Kurtosis:</td>    <td>4.880</td>  <td>Condition No.:</td>   <td>31561372048574960</td>\n",
       "</tr>\n",
       "</table>"
      ],
      "text/plain": [
       "<class 'statsmodels.iolib.summary2.Summary'>\n",
       "\"\"\"\n",
       "                              Results: Ordinary least squares\n",
       "============================================================================================\n",
       "Model:                       OLS                       Adj. R-squared:              0.330   \n",
       "Dependent Variable:          log_views                 AIC:                         668.1196\n",
       "Date:                        2021-09-09 16:22          BIC:                         701.4544\n",
       "No. Observations:            153                       Log-Likelihood:              -323.06 \n",
       "Df Model:                    10                        F-statistic:                 8.500   \n",
       "Df Residuals:                142                       Prob (F-statistic):          9.00e-11\n",
       "R-squared:                   0.374                     Scale:                       4.3048  \n",
       "--------------------------------------------------------------------------------------------\n",
       "                                               Coef.  Std.Err.    t    P>|t|   [0.025 0.975]\n",
       "--------------------------------------------------------------------------------------------\n",
       "Intercept                                      4.9997   0.8340  5.9949 0.0000  3.3511 6.6484\n",
       "maxmind_continent[T.Asia]                      1.2243   1.0348  1.1832 0.2387 -0.8212 3.2698\n",
       "maxmind_continent[T.Europe]                    2.2120   1.0813  2.0458 0.0426  0.0746 4.3495\n",
       "maxmind_continent[T.North America]             4.2018   1.5086  2.7852 0.0061  1.2196 7.1841\n",
       "maxmind_continent[T.Oceania]                   2.6927   3.0973  0.8694 0.3861 -3.4301 8.8154\n",
       "maxmind_continent[T.South America]             0.3058   0.1990  1.5367 0.1266 -0.0876 0.6991\n",
       "log_deaths                                     0.7235   0.2448  2.9555 0.0037  0.2396 1.2074\n",
       "log_deaths:maxmind_continent[T.Asia]          -0.0725   0.3186 -0.2274 0.8204 -0.7023 0.5573\n",
       "log_deaths:maxmind_continent[T.Europe]         1.3581   0.5936  2.2879 0.0236  0.1847 2.5315\n",
       "log_deaths:maxmind_continent[T.North America]  0.5651   0.7143  0.7911 0.4302 -0.8469 1.9771\n",
       "log_deaths:maxmind_continent[T.Oceania]        0.9389   1.0573  0.8880 0.3761 -1.1513 3.0290\n",
       "log_deaths:maxmind_continent[T.South America]  0.9451   0.6150  1.5367 0.1266 -0.2706 2.1609\n",
       "--------------------------------------------------------------------------------------------\n",
       "Omnibus:                    15.960            Durbin-Watson:               1.927            \n",
       "Prob(Omnibus):              0.000             Jarque-Bera (JB):            28.690           \n",
       "Skew:                       -0.491            Prob(JB):                    0.000            \n",
       "Kurtosis:                   4.880             Condition No.:               31561372048574960\n",
       "============================================================================================\n",
       "* The condition number is large (3e+16). This might indicate             strong\n",
       "multicollinearity or other numerical problems.\n",
       "\"\"\""
      ]
     },
     "execution_count": 32,
     "metadata": {},
     "output_type": "execute_result"
    },
    {
     "data": {
      "image/png": "[encoded data removed]",
      "text/plain": [
       "<Figure size 720x720 with 1 Axes>"
      ]
     },
     "metadata": {
      "needs_background": "light"
     },
     "output_type": "display_data"
    }
   ],
   "source": [
    "ols, ax = plot_and_fit(terr_w1_sum, 'log_views', 'log_deaths', 'maxmind_continent', interval=None)\n",
    "ols.summary2()"
   ]
  },
  {
   "cell_type": "markdown",
   "metadata": {},
   "source": [
    "# Economic Region"
   ]
  },
  {
   "cell_type": "code",
   "execution_count": 25,
   "metadata": {},
   "outputs": [
    {
     "name": "stderr",
     "output_type": "stream",
     "text": [
      "/opt/conda/lib/python3.7/site-packages/pandas/plotting/_matplotlib/core.py:613: UserWarning: The handle <matplotlib.lines.Line2D object at 0x7f7560ce13d0> has a label of '_nolegend_' which cannot be automatically added to the legend.\n",
      "  ax.legend(handles, labels, loc=\"best\", title=title)\n",
      "/opt/conda/lib/python3.7/site-packages/pandas/plotting/_matplotlib/core.py:613: UserWarning: The handle <matplotlib.lines.Line2D object at 0x7f7560479050> has a label of '_nolegend_' which cannot be automatically added to the legend.\n",
      "  ax.legend(handles, labels, loc=\"best\", title=title)\n"
     ]
    },
    {
     "data": {
      "text/html": [
       "<table class=\"simpletable\">\n",
       "<tr>\n",
       "        <td>Model:</td>               <td>OLS</td>         <td>Adj. R-squared:</td>     <td>0.815</td> \n",
       "</tr>\n",
       "<tr>\n",
       "  <td>Dependent Variable:</td>     <td>log_views</td>           <td>AIC:</td>         <td>465.0448</td>\n",
       "</tr>\n",
       "<tr>\n",
       "         <td>Date:</td>        <td>2021-05-27 13:34</td>        <td>BIC:</td>         <td>477.1666</td>\n",
       "</tr>\n",
       "<tr>\n",
       "   <td>No. Observations:</td>         <td>153</td>         <td>Log-Likelihood:</td>    <td>-228.52</td>\n",
       "</tr>\n",
       "<tr>\n",
       "       <td>Df Model:</td>              <td>3</td>           <td>F-statistic:</td>       <td>223.5</td> \n",
       "</tr>\n",
       "<tr>\n",
       "     <td>Df Residuals:</td>           <td>149</td>       <td>Prob (F-statistic):</td> <td>6.11e-55</td>\n",
       "</tr>\n",
       "<tr>\n",
       "      <td>R-squared:</td>            <td>0.818</td>            <td>Scale:</td>         <td>1.1922</td> \n",
       "</tr>\n",
       "</table>\n",
       "<table class=\"simpletable\">\n",
       "<tr>\n",
       "                      <td></td>                       <th>Coef.</th>  <th>Std.Err.</th>    <th>t</th>     <th>P>|t|</th> <th>[0.025</th>  <th>0.975]</th>\n",
       "</tr>\n",
       "<tr>\n",
       "  <th>Intercept</th>                                 <td>2.3990</td>   <td>0.5451</td>  <td>4.4009</td>  <td>0.0000</td> <td>1.3218</td>  <td>3.4762</td>\n",
       "</tr>\n",
       "<tr>\n",
       "  <th>economic_region[T.Global South]</th>           <td>-0.3376</td>  <td>0.6297</td>  <td>-0.5361</td> <td>0.5927</td> <td>-1.5818</td> <td>0.9067</td>\n",
       "</tr>\n",
       "<tr>\n",
       "  <th>log_edits</th>                                 <td>1.4328</td>   <td>0.1002</td>  <td>14.2935</td> <td>0.0000</td> <td>1.2347</td>  <td>1.6309</td>\n",
       "</tr>\n",
       "<tr>\n",
       "  <th>log_edits:economic_region[T.Global South]</th> <td>0.2080</td>   <td>0.1315</td>  <td>1.5820</td>  <td>0.1158</td> <td>-0.0518</td> <td>0.4678</td>\n",
       "</tr>\n",
       "</table>\n",
       "<table class=\"simpletable\">\n",
       "<tr>\n",
       "     <td>Omnibus:</td>    <td>31.108</td>  <td>Durbin-Watson:</td>    <td>1.722</td>\n",
       "</tr>\n",
       "<tr>\n",
       "  <td>Prob(Omnibus):</td>  <td>0.000</td> <td>Jarque-Bera (JB):</td> <td>52.966</td>\n",
       "</tr>\n",
       "<tr>\n",
       "       <td>Skew:</td>     <td>-0.987</td>     <td>Prob(JB):</td>      <td>0.000</td>\n",
       "</tr>\n",
       "<tr>\n",
       "     <td>Kurtosis:</td>    <td>5.100</td>  <td>Condition No.:</td>     <td>48</td>  \n",
       "</tr>\n",
       "</table>"
      ],
      "text/plain": [
       "<class 'statsmodels.iolib.summary2.Summary'>\n",
       "\"\"\"\n",
       "                            Results: Ordinary least squares\n",
       "========================================================================================\n",
       "Model:                       OLS                     Adj. R-squared:            0.815   \n",
       "Dependent Variable:          log_views               AIC:                       465.0448\n",
       "Date:                        2021-05-27 13:34        BIC:                       477.1666\n",
       "No. Observations:            153                     Log-Likelihood:            -228.52 \n",
       "Df Model:                    3                       F-statistic:               223.5   \n",
       "Df Residuals:                149                     Prob (F-statistic):        6.11e-55\n",
       "R-squared:                   0.818                   Scale:                     1.1922  \n",
       "----------------------------------------------------------------------------------------\n",
       "                                           Coef.  Std.Err.    t    P>|t|   [0.025 0.975]\n",
       "----------------------------------------------------------------------------------------\n",
       "Intercept                                  2.3990   0.5451  4.4009 0.0000  1.3218 3.4762\n",
       "economic_region[T.Global South]           -0.3376   0.6297 -0.5361 0.5927 -1.5818 0.9067\n",
       "log_edits                                  1.4328   0.1002 14.2935 0.0000  1.2347 1.6309\n",
       "log_edits:economic_region[T.Global South]  0.2080   0.1315  1.5820 0.1158 -0.0518 0.4678\n",
       "----------------------------------------------------------------------------------------\n",
       "Omnibus:                     31.108               Durbin-Watson:                  1.722 \n",
       "Prob(Omnibus):               0.000                Jarque-Bera (JB):               52.966\n",
       "Skew:                        -0.987               Prob(JB):                       0.000 \n",
       "Kurtosis:                    5.100                Condition No.:                  48    \n",
       "========================================================================================\n",
       "\n",
       "\"\"\""
      ]
     },
     "execution_count": 25,
     "metadata": {},
     "output_type": "execute_result"
    },
    {
     "data": {
      "image/png": "[encoded data removed]",
      "text/plain": [
       "<Figure size 720x720 with 1 Axes>"
      ]
     },
     "metadata": {
      "needs_background": "light"
     },
     "output_type": "display_data"
    }
   ],
   "source": [
    "ols, ax = plot_and_fit(terr_w1_sum, 'log_views', 'log_edits', 'economic_region')\n",
    "ols.summary2()"
   ]
  },
  {
   "cell_type": "markdown",
   "metadata": {},
   "source": [
    "ols, ax = plot_and_fit(terr_w1_sum, 'log_views', 'log_affected', 'economic_region')\n",
    "ols.summary2()"
   ]
  },
  {
   "cell_type": "code",
   "execution_count": 26,
   "metadata": {},
   "outputs": [
    {
     "name": "stderr",
     "output_type": "stream",
     "text": [
      "/opt/conda/lib/python3.7/site-packages/pandas/plotting/_matplotlib/core.py:613: UserWarning: The handle <matplotlib.lines.Line2D object at 0x7f7560465b90> has a label of '_nolegend_' which cannot be automatically added to the legend.\n",
      "  ax.legend(handles, labels, loc=\"best\", title=title)\n",
      "/opt/conda/lib/python3.7/site-packages/pandas/plotting/_matplotlib/core.py:613: UserWarning: The handle <matplotlib.lines.Line2D object at 0x7f756040b050> has a label of '_nolegend_' which cannot be automatically added to the legend.\n",
      "  ax.legend(handles, labels, loc=\"best\", title=title)\n"
     ]
    },
    {
     "data": {
      "text/html": [
       "<table class=\"simpletable\">\n",
       "<tr>\n",
       "        <td>Model:</td>               <td>OLS</td>         <td>Adj. R-squared:</td>     <td>0.216</td> \n",
       "</tr>\n",
       "<tr>\n",
       "  <td>Dependent Variable:</td>     <td>log_views</td>           <td>AIC:</td>         <td>684.7304</td>\n",
       "</tr>\n",
       "<tr>\n",
       "         <td>Date:</td>        <td>2021-05-27 13:34</td>        <td>BIC:</td>         <td>693.8217</td>\n",
       "</tr>\n",
       "<tr>\n",
       "   <td>No. Observations:</td>         <td>153</td>         <td>Log-Likelihood:</td>    <td>-339.37</td>\n",
       "</tr>\n",
       "<tr>\n",
       "       <td>Df Model:</td>              <td>2</td>           <td>F-statistic:</td>       <td>21.88</td> \n",
       "</tr>\n",
       "<tr>\n",
       "     <td>Df Residuals:</td>           <td>150</td>       <td>Prob (F-statistic):</td> <td>4.60e-09</td>\n",
       "</tr>\n",
       "<tr>\n",
       "      <td>R-squared:</td>            <td>0.226</td>            <td>Scale:</td>         <td>5.0434</td> \n",
       "</tr>\n",
       "</table>\n",
       "<table class=\"simpletable\">\n",
       "<tr>\n",
       "                 <td></td>                  <th>Coef.</th>  <th>Std.Err.</th>    <th>t</th>     <th>P>|t|</th> <th>[0.025</th>  <th>0.975]</th> \n",
       "</tr>\n",
       "<tr>\n",
       "  <th>Intercept</th>                       <td>8.4369</td>   <td>0.4620</td>  <td>18.2624</td> <td>0.0000</td> <td>7.5241</td>  <td>9.3497</td> \n",
       "</tr>\n",
       "<tr>\n",
       "  <th>economic_region[T.Global South]</th> <td>-3.0850</td>  <td>0.4813</td>  <td>-6.4091</td> <td>0.0000</td> <td>-4.0361</td> <td>-2.1339</td>\n",
       "</tr>\n",
       "<tr>\n",
       "  <th>log_affected</th>                    <td>0.6598</td>   <td>0.1426</td>  <td>4.6275</td>  <td>0.0000</td> <td>0.3781</td>  <td>0.9416</td> \n",
       "</tr>\n",
       "</table>\n",
       "<table class=\"simpletable\">\n",
       "<tr>\n",
       "     <td>Omnibus:</td>    <td>12.960</td>  <td>Durbin-Watson:</td>    <td>1.951</td>\n",
       "</tr>\n",
       "<tr>\n",
       "  <td>Prob(Omnibus):</td>  <td>0.002</td> <td>Jarque-Bera (JB):</td> <td>16.585</td>\n",
       "</tr>\n",
       "<tr>\n",
       "       <td>Skew:</td>     <td>-0.531</td>     <td>Prob(JB):</td>      <td>0.000</td>\n",
       "</tr>\n",
       "<tr>\n",
       "     <td>Kurtosis:</td>    <td>4.214</td>  <td>Condition No.:</td>     <td>11</td>  \n",
       "</tr>\n",
       "</table>"
      ],
      "text/plain": [
       "<class 'statsmodels.iolib.summary2.Summary'>\n",
       "\"\"\"\n",
       "                        Results: Ordinary least squares\n",
       "===============================================================================\n",
       "Model:                    OLS                  Adj. R-squared:         0.216   \n",
       "Dependent Variable:       log_views            AIC:                    684.7304\n",
       "Date:                     2021-05-27 13:34     BIC:                    693.8217\n",
       "No. Observations:         153                  Log-Likelihood:         -339.37 \n",
       "Df Model:                 2                    F-statistic:            21.88   \n",
       "Df Residuals:             150                  Prob (F-statistic):     4.60e-09\n",
       "R-squared:                0.226                Scale:                  5.0434  \n",
       "-------------------------------------------------------------------------------\n",
       "                                 Coef.  Std.Err.    t    P>|t|   [0.025  0.975]\n",
       "-------------------------------------------------------------------------------\n",
       "Intercept                        8.4369   0.4620 18.2624 0.0000  7.5241  9.3497\n",
       "economic_region[T.Global South] -3.0850   0.4813 -6.4091 0.0000 -4.0361 -2.1339\n",
       "log_affected                     0.6598   0.1426  4.6275 0.0000  0.3781  0.9416\n",
       "-------------------------------------------------------------------------------\n",
       "Omnibus:                  12.960            Durbin-Watson:               1.951 \n",
       "Prob(Omnibus):            0.002             Jarque-Bera (JB):            16.585\n",
       "Skew:                     -0.531            Prob(JB):                    0.000 \n",
       "Kurtosis:                 4.214             Condition No.:               11    \n",
       "===============================================================================\n",
       "\n",
       "\"\"\""
      ]
     },
     "execution_count": 26,
     "metadata": {},
     "output_type": "execute_result"
    },
    {
     "data": {
      "image/png": "[encoded data removed]",
      "text/plain": [
       "<Figure size 720x720 with 1 Axes>"
      ]
     },
     "metadata": {
      "needs_background": "light"
     },
     "output_type": "display_data"
    }
   ],
   "source": [
    "ols, ax = plot_and_fit(terr_w1_sum, 'log_views', 'log_affected', 'economic_region', interaction=False)\n",
    "ols.summary2()"
   ]
  },
  {
   "cell_type": "code",
   "execution_count": 27,
   "metadata": {},
   "outputs": [
    {
     "name": "stderr",
     "output_type": "stream",
     "text": [
      "/opt/conda/lib/python3.7/site-packages/pandas/plotting/_matplotlib/core.py:613: UserWarning: The handle <matplotlib.lines.Line2D object at 0x7f756037e110> has a label of '_nolegend_' which cannot be automatically added to the legend.\n",
      "  ax.legend(handles, labels, loc=\"best\", title=title)\n",
      "/opt/conda/lib/python3.7/site-packages/pandas/plotting/_matplotlib/core.py:613: UserWarning: The handle <matplotlib.lines.Line2D object at 0x7f756039a110> has a label of '_nolegend_' which cannot be automatically added to the legend.\n",
      "  ax.legend(handles, labels, loc=\"best\", title=title)\n"
     ]
    },
    {
     "data": {
      "text/html": [
       "<table class=\"simpletable\">\n",
       "<tr>\n",
       "        <td>Model:</td>               <td>OLS</td>         <td>Adj. R-squared:</td>     <td>0.236</td> \n",
       "</tr>\n",
       "<tr>\n",
       "  <td>Dependent Variable:</td>     <td>log_views</td>           <td>AIC:</td>         <td>681.6340</td>\n",
       "</tr>\n",
       "<tr>\n",
       "         <td>Date:</td>        <td>2021-05-27 13:34</td>        <td>BIC:</td>         <td>693.7557</td>\n",
       "</tr>\n",
       "<tr>\n",
       "   <td>No. Observations:</td>         <td>153</td>         <td>Log-Likelihood:</td>    <td>-336.82</td>\n",
       "</tr>\n",
       "<tr>\n",
       "       <td>Df Model:</td>              <td>3</td>           <td>F-statistic:</td>       <td>16.66</td> \n",
       "</tr>\n",
       "<tr>\n",
       "     <td>Df Residuals:</td>           <td>149</td>       <td>Prob (F-statistic):</td> <td>2.18e-09</td>\n",
       "</tr>\n",
       "<tr>\n",
       "      <td>R-squared:</td>            <td>0.251</td>            <td>Scale:</td>         <td>4.9109</td> \n",
       "</tr>\n",
       "</table>\n",
       "<table class=\"simpletable\">\n",
       "<tr>\n",
       "                        <td></td>                        <th>Coef.</th>  <th>Std.Err.</th>    <th>t</th>     <th>P>|t|</th> <th>[0.025</th>  <th>0.975]</th> \n",
       "</tr>\n",
       "<tr>\n",
       "  <th>Intercept</th>                                    <td>7.2405</td>   <td>0.7010</td>  <td>10.3284</td> <td>0.0000</td> <td>5.8553</td>  <td>8.6258</td> \n",
       "</tr>\n",
       "<tr>\n",
       "  <th>economic_region[T.Global South]</th>              <td>-1.2559</td>  <td>0.9426</td>  <td>-1.3323</td> <td>0.1848</td> <td>-3.1185</td> <td>0.6068</td> \n",
       "</tr>\n",
       "<tr>\n",
       "  <th>log_affected</th>                                 <td>1.2480</td>   <td>0.2972</td>  <td>4.1987</td>  <td>0.0000</td> <td>0.6607</td>  <td>1.8354</td> \n",
       "</tr>\n",
       "<tr>\n",
       "  <th>log_affected:economic_region[T.Global South]</th> <td>-0.7581</td>  <td>0.3374</td>  <td>-2.2465</td> <td>0.0261</td> <td>-1.4248</td> <td>-0.0913</td>\n",
       "</tr>\n",
       "</table>\n",
       "<table class=\"simpletable\">\n",
       "<tr>\n",
       "     <td>Omnibus:</td>    <td>11.263</td>  <td>Durbin-Watson:</td>    <td>2.005</td>\n",
       "</tr>\n",
       "<tr>\n",
       "  <td>Prob(Omnibus):</td>  <td>0.004</td> <td>Jarque-Bera (JB):</td> <td>14.509</td>\n",
       "</tr>\n",
       "<tr>\n",
       "       <td>Skew:</td>     <td>-0.463</td>     <td>Prob(JB):</td>      <td>0.001</td>\n",
       "</tr>\n",
       "<tr>\n",
       "     <td>Kurtosis:</td>    <td>4.192</td>  <td>Condition No.:</td>     <td>33</td>  \n",
       "</tr>\n",
       "</table>"
      ],
      "text/plain": [
       "<class 'statsmodels.iolib.summary2.Summary'>\n",
       "\"\"\"\n",
       "                              Results: Ordinary least squares\n",
       "============================================================================================\n",
       "Model:                       OLS                       Adj. R-squared:              0.236   \n",
       "Dependent Variable:          log_views                 AIC:                         681.6340\n",
       "Date:                        2021-05-27 13:34          BIC:                         693.7557\n",
       "No. Observations:            153                       Log-Likelihood:              -336.82 \n",
       "Df Model:                    3                         F-statistic:                 16.66   \n",
       "Df Residuals:                149                       Prob (F-statistic):          2.18e-09\n",
       "R-squared:                   0.251                     Scale:                       4.9109  \n",
       "--------------------------------------------------------------------------------------------\n",
       "                                              Coef.  Std.Err.    t    P>|t|   [0.025  0.975]\n",
       "--------------------------------------------------------------------------------------------\n",
       "Intercept                                     7.2405   0.7010 10.3284 0.0000  5.8553  8.6258\n",
       "economic_region[T.Global South]              -1.2559   0.9426 -1.3323 0.1848 -3.1185  0.6068\n",
       "log_affected                                  1.2480   0.2972  4.1987 0.0000  0.6607  1.8354\n",
       "log_affected:economic_region[T.Global South] -0.7581   0.3374 -2.2465 0.0261 -1.4248 -0.0913\n",
       "--------------------------------------------------------------------------------------------\n",
       "Omnibus:                       11.263                Durbin-Watson:                   2.005 \n",
       "Prob(Omnibus):                 0.004                 Jarque-Bera (JB):                14.509\n",
       "Skew:                          -0.463                Prob(JB):                        0.001 \n",
       "Kurtosis:                      4.192                 Condition No.:                   33    \n",
       "============================================================================================\n",
       "\n",
       "\"\"\""
      ]
     },
     "execution_count": 27,
     "metadata": {},
     "output_type": "execute_result"
    },
    {
     "data": {
      "image/png": "[encoded data removed]",
      "text/plain": [
       "<Figure size 720x720 with 1 Axes>"
      ]
     },
     "metadata": {
      "needs_background": "light"
     },
     "output_type": "display_data"
    }
   ],
   "source": [
    "ols, ax = plot_and_fit(terr_w1_sum, 'log_views', 'log_affected', 'economic_region', interaction=True, interval='confidence')\n",
    "ols.summary2()"
   ]
  },
  {
   "cell_type": "markdown",
   "metadata": {},
   "source": [
    "# Logistic Regression"
   ]
  },
  {
   "cell_type": "code",
   "execution_count": 28,
   "metadata": {},
   "outputs": [],
   "source": [
    "from sklearn.linear_model import LogisticRegression\n",
    "from sklearn.preprocessing import StandardScaler"
   ]
  },
  {
   "cell_type": "code",
   "execution_count": 29,
   "metadata": {},
   "outputs": [
    {
     "name": "stdout",
     "output_type": "stream",
     "text": [
      "blue=Global North red=GlobalSouth\n"
     ]
    },
    {
     "data": {
      "image/png": "[encoded data removed]",
      "text/plain": [
       "<Figure size 720x720 with 1 Axes>"
      ]
     },
     "metadata": {
      "needs_background": "light"
     },
     "output_type": "display_data"
    }
   ],
   "source": [
    "#FROM: https://stackoverflow.com/questions/28256058/plotting-decision-boundary-of-logistic-regression\n",
    "from matplotlib.colors import ListedColormap\n",
    "\n",
    "X, y = terr_w1_sum[['log_affected', 'log_views']].values, terr_w1_sum.economic_region.values\n",
    "sklr = LogisticRegression().fit(X, y)\n",
    "sklr.predict(X)\n",
    "\n",
    "xlim = min(X[:, 0]), max(X[:, 0])\n",
    "ylim = min(X[:, 1]), max(X[:, 1])\n",
    "xx, yy = np.mgrid[xlim[0]:xlim[1]:.01, ylim[0]:ylim[1]:.01]\n",
    "grid = np.c_[xx.ravel(), yy.ravel()]\n",
    "probs = sklr.predict_proba(grid)[:, 1].reshape(xx.shape)\n",
    "f, ax = plt.subplots(figsize=(10, 10))\n",
    "contour = ax.contour(xx, yy, probs, levels=[.5], cmap=\"Greys\", vmin=0, vmax=.6)\n",
    "'''\n",
    "contour = ax.contourf(xx, yy, probs, 25, cmap=\"BuRd\", vmin=0, vmax=1)\n",
    "ax_c = f.colorbar(contour)\n",
    "ax_c.set_label(\"$P(y = 1)$\")\n",
    "ax_c.set_ticks([0, .25, .5, .75, 1])\n",
    "'''\n",
    "scatter = ax.scatter(X[:,0], X[:, 1], s=50, c=['blue' if yel == 'Global North' else 'red' for yel in y],\n",
    "                     cmap=ListedColormap(['blue', 'red']), vmin=-.2, vmax=1.2, edgecolor=\"white\", linewidth=1)\n",
    "#ax.legend(labels=['Global North', 'Global South'])\n",
    "ax.set(xlim=xlim, ylim=ylim,\n",
    "       xlabel=\"log_affected\", ylabel=\"log_views\")\n",
    "print('blue=Global North', 'red=GlobalSouth')"
   ]
  },
  {
   "cell_type": "markdown",
   "metadata": {},
   "source": [
    "# Continue: Trends"
   ]
  },
  {
   "cell_type": "code",
   "execution_count": 37,
   "metadata": {},
   "outputs": [
    {
     "name": "stdout",
     "output_type": "stream",
     "text": [
      "Using directory '/opt/conda/lib/python3.7/site-packages/gtab'\n",
      "Active anchorbank changed to: google_anchorbank_geo=_timeframe=2019-01-01 2020-08-01.tsv\n",
      "\n"
     ]
    }
   ],
   "source": [
    "import gtab\n",
    "t = gtab.GTAB()\n",
    "t.set_options(pytrends_config={\"timeframe\": \"2019-01-01 2020-12-31\"})"
   ]
  },
  {
   "cell_type": "code",
   "execution_count": 75,
   "metadata": {},
   "outputs": [
    {
     "name": "stdout",
     "output_type": "stream",
     "text": [
      "Using directory '/opt/conda/lib/python3.7/site-packages/gtab'\n",
      "Active anchorbank changed to: google_anchorbank_geo=_timeframe=2019-01-01 2020-08-01.tsv\n",
      "\n"
     ]
    }
   ],
   "source": [
    "tde = gtab.GTAB()\n",
    "tde.set_options(pytrends_config={\"geo\": \"DE-AT\", \"timeframe\": \"2019-01-01 2020-12-31\"})"
   ]
  },
  {
   "cell_type": "code",
   "execution_count": 74,
   "metadata": {},
   "outputs": [
    {
     "name": "stdout",
     "output_type": "stream",
     "text": [
      "Start AnchorBank init for region DE in timeframe 2019-01-01 2020-12-31...\n",
      "GTAB with such parameters already exists! Load it with 'set_active_gtab(filename)' or rename/delete it to create another one with this name.\n"
     ]
    }
   ],
   "source": [
    "tde.create_anchorbank()"
   ]
  },
  {
   "cell_type": "code",
   "execution_count": 10,
   "metadata": {},
   "outputs": [
    {
     "name": "stderr",
     "output_type": "stream",
     "text": [
      "  0%|          | 0/568 [00:00<?, ?it/s]"
     ]
    },
    {
     "name": "stdout",
     "output_type": "stream",
     "text": [
      "Start AnchorBank init for region  in timeframe 2018-01-01 2020-12-31...\n",
      "Sampling keywords...\n"
     ]
    },
    {
     "name": "stderr",
     "output_type": "stream",
     "text": [
      " 10%|▉         | 55/568 [01:49<12:35,  1.47s/it]"
     ]
    },
    {
     "name": "stdout",
     "output_type": "stream",
     "text": [
      "\n",
      "Bad keyword '/m/0fjfh', because The request failed: Google returned a response with code 400.\n"
     ]
    },
    {
     "name": "stderr",
     "output_type": "stream",
     "text": [
      " 10%|█         | 59/568 [01:55<12:07,  1.43s/it]"
     ]
    },
    {
     "name": "stdout",
     "output_type": "stream",
     "text": [
      "\n",
      "Bad keyword '/m/013v0m', because The request failed: Google returned a response with code 400.\n"
     ]
    },
    {
     "name": "stderr",
     "output_type": "stream",
     "text": [
      " 13%|█▎        | 74/568 [02:18<11:55,  1.45s/it]"
     ]
    },
    {
     "name": "stdout",
     "output_type": "stream",
     "text": [
      "\n",
      "Bad keyword '/m/02nm6c', because The request failed: Google returned a response with code 400.\n"
     ]
    },
    {
     "name": "stderr",
     "output_type": "stream",
     "text": [
      " 14%|█▎        | 77/568 [02:23<11:22,  1.39s/it]"
     ]
    },
    {
     "name": "stdout",
     "output_type": "stream",
     "text": [
      "\n",
      "Bad keyword '/m/084cz', because The request failed: Google returned a response with code 400.\n"
     ]
    },
    {
     "name": "stderr",
     "output_type": "stream",
     "text": [
      " 26%|██▋       | 150/568 [04:41<11:48,  1.69s/it]"
     ]
    },
    {
     "name": "stdout",
     "output_type": "stream",
     "text": [
      "\n",
      "Bad keyword '/m/0k0mp', because The request failed: Google returned a response with code 400.\n"
     ]
    },
    {
     "name": "stderr",
     "output_type": "stream",
     "text": [
      " 27%|██▋       | 152/568 [04:45<13:04,  1.89s/it]"
     ]
    },
    {
     "name": "stdout",
     "output_type": "stream",
     "text": [
      "\n",
      "Bad keyword '/m/01bp2v', because The request failed: Google returned a response with code 400.\n"
     ]
    },
    {
     "name": "stderr",
     "output_type": "stream",
     "text": [
      " 44%|████▍     | 252/568 [07:56<07:45,  1.47s/it]"
     ]
    },
    {
     "name": "stdout",
     "output_type": "stream",
     "text": [
      "\n",
      "Bad keyword '/m/06n9fv', because The request failed: Google returned a response with code 400.\n"
     ]
    },
    {
     "name": "stderr",
     "output_type": "stream",
     "text": [
      " 45%|████▌     | 257/568 [08:04<07:14,  1.40s/it]"
     ]
    },
    {
     "name": "stdout",
     "output_type": "stream",
     "text": [
      "\n",
      "Bad keyword '/m/04qgp', because The request failed: Google returned a response with code 400.\n"
     ]
    },
    {
     "name": "stderr",
     "output_type": "stream",
     "text": [
      " 54%|█████▍    | 306/568 [09:30<06:58,  1.60s/it]"
     ]
    },
    {
     "name": "stdout",
     "output_type": "stream",
     "text": [
      "\n",
      "Bad keyword '/m/04fzqn3', because The request failed: Google returned a response with code 400.\n"
     ]
    },
    {
     "name": "stderr",
     "output_type": "stream",
     "text": [
      " 57%|█████▋    | 325/568 [10:00<05:47,  1.43s/it]"
     ]
    },
    {
     "name": "stdout",
     "output_type": "stream",
     "text": [
      "\n",
      "Bad keyword '/m/0dfxdrn', because The request failed: Google returned a response with code 400.\n"
     ]
    },
    {
     "name": "stderr",
     "output_type": "stream",
     "text": [
      " 61%|██████    | 345/568 [10:30<05:16,  1.42s/it]"
     ]
    },
    {
     "name": "stdout",
     "output_type": "stream",
     "text": [
      "\n",
      "Bad keyword '/m/05hxz3p', because The request failed: Google returned a response with code 400.\n"
     ]
    },
    {
     "name": "stderr",
     "output_type": "stream",
     "text": [
      " 61%|██████    | 347/568 [10:33<04:58,  1.35s/it]"
     ]
    },
    {
     "name": "stdout",
     "output_type": "stream",
     "text": [
      "\n",
      "Bad keyword '/m/09nn_9', because The request failed: Google returned a response with code 400.\n"
     ]
    },
    {
     "name": "stderr",
     "output_type": "stream",
     "text": [
      " 64%|██████▍   | 365/568 [11:02<05:00,  1.48s/it]"
     ]
    },
    {
     "name": "stdout",
     "output_type": "stream",
     "text": [
      "\n",
      "Bad keyword '/m/05n1l9l', because The request failed: Google returned a response with code 400.\n"
     ]
    },
    {
     "name": "stderr",
     "output_type": "stream",
     "text": [
      " 70%|██████▉   | 397/568 [12:08<04:16,  1.50s/it]"
     ]
    },
    {
     "name": "stdout",
     "output_type": "stream",
     "text": [
      "\n",
      "Bad keyword '/m/02q64zt', because The request failed: Google returned a response with code 400.\n"
     ]
    },
    {
     "name": "stderr",
     "output_type": "stream",
     "text": [
      " 71%|███████▏  | 406/568 [12:22<03:52,  1.43s/it]"
     ]
    },
    {
     "name": "stdout",
     "output_type": "stream",
     "text": [
      "\n",
      "Bad keyword '/m/04rc3w', because The request failed: Google returned a response with code 400.\n"
     ]
    },
    {
     "name": "stderr",
     "output_type": "stream",
     "text": [
      " 73%|███████▎  | 412/568 [12:31<03:39,  1.41s/it]"
     ]
    },
    {
     "name": "stdout",
     "output_type": "stream",
     "text": [
      "\n",
      "Bad keyword '/m/05lv45q', because The request failed: Google returned a response with code 400.\n"
     ]
    },
    {
     "name": "stderr",
     "output_type": "stream",
     "text": [
      " 75%|███████▌  | 427/568 [12:54<03:27,  1.47s/it]"
     ]
    },
    {
     "name": "stdout",
     "output_type": "stream",
     "text": [
      "\n",
      "Bad keyword '/m/09j5n2', because The request failed: Google returned a response with code 400.\n"
     ]
    },
    {
     "name": "stderr",
     "output_type": "stream",
     "text": [
      " 79%|███████▊  | 447/568 [13:24<02:54,  1.44s/it]"
     ]
    },
    {
     "name": "stdout",
     "output_type": "stream",
     "text": [
      "\n",
      "Bad keyword '/m/0gl3_vx', because The request failed: Google returned a response with code 400.\n"
     ]
    },
    {
     "name": "stderr",
     "output_type": "stream",
     "text": [
      " 80%|████████  | 456/568 [13:38<02:35,  1.39s/it]"
     ]
    },
    {
     "name": "stdout",
     "output_type": "stream",
     "text": [
      "\n",
      "Bad keyword '/m/06b_y2', because The request failed: Google returned a response with code 400.\n"
     ]
    },
    {
     "name": "stderr",
     "output_type": "stream",
     "text": [
      " 83%|████████▎ | 473/568 [14:04<02:15,  1.43s/it]"
     ]
    },
    {
     "name": "stdout",
     "output_type": "stream",
     "text": [
      "\n",
      "Bad keyword '/m/04y5kpr', because The request failed: Google returned a response with code 400.\n"
     ]
    },
    {
     "name": "stderr",
     "output_type": "stream",
     "text": [
      " 86%|████████▋ | 490/568 [14:44<02:45,  2.13s/it]"
     ]
    },
    {
     "name": "stdout",
     "output_type": "stream",
     "text": [
      "\n",
      "Bad keyword '/m/05n4pk1', because The request failed: Google returned a response with code 400.\n"
     ]
    },
    {
     "name": "stderr",
     "output_type": "stream",
     "text": [
      " 89%|████████▊ | 503/568 [15:04<01:32,  1.43s/it]"
     ]
    },
    {
     "name": "stdout",
     "output_type": "stream",
     "text": [
      "\n",
      "Bad keyword '/m/02pxh01', because The request failed: Google returned a response with code 400.\n"
     ]
    },
    {
     "name": "stderr",
     "output_type": "stream",
     "text": [
      " 89%|████████▊ | 504/568 [15:05<01:26,  1.35s/it]"
     ]
    },
    {
     "name": "stdout",
     "output_type": "stream",
     "text": [
      "\n",
      "Bad keyword '/m/04bdjb', because The request failed: Google returned a response with code 400.\n"
     ]
    },
    {
     "name": "stderr",
     "output_type": "stream",
     "text": [
      " 89%|████████▉ | 508/568 [15:10<01:21,  1.36s/it]"
     ]
    },
    {
     "name": "stdout",
     "output_type": "stream",
     "text": [
      "\n",
      "Bad keyword '/m/03ct2_8', because The request failed: Google returned a response with code 400.\n"
     ]
    },
    {
     "name": "stderr",
     "output_type": "stream",
     "text": [
      " 90%|████████▉ | 509/568 [15:12<01:16,  1.30s/it]"
     ]
    },
    {
     "name": "stdout",
     "output_type": "stream",
     "text": [
      "\n",
      "Bad keyword '/m/083tpm', because The request failed: Google returned a response with code 400.\n"
     ]
    },
    {
     "name": "stderr",
     "output_type": "stream",
     "text": [
      " 91%|█████████ | 518/568 [15:25<01:10,  1.40s/it]"
     ]
    },
    {
     "name": "stdout",
     "output_type": "stream",
     "text": [
      "\n",
      "Bad keyword '/m/05n9bv7', because The request failed: Google returned a response with code 400.\n"
     ]
    },
    {
     "name": "stderr",
     "output_type": "stream",
     "text": [
      " 93%|█████████▎| 527/568 [15:39<00:59,  1.44s/it]"
     ]
    },
    {
     "name": "stdout",
     "output_type": "stream",
     "text": [
      "\n",
      "Bad keyword '/m/05n7n62', because The request failed: Google returned a response with code 400.\n"
     ]
    },
    {
     "name": "stderr",
     "output_type": "stream",
     "text": [
      " 93%|█████████▎| 531/568 [15:45<00:51,  1.39s/it]"
     ]
    },
    {
     "name": "stdout",
     "output_type": "stream",
     "text": [
      "\n",
      "Bad keyword '/m/05n6lws', because The request failed: Google returned a response with code 400.\n"
     ]
    },
    {
     "name": "stderr",
     "output_type": "stream",
     "text": [
      " 95%|█████████▍| 537/568 [15:54<00:43,  1.41s/it]"
     ]
    },
    {
     "name": "stdout",
     "output_type": "stream",
     "text": [
      "\n",
      "Bad keyword '/m/07b2rg', because The request failed: Google returned a response with code 400.\n"
     ]
    },
    {
     "name": "stderr",
     "output_type": "stream",
     "text": [
      " 95%|█████████▌| 541/568 [15:59<00:37,  1.39s/it]"
     ]
    },
    {
     "name": "stdout",
     "output_type": "stream",
     "text": [
      "\n",
      "Bad keyword '/m/0bq4bp', because The request failed: Google returned a response with code 400.\n"
     ]
    },
    {
     "name": "stderr",
     "output_type": "stream",
     "text": [
      " 96%|█████████▋| 548/568 [16:10<00:28,  1.41s/it]"
     ]
    },
    {
     "name": "stdout",
     "output_type": "stream",
     "text": [
      "\n",
      "Bad keyword '/m/0dfxdcv', because The request failed: Google returned a response with code 400.\n"
     ]
    },
    {
     "name": "stderr",
     "output_type": "stream",
     "text": [
      " 97%|█████████▋| 550/568 [16:12<00:24,  1.34s/it]"
     ]
    },
    {
     "name": "stdout",
     "output_type": "stream",
     "text": [
      "\n",
      "Bad keyword '/m/04f182w', because The request failed: Google returned a response with code 400.\n"
     ]
    },
    {
     "name": "stderr",
     "output_type": "stream",
     "text": [
      " 97%|█████████▋| 551/568 [16:13<00:21,  1.27s/it]"
     ]
    },
    {
     "name": "stdout",
     "output_type": "stream",
     "text": [
      "\n",
      "Bad keyword '/m/05n2v4t', because The request failed: Google returned a response with code 400.\n"
     ]
    },
    {
     "name": "stderr",
     "output_type": "stream",
     "text": [
      " 97%|█████████▋| 553/568 [16:16<00:19,  1.29s/it]"
     ]
    },
    {
     "name": "stdout",
     "output_type": "stream",
     "text": [
      "\n",
      "Bad keyword '/m/05v67qk', because The request failed: Google returned a response with code 400.\n"
     ]
    },
    {
     "name": "stderr",
     "output_type": "stream",
     "text": [
      " 98%|█████████▊| 557/568 [16:22<00:14,  1.34s/it]"
     ]
    },
    {
     "name": "stdout",
     "output_type": "stream",
     "text": [
      "\n",
      "Bad keyword '/m/05n8041', because The request failed: Google returned a response with code 400.\n"
     ]
    },
    {
     "name": "stderr",
     "output_type": "stream",
     "text": [
      " 99%|█████████▉| 561/568 [16:28<00:09,  1.41s/it]"
     ]
    },
    {
     "name": "stdout",
     "output_type": "stream",
     "text": [
      "\n",
      "Bad keyword '/m/0c0ff8', because The request failed: Google returned a response with code 400.\n"
     ]
    },
    {
     "name": "stderr",
     "output_type": "stream",
     "text": [
      " 99%|█████████▉| 564/568 [16:32<00:05,  1.38s/it]"
     ]
    },
    {
     "name": "stdout",
     "output_type": "stream",
     "text": [
      "\n",
      "Bad keyword '/m/0c_lmc1', because The request failed: Google returned a response with code 400.\n"
     ]
    },
    {
     "name": "stderr",
     "output_type": "stream",
     "text": [
      " 99%|█████████▉| 565/568 [16:33<00:03,  1.31s/it]"
     ]
    },
    {
     "name": "stdout",
     "output_type": "stream",
     "text": [
      "\n",
      "Bad keyword '/m/05n35c8', because The request failed: Google returned a response with code 400.\n"
     ]
    },
    {
     "name": "stderr",
     "output_type": "stream",
     "text": [
      "100%|██████████| 568/568 [16:38<00:00,  1.76s/it]\n",
      "  0%|          | 0/525 [00:00<?, ?it/s]"
     ]
    },
    {
     "name": "stdout",
     "output_type": "stream",
     "text": [
      "Querying google...\n"
     ]
    },
    {
     "name": "stderr",
     "output_type": "stream",
     "text": [
      "100%|██████████| 525/525 [10:30<00:00,  1.20s/it]\n"
     ]
    },
    {
     "name": "stdout",
     "output_type": "stream",
     "text": [
      "Removing bad queries...\n"
     ]
    },
    {
     "name": "stderr",
     "output_type": "stream",
     "text": [
      "  0%|          | 0/5 [00:00<?, ?it/s]"
     ]
    },
    {
     "name": "stdout",
     "output_type": "stream",
     "text": [
      "Total bad: 132\n"
     ]
    },
    {
     "name": "stderr",
     "output_type": "stream",
     "text": [
      "100%|██████████| 5/5 [00:05<00:00,  1.03s/it]\n",
      "100%|██████████| 4/4 [00:04<00:00,  1.05s/it]\n",
      "100%|██████████| 7/7 [00:07<00:00,  1.02s/it]\n",
      "100%|██████████| 5/5 [00:05<00:00,  1.01s/it]\n",
      "100%|██████████| 5/5 [00:05<00:00,  1.01s/it]\n",
      "100%|██████████| 4/4 [00:04<00:00,  1.03s/it]\n",
      "100%|██████████| 10/10 [00:10<00:00,  1.03s/it]\n",
      "100%|██████████| 4/4 [00:04<00:00,  1.02s/it]\n",
      "100%|██████████| 8/8 [00:08<00:00,  1.04s/it]\n",
      "100%|██████████| 11/11 [00:11<00:00,  1.02s/it]\n",
      "100%|██████████| 15/15 [00:15<00:00,  1.01s/it]\n",
      "100%|██████████| 4/4 [00:04<00:00,  1.02s/it]\n",
      "100%|██████████| 5/5 [00:04<00:00,  1.00it/s]\n",
      "100%|██████████| 4/4 [00:04<00:00,  1.01s/it]\n",
      "100%|██████████| 4/4 [00:04<00:00,  1.03s/it]\n",
      "100%|██████████| 4/4 [00:04<00:00,  1.02s/it]\n",
      "100%|██████████| 4/4 [00:04<00:00,  1.05s/it]\n",
      "100%|██████████| 4/4 [00:04<00:00,  1.02s/it]\n",
      "100%|██████████| 4/4 [00:03<00:00,  1.00it/s]\n",
      "100%|██████████| 7/7 [00:07<00:00,  1.03s/it]\n",
      "100%|██████████| 7/7 [00:06<00:00,  1.00it/s]\n",
      "100%|██████████| 4/4 [00:03<00:00,  1.01it/s]\n",
      "100%|██████████| 14/14 [00:14<00:00,  1.01s/it]\n",
      "100%|██████████| 4/4 [00:03<00:00,  1.01it/s]\n",
      "100%|██████████| 7/7 [00:06<00:00,  1.00it/s]\n",
      "100%|██████████| 13/13 [00:12<00:00,  1.01it/s]\n",
      "100%|██████████| 9/9 [00:09<00:00,  1.01s/it]\n",
      "100%|██████████| 4/4 [00:03<00:00,  1.00it/s]\n",
      "100%|██████████| 4/4 [00:04<00:00,  1.01s/it]\n",
      "100%|██████████| 6/6 [00:06<00:00,  1.02s/it]\n",
      "100%|██████████| 8/8 [00:08<00:00,  1.01s/it]\n",
      "100%|██████████| 4/4 [00:04<00:00,  1.00s/it]\n",
      "100%|██████████| 8/8 [00:07<00:00,  1.00it/s]\n",
      "  0%|          | 0/4 [00:00<?, ?it/s]"
     ]
    },
    {
     "name": "stdout",
     "output_type": "stream",
     "text": [
      "Total bad: 4\n"
     ]
    },
    {
     "name": "stderr",
     "output_type": "stream",
     "text": [
      "100%|██████████| 4/4 [00:03<00:00,  1.00it/s]\n",
      "100%|██████████| 4/4 [00:03<00:00,  1.00it/s]\n",
      "100%|██████████| 4/4 [00:03<00:00,  1.03it/s]\n"
     ]
    },
    {
     "name": "stdout",
     "output_type": "stream",
     "text": [
      "Total bad: 0\n",
      "Diagnostics done!\n",
      "A total of 136 bad keywords removed.\n",
      "Saving google results as '/opt/conda/lib/python3.7/site-packages/gtab/data/internal/google_results/google_results_geo=_timeframe=2018-01-01 2020-12-31.pkl'...\n",
      "Total queries (groups of 5 keywords): 418\n"
     ]
    },
    {
     "name": "stderr",
     "output_type": "stream",
     "text": [
      "  0%|          | 0/420 [00:00<?, ?it/s]"
     ]
    },
    {
     "name": "stdout",
     "output_type": "stream",
     "text": [
      "Finding paths...\n"
     ]
    },
    {
     "name": "stderr",
     "output_type": "stream",
     "text": [
      "100%|██████████| 420/420 [02:08<00:00,  3.26it/s]\n"
     ]
    },
    {
     "name": "stdout",
     "output_type": "stream",
     "text": [
      "Paths done!\n",
      "Err: 4.218847493575595e-15\n"
     ]
    },
    {
     "name": "stderr",
     "output_type": "stream",
     "text": [
      "  0%|          | 0/12 [00:00<?, ?it/s]"
     ]
    },
    {
     "name": "stdout",
     "output_type": "stream",
     "text": [
      "Querying pairs...\n"
     ]
    },
    {
     "name": "stderr",
     "output_type": "stream",
     "text": [
      "100%|██████████| 12/12 [00:11<00:00,  1.04it/s]"
     ]
    },
    {
     "name": "stdout",
     "output_type": "stream",
     "text": [
      "Total range: 3.892291657377179e-06\n",
      "Saving anchorbank as '/opt/conda/lib/python3.7/site-packages/gtab/output/google_anchorbanks/google_anchorbank_geo=_timeframe=2018-01-01 2020-12-31.tsv'...\n",
      "AnchorBank init done.\n"
     ]
    },
    {
     "name": "stderr",
     "output_type": "stream",
     "text": [
      "\n"
     ]
    }
   ],
   "source": []
  },
  {
   "cell_type": "code",
   "execution_count": 11,
   "metadata": {},
   "outputs": [
    {
     "name": "stdout",
     "output_type": "stream",
     "text": [
      "Active anchorbank changed to: google_anchorbank_geo=_timeframe=2018-01-01 2020-12-31.tsv\n",
      "\n"
     ]
    }
   ],
   "source": [
    "t.set_active_gtab(\"google_anchorbank_geo=_timeframe=2018-01-01 2020-12-31.tsv\")"
   ]
  },
  {
   "cell_type": "code",
   "execution_count": 5,
   "metadata": {},
   "outputs": [
    {
     "name": "stdout",
     "output_type": "stream",
     "text": [
      "Using /opt/conda/lib/python3.7/site-packages/gtab/output/google_anchorbanks/google_anchorbank_geo=_timeframe=2019-01-01 2020-08-01.tsv\n",
      "New query '/m/2F03gns'\n",
      "\n",
      "Bad keyword '/m/2F03gns', because The request failed: Google returned a response with code 400.\n",
      "Keyword /m/2F03gns is bad!\n"
     ]
    },
    {
     "data": {
      "text/plain": [
       "-1"
      ]
     },
     "execution_count": 5,
     "metadata": {},
     "output_type": "execute_result"
    }
   ],
   "source": [
    "t.new_query(\"/m/2F03gns\")"
   ]
  },
  {
   "cell_type": "code",
   "execution_count": 38,
   "metadata": {},
   "outputs": [
    {
     "name": "stdout",
     "output_type": "stream",
     "text": [
      "Using /opt/conda/lib/python3.7/site-packages/gtab/output/google_anchorbanks/google_anchorbank_geo=_timeframe=2019-01-01 2020-08-01.tsv\n",
      "New query 'Surabaya attack'\n",
      "New query calibrated!\n",
      "Using /opt/conda/lib/python3.7/site-packages/gtab/output/google_anchorbanks/google_anchorbank_geo=_timeframe=2019-01-01 2020-08-01.tsv\n",
      "New query 'Nice attack'\n",
      "New query calibrated!\n",
      "Using /opt/conda/lib/python3.7/site-packages/gtab/output/google_anchorbanks/google_anchorbank_geo=_timeframe=2019-01-01 2020-08-01.tsv\n",
      "New query 'Nice attentat'\n",
      "New query calibrated!\n",
      "Using /opt/conda/lib/python3.7/site-packages/gtab/output/google_anchorbanks/google_anchorbank_geo=_timeframe=2019-01-01 2020-08-01.tsv\n",
      "New query 'Kabul attack'\n",
      "New query calibrated!\n",
      "Using /opt/conda/lib/python3.7/site-packages/gtab/output/google_anchorbanks/google_anchorbank_geo=_timeframe=2019-01-01 2020-08-01.tsv\n",
      "New query 'Vienna attack'\n",
      "New query calibrated!\n"
     ]
    }
   ],
   "source": [
    "queryA = t.new_query(\"Surabaya attack\")\n",
    "queryB = t.new_query(\"Nice attack\")\n",
    "#queryB5 = t.new_query(\"Paris\")\n",
    "#queryB2 = t.new_query(\"France attack\")\n",
    "#queryB3 = t.new_query(\"Paris attack\")\n",
    "queryB4 = t.new_query(\"Nice attentat\")\n",
    "queryC = t.new_query(\"Kabul attack\")\n",
    "queryD = t.new_query(\"Vienna attack\")"
   ]
  },
  {
   "cell_type": "code",
   "execution_count": 39,
   "metadata": {},
   "outputs": [
    {
     "name": "stdout",
     "output_type": "stream",
     "text": [
      "Using /opt/conda/lib/python3.7/site-packages/gtab/output/google_anchorbanks/google_anchorbank_geo=_timeframe=2019-01-01 2020-08-01.tsv\n",
      "New query 'Surabaya'\n",
      "New query calibrated!\n",
      "Using /opt/conda/lib/python3.7/site-packages/gtab/output/google_anchorbanks/google_anchorbank_geo=_timeframe=2019-01-01 2020-08-01.tsv\n",
      "New query 'Nice'\n",
      "New query calibrated!\n",
      "Using /opt/conda/lib/python3.7/site-packages/gtab/output/google_anchorbanks/google_anchorbank_geo=_timeframe=2019-01-01 2020-08-01.tsv\n",
      "New query 'Kabul'\n",
      "New query calibrated!\n",
      "Using /opt/conda/lib/python3.7/site-packages/gtab/output/google_anchorbanks/google_anchorbank_geo=_timeframe=2019-01-01 2020-08-01.tsv\n",
      "New query 'Vienna'\n",
      "New query calibrated!\n"
     ]
    }
   ],
   "source": [
    "queryA = t.new_query(\"Surabaya\")\n",
    "queryB = t.new_query(\"Nice\")\n",
    "#queryB5 = t.new_query(\"Paris\")\n",
    "#queryB2 = t.new_query(\"France attack\")\n",
    "#queryB3 = t.new_query(\"Paris attack\")\n",
    "\n",
    "queryC = t.new_query(\"Kabul\")\n",
    "queryD = t.new_query(\"Vienna\")"
   ]
  },
  {
   "cell_type": "code",
   "execution_count": 40,
   "metadata": {},
   "outputs": [
    {
     "name": "stdout",
     "output_type": "stream",
     "text": [
      "Using /opt/conda/lib/python3.7/site-packages/gtab/output/google_anchorbanks/google_anchorbank_geo=_timeframe=2019-01-01 2020-08-01.tsv\n",
      "New query 'Nice attack'\n",
      "New query calibrated!\n",
      "Using /opt/conda/lib/python3.7/site-packages/gtab/output/google_anchorbanks/google_anchorbank_geo=_timeframe=2019-01-01 2020-08-01.tsv\n",
      "New query 'Nice'\n",
      "New query calibrated!\n",
      "Using /opt/conda/lib/python3.7/site-packages/gtab/output/google_anchorbanks/google_anchorbank_geo=_timeframe=2019-01-01 2020-08-01.tsv\n",
      "New query 'Nice atentat'\n",
      "New query calibrated!\n"
     ]
    }
   ],
   "source": [
    "nice1 = t.new_query(\"Nice attack\")\n",
    "nice2 = t.new_query(\"Nice\")\n",
    "nice3 = t.new_query(\"Nice atentat\")\n",
    "nice4 = t.new_query(\"Nice terror\")"
   ]
  },
  {
   "cell_type": "code",
   "execution_count": 63,
   "metadata": {},
   "outputs": [
    {
     "name": "stdout",
     "output_type": "stream",
     "text": [
      "Using /opt/conda/lib/python3.7/site-packages/gtab/output/google_anchorbanks/google_anchorbank_geo=_timeframe=2019-01-01 2020-08-01.tsv\n",
      "New query 'Vienna attack'\n",
      "New query calibrated!\n",
      "Using /opt/conda/lib/python3.7/site-packages/gtab/output/google_anchorbanks/google_anchorbank_geo=_timeframe=2019-01-01 2020-08-01.tsv\n",
      "New query 'Vienna'\n",
      "New query calibrated!\n",
      "Using /opt/conda/lib/python3.7/site-packages/gtab/output/google_anchorbanks/google_anchorbank_geo=_timeframe=2019-01-01 2020-08-01.tsv\n",
      "New query 'Vienna terror'\n",
      "New query calibrated!\n"
     ]
    }
   ],
   "source": [
    "vienna1 = t.new_query(\"Vienna attack\")\n",
    "vienna2 = t.new_query(\"Vienna\")\n",
    "vienna4 = t.new_query(\"Vienna terror\")"
   ]
  },
  {
   "cell_type": "code",
   "execution_count": 60,
   "metadata": {},
   "outputs": [
    {
     "data": {
      "text/plain": [
       "<matplotlib.axes._subplots.AxesSubplot at 0x7fd41cd26690>"
      ]
     },
     "execution_count": 60,
     "metadata": {},
     "output_type": "execute_result"
    },
    {
     "data": {
      "image/png": "[encoded data removed]",
      "text/plain": [
       "<Figure size 432x288 with 1 Axes>"
      ]
     },
     "metadata": {
      "needs_background": "light"
     },
     "output_type": "display_data"
    }
   ],
   "source": [
    "fig, ax = plt.subplots()\n",
    "vienna1.plot(y='max_ratio', label='Vienna attack', ax=ax)\n",
    "vienna2.plot(y='max_ratio', label='Vienna', ax=ax)\n",
    "#vienna3.plot(y='max_ratio', label='Nice atentat', ax=ax)\n",
    "vienna4.plot(y='max_ratio', label='Vienna terror', ax=ax)"
   ]
  },
  {
   "cell_type": "code",
   "execution_count": 64,
   "metadata": {},
   "outputs": [
    {
     "data": {
      "text/plain": [
       "<matplotlib.axes._subplots.AxesSubplot at 0x7fd3fe05a410>"
      ]
     },
     "execution_count": 64,
     "metadata": {},
     "output_type": "execute_result"
    },
    {
     "data": {
      "image/png": "[encoded data removed]",
      "text/plain": [
       "<Figure size 432x288 with 1 Axes>"
      ]
     },
     "metadata": {
      "needs_background": "light"
     },
     "output_type": "display_data"
    }
   ],
   "source": [
    "fig, ax = plt.subplots()\n",
    "vienna1.plot(y='max_ratio', label='Vienna attack', ax=ax)\n",
    "vienna2.plot(y='max_ratio', label='Vienna', ax=ax)\n",
    "#vienna3.plot(y='max_ratio', label='Nice atentat', ax=ax)\n",
    "vienna4.plot(y='max_ratio', label='Vienna terror', ax=ax)"
   ]
  },
  {
   "cell_type": "code",
   "execution_count": 71,
   "metadata": {},
   "outputs": [
    {
     "name": "stdout",
     "output_type": "stream",
     "text": [
      "Using /opt/conda/lib/python3.7/site-packages/gtab/output/google_anchorbanks/google_anchorbank_geo=_timeframe=2019-01-01 2020-08-01.tsv\n",
      "New query 'Kenya attack'\n",
      "New query calibrated!\n",
      "Using /opt/conda/lib/python3.7/site-packages/gtab/output/google_anchorbanks/google_anchorbank_geo=_timeframe=2019-01-01 2020-08-01.tsv\n",
      "New query 'Kenya'\n",
      "New query calibrated!\n",
      "Using /opt/conda/lib/python3.7/site-packages/gtab/output/google_anchorbanks/google_anchorbank_geo=_timeframe=2019-01-01 2020-08-01.tsv\n",
      "New query 'Kenya atentat'\n",
      "New query calibrated!\n",
      "Using /opt/conda/lib/python3.7/site-packages/gtab/output/google_anchorbanks/google_anchorbank_geo=_timeframe=2019-01-01 2020-08-01.tsv\n",
      "New query 'Kenya terror'\n",
      "New query calibrated!\n"
     ]
    }
   ],
   "source": [
    "nairobi1 = t.new_query(\"Kenya attack\")\n",
    "nairobi2 = t.new_query(\"Kenya\")\n",
    "nairobi3 = t.new_query(\"Kenya atentat\")\n",
    "nairobi4 = t.new_query(\"Kenya terror\")"
   ]
  },
  {
   "cell_type": "code",
   "execution_count": 72,
   "metadata": {},
   "outputs": [
    {
     "data": {
      "text/plain": [
       "<matplotlib.axes._subplots.AxesSubplot at 0x7fd32be2ee10>"
      ]
     },
     "execution_count": 72,
     "metadata": {},
     "output_type": "execute_result"
    },
    {
     "data": {
      "image/png": "[encoded data removed]",
      "text/plain": [
       "<Figure size 432x288 with 1 Axes>"
      ]
     },
     "metadata": {
      "needs_background": "light"
     },
     "output_type": "display_data"
    }
   ],
   "source": [
    "fig, ax = plt.subplots()\n",
    "nairobi1.plot(y='max_ratio', label='Kenya attack', ax=ax)\n",
    "nairobi2.plot(y='max_ratio', label='Kenya', ax=ax)\n",
    "nairobi4.plot(y='max_ratio', label='Kenya terror', ax=ax)"
   ]
  },
  {
   "cell_type": "code",
   "execution_count": 48,
   "metadata": {},
   "outputs": [
    {
     "data": {
      "text/plain": [
       "<matplotlib.axes._subplots.AxesSubplot at 0x7fd0068dee50>"
      ]
     },
     "execution_count": 48,
     "metadata": {},
     "output_type": "execute_result"
    },
    {
     "data": {
      "image/png": "[encoded data removed]",
      "text/plain": [
       "<Figure size 432x288 with 1 Axes>"
      ]
     },
     "metadata": {
      "needs_background": "light"
     },
     "output_type": "display_data"
    }
   ],
   "source": [
    "fig, ax = plt.subplots()\n",
    "nice1.plot(y='max_ratio', label='Nice attack', ax=ax)\n",
    "#nice2.plot(y='max_ratio', label='Nice', ax=ax)\n",
    "nice3.plot(y='max_ratio', label='Nice atentat', ax=ax)\n",
    "nice4.plot(y='max_ratio', label='Nice terror', ax=ax)"
   ]
  },
  {
   "cell_type": "code",
   "execution_count": 19,
   "metadata": {},
   "outputs": [
    {
     "data": {
      "text/plain": [
       "<matplotlib.axes._subplots.AxesSubplot at 0x7fe2477dd250>"
      ]
     },
     "execution_count": 19,
     "metadata": {},
     "output_type": "execute_result"
    },
    {
     "data": {
      "image/png": "[encoded data removed]",
      "text/plain": [
       "<Figure size 432x288 with 1 Axes>"
      ]
     },
     "metadata": {
      "needs_background": "light"
     },
     "output_type": "display_data"
    }
   ],
   "source": [
    "fig, ax = plt.subplots()\n",
    "queryA.plot(y='max_ratio', label='Surabaya', ax=ax)\n",
    "queryB.plot(y='max_ratio', label='Nice', ax=ax)\n",
    "#queryB2.plot(y='max_ratio', label='France', ax=ax)\n",
    "#queryB3.plot(y='max_ratio', label='Paris', ax=ax)\n",
    "queryB4.plot(y='max_ratio', label='Nice attentat', ax=ax)\n",
    "#queryB5.plot(y='max_ratio', label='Paris only', ax=ax)\n",
    "queryC.plot(y='max_ratio', label='Kabul', ax=ax)\n",
    "#queryD.plot(y='max_ratio', label='Vienna', ax=ax)"
   ]
  },
  {
   "cell_type": "markdown",
   "metadata": {},
   "source": [
    "# Pageviews"
   ]
  },
  {
   "cell_type": "code",
   "execution_count": 34,
   "metadata": {},
   "outputs": [
    {
     "data": {
      "text/plain": [
       "'../../../data/coronawiki'"
      ]
     },
     "execution_count": 34,
     "metadata": {},
     "output_type": "execute_result"
    }
   ],
   "source": [
    "DATA_PATH"
   ]
  },
  {
   "cell_type": "code",
   "execution_count": 43,
   "metadata": {},
   "outputs": [],
   "source": [
    "df_views = pd.read_csv(f'{DATA_PATH}/../wiki-pageviews/pageviews-202108-user.bz2', sep=' ', names=['code', 'page', '?', 'access-type', 'views', 'id'])"
   ]
  },
  {
   "cell_type": "code",
   "execution_count": 81,
   "metadata": {},
   "outputs": [],
   "source": [
    "df_filtered = queryA.copy()"
   ]
  },
  {
   "cell_type": "code",
   "execution_count": 79,
   "metadata": {},
   "outputs": [
    {
     "data": {
      "text/html": [
       "<div>\n",
       "<style scoped>\n",
       "    .dataframe tbody tr th:only-of-type {\n",
       "        vertical-align: middle;\n",
       "    }\n",
       "\n",
       "    .dataframe tbody tr th {\n",
       "        vertical-align: top;\n",
       "    }\n",
       "\n",
       "    .dataframe thead th {\n",
       "        text-align: right;\n",
       "    }\n",
       "</style>\n",
       "<table border=\"1\" class=\"dataframe\">\n",
       "  <thead>\n",
       "    <tr style=\"text-align: right;\">\n",
       "      <th></th>\n",
       "      <th>max_ratio</th>\n",
       "      <th>max_ratio_hi</th>\n",
       "      <th>max_ratio_lo</th>\n",
       "    </tr>\n",
       "    <tr>\n",
       "      <th>date</th>\n",
       "      <th></th>\n",
       "      <th></th>\n",
       "      <th></th>\n",
       "    </tr>\n",
       "  </thead>\n",
       "  <tbody>\n",
       "    <tr>\n",
       "      <th>2019-01-06</th>\n",
       "      <td>15.747040</td>\n",
       "      <td>17.538362</td>\n",
       "      <td>14.126670</td>\n",
       "    </tr>\n",
       "    <tr>\n",
       "      <th>2019-01-13</th>\n",
       "      <td>13.122533</td>\n",
       "      <td>14.732224</td>\n",
       "      <td>11.669858</td>\n",
       "    </tr>\n",
       "    <tr>\n",
       "      <th>2019-01-20</th>\n",
       "      <td>13.122533</td>\n",
       "      <td>14.732224</td>\n",
       "      <td>11.669858</td>\n",
       "    </tr>\n",
       "    <tr>\n",
       "      <th>2019-01-27</th>\n",
       "      <td>13.122533</td>\n",
       "      <td>14.732224</td>\n",
       "      <td>11.669858</td>\n",
       "    </tr>\n",
       "    <tr>\n",
       "      <th>2019-02-03</th>\n",
       "      <td>14.434786</td>\n",
       "      <td>16.135293</td>\n",
       "      <td>12.898264</td>\n",
       "    </tr>\n",
       "    <tr>\n",
       "      <th>...</th>\n",
       "      <td>...</td>\n",
       "      <td>...</td>\n",
       "      <td>...</td>\n",
       "    </tr>\n",
       "    <tr>\n",
       "      <th>2020-11-29</th>\n",
       "      <td>11.810280</td>\n",
       "      <td>13.329155</td>\n",
       "      <td>10.441452</td>\n",
       "    </tr>\n",
       "    <tr>\n",
       "      <th>2020-12-06</th>\n",
       "      <td>11.810280</td>\n",
       "      <td>13.329155</td>\n",
       "      <td>10.441452</td>\n",
       "    </tr>\n",
       "    <tr>\n",
       "      <th>2020-12-13</th>\n",
       "      <td>10.498026</td>\n",
       "      <td>11.926086</td>\n",
       "      <td>9.213046</td>\n",
       "    </tr>\n",
       "    <tr>\n",
       "      <th>2020-12-20</th>\n",
       "      <td>11.810280</td>\n",
       "      <td>13.329155</td>\n",
       "      <td>10.441452</td>\n",
       "    </tr>\n",
       "    <tr>\n",
       "      <th>2020-12-27</th>\n",
       "      <td>11.810280</td>\n",
       "      <td>13.329155</td>\n",
       "      <td>10.441452</td>\n",
       "    </tr>\n",
       "  </tbody>\n",
       "</table>\n",
       "<p>104 rows × 3 columns</p>\n",
       "</div>"
      ],
      "text/plain": [
       "            max_ratio  max_ratio_hi  max_ratio_lo\n",
       "date                                             \n",
       "2019-01-06  15.747040     17.538362     14.126670\n",
       "2019-01-13  13.122533     14.732224     11.669858\n",
       "2019-01-20  13.122533     14.732224     11.669858\n",
       "2019-01-27  13.122533     14.732224     11.669858\n",
       "2019-02-03  14.434786     16.135293     12.898264\n",
       "...               ...           ...           ...\n",
       "2020-11-29  11.810280     13.329155     10.441452\n",
       "2020-12-06  11.810280     13.329155     10.441452\n",
       "2020-12-13  10.498026     11.926086      9.213046\n",
       "2020-12-20  11.810280     13.329155     10.441452\n",
       "2020-12-27  11.810280     13.329155     10.441452\n",
       "\n",
       "[104 rows x 3 columns]"
      ]
     },
     "execution_count": 79,
     "metadata": {},
     "output_type": "execute_result"
    }
   ],
   "source": [
    "queryA"
   ]
  },
  {
   "cell_type": "code",
   "execution_count": 82,
   "metadata": {},
   "outputs": [],
   "source": [
    "df_filtered = df_filtered[df_filtered.max_ratio > 12]\n",
    "df_filtered['new_column'] = 0"
   ]
  }
 ],
 "metadata": {
  "kernelspec": {
   "display_name": "Python 3",
   "language": "python",
   "name": "python3"
  },
  "language_info": {
   "codemirror_mode": {
    "name": "ipython",
    "version": 3
   },
   "file_extension": ".py",
   "mimetype": "text/x-python",
   "name": "python",
   "nbconvert_exporter": "python",
   "pygments_lexer": "ipython3",
   "version": "3.7.6"
  }
 },
 "nbformat": 4,
 "nbformat_minor": 4
}
