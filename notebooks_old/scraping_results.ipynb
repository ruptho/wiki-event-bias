{
 "cells": [
  {
   "cell_type": "code",
   "execution_count": 94,
   "metadata": {},
   "outputs": [],
   "source": [
    "import pandas as pd\n",
    "import json\n",
    "import re\n",
    "import numpy as np"
   ]
  },
  {
   "cell_type": "code",
   "execution_count": 7,
   "metadata": {},
   "outputs": [
    {
     "data": {
      "text/plain": [
       "6210"
      ]
     },
     "execution_count": 7,
     "metadata": {},
     "output_type": "execute_result"
    }
   ],
   "source": [
    "df_en = pd.read_csv(\"events/events_dataframe_en.csv\", converters={'redirects': pd.eval, 'list_views_7_days':pd.eval})\n",
    "df_en['lang'] = 'en'\n",
    "df_de = pd.read_csv(\"events/events_dataframe_de.csv\", converters={'redirects': pd.eval, 'list_views_7_days':pd.eval})\n",
    "df_de['lang'] = 'de'\n",
    "df = pd.concat([df_en, df_de])\n",
    "df = df[(df[\"views_7_sum\"] != 0) & (df.cat != \"\")]\n",
    "len(df)"
   ]
  },
  {
   "cell_type": "code",
   "execution_count": 23,
   "metadata": {},
   "outputs": [
    {
     "data": {
      "text/plain": [
       "5182"
      ]
     },
     "execution_count": 23,
     "metadata": {},
     "output_type": "execute_result"
    }
   ],
   "source": [
    "with open('scraping/results/en_bingnews_1_new.json') as json_data:\n",
    "    data1 = json.load(json_data)\n",
    "with open('scraping/results/en_bingnews_2_new.json') as json_data:\n",
    "    data2 = json.load(json_data)\n",
    "data_en = {**data1, **data2}\n",
    "len(data_en)"
   ]
  },
  {
   "cell_type": "code",
   "execution_count": 10,
   "metadata": {},
   "outputs": [
    {
     "data": {
      "text/plain": [
       "1014"
      ]
     },
     "execution_count": 10,
     "metadata": {},
     "output_type": "execute_result"
    }
   ],
   "source": [
    "with open('scraping/results/de_bingnews_new.json') as json_data:\n",
    "    data_de = json.load(json_data)\n",
    "len(data_de.keys())"
   ]
  },
  {
   "cell_type": "code",
   "execution_count": 48,
   "metadata": {},
   "outputs": [],
   "source": [
    "def get_hits_from_json(json_data, serp='bing_news'):\n",
    "    bing_news_hits = []\n",
    "    i = 0 \n",
    "    for title, crawl_res in json_data.items():\n",
    "        # get result string and clean\n",
    "        res_string = crawl_res['1']['num_results']\n",
    "        num_string = re.sub('[^0-9]', '', res_string)\n",
    "        \n",
    "        if len(num_string) == 0:\n",
    "            #print(f'Error when parsing hits for {title}: |{res_string}|')\n",
    "            num = np.nan\n",
    "        else:\n",
    "            num = int(num_string)\n",
    "            \n",
    "        bing_news_hits.append([title, num])\n",
    "        \n",
    "        # debug output\n",
    "        if i%250 == 0:\n",
    "            print(title, res_string, num_string)\n",
    "        i+=1\n",
    "    return pd.DataFrame(bing_news_hits, columns=['pagetitle', f'{serp}_hits'])"
   ]
  },
  {
   "cell_type": "code",
   "execution_count": 39,
   "metadata": {},
   "outputs": [
    {
     "name": "stdout",
     "output_type": "stream",
     "text": [
      "Griechisches Referendum 2015 48 Ergebnisse 48\n",
      "Pakistan-International-Airlines-Flug 661 22.500 Ergebnisse 22500\n",
      "Super Bowl LII 5.990 Ergebnisse 5990\n",
      "Europawahl in Portugal 2019 34 Ergebnisse 34\n",
      "Deutsche Meisterschaften im Rennrodeln 2020 40.500 Ergebnisse 40500\n"
     ]
    }
   ],
   "source": [
    "de_news_hits = get_hits_from_json(data_de)"
   ]
  },
  {
   "cell_type": "code",
   "execution_count": 40,
   "metadata": {},
   "outputs": [
    {
     "name": "stdout",
     "output_type": "stream",
     "text": [
      "2023 South Sudanese general election 444,000 results 444000\n",
      "Eckwersheim derailment 1 result 1\n",
      "2016 Mexico City ePrix 393,000 results 393000\n",
      "12th Africa Movie Academy Awards 1,510,000 results 1510000\n",
      "Equestrian at the 2016 Summer Olympics – Team jumping 16,300 results 16300\n",
      "2016 Minnesota Senate election 23 results 23\n",
      "UFC on Fox: Shevchenko vs. Peña 38 results 38\n",
      "2017 Durham County Council election 46 results 46\n",
      "2017 Barcelona attacks 33,300 results 33300\n",
      "2017 Nepalese general election 1,030,000 results 1030000\n",
      "2018 Dutch Intelligence and Security Services Act referendum 17,400 results 17400\n",
      "2018 Kohler Grand Prix 276,000 results 276000\n",
      "2018 Toronto municipal election 58,000 results 58000\n",
      "Second inauguration of Nicolás Maduro 17,100 results 17100\n",
      "2019 Food City 500 222,000 results 222000\n",
      "21st Quebec Cinema Awards 35,200 results 35200\n",
      "2019 Kashmir earthquake 82 results 82\n",
      "2019 Algerian presidential election 17,400 results 17400\n",
      "2020 Idaho Republican presidential primary 15 results 15\n",
      "2020 MTV Video Music Awards 33,900 results 33900\n",
      "Error when parsing hits for 2020 Chuhuiv An-26 crash: ||\n",
      "2020 United States House of Representatives elections in California 14 results 14\n"
     ]
    }
   ],
   "source": [
    "en_news_hits = get_hits_from_json(data_en)"
   ]
  },
  {
   "cell_type": "code",
   "execution_count": 93,
   "metadata": {},
   "outputs": [],
   "source": [
    "de_news_hits.to_csv(f'scraping/results/bing_news_de.csv', index=False)\n",
    "en_news_hits.to_csv(f'scraping/results/bing_news_en.csv', index=False)"
   ]
  },
  {
   "cell_type": "markdown",
   "metadata": {},
   "source": [
    "# Checks"
   ]
  },
  {
   "cell_type": "markdown",
   "metadata": {},
   "source": [
    "## two different runs"
   ]
  },
  {
   "cell_type": "code",
   "execution_count": 43,
   "metadata": {},
   "outputs": [
    {
     "name": "stdout",
     "output_type": "stream",
     "text": [
      "Griechisches Referendum 2015 48 Ergebnisse 48\n",
      "Eisenbahnunfall von Hitrino 0 Ergebnis 0\n",
      "US Poker Open 2018 3 480 000 Ergebnisse 3480000\n",
      "Europawahl in Luxemburg 2019 45 Ergebnisse 45\n",
      "Amokfahrt in Trier 6 610 Ergebnisse 6610\n"
     ]
    },
    {
     "data": {
      "text/html": [
       "<div>\n",
       "<style scoped>\n",
       "    .dataframe tbody tr th:only-of-type {\n",
       "        vertical-align: middle;\n",
       "    }\n",
       "\n",
       "    .dataframe tbody tr th {\n",
       "        vertical-align: top;\n",
       "    }\n",
       "\n",
       "    .dataframe thead th {\n",
       "        text-align: right;\n",
       "    }\n",
       "</style>\n",
       "<table border=\"1\" class=\"dataframe\">\n",
       "  <thead>\n",
       "    <tr style=\"text-align: right;\">\n",
       "      <th></th>\n",
       "      <th>pagetitle</th>\n",
       "      <th>bing_news_old_hits</th>\n",
       "    </tr>\n",
       "  </thead>\n",
       "  <tbody>\n",
       "    <tr>\n",
       "      <th>0</th>\n",
       "      <td>Griechisches Referendum 2015</td>\n",
       "      <td>48</td>\n",
       "    </tr>\n",
       "    <tr>\n",
       "      <th>1</th>\n",
       "      <td>Großer Preis von Großbritannien 2015</td>\n",
       "      <td>27400</td>\n",
       "    </tr>\n",
       "    <tr>\n",
       "      <th>2</th>\n",
       "      <td>Amoklauf von Leutershausen</td>\n",
       "      <td>5</td>\n",
       "    </tr>\n",
       "    <tr>\n",
       "      <th>3</th>\n",
       "      <td>Anschlag in Suruç 2015</td>\n",
       "      <td>11300</td>\n",
       "    </tr>\n",
       "    <tr>\n",
       "      <th>4</th>\n",
       "      <td>Amoklauf in Lafayette</td>\n",
       "      <td>42</td>\n",
       "    </tr>\n",
       "  </tbody>\n",
       "</table>\n",
       "</div>"
      ],
      "text/plain": [
       "                              pagetitle  bing_news_old_hits\n",
       "0          Griechisches Referendum 2015                  48\n",
       "1  Großer Preis von Großbritannien 2015               27400\n",
       "2            Amoklauf von Leutershausen                   5\n",
       "3                Anschlag in Suruç 2015               11300\n",
       "4                 Amoklauf in Lafayette                  42"
      ]
     },
     "execution_count": 43,
     "metadata": {},
     "output_type": "execute_result"
    }
   ],
   "source": [
    "with open('scraping/results/de_bingnews.json') as json_data:\n",
    "    data_old = json.load(json_data)\n",
    "len(data_old.keys())\n",
    "\n",
    "de_news_hits_old = get_hits_from_json(data_old, serp='bing_news_old')\n",
    "de_news_hits_old.head()"
   ]
  },
  {
   "cell_type": "code",
   "execution_count": 44,
   "metadata": {},
   "outputs": [
    {
     "data": {
      "text/html": [
       "<div>\n",
       "<style scoped>\n",
       "    .dataframe tbody tr th:only-of-type {\n",
       "        vertical-align: middle;\n",
       "    }\n",
       "\n",
       "    .dataframe tbody tr th {\n",
       "        vertical-align: top;\n",
       "    }\n",
       "\n",
       "    .dataframe thead th {\n",
       "        text-align: right;\n",
       "    }\n",
       "</style>\n",
       "<table border=\"1\" class=\"dataframe\">\n",
       "  <thead>\n",
       "    <tr style=\"text-align: right;\">\n",
       "      <th></th>\n",
       "      <th>bing_news_hits</th>\n",
       "      <th>bing_news_old_hits</th>\n",
       "    </tr>\n",
       "  </thead>\n",
       "  <tbody>\n",
       "    <tr>\n",
       "      <th>bing_news_hits</th>\n",
       "      <td>1.000000</td>\n",
       "      <td>0.911506</td>\n",
       "    </tr>\n",
       "    <tr>\n",
       "      <th>bing_news_old_hits</th>\n",
       "      <td>0.911506</td>\n",
       "      <td>1.000000</td>\n",
       "    </tr>\n",
       "  </tbody>\n",
       "</table>\n",
       "</div>"
      ],
      "text/plain": [
       "                    bing_news_hits  bing_news_old_hits\n",
       "bing_news_hits            1.000000            0.911506\n",
       "bing_news_old_hits        0.911506            1.000000"
      ]
     },
     "execution_count": 44,
     "metadata": {},
     "output_type": "execute_result"
    }
   ],
   "source": [
    "de_merged = de_news_hits.merge(de_news_hits_old, on='pagetitle', copy=False)\n",
    "de_merged.corr()"
   ]
  },
  {
   "cell_type": "code",
   "execution_count": 91,
   "metadata": {},
   "outputs": [
    {
     "data": {
      "text/html": [
       "<div>\n",
       "<style scoped>\n",
       "    .dataframe tbody tr th:only-of-type {\n",
       "        vertical-align: middle;\n",
       "    }\n",
       "\n",
       "    .dataframe tbody tr th {\n",
       "        vertical-align: top;\n",
       "    }\n",
       "\n",
       "    .dataframe thead th {\n",
       "        text-align: right;\n",
       "    }\n",
       "</style>\n",
       "<table border=\"1\" class=\"dataframe\">\n",
       "  <thead>\n",
       "    <tr style=\"text-align: right;\">\n",
       "      <th></th>\n",
       "      <th>bing_news_hits</th>\n",
       "      <th>bing_news_old_hits</th>\n",
       "    </tr>\n",
       "  </thead>\n",
       "  <tbody>\n",
       "    <tr>\n",
       "      <th>bing_news_hits</th>\n",
       "      <td>1.000000</td>\n",
       "      <td>0.911506</td>\n",
       "    </tr>\n",
       "    <tr>\n",
       "      <th>bing_news_old_hits</th>\n",
       "      <td>0.911506</td>\n",
       "      <td>1.000000</td>\n",
       "    </tr>\n",
       "  </tbody>\n",
       "</table>\n",
       "</div>"
      ],
      "text/plain": [
       "                    bing_news_hits  bing_news_old_hits\n",
       "bing_news_hits            1.000000            0.911506\n",
       "bing_news_old_hits        0.911506            1.000000"
      ]
     },
     "execution_count": 91,
     "metadata": {},
     "output_type": "execute_result"
    }
   ],
   "source": [
    "de_merged_log = de_merged.copy()\n",
    "de_merged_log.bing_news_hits = np.log1p(de_merged_log.bing_news_hits)\n",
    "de_merged_log.bing_news_old_hits = np.log1p(de_merged_log.bing_news_old_hits)\n",
    "de_merged.corr()"
   ]
  },
  {
   "cell_type": "markdown",
   "metadata": {},
   "source": [
    "## Corr with (a few) google results\n",
    "Google blocked my IP after 82 attempts"
   ]
  },
  {
   "cell_type": "code",
   "execution_count": 86,
   "metadata": {},
   "outputs": [
    {
     "name": "stdout",
     "output_type": "stream",
     "text": [
      "1014\n",
      "Griechisches Referendum 2015  \n",
      "Pakistan-International-Airlines-Flug 661  \n",
      "Super Bowl LII  \n",
      "Europawahl in Portugal 2019  \n",
      "Deutsche Meisterschaften im Rennrodeln 2020  \n"
     ]
    },
    {
     "data": {
      "text/html": [
       "<div>\n",
       "<style scoped>\n",
       "    .dataframe tbody tr th:only-of-type {\n",
       "        vertical-align: middle;\n",
       "    }\n",
       "\n",
       "    .dataframe tbody tr th {\n",
       "        vertical-align: top;\n",
       "    }\n",
       "\n",
       "    .dataframe thead th {\n",
       "        text-align: right;\n",
       "    }\n",
       "</style>\n",
       "<table border=\"1\" class=\"dataframe\">\n",
       "  <thead>\n",
       "    <tr style=\"text-align: right;\">\n",
       "      <th></th>\n",
       "      <th>pagetitle</th>\n",
       "      <th>google_news_hits</th>\n",
       "    </tr>\n",
       "  </thead>\n",
       "  <tbody>\n",
       "    <tr>\n",
       "      <th>0</th>\n",
       "      <td>Griechisches Referendum 2015</td>\n",
       "      <td>NaN</td>\n",
       "    </tr>\n",
       "    <tr>\n",
       "      <th>1</th>\n",
       "      <td>Großer Preis von Großbritannien 2015</td>\n",
       "      <td>39900034.0</td>\n",
       "    </tr>\n",
       "    <tr>\n",
       "      <th>2</th>\n",
       "      <td>Amoklauf von Leutershausen</td>\n",
       "      <td>1170022.0</td>\n",
       "    </tr>\n",
       "    <tr>\n",
       "      <th>3</th>\n",
       "      <td>Anschlag in Suruç 2015</td>\n",
       "      <td>1450024.0</td>\n",
       "    </tr>\n",
       "    <tr>\n",
       "      <th>4</th>\n",
       "      <td>Amoklauf in Lafayette</td>\n",
       "      <td>1510023.0</td>\n",
       "    </tr>\n",
       "  </tbody>\n",
       "</table>\n",
       "</div>"
      ],
      "text/plain": [
       "                              pagetitle  google_news_hits\n",
       "0          Griechisches Referendum 2015               NaN\n",
       "1  Großer Preis von Großbritannien 2015        39900034.0\n",
       "2            Amoklauf von Leutershausen         1170022.0\n",
       "3                Anschlag in Suruç 2015         1450024.0\n",
       "4                 Amoklauf in Lafayette         1510023.0"
      ]
     },
     "execution_count": 86,
     "metadata": {},
     "output_type": "execute_result"
    }
   ],
   "source": [
    "with open('scraping/results/de_google.json') as json_data:\n",
    "    data_google = json.load(json_data)\n",
    "print(len(data_google.keys()))\n",
    "\n",
    "google_news_hits = get_hits_from_json(data_google, serp='google_news')\n",
    "google_news_hits.head()"
   ]
  },
  {
   "cell_type": "code",
   "execution_count": 63,
   "metadata": {},
   "outputs": [
    {
     "name": "stdout",
     "output_type": "stream",
     "text": [
      "82\n"
     ]
    },
    {
     "data": {
      "text/html": [
       "<div>\n",
       "<style scoped>\n",
       "    .dataframe tbody tr th:only-of-type {\n",
       "        vertical-align: middle;\n",
       "    }\n",
       "\n",
       "    .dataframe tbody tr th {\n",
       "        vertical-align: top;\n",
       "    }\n",
       "\n",
       "    .dataframe thead th {\n",
       "        text-align: right;\n",
       "    }\n",
       "</style>\n",
       "<table border=\"1\" class=\"dataframe\">\n",
       "  <thead>\n",
       "    <tr style=\"text-align: right;\">\n",
       "      <th></th>\n",
       "      <th>pagetitle</th>\n",
       "      <th>bing_news_hits</th>\n",
       "      <th>google_news_hits</th>\n",
       "    </tr>\n",
       "  </thead>\n",
       "  <tbody>\n",
       "    <tr>\n",
       "      <th>1</th>\n",
       "      <td>Großer Preis von Großbritannien 2015</td>\n",
       "      <td>27300</td>\n",
       "      <td>39900034.0</td>\n",
       "    </tr>\n",
       "    <tr>\n",
       "      <th>2</th>\n",
       "      <td>Amoklauf von Leutershausen</td>\n",
       "      <td>5</td>\n",
       "      <td>1170022.0</td>\n",
       "    </tr>\n",
       "    <tr>\n",
       "      <th>3</th>\n",
       "      <td>Anschlag in Suruç 2015</td>\n",
       "      <td>11300</td>\n",
       "      <td>1450024.0</td>\n",
       "    </tr>\n",
       "    <tr>\n",
       "      <th>4</th>\n",
       "      <td>Amoklauf in Lafayette</td>\n",
       "      <td>42</td>\n",
       "      <td>1510023.0</td>\n",
       "    </tr>\n",
       "    <tr>\n",
       "      <th>5</th>\n",
       "      <td>Großer Preis von Ungarn 2015</td>\n",
       "      <td>19400</td>\n",
       "      <td>6920026.0</td>\n",
       "    </tr>\n",
       "  </tbody>\n",
       "</table>\n",
       "</div>"
      ],
      "text/plain": [
       "                              pagetitle  bing_news_hits  google_news_hits\n",
       "1  Großer Preis von Großbritannien 2015           27300        39900034.0\n",
       "2            Amoklauf von Leutershausen               5         1170022.0\n",
       "3                Anschlag in Suruç 2015           11300         1450024.0\n",
       "4                 Amoklauf in Lafayette              42         1510023.0\n",
       "5          Großer Preis von Ungarn 2015           19400         6920026.0"
      ]
     },
     "execution_count": 63,
     "metadata": {},
     "output_type": "execute_result"
    }
   ],
   "source": [
    "google_merged = de_news_hits.merge(google_news_hits, on='pagetitle', copy=False).dropna()\n",
    "print(len(google_merged))\n",
    "google_merged.head()\n",
    "# NOTE: only 82 retrieved here."
   ]
  },
  {
   "cell_type": "code",
   "execution_count": 84,
   "metadata": {},
   "outputs": [
    {
     "data": {
      "text/html": [
       "<div>\n",
       "<style scoped>\n",
       "    .dataframe tbody tr th:only-of-type {\n",
       "        vertical-align: middle;\n",
       "    }\n",
       "\n",
       "    .dataframe tbody tr th {\n",
       "        vertical-align: top;\n",
       "    }\n",
       "\n",
       "    .dataframe thead th {\n",
       "        text-align: right;\n",
       "    }\n",
       "</style>\n",
       "<table border=\"1\" class=\"dataframe\">\n",
       "  <thead>\n",
       "    <tr style=\"text-align: right;\">\n",
       "      <th></th>\n",
       "      <th>bing_news_hits</th>\n",
       "      <th>google_news_hits</th>\n",
       "    </tr>\n",
       "  </thead>\n",
       "  <tbody>\n",
       "    <tr>\n",
       "      <th>bing_news_hits</th>\n",
       "      <td>1.000000</td>\n",
       "      <td>0.929782</td>\n",
       "    </tr>\n",
       "    <tr>\n",
       "      <th>google_news_hits</th>\n",
       "      <td>0.929782</td>\n",
       "      <td>1.000000</td>\n",
       "    </tr>\n",
       "  </tbody>\n",
       "</table>\n",
       "</div>"
      ],
      "text/plain": [
       "                  bing_news_hits  google_news_hits\n",
       "bing_news_hits          1.000000          0.929782\n",
       "google_news_hits        0.929782          1.000000"
      ]
     },
     "execution_count": 84,
     "metadata": {},
     "output_type": "execute_result"
    },
    {
     "data": {
      "image/png": "[encoded data removed]",
      "text/plain": [
       "<Figure size 432x288 with 1 Axes>"
      ]
     },
     "metadata": {
      "needs_background": "light"
     },
     "output_type": "display_data"
    }
   ],
   "source": [
    "google_merged.plot.scatter(x='bing_news_hits', y='google_news_hits')\n",
    "google_merged.corr()"
   ]
  },
  {
   "cell_type": "code",
   "execution_count": 80,
   "metadata": {},
   "outputs": [
    {
     "data": {
      "text/html": [
       "<div>\n",
       "<style scoped>\n",
       "    .dataframe tbody tr th:only-of-type {\n",
       "        vertical-align: middle;\n",
       "    }\n",
       "\n",
       "    .dataframe tbody tr th {\n",
       "        vertical-align: top;\n",
       "    }\n",
       "\n",
       "    .dataframe thead th {\n",
       "        text-align: right;\n",
       "    }\n",
       "</style>\n",
       "<table border=\"1\" class=\"dataframe\">\n",
       "  <thead>\n",
       "    <tr style=\"text-align: right;\">\n",
       "      <th></th>\n",
       "      <th>bing_news_hits</th>\n",
       "      <th>google_news_hits</th>\n",
       "    </tr>\n",
       "  </thead>\n",
       "  <tbody>\n",
       "    <tr>\n",
       "      <th>bing_news_hits</th>\n",
       "      <td>1.000000</td>\n",
       "      <td>0.495871</td>\n",
       "    </tr>\n",
       "    <tr>\n",
       "      <th>google_news_hits</th>\n",
       "      <td>0.495871</td>\n",
       "      <td>1.000000</td>\n",
       "    </tr>\n",
       "  </tbody>\n",
       "</table>\n",
       "</div>"
      ],
      "text/plain": [
       "                  bing_news_hits  google_news_hits\n",
       "bing_news_hits          1.000000          0.495871\n",
       "google_news_hits        0.495871          1.000000"
      ]
     },
     "execution_count": 80,
     "metadata": {},
     "output_type": "execute_result"
    },
    {
     "data": {
      "image/png": "[encoded data removed]",
      "text/plain": [
       "<Figure size 432x288 with 1 Axes>"
      ]
     },
     "metadata": {
      "needs_background": "light"
     },
     "output_type": "display_data"
    }
   ],
   "source": [
    "google_merged_log = google_merged.copy()\n",
    "google_merged_log.bing_news_hits = np.log1p(google_merged_log.bing_news_hits)\n",
    "google_merged_log.google_news_hits = np.log1p(google_merged_log.google_news_hits)\n",
    "google_merged_log.plot.scatter(x='bing_news_hits', y='google_news_hits', ylim=(0,23))\n",
    "google_merged_log.corr()"
   ]
  }
 ],
 "metadata": {
  "kernelspec": {
   "display_name": "Python 3",
   "language": "python",
   "name": "python3"
  },
  "language_info": {
   "codemirror_mode": {
    "name": "ipython",
    "version": 3
   },
   "file_extension": ".py",
   "mimetype": "text/x-python",
   "name": "python",
   "nbconvert_exporter": "python",
   "pygments_lexer": "ipython3",
   "version": "3.7.6"
  }
 },
 "nbformat": 4,
 "nbformat_minor": 4
}
