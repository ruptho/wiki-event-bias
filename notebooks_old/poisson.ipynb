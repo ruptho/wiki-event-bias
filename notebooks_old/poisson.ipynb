{
 "cells": [
  {
   "cell_type": "code",
   "execution_count": 1,
   "outputs": [
    {
     "name": "stderr",
     "output_type": "stream",
     "text": [
      "/home/ruptho/.local/lib/python3.10/site-packages/statsmodels/compat/pandas.py:65: FutureWarning: pandas.Int64Index is deprecated and will be removed from pandas in a future version. Use pandas.Index with the appropriate dtype instead.\n",
      "  from pandas import Int64Index as NumericIndex\n"
     ]
    }
   ],
   "source": [
    "import matplotlib.pyplot as plt\n",
    "import pandas as pd\n",
    "import numpy as np\n",
    "from bing_helper import load_json_files, get_hits_from_json, load_lang_news_hits\n",
    "from regression import fit_regression_and_rename_coeffs_by_cat, fit_regression_and_rename_coeffs, write_reg_results\n",
    "from processing import filter_by_region_cat_code, build_regression_dataframe, load_preprocessed_events\n",
    "from plot_regression import plot_regression_results, plot_regression_results_interactions, plot_country_counts, plot_regression_results_interactions_from_dict, plot_cat_by_cat_variable\n",
    "from preprocessing import load_if_in_country_or_lang\n",
    "from steinkasserer.preprocessing import categorize_views_for_df\n",
    "\n",
    "%load_ext autoreload\n",
    "%autoreload 2"
   ],
   "metadata": {
    "collapsed": false,
    "pycharm": {
     "name": "#%%\n"
    }
   }
  },
  {
   "cell_type": "markdown",
   "source": [
    "## load Data\n"
   ],
   "metadata": {
    "collapsed": false
   }
  },
  {
   "cell_type": "code",
   "execution_count": 2,
   "outputs": [
    {
     "name": "stderr",
     "output_type": "stream",
     "text": [
      "/home/ruptho/.local/lib/python3.10/site-packages/pandas/core/arraylike.py:397: RuntimeWarning: divide by zero encountered in log1p\n",
      "  result = getattr(ufunc, method)(*inputs, **kwargs)\n",
      "/home/ruptho/.local/lib/python3.10/site-packages/pandas/core/arraylike.py:397: RuntimeWarning: invalid value encountered in log1p\n",
      "  result = getattr(ufunc, method)(*inputs, **kwargs)\n"
     ]
    },
    {
     "data": {
      "text/plain": "     event_id                                   pagetitle  event_date  \\\n0     Q100021  Pakistan International Airlines Flight 661  2016-12-07   \n1  Q100231328            Gretchen Whitmer kidnapping plot  2020-10-08   \n2  Q100256872                Killing of Babu Lal Vaishnav  2020-10-08   \n3  Q100279235                           Miss Vietnam 2020  2020-11-20   \n4  Q100288161                  2020 Ganja missile attacks  2020-10-11   \n\n  economic_region        country      continent       cat  \\\n0    Global South       Pakistan           Asia  disaster   \n1    Global North  United States  North America  disaster   \n2    Global South          India           Asia  disaster   \n3    Global South        Vietnam           Asia   culture   \n4    Global South     Azerbaijan           Asia  disaster   \n\n                                          categories  views_7_sum  \\\n0  ['Category:2016 disasters in Pakistan', 'Categ...       248274   \n1  ['Category:2020 crimes in the United States', ...        74144   \n2  ['Category:2020 crimes in India', 'Category:20...          427   \n3  ['Category:2020 beauty pageants', 'Category:Be...         1444   \n4  ['Category:2020 in Azerbaijan', 'Category:Arti...         7410   \n\n   views_before_mean  ...  population   Country/Area  Year        GDP_pc  \\\n0           0.000000  ...   203631356       Pakistan  2016   1362.860008   \n1           0.000000  ...   329484123  United States  2020  63122.594145   \n2           0.000000  ...  1380004385          India  2020   1930.971218   \n3          49.285714  ...    97338583        Vietnam  2020   2785.724225   \n4           0.000000  ...    10093121     Azerbaijan  2020   4202.232239   \n\n            GDP   oecd  date_month  views_baseline in_code_lang in_code_region  \n0  2.775210e+11  False  2016-12-01    8.684000e+07         True          False  \n1  2.089375e+13   True  2020-10-01    3.137752e+09         True           True  \n2  2.664749e+12  False  2020-10-01    7.142770e+08         True          False  \n3  2.711584e+11  False  2020-11-01    1.619000e+07        False          False  \n4  4.260718e+10  False  2020-10-01    3.088000e+06        False          False  \n\n[5 rows x 42 columns]",
      "text/html": "<div>\n<style scoped>\n    .dataframe tbody tr th:only-of-type {\n        vertical-align: middle;\n    }\n\n    .dataframe tbody tr th {\n        vertical-align: top;\n    }\n\n    .dataframe thead th {\n        text-align: right;\n    }\n</style>\n<table border=\"1\" class=\"dataframe\">\n  <thead>\n    <tr style=\"text-align: right;\">\n      <th></th>\n      <th>event_id</th>\n      <th>pagetitle</th>\n      <th>event_date</th>\n      <th>economic_region</th>\n      <th>country</th>\n      <th>continent</th>\n      <th>cat</th>\n      <th>categories</th>\n      <th>views_7_sum</th>\n      <th>views_before_mean</th>\n      <th>...</th>\n      <th>population</th>\n      <th>Country/Area</th>\n      <th>Year</th>\n      <th>GDP_pc</th>\n      <th>GDP</th>\n      <th>oecd</th>\n      <th>date_month</th>\n      <th>views_baseline</th>\n      <th>in_code_lang</th>\n      <th>in_code_region</th>\n    </tr>\n  </thead>\n  <tbody>\n    <tr>\n      <th>0</th>\n      <td>Q100021</td>\n      <td>Pakistan International Airlines Flight 661</td>\n      <td>2016-12-07</td>\n      <td>Global South</td>\n      <td>Pakistan</td>\n      <td>Asia</td>\n      <td>disaster</td>\n      <td>['Category:2016 disasters in Pakistan', 'Categ...</td>\n      <td>248274</td>\n      <td>0.000000</td>\n      <td>...</td>\n      <td>203631356</td>\n      <td>Pakistan</td>\n      <td>2016</td>\n      <td>1362.860008</td>\n      <td>2.775210e+11</td>\n      <td>False</td>\n      <td>2016-12-01</td>\n      <td>8.684000e+07</td>\n      <td>True</td>\n      <td>False</td>\n    </tr>\n    <tr>\n      <th>1</th>\n      <td>Q100231328</td>\n      <td>Gretchen Whitmer kidnapping plot</td>\n      <td>2020-10-08</td>\n      <td>Global North</td>\n      <td>United States</td>\n      <td>North America</td>\n      <td>disaster</td>\n      <td>['Category:2020 crimes in the United States', ...</td>\n      <td>74144</td>\n      <td>0.000000</td>\n      <td>...</td>\n      <td>329484123</td>\n      <td>United States</td>\n      <td>2020</td>\n      <td>63122.594145</td>\n      <td>2.089375e+13</td>\n      <td>True</td>\n      <td>2020-10-01</td>\n      <td>3.137752e+09</td>\n      <td>True</td>\n      <td>True</td>\n    </tr>\n    <tr>\n      <th>2</th>\n      <td>Q100256872</td>\n      <td>Killing of Babu Lal Vaishnav</td>\n      <td>2020-10-08</td>\n      <td>Global South</td>\n      <td>India</td>\n      <td>Asia</td>\n      <td>disaster</td>\n      <td>['Category:2020 crimes in India', 'Category:20...</td>\n      <td>427</td>\n      <td>0.000000</td>\n      <td>...</td>\n      <td>1380004385</td>\n      <td>India</td>\n      <td>2020</td>\n      <td>1930.971218</td>\n      <td>2.664749e+12</td>\n      <td>False</td>\n      <td>2020-10-01</td>\n      <td>7.142770e+08</td>\n      <td>True</td>\n      <td>False</td>\n    </tr>\n    <tr>\n      <th>3</th>\n      <td>Q100279235</td>\n      <td>Miss Vietnam 2020</td>\n      <td>2020-11-20</td>\n      <td>Global South</td>\n      <td>Vietnam</td>\n      <td>Asia</td>\n      <td>culture</td>\n      <td>['Category:2020 beauty pageants', 'Category:Be...</td>\n      <td>1444</td>\n      <td>49.285714</td>\n      <td>...</td>\n      <td>97338583</td>\n      <td>Vietnam</td>\n      <td>2020</td>\n      <td>2785.724225</td>\n      <td>2.711584e+11</td>\n      <td>False</td>\n      <td>2020-11-01</td>\n      <td>1.619000e+07</td>\n      <td>False</td>\n      <td>False</td>\n    </tr>\n    <tr>\n      <th>4</th>\n      <td>Q100288161</td>\n      <td>2020 Ganja missile attacks</td>\n      <td>2020-10-11</td>\n      <td>Global South</td>\n      <td>Azerbaijan</td>\n      <td>Asia</td>\n      <td>disaster</td>\n      <td>['Category:2020 in Azerbaijan', 'Category:Arti...</td>\n      <td>7410</td>\n      <td>0.000000</td>\n      <td>...</td>\n      <td>10093121</td>\n      <td>Azerbaijan</td>\n      <td>2020</td>\n      <td>4202.232239</td>\n      <td>4.260718e+10</td>\n      <td>False</td>\n      <td>2020-10-01</td>\n      <td>3.088000e+06</td>\n      <td>False</td>\n      <td>False</td>\n    </tr>\n  </tbody>\n</table>\n<p>5 rows × 42 columns</p>\n</div>"
     },
     "execution_count": 2,
     "metadata": {},
     "output_type": "execute_result"
    }
   ],
   "source": [
    "df_crawled = load_preprocessed_events()\n",
    "df_crawled = load_if_in_country_or_lang(df_crawled)\n",
    "data = build_regression_dataframe(df_crawled)\n",
    "df_crawled.head()"
   ],
   "metadata": {
    "collapsed": false,
    "pycharm": {
     "name": "#%%\n"
    }
   }
  },
  {
   "cell_type": "code",
   "execution_count": 3,
   "outputs": [],
   "source": [
    "df_crawled = categorize_views_for_df(df_crawled)"
   ],
   "metadata": {
    "collapsed": false,
    "pycharm": {
     "name": "#%%\n"
    }
   }
  },
  {
   "cell_type": "code",
   "execution_count": 4,
   "outputs": [
    {
     "data": {
      "text/plain": "     event_id                                   pagetitle  event_date  \\\n0     Q100021  Pakistan International Airlines Flight 661  2016-12-07   \n1  Q100231328            Gretchen Whitmer kidnapping plot  2020-10-08   \n2  Q100256872                Killing of Babu Lal Vaishnav  2020-10-08   \n3  Q100279235                           Miss Vietnam 2020  2020-11-20   \n4  Q100288161                  2020 Ganja missile attacks  2020-10-11   \n\n  economic_region        country      continent       cat  \\\n0    Global South       Pakistan           Asia  disaster   \n1    Global North  United States  North America  disaster   \n2    Global South          India           Asia  disaster   \n3    Global South        Vietnam           Asia   culture   \n4    Global South     Azerbaijan           Asia  disaster   \n\n                                          categories  views_7_sum  \\\n0  ['Category:2016 disasters in Pakistan', 'Categ...       248274   \n1  ['Category:2020 crimes in the United States', ...        74144   \n2  ['Category:2020 crimes in India', 'Category:20...          427   \n3  ['Category:2020 beauty pageants', 'Category:Be...         1444   \n4  ['Category:2020 in Azerbaijan', 'Category:Arti...         7410   \n\n   views_before_mean  ...   Country/Area  Year        GDP_pc           GDP  \\\n0           0.000000  ...       Pakistan  2016   1362.860008  2.775210e+11   \n1           0.000000  ...  United States  2020  63122.594145  2.089375e+13   \n2           0.000000  ...          India  2020   1930.971218  2.664749e+12   \n3          49.285714  ...        Vietnam  2020   2785.724225  2.711584e+11   \n4           0.000000  ...     Azerbaijan  2020   4202.232239  4.260718e+10   \n\n    oecd  date_month  views_baseline  in_code_lang in_code_region  \\\n0  False  2016-12-01    8.684000e+07          True          False   \n1   True  2020-10-01    3.137752e+09          True           True   \n2  False  2020-10-01    7.142770e+08          True          False   \n3  False  2020-11-01    1.619000e+07         False          False   \n4  False  2020-10-01    3.088000e+06         False          False   \n\n  views_baseline_cat  \n0              >10^7  \n1              >10^9  \n2              >10^8  \n3              >10^7  \n4              >10^6  \n\n[5 rows x 43 columns]",
      "text/html": "<div>\n<style scoped>\n    .dataframe tbody tr th:only-of-type {\n        vertical-align: middle;\n    }\n\n    .dataframe tbody tr th {\n        vertical-align: top;\n    }\n\n    .dataframe thead th {\n        text-align: right;\n    }\n</style>\n<table border=\"1\" class=\"dataframe\">\n  <thead>\n    <tr style=\"text-align: right;\">\n      <th></th>\n      <th>event_id</th>\n      <th>pagetitle</th>\n      <th>event_date</th>\n      <th>economic_region</th>\n      <th>country</th>\n      <th>continent</th>\n      <th>cat</th>\n      <th>categories</th>\n      <th>views_7_sum</th>\n      <th>views_before_mean</th>\n      <th>...</th>\n      <th>Country/Area</th>\n      <th>Year</th>\n      <th>GDP_pc</th>\n      <th>GDP</th>\n      <th>oecd</th>\n      <th>date_month</th>\n      <th>views_baseline</th>\n      <th>in_code_lang</th>\n      <th>in_code_region</th>\n      <th>views_baseline_cat</th>\n    </tr>\n  </thead>\n  <tbody>\n    <tr>\n      <th>0</th>\n      <td>Q100021</td>\n      <td>Pakistan International Airlines Flight 661</td>\n      <td>2016-12-07</td>\n      <td>Global South</td>\n      <td>Pakistan</td>\n      <td>Asia</td>\n      <td>disaster</td>\n      <td>['Category:2016 disasters in Pakistan', 'Categ...</td>\n      <td>248274</td>\n      <td>0.000000</td>\n      <td>...</td>\n      <td>Pakistan</td>\n      <td>2016</td>\n      <td>1362.860008</td>\n      <td>2.775210e+11</td>\n      <td>False</td>\n      <td>2016-12-01</td>\n      <td>8.684000e+07</td>\n      <td>True</td>\n      <td>False</td>\n      <td>&gt;10^7</td>\n    </tr>\n    <tr>\n      <th>1</th>\n      <td>Q100231328</td>\n      <td>Gretchen Whitmer kidnapping plot</td>\n      <td>2020-10-08</td>\n      <td>Global North</td>\n      <td>United States</td>\n      <td>North America</td>\n      <td>disaster</td>\n      <td>['Category:2020 crimes in the United States', ...</td>\n      <td>74144</td>\n      <td>0.000000</td>\n      <td>...</td>\n      <td>United States</td>\n      <td>2020</td>\n      <td>63122.594145</td>\n      <td>2.089375e+13</td>\n      <td>True</td>\n      <td>2020-10-01</td>\n      <td>3.137752e+09</td>\n      <td>True</td>\n      <td>True</td>\n      <td>&gt;10^9</td>\n    </tr>\n    <tr>\n      <th>2</th>\n      <td>Q100256872</td>\n      <td>Killing of Babu Lal Vaishnav</td>\n      <td>2020-10-08</td>\n      <td>Global South</td>\n      <td>India</td>\n      <td>Asia</td>\n      <td>disaster</td>\n      <td>['Category:2020 crimes in India', 'Category:20...</td>\n      <td>427</td>\n      <td>0.000000</td>\n      <td>...</td>\n      <td>India</td>\n      <td>2020</td>\n      <td>1930.971218</td>\n      <td>2.664749e+12</td>\n      <td>False</td>\n      <td>2020-10-01</td>\n      <td>7.142770e+08</td>\n      <td>True</td>\n      <td>False</td>\n      <td>&gt;10^8</td>\n    </tr>\n    <tr>\n      <th>3</th>\n      <td>Q100279235</td>\n      <td>Miss Vietnam 2020</td>\n      <td>2020-11-20</td>\n      <td>Global South</td>\n      <td>Vietnam</td>\n      <td>Asia</td>\n      <td>culture</td>\n      <td>['Category:2020 beauty pageants', 'Category:Be...</td>\n      <td>1444</td>\n      <td>49.285714</td>\n      <td>...</td>\n      <td>Vietnam</td>\n      <td>2020</td>\n      <td>2785.724225</td>\n      <td>2.711584e+11</td>\n      <td>False</td>\n      <td>2020-11-01</td>\n      <td>1.619000e+07</td>\n      <td>False</td>\n      <td>False</td>\n      <td>&gt;10^7</td>\n    </tr>\n    <tr>\n      <th>4</th>\n      <td>Q100288161</td>\n      <td>2020 Ganja missile attacks</td>\n      <td>2020-10-11</td>\n      <td>Global South</td>\n      <td>Azerbaijan</td>\n      <td>Asia</td>\n      <td>disaster</td>\n      <td>['Category:2020 in Azerbaijan', 'Category:Arti...</td>\n      <td>7410</td>\n      <td>0.000000</td>\n      <td>...</td>\n      <td>Azerbaijan</td>\n      <td>2020</td>\n      <td>4202.232239</td>\n      <td>4.260718e+10</td>\n      <td>False</td>\n      <td>2020-10-01</td>\n      <td>3.088000e+06</td>\n      <td>False</td>\n      <td>False</td>\n      <td>&gt;10^6</td>\n    </tr>\n  </tbody>\n</table>\n<p>5 rows × 43 columns</p>\n</div>"
     },
     "execution_count": 4,
     "metadata": {},
     "output_type": "execute_result"
    }
   ],
   "source": [
    "df_crawled.head()"
   ],
   "metadata": {
    "collapsed": false,
    "pycharm": {
     "name": "#%%\n"
    }
   }
  },
  {
   "cell_type": "markdown",
   "source": [
    "# Poisson regression, Quasi-regression model, Non-negative binomial model\n",
    "https://www.youtube.com/watch?v=jnKDQtDy0Bg\n",
    "\n",
    "https://www.youtube.com/watch?v=uGKnoAw-PFQ"
   ],
   "metadata": {
    "collapsed": false,
    "pycharm": {
     "name": "#%% md\n"
    }
   }
  },
  {
   "cell_type": "code",
   "execution_count": 5,
   "outputs": [],
   "source": [
    "from processing import compute_mean_and_variance\n",
    "import statsmodels.api as sm\n",
    "from plot_regression import plot_pearson_residuals"
   ],
   "metadata": {
    "collapsed": false,
    "pycharm": {
     "name": "#%%\n"
    }
   }
  },
  {
   "cell_type": "code",
   "execution_count": 6,
   "outputs": [
    {
     "name": "stderr",
     "output_type": "stream",
     "text": [
      "/home/ruptho/.local/lib/python3.10/site-packages/pandas/core/arraylike.py:397: RuntimeWarning: divide by zero encountered in log1p\n",
      "  result = getattr(ufunc, method)(*inputs, **kwargs)\n",
      "/home/ruptho/.local/lib/python3.10/site-packages/pandas/core/arraylike.py:397: RuntimeWarning: invalid value encountered in log1p\n",
      "  result = getattr(ufunc, method)(*inputs, **kwargs)\n"
     ]
    }
   ],
   "source": [
    "# excluding all articles that have no category or less than 10 recorded views in the week after the event happened\n",
    "df_filtered = df_crawled[(df_crawled.cat != 'undefined') & (df_crawled.views_7_sum > 10)]\n",
    "data_filtered = build_regression_dataframe(df_filtered)"
   ],
   "metadata": {
    "collapsed": false,
    "pycharm": {
     "name": "#%%\n"
    }
   }
  },
  {
   "cell_type": "code",
   "execution_count": 7,
   "outputs": [
    {
     "data": {
      "text/plain": "<AxesSubplot:xlabel='mean', ylabel='var'>"
     },
     "execution_count": 7,
     "metadata": {},
     "output_type": "execute_result"
    },
    {
     "data": {
      "text/plain": "<Figure size 432x288 with 1 Axes>",
      "image/png": "[encoded data removed]"
     },
     "metadata": {
      "needs_background": "light"
     },
     "output_type": "display_data"
    }
   ],
   "source": [
    "# mean-variance plot suggests to use negative binomial model! this is supported by poisson regression below (deviance >>>> DoF, very small error bars)\n",
    "mean_var = compute_mean_and_variance(df_filtered, ['code', 'gni_region', 'cat'])['views_7_sum']\n",
    "col_map = {'de': 'orange', 'en': 'blue', 'es': 'red', 'it': 'orange'}\n",
    "col = [col_map[var[0]] for var in mean_var.index]\n",
    "mean_var.plot.scatter(x='mean', y='var', color=col, alpha=0.5)"
   ],
   "metadata": {
    "collapsed": false,
    "pycharm": {
     "name": "#%%\n"
    }
   }
  },
  {
   "cell_type": "code",
   "execution_count": 8,
   "outputs": [
    {
     "data": {
      "text/plain": "                                             mean           var\ncode gni_region            cat                                 \nde   East Asia & Pacific   culture     266.333333  3.605733e+04\n                           disaster  15254.400000  5.976131e+08\n                           politics   5466.906250  3.057974e+07\n                           sports     2646.382514  5.694921e+07\n     Europe & Central Asia culture   11182.569620  1.937942e+08\n...                                           ...           ...\nit   South Asia            politics     69.500000  6.844500e+03\n                           sports     1137.000000  1.630818e+06\n     Sub-Saharan Africa    disaster   2054.666667  1.383099e+07\n                           politics    292.928571  1.095870e+05\n                           sports    10393.000000  5.819687e+08\n\n[103 rows x 2 columns]",
      "text/html": "<div>\n<style scoped>\n    .dataframe tbody tr th:only-of-type {\n        vertical-align: middle;\n    }\n\n    .dataframe tbody tr th {\n        vertical-align: top;\n    }\n\n    .dataframe thead th {\n        text-align: right;\n    }\n</style>\n<table border=\"1\" class=\"dataframe\">\n  <thead>\n    <tr style=\"text-align: right;\">\n      <th></th>\n      <th></th>\n      <th></th>\n      <th>mean</th>\n      <th>var</th>\n    </tr>\n    <tr>\n      <th>code</th>\n      <th>gni_region</th>\n      <th>cat</th>\n      <th></th>\n      <th></th>\n    </tr>\n  </thead>\n  <tbody>\n    <tr>\n      <th rowspan=\"5\" valign=\"top\">de</th>\n      <th rowspan=\"4\" valign=\"top\">East Asia &amp; Pacific</th>\n      <th>culture</th>\n      <td>266.333333</td>\n      <td>3.605733e+04</td>\n    </tr>\n    <tr>\n      <th>disaster</th>\n      <td>15254.400000</td>\n      <td>5.976131e+08</td>\n    </tr>\n    <tr>\n      <th>politics</th>\n      <td>5466.906250</td>\n      <td>3.057974e+07</td>\n    </tr>\n    <tr>\n      <th>sports</th>\n      <td>2646.382514</td>\n      <td>5.694921e+07</td>\n    </tr>\n    <tr>\n      <th>Europe &amp; Central Asia</th>\n      <th>culture</th>\n      <td>11182.569620</td>\n      <td>1.937942e+08</td>\n    </tr>\n    <tr>\n      <th>...</th>\n      <th>...</th>\n      <th>...</th>\n      <td>...</td>\n      <td>...</td>\n    </tr>\n    <tr>\n      <th rowspan=\"5\" valign=\"top\">it</th>\n      <th rowspan=\"2\" valign=\"top\">South Asia</th>\n      <th>politics</th>\n      <td>69.500000</td>\n      <td>6.844500e+03</td>\n    </tr>\n    <tr>\n      <th>sports</th>\n      <td>1137.000000</td>\n      <td>1.630818e+06</td>\n    </tr>\n    <tr>\n      <th rowspan=\"3\" valign=\"top\">Sub-Saharan Africa</th>\n      <th>disaster</th>\n      <td>2054.666667</td>\n      <td>1.383099e+07</td>\n    </tr>\n    <tr>\n      <th>politics</th>\n      <td>292.928571</td>\n      <td>1.095870e+05</td>\n    </tr>\n    <tr>\n      <th>sports</th>\n      <td>10393.000000</td>\n      <td>5.819687e+08</td>\n    </tr>\n  </tbody>\n</table>\n<p>103 rows × 2 columns</p>\n</div>"
     },
     "execution_count": 8,
     "metadata": {},
     "output_type": "execute_result"
    }
   ],
   "source": [
    "compute_mean_and_variance(df_filtered, ['code', 'gni_region', 'cat'])['views_7_sum']"
   ],
   "metadata": {
    "collapsed": false,
    "pycharm": {
     "name": "#%%\n"
    }
   }
  },
  {
   "cell_type": "code",
   "execution_count": 9,
   "outputs": [
    {
     "data": {
      "text/plain": "            views_7_sum              \n                   mean           var\ngni_class                            \nH          25927.824198  2.182053e+10\nL          26345.761194  4.042424e+09\nLM         27390.089691  7.568149e+09\nUM         23020.099937  1.482262e+10",
      "text/html": "<div>\n<style scoped>\n    .dataframe tbody tr th:only-of-type {\n        vertical-align: middle;\n    }\n\n    .dataframe tbody tr th {\n        vertical-align: top;\n    }\n\n    .dataframe thead tr th {\n        text-align: left;\n    }\n\n    .dataframe thead tr:last-of-type th {\n        text-align: right;\n    }\n</style>\n<table border=\"1\" class=\"dataframe\">\n  <thead>\n    <tr>\n      <th></th>\n      <th colspan=\"2\" halign=\"left\">views_7_sum</th>\n    </tr>\n    <tr>\n      <th></th>\n      <th>mean</th>\n      <th>var</th>\n    </tr>\n    <tr>\n      <th>gni_class</th>\n      <th></th>\n      <th></th>\n    </tr>\n  </thead>\n  <tbody>\n    <tr>\n      <th>H</th>\n      <td>25927.824198</td>\n      <td>2.182053e+10</td>\n    </tr>\n    <tr>\n      <th>L</th>\n      <td>26345.761194</td>\n      <td>4.042424e+09</td>\n    </tr>\n    <tr>\n      <th>LM</th>\n      <td>27390.089691</td>\n      <td>7.568149e+09</td>\n    </tr>\n    <tr>\n      <th>UM</th>\n      <td>23020.099937</td>\n      <td>1.482262e+10</td>\n    </tr>\n  </tbody>\n</table>\n</div>"
     },
     "execution_count": 9,
     "metadata": {},
     "output_type": "execute_result"
    }
   ],
   "source": [
    "compute_mean_and_variance(df_filtered, 'gni_class')"
   ],
   "metadata": {
    "collapsed": false,
    "pycharm": {
     "name": "#%%\n"
    }
   }
  },
  {
   "cell_type": "markdown",
   "source": [
    "### Poisson Regression"
   ],
   "metadata": {
    "collapsed": false,
    "pycharm": {
     "name": "#%% md\n"
    }
   }
  },
  {
   "cell_type": "code",
   "execution_count": 10,
   "outputs": [],
   "source": [
    "df_code = df_filtered[df_filtered.code == 'en']"
   ],
   "metadata": {
    "collapsed": false,
    "pycharm": {
     "name": "#%%\n"
    }
   }
  },
  {
   "cell_type": "code",
   "execution_count": 11,
   "outputs": [
    {
     "data": {
      "text/plain": "<class 'statsmodels.iolib.summary2.Summary'>\n\"\"\"\n                        Results: Generalized linear model\n==================================================================================\nModel:                    GLM                  AIC:                1080169578.9799\nLink Function:            Log                  BIC:                1080023249.6438\nDependent Variable:       views_7_sum          Log-Likelihood:     -5.4008e+08    \nDate:                     2022-03-07 09:46     LL-Null:            -5.6871e+08    \nNo. Observations:         7606                 Deviance:           1.0801e+09     \nDf Model:                 15                   Pearson chi2:       5.62e+09       \nDf Residuals:             7590                 Scale:              1.0000         \nMethod:                   IRLS                                                    \n----------------------------------------------------------------------------------\n                                 Coef.  Std.Err.     z      P>|z|   [0.025  0.975]\n----------------------------------------------------------------------------------\nIntercept                       10.8004   0.0002 55268.8111 0.0000 10.8000 10.8008\ncat[T.disaster]                  0.8605   0.0002  3494.3627 0.0000  0.8601  0.8610\ncat[T.politics]                 -0.0793   0.0002  -346.0216 0.0000 -0.0797 -0.0788\ncat[T.sports]                   -0.5643   0.0002 -2509.2747 0.0000 -0.5648 -0.5639\ngni_class[T.L]                  -5.5927   0.0427  -130.9206 0.0000 -5.6764 -5.5090\ngni_class[T.LM]                 -1.2597   0.0011 -1142.1850 0.0000 -1.2619 -1.2575\ngni_class[T.UM]                 -0.6622   0.0009  -727.2578 0.0000 -0.6639 -0.6604\ncat[T.disaster]:gni_class[T.L]   4.8507   0.0427   113.5442 0.0000  4.7670  4.9345\ncat[T.politics]:gni_class[T.L]   5.1794   0.0427   121.2210 0.0000  5.0956  5.2631\ncat[T.sports]:gni_class[T.L]     5.2208   0.0428   121.9968 0.0000  5.1369  5.3047\ncat[T.disaster]:gni_class[T.LM]  0.5310   0.0012   458.0111 0.0000  0.5287  0.5332\ncat[T.politics]:gni_class[T.LM]  1.0222   0.0012   872.8715 0.0000  1.0199  1.0245\ncat[T.sports]:gni_class[T.LM]    1.4242   0.0012  1213.6062 0.0000  1.4219  1.4265\ncat[T.disaster]:gni_class[T.UM]  0.0746   0.0010    76.7500 0.0000  0.0727  0.0765\ncat[T.politics]:gni_class[T.UM]  0.2651   0.0010   269.9097 0.0000  0.2632  0.2671\ncat[T.sports]:gni_class[T.UM]    0.9450   0.0009  1013.8470 0.0000  0.9432  0.9468\n==================================================================================\n\n\"\"\"",
      "text/html": "<table class=\"simpletable\">\n<tr>\n        <td>Model:</td>               <td>GLM</td>            <td>AIC:</td>       <td>1080169578.9799</td>\n</tr>\n<tr>\n    <td>Link Function:</td>           <td>Log</td>            <td>BIC:</td>       <td>1080023249.6438</td>\n</tr>\n<tr>\n  <td>Dependent Variable:</td>    <td>views_7_sum</td>   <td>Log-Likelihood:</td>   <td>-5.4008e+08</td>  \n</tr>\n<tr>\n         <td>Date:</td>        <td>2022-03-07 09:46</td>    <td>LL-Null:</td>       <td>-5.6871e+08</td>  \n</tr>\n<tr>\n   <td>No. Observations:</td>        <td>7606</td>          <td>Deviance:</td>      <td>1.0801e+09</td>   \n</tr>\n<tr>\n       <td>Df Model:</td>             <td>15</td>         <td>Pearson chi2:</td>     <td>5.62e+09</td>    \n</tr>\n<tr>\n     <td>Df Residuals:</td>          <td>7590</td>           <td>Scale:</td>          <td>1.0000</td>     \n</tr>\n<tr>\n        <td>Method:</td>             <td>IRLS</td>              <td></td>                <td></td>        \n</tr>\n</table>\n<table class=\"simpletable\">\n<tr>\n                 <td></td>                  <th>Coef.</th>  <th>Std.Err.</th>      <th>z</th>      <th>P>|z|</th> <th>[0.025</th>  <th>0.975]</th> \n</tr>\n<tr>\n  <th>Intercept</th>                       <td>10.8004</td>  <td>0.0002</td>  <td>55268.8111</td> <td>0.0000</td> <td>10.8000</td> <td>10.8008</td>\n</tr>\n<tr>\n  <th>cat[T.disaster]</th>                 <td>0.8605</td>   <td>0.0002</td>   <td>3494.3627</td> <td>0.0000</td> <td>0.8601</td>  <td>0.8610</td> \n</tr>\n<tr>\n  <th>cat[T.politics]</th>                 <td>-0.0793</td>  <td>0.0002</td>   <td>-346.0216</td> <td>0.0000</td> <td>-0.0797</td> <td>-0.0788</td>\n</tr>\n<tr>\n  <th>cat[T.sports]</th>                   <td>-0.5643</td>  <td>0.0002</td>  <td>-2509.2747</td> <td>0.0000</td> <td>-0.5648</td> <td>-0.5639</td>\n</tr>\n<tr>\n  <th>gni_class[T.L]</th>                  <td>-5.5927</td>  <td>0.0427</td>   <td>-130.9206</td> <td>0.0000</td> <td>-5.6764</td> <td>-5.5090</td>\n</tr>\n<tr>\n  <th>gni_class[T.LM]</th>                 <td>-1.2597</td>  <td>0.0011</td>  <td>-1142.1850</td> <td>0.0000</td> <td>-1.2619</td> <td>-1.2575</td>\n</tr>\n<tr>\n  <th>gni_class[T.UM]</th>                 <td>-0.6622</td>  <td>0.0009</td>   <td>-727.2578</td> <td>0.0000</td> <td>-0.6639</td> <td>-0.6604</td>\n</tr>\n<tr>\n  <th>cat[T.disaster]:gni_class[T.L]</th>  <td>4.8507</td>   <td>0.0427</td>   <td>113.5442</td>  <td>0.0000</td> <td>4.7670</td>  <td>4.9345</td> \n</tr>\n<tr>\n  <th>cat[T.politics]:gni_class[T.L]</th>  <td>5.1794</td>   <td>0.0427</td>   <td>121.2210</td>  <td>0.0000</td> <td>5.0956</td>  <td>5.2631</td> \n</tr>\n<tr>\n  <th>cat[T.sports]:gni_class[T.L]</th>    <td>5.2208</td>   <td>0.0428</td>   <td>121.9968</td>  <td>0.0000</td> <td>5.1369</td>  <td>5.3047</td> \n</tr>\n<tr>\n  <th>cat[T.disaster]:gni_class[T.LM]</th> <td>0.5310</td>   <td>0.0012</td>   <td>458.0111</td>  <td>0.0000</td> <td>0.5287</td>  <td>0.5332</td> \n</tr>\n<tr>\n  <th>cat[T.politics]:gni_class[T.LM]</th> <td>1.0222</td>   <td>0.0012</td>   <td>872.8715</td>  <td>0.0000</td> <td>1.0199</td>  <td>1.0245</td> \n</tr>\n<tr>\n  <th>cat[T.sports]:gni_class[T.LM]</th>   <td>1.4242</td>   <td>0.0012</td>   <td>1213.6062</td> <td>0.0000</td> <td>1.4219</td>  <td>1.4265</td> \n</tr>\n<tr>\n  <th>cat[T.disaster]:gni_class[T.UM]</th> <td>0.0746</td>   <td>0.0010</td>    <td>76.7500</td>  <td>0.0000</td> <td>0.0727</td>  <td>0.0765</td> \n</tr>\n<tr>\n  <th>cat[T.politics]:gni_class[T.UM]</th> <td>0.2651</td>   <td>0.0010</td>   <td>269.9097</td>  <td>0.0000</td> <td>0.2632</td>  <td>0.2671</td> \n</tr>\n<tr>\n  <th>cat[T.sports]:gni_class[T.UM]</th>   <td>0.9450</td>   <td>0.0009</td>   <td>1013.8470</td> <td>0.0000</td> <td>0.9432</td>  <td>0.9468</td> \n</tr>\n</table>"
     },
     "execution_count": 11,
     "metadata": {},
     "output_type": "execute_result"
    }
   ],
   "source": [
    "model_ps = sm.GLM.from_formula('views_7_sum ~ cat * gni_class', family=sm.families.Poisson(), data=df_code).fit()\n",
    "model_ps.summary2()"
   ],
   "metadata": {
    "collapsed": false,
    "pycharm": {
     "name": "#%%\n"
    }
   }
  },
  {
   "cell_type": "code",
   "execution_count": 12,
   "outputs": [
    {
     "data": {
      "text/plain": "<matplotlib.collections.PathCollection at 0x7fe1a5f6f7f0>"
     },
     "execution_count": 12,
     "metadata": {},
     "output_type": "execute_result"
    },
    {
     "data": {
      "text/plain": "<Figure size 432x288 with 1 Axes>",
      "image/png": "[encoded data removed]"
     },
     "metadata": {
      "needs_background": "light"
     },
     "output_type": "display_data"
    }
   ],
   "source": [
    "resid_outliers = model_ps.resid_pearson.nlargest(15)\n",
    "outlier_filter = ~model_ps.resid_pearson.isin(resid_outliers)\n",
    "plt.scatter(df_code.loc[outlier_filter, :].gni_class, model_ps.resid_pearson[outlier_filter])"
   ],
   "metadata": {
    "collapsed": false,
    "pycharm": {
     "name": "#%%\n"
    }
   }
  },
  {
   "cell_type": "code",
   "execution_count": 13,
   "outputs": [],
   "source": [
    "# compute dispersion: ssqpearsonres / degrees of freedom"
   ],
   "metadata": {
    "collapsed": false,
    "pycharm": {
     "name": "#%%\n"
    }
   }
  },
  {
   "cell_type": "code",
   "execution_count": 14,
   "outputs": [
    {
     "data": {
      "text/plain": "374400581.5530272"
     },
     "execution_count": 14,
     "metadata": {},
     "output_type": "execute_result"
    }
   ],
   "source": [
    "sum(np.square(model_ps.resid_pearson)) / model_ps.df_model"
   ],
   "metadata": {
    "collapsed": false,
    "pycharm": {
     "name": "#%%\n"
    }
   }
  },
  {
   "cell_type": "markdown",
   "source": [
    "## Negative Binomial"
   ],
   "metadata": {
    "collapsed": false,
    "pycharm": {
     "name": "#%% md\n"
    }
   }
  },
  {
   "cell_type": "code",
   "execution_count": null,
   "outputs": [],
   "source": [
    "model_neg_f = sm.GLM.from_formula('views_7_sum ~ cat * gni_region * code', family=sm.families.NegativeBinomial(),\n",
    "                                  data=df_filtered)\n",
    "model_neg = model_neg_f.fit()\n",
    "model_neg.summary()"
   ],
   "metadata": {
    "collapsed": false,
    "pycharm": {
     "name": "#%%\n"
    }
   }
  },
  {
   "cell_type": "code",
   "execution_count": 37,
   "outputs": [
    {
     "data": {
      "text/plain": "<Figure size 432x288 with 1 Axes>",
      "image/png": "[encoded data removed]"
     },
     "metadata": {
      "needs_background": "light"
     },
     "output_type": "display_data"
    }
   ],
   "source": [
    "plot_pearson_residuals(df_filtered, model_neg, 0, None)"
   ],
   "metadata": {
    "collapsed": false,
    "pycharm": {
     "name": "#%%\n"
    }
   }
  },
  {
   "cell_type": "code",
   "execution_count": 36,
   "outputs": [
    {
     "data": {
      "text/plain": "0         64097.621202\n1        142457.853242\n2         64097.621202\n3         13612.887115\n4         97346.746817\n             ...      \n14913     37620.766062\n14914     27227.301598\n14915     27227.301598\n14916      4303.655272\n14917      5874.475426\nLength: 14801, dtype: float64"
     },
     "execution_count": 36,
     "metadata": {},
     "output_type": "execute_result"
    }
   ],
   "source": [
    "model_neg.fittedvalues"
   ],
   "metadata": {
    "collapsed": false,
    "pycharm": {
     "name": "#%%\n"
    }
   }
  },
  {
   "cell_type": "code",
   "execution_count": 90,
   "outputs": [
    {
     "name": "stderr",
     "output_type": "stream",
     "text": [
      "/home/ruptho/.local/lib/python3.10/site-packages/pandas/core/arraylike.py:397: RuntimeWarning: overflow encountered in expm1\n",
      "  result = getattr(ufunc, method)(*inputs, **kwargs)\n"
     ]
    },
    {
     "data": {
      "text/plain": "<Figure size 432x288 with 1 Axes>",
      "image/png": "[encoded data removed]"
     },
     "metadata": {
      "needs_background": "light"
     },
     "output_type": "display_data"
    }
   ],
   "source": [
    "from steinkasserer.plot_regression import plot_real_vs_fitted\n",
    "\n",
    "plot_real_vs_fitted(df_filtered, model_neg, log_scale=False)"
   ],
   "metadata": {
    "collapsed": false,
    "pycharm": {
     "name": "#%%\n"
    }
   }
  },
  {
   "cell_type": "code",
   "execution_count": 50,
   "outputs": [
    {
     "name": "stderr",
     "output_type": "stream",
     "text": [
      "/tmp/ipykernel_4911/2546756375.py:1: SettingWithCopyWarning: \n",
      "A value is trying to be set on a copy of a slice from a DataFrame.\n",
      "Try using .loc[row_indexer,col_indexer] = value instead\n",
      "\n",
      "See the caveats in the documentation: https://pandas.pydata.org/pandas-docs/stable/user_guide/indexing.html#returning-a-view-versus-a-copy\n",
      "  df_filtered['fitted'] = model_neg.fittedvalues\n"
     ]
    }
   ],
   "source": [
    "df_filtered['fitted'] = model_neg.fittedvalues"
   ],
   "metadata": {
    "collapsed": false,
    "pycharm": {
     "name": "#%%\n"
    }
   }
  },
  {
   "cell_type": "code",
   "execution_count": 74,
   "outputs": [
    {
     "data": {
      "text/plain": "       event_id                                 pagetitle  event_date  \\\n229     Q170645                       2018 FIFA World Cup  2018-06-14   \n384     Q189571                            UEFA Euro 2016  2016-06-10   \n466   Q20022969                       88th Academy Awards  2016-02-28   \n736   Q21479779               November 2015 Paris attacks  2015-11-13   \n945   Q22076019                       89th Academy Awards  2017-02-26   \n1117  Q22923830  2020 United States presidential election  2020-11-03   \n4408  Q47496499                       92nd Academy Awards  2020-02-09   \n6833    Q699872  2016 United States presidential election  2016-11-08   \n7369      Q8613                      2016 Summer Olympics  2016-08-05   \n7426  Q95579249                    Murder of George Floyd  2020-05-25   \n\n     economic_region        country      continent       cat  \\\n229     Global North         Russia         Europe    sports   \n384     Global North         France         Europe    sports   \n466     Global North  United States  North America   culture   \n736     Global North         France         Europe  disaster   \n945     Global North  United States  North America   culture   \n1117    Global North  United States  North America  politics   \n4408    Global North  United States  North America   culture   \n6833    Global North  United States  North America  politics   \n7369    Global South         Brazil  South America    sports   \n7426    Global North  United States  North America  disaster   \n\n                                             categories  views_7_sum  \\\n229   ['Category:2017–18 in Russian football', 'Cate...      4756233   \n384   ['Category:2015–16 in French football', 'Categ...      2663535   \n466   ['Category:2015 film awards', 'Category:2016 a...      2095840   \n736   ['Category:10th arrondissement of Paris', 'Cat...      2931843   \n945   ['Category:2016 film awards', 'Category:2017 a...      2013088   \n1117  ['Category:2020 United States presidential ele...      7847440   \n4408  ['Category:2019 film awards', 'Category:2020 a...      2226447   \n6833  ['Category:2016 United States presidential ele...      5580333   \n7369  ['Category:2010s in Rio de Janeiro', 'Category...      2866833   \n7426  ['Category:2020 controversies', 'Category:2020...      4748626   \n\n      views_before_mean  ...  Year        GDP_pc           GDP   oecd  \\\n229       188749.000000  ...  2018  11372.277988  1.657328e+12  False   \n384       118587.428571  ...  2016  36979.702257  2.471286e+12   True   \n466        53235.857143  ...  2016  57876.719077  1.869511e+13   True   \n736            0.000000  ...  2015  36611.753912  2.438208e+12   True   \n945        49717.000000  ...  2017  59921.674703  1.947962e+13   True   \n1117      186775.857143  ...  2020  63122.594145  2.089375e+13   True   \n4408       53921.428571  ...  2020  63122.594145  2.089375e+13   True   \n6833         108.714286  ...  2016  57876.719077  1.869511e+13   True   \n7369      112068.571429  ...  2016   8710.063417  1.795693e+12  False   \n7426           0.000000  ...  2020  63122.594145  2.089375e+13   True   \n\n      date_month views_baseline  in_code_lang  in_code_region  \\\n229   2018-06-01   6.418600e+07         False           False   \n384   2016-06-01   9.501500e+07         False           False   \n466   2016-02-01   3.429789e+09          True            True   \n736   2015-11-01   9.531800e+07         False           False   \n945   2017-02-01   3.313535e+09          True            True   \n1117  2020-11-01   3.137752e+09          True            True   \n4408  2020-02-01   3.297605e+09          True            True   \n6833  2016-11-01   3.132468e+09          True            True   \n7369  2016-08-01   6.046900e+07         False           False   \n7426  2020-05-01   3.455160e+09          True            True   \n\n     views_baseline_cat         fitted  \n229               >10^7   21338.125992  \n384               >10^7   21338.125992  \n466               >10^9   78854.422721  \n736               >10^7   97346.746817  \n945               >10^9   78854.422721  \n1117              >10^9   54331.563062  \n4408              >10^9   78854.422721  \n6833              >10^9   54331.563062  \n7369              >10^7   36988.382921  \n7426              >10^9  142457.853242  \n\n[10 rows x 44 columns]",
      "text/html": "<div>\n<style scoped>\n    .dataframe tbody tr th:only-of-type {\n        vertical-align: middle;\n    }\n\n    .dataframe tbody tr th {\n        vertical-align: top;\n    }\n\n    .dataframe thead th {\n        text-align: right;\n    }\n</style>\n<table border=\"1\" class=\"dataframe\">\n  <thead>\n    <tr style=\"text-align: right;\">\n      <th></th>\n      <th>event_id</th>\n      <th>pagetitle</th>\n      <th>event_date</th>\n      <th>economic_region</th>\n      <th>country</th>\n      <th>continent</th>\n      <th>cat</th>\n      <th>categories</th>\n      <th>views_7_sum</th>\n      <th>views_before_mean</th>\n      <th>...</th>\n      <th>Year</th>\n      <th>GDP_pc</th>\n      <th>GDP</th>\n      <th>oecd</th>\n      <th>date_month</th>\n      <th>views_baseline</th>\n      <th>in_code_lang</th>\n      <th>in_code_region</th>\n      <th>views_baseline_cat</th>\n      <th>fitted</th>\n    </tr>\n  </thead>\n  <tbody>\n    <tr>\n      <th>229</th>\n      <td>Q170645</td>\n      <td>2018 FIFA World Cup</td>\n      <td>2018-06-14</td>\n      <td>Global North</td>\n      <td>Russia</td>\n      <td>Europe</td>\n      <td>sports</td>\n      <td>['Category:2017–18 in Russian football', 'Cate...</td>\n      <td>4756233</td>\n      <td>188749.000000</td>\n      <td>...</td>\n      <td>2018</td>\n      <td>11372.277988</td>\n      <td>1.657328e+12</td>\n      <td>False</td>\n      <td>2018-06-01</td>\n      <td>6.418600e+07</td>\n      <td>False</td>\n      <td>False</td>\n      <td>&gt;10^7</td>\n      <td>21338.125992</td>\n    </tr>\n    <tr>\n      <th>384</th>\n      <td>Q189571</td>\n      <td>UEFA Euro 2016</td>\n      <td>2016-06-10</td>\n      <td>Global North</td>\n      <td>France</td>\n      <td>Europe</td>\n      <td>sports</td>\n      <td>['Category:2015–16 in French football', 'Categ...</td>\n      <td>2663535</td>\n      <td>118587.428571</td>\n      <td>...</td>\n      <td>2016</td>\n      <td>36979.702257</td>\n      <td>2.471286e+12</td>\n      <td>True</td>\n      <td>2016-06-01</td>\n      <td>9.501500e+07</td>\n      <td>False</td>\n      <td>False</td>\n      <td>&gt;10^7</td>\n      <td>21338.125992</td>\n    </tr>\n    <tr>\n      <th>466</th>\n      <td>Q20022969</td>\n      <td>88th Academy Awards</td>\n      <td>2016-02-28</td>\n      <td>Global North</td>\n      <td>United States</td>\n      <td>North America</td>\n      <td>culture</td>\n      <td>['Category:2015 film awards', 'Category:2016 a...</td>\n      <td>2095840</td>\n      <td>53235.857143</td>\n      <td>...</td>\n      <td>2016</td>\n      <td>57876.719077</td>\n      <td>1.869511e+13</td>\n      <td>True</td>\n      <td>2016-02-01</td>\n      <td>3.429789e+09</td>\n      <td>True</td>\n      <td>True</td>\n      <td>&gt;10^9</td>\n      <td>78854.422721</td>\n    </tr>\n    <tr>\n      <th>736</th>\n      <td>Q21479779</td>\n      <td>November 2015 Paris attacks</td>\n      <td>2015-11-13</td>\n      <td>Global North</td>\n      <td>France</td>\n      <td>Europe</td>\n      <td>disaster</td>\n      <td>['Category:10th arrondissement of Paris', 'Cat...</td>\n      <td>2931843</td>\n      <td>0.000000</td>\n      <td>...</td>\n      <td>2015</td>\n      <td>36611.753912</td>\n      <td>2.438208e+12</td>\n      <td>True</td>\n      <td>2015-11-01</td>\n      <td>9.531800e+07</td>\n      <td>False</td>\n      <td>False</td>\n      <td>&gt;10^7</td>\n      <td>97346.746817</td>\n    </tr>\n    <tr>\n      <th>945</th>\n      <td>Q22076019</td>\n      <td>89th Academy Awards</td>\n      <td>2017-02-26</td>\n      <td>Global North</td>\n      <td>United States</td>\n      <td>North America</td>\n      <td>culture</td>\n      <td>['Category:2016 film awards', 'Category:2017 a...</td>\n      <td>2013088</td>\n      <td>49717.000000</td>\n      <td>...</td>\n      <td>2017</td>\n      <td>59921.674703</td>\n      <td>1.947962e+13</td>\n      <td>True</td>\n      <td>2017-02-01</td>\n      <td>3.313535e+09</td>\n      <td>True</td>\n      <td>True</td>\n      <td>&gt;10^9</td>\n      <td>78854.422721</td>\n    </tr>\n    <tr>\n      <th>1117</th>\n      <td>Q22923830</td>\n      <td>2020 United States presidential election</td>\n      <td>2020-11-03</td>\n      <td>Global North</td>\n      <td>United States</td>\n      <td>North America</td>\n      <td>politics</td>\n      <td>['Category:2020 United States presidential ele...</td>\n      <td>7847440</td>\n      <td>186775.857143</td>\n      <td>...</td>\n      <td>2020</td>\n      <td>63122.594145</td>\n      <td>2.089375e+13</td>\n      <td>True</td>\n      <td>2020-11-01</td>\n      <td>3.137752e+09</td>\n      <td>True</td>\n      <td>True</td>\n      <td>&gt;10^9</td>\n      <td>54331.563062</td>\n    </tr>\n    <tr>\n      <th>4408</th>\n      <td>Q47496499</td>\n      <td>92nd Academy Awards</td>\n      <td>2020-02-09</td>\n      <td>Global North</td>\n      <td>United States</td>\n      <td>North America</td>\n      <td>culture</td>\n      <td>['Category:2019 film awards', 'Category:2020 a...</td>\n      <td>2226447</td>\n      <td>53921.428571</td>\n      <td>...</td>\n      <td>2020</td>\n      <td>63122.594145</td>\n      <td>2.089375e+13</td>\n      <td>True</td>\n      <td>2020-02-01</td>\n      <td>3.297605e+09</td>\n      <td>True</td>\n      <td>True</td>\n      <td>&gt;10^9</td>\n      <td>78854.422721</td>\n    </tr>\n    <tr>\n      <th>6833</th>\n      <td>Q699872</td>\n      <td>2016 United States presidential election</td>\n      <td>2016-11-08</td>\n      <td>Global North</td>\n      <td>United States</td>\n      <td>North America</td>\n      <td>politics</td>\n      <td>['Category:2016 United States presidential ele...</td>\n      <td>5580333</td>\n      <td>108.714286</td>\n      <td>...</td>\n      <td>2016</td>\n      <td>57876.719077</td>\n      <td>1.869511e+13</td>\n      <td>True</td>\n      <td>2016-11-01</td>\n      <td>3.132468e+09</td>\n      <td>True</td>\n      <td>True</td>\n      <td>&gt;10^9</td>\n      <td>54331.563062</td>\n    </tr>\n    <tr>\n      <th>7369</th>\n      <td>Q8613</td>\n      <td>2016 Summer Olympics</td>\n      <td>2016-08-05</td>\n      <td>Global South</td>\n      <td>Brazil</td>\n      <td>South America</td>\n      <td>sports</td>\n      <td>['Category:2010s in Rio de Janeiro', 'Category...</td>\n      <td>2866833</td>\n      <td>112068.571429</td>\n      <td>...</td>\n      <td>2016</td>\n      <td>8710.063417</td>\n      <td>1.795693e+12</td>\n      <td>False</td>\n      <td>2016-08-01</td>\n      <td>6.046900e+07</td>\n      <td>False</td>\n      <td>False</td>\n      <td>&gt;10^7</td>\n      <td>36988.382921</td>\n    </tr>\n    <tr>\n      <th>7426</th>\n      <td>Q95579249</td>\n      <td>Murder of George Floyd</td>\n      <td>2020-05-25</td>\n      <td>Global North</td>\n      <td>United States</td>\n      <td>North America</td>\n      <td>disaster</td>\n      <td>['Category:2020 controversies', 'Category:2020...</td>\n      <td>4748626</td>\n      <td>0.000000</td>\n      <td>...</td>\n      <td>2020</td>\n      <td>63122.594145</td>\n      <td>2.089375e+13</td>\n      <td>True</td>\n      <td>2020-05-01</td>\n      <td>3.455160e+09</td>\n      <td>True</td>\n      <td>True</td>\n      <td>&gt;10^9</td>\n      <td>142457.853242</td>\n    </tr>\n  </tbody>\n</table>\n<p>10 rows × 44 columns</p>\n</div>"
     },
     "execution_count": 74,
     "metadata": {},
     "output_type": "execute_result"
    }
   ],
   "source": [
    "df_filtered[(df_filtered.views_7_sum > (model_neg.fittedvalues * 20)) & (df_filtered.views_7_sum > 2*10**6)]"
   ],
   "metadata": {
    "collapsed": false,
    "pycharm": {
     "name": "#%%\n"
    }
   }
  },
  {
   "cell_type": "code",
   "execution_count": 84,
   "outputs": [
    {
     "data": {
      "text/plain": "142457.85324154526"
     },
     "execution_count": 84,
     "metadata": {},
     "output_type": "execute_result"
    }
   ],
   "source": [
    "df_filtered.fitted.max()"
   ],
   "metadata": {
    "collapsed": false,
    "pycharm": {
     "name": "#%%\n"
    }
   }
  },
  {
   "cell_type": "code",
   "execution_count": 85,
   "outputs": [
    {
     "data": {
      "text/plain": "        event_id                                 pagetitle  event_date  \\\n1     Q100231328          Gretchen Whitmer kidnapping plot  2020-10-08   \n14    Q100804527  October 2020 Alaska Peninsula earthquake  2020-10-19   \n39    Q101072249                      Quebec City stabbing  2020-10-31   \n70    Q104215553                   Kenosha unrest shooting  2020-08-25   \n76    Q104511862                    2020 Nashville bombing  2020-12-25   \n...          ...                                       ...         ...   \n7482   Q96396444      Northern Arizona University shooting  2015-10-09   \n7520   Q97357872   Reactions to the murder of George Floyd  2020-05-25   \n7579   Q98605503                   Shooting of Jacob Blake  2020-08-23   \n7589   Q98800012                Shooting of Cannon Hinnant  2020-08-09   \n7616   Q99754052                   Death of Joyce Echaquan  2020-09-28   \n\n     economic_region        country      continent       cat  \\\n1       Global North  United States  North America  disaster   \n14      Global North  United States  North America  disaster   \n39      Global North         Canada  North America  disaster   \n70      Global North  United States  North America  disaster   \n76      Global North  United States  North America  disaster   \n...              ...            ...            ...       ...   \n7482    Global North  United States  North America  disaster   \n7520    Global North  United States  North America  disaster   \n7579    Global North  United States  North America  disaster   \n7589    Global North  United States  North America  disaster   \n7616    Global North         Canada  North America  disaster   \n\n                                             categories  views_7_sum  \\\n1     ['Category:2020 crimes in the United States', ...        74144   \n14                   ['Category:Redirects from merges']         2230   \n39    ['Category:2020 in Quebec', 'Category:2020 mur...         6635   \n70    ['Category:2020 controversies in the United St...        33248   \n76    ['Category:2020 crimes in the United States', ...       568610   \n...                                                 ...          ...   \n7482  ['Category:2015 in Arizona', 'Category:2015 ma...           38   \n7520  ['Category:Aftermath of the George Floyd prote...           11   \n7579  ['Category:2020 controversies in the United St...      1285795   \n7589  ['Category:2020 in North Carolina', 'Category:...         7076   \n7616  ['Category:2020 deaths', 'Category:All article...        22787   \n\n      views_before_mean  ...  Year        GDP_pc           GDP  oecd  \\\n1                   0.0  ...  2020  63122.594145  2.089375e+13  True   \n14                  0.0  ...  2020  63122.594145  2.089375e+13  True   \n39                  0.0  ...  2020  43559.710092  1.644037e+12  True   \n70                  0.0  ...  2020  63122.594145  2.089375e+13  True   \n76                  0.0  ...  2020  63122.594145  2.089375e+13  True   \n...                 ...  ...   ...           ...           ...   ...   \n7482                0.0  ...  2015  56738.091771  1.820602e+13  True   \n7520                0.0  ...  2020  63122.594145  2.089375e+13  True   \n7579                0.0  ...  2020  63122.594145  2.089375e+13  True   \n7589                0.0  ...  2020  63122.594145  2.089375e+13  True   \n7616                0.0  ...  2020  43559.710092  1.644037e+12  True   \n\n      date_month views_baseline  in_code_lang  in_code_region  \\\n1     2020-10-01   3.137752e+09          True            True   \n14    2020-10-01   3.137752e+09          True            True   \n39    2020-10-01   3.592780e+08          True           False   \n70    2020-08-01   3.455160e+09          True            True   \n76    2020-12-01   3.166022e+09          True            True   \n...          ...            ...           ...             ...   \n7482  2015-10-01   3.431834e+09          True            True   \n7520  2020-05-01   3.455160e+09          True            True   \n7579  2020-08-01   3.455160e+09          True            True   \n7589  2020-08-01   3.455160e+09          True            True   \n7616  2020-09-01   3.621210e+08          True           False   \n\n     views_baseline_cat         fitted  \n1                 >10^9  142457.853242  \n14                >10^9  142457.853242  \n39                >10^8  142457.853242  \n70                >10^9  142457.853242  \n76                >10^9  142457.853242  \n...                 ...            ...  \n7482              >10^9  142457.853242  \n7520              >10^9  142457.853242  \n7579              >10^9  142457.853242  \n7589              >10^9  142457.853242  \n7616              >10^8  142457.853242  \n\n[164 rows x 44 columns]",
      "text/html": "<div>\n<style scoped>\n    .dataframe tbody tr th:only-of-type {\n        vertical-align: middle;\n    }\n\n    .dataframe tbody tr th {\n        vertical-align: top;\n    }\n\n    .dataframe thead th {\n        text-align: right;\n    }\n</style>\n<table border=\"1\" class=\"dataframe\">\n  <thead>\n    <tr style=\"text-align: right;\">\n      <th></th>\n      <th>event_id</th>\n      <th>pagetitle</th>\n      <th>event_date</th>\n      <th>economic_region</th>\n      <th>country</th>\n      <th>continent</th>\n      <th>cat</th>\n      <th>categories</th>\n      <th>views_7_sum</th>\n      <th>views_before_mean</th>\n      <th>...</th>\n      <th>Year</th>\n      <th>GDP_pc</th>\n      <th>GDP</th>\n      <th>oecd</th>\n      <th>date_month</th>\n      <th>views_baseline</th>\n      <th>in_code_lang</th>\n      <th>in_code_region</th>\n      <th>views_baseline_cat</th>\n      <th>fitted</th>\n    </tr>\n  </thead>\n  <tbody>\n    <tr>\n      <th>1</th>\n      <td>Q100231328</td>\n      <td>Gretchen Whitmer kidnapping plot</td>\n      <td>2020-10-08</td>\n      <td>Global North</td>\n      <td>United States</td>\n      <td>North America</td>\n      <td>disaster</td>\n      <td>['Category:2020 crimes in the United States', ...</td>\n      <td>74144</td>\n      <td>0.0</td>\n      <td>...</td>\n      <td>2020</td>\n      <td>63122.594145</td>\n      <td>2.089375e+13</td>\n      <td>True</td>\n      <td>2020-10-01</td>\n      <td>3.137752e+09</td>\n      <td>True</td>\n      <td>True</td>\n      <td>&gt;10^9</td>\n      <td>142457.853242</td>\n    </tr>\n    <tr>\n      <th>14</th>\n      <td>Q100804527</td>\n      <td>October 2020 Alaska Peninsula earthquake</td>\n      <td>2020-10-19</td>\n      <td>Global North</td>\n      <td>United States</td>\n      <td>North America</td>\n      <td>disaster</td>\n      <td>['Category:Redirects from merges']</td>\n      <td>2230</td>\n      <td>0.0</td>\n      <td>...</td>\n      <td>2020</td>\n      <td>63122.594145</td>\n      <td>2.089375e+13</td>\n      <td>True</td>\n      <td>2020-10-01</td>\n      <td>3.137752e+09</td>\n      <td>True</td>\n      <td>True</td>\n      <td>&gt;10^9</td>\n      <td>142457.853242</td>\n    </tr>\n    <tr>\n      <th>39</th>\n      <td>Q101072249</td>\n      <td>Quebec City stabbing</td>\n      <td>2020-10-31</td>\n      <td>Global North</td>\n      <td>Canada</td>\n      <td>North America</td>\n      <td>disaster</td>\n      <td>['Category:2020 in Quebec', 'Category:2020 mur...</td>\n      <td>6635</td>\n      <td>0.0</td>\n      <td>...</td>\n      <td>2020</td>\n      <td>43559.710092</td>\n      <td>1.644037e+12</td>\n      <td>True</td>\n      <td>2020-10-01</td>\n      <td>3.592780e+08</td>\n      <td>True</td>\n      <td>False</td>\n      <td>&gt;10^8</td>\n      <td>142457.853242</td>\n    </tr>\n    <tr>\n      <th>70</th>\n      <td>Q104215553</td>\n      <td>Kenosha unrest shooting</td>\n      <td>2020-08-25</td>\n      <td>Global North</td>\n      <td>United States</td>\n      <td>North America</td>\n      <td>disaster</td>\n      <td>['Category:2020 controversies in the United St...</td>\n      <td>33248</td>\n      <td>0.0</td>\n      <td>...</td>\n      <td>2020</td>\n      <td>63122.594145</td>\n      <td>2.089375e+13</td>\n      <td>True</td>\n      <td>2020-08-01</td>\n      <td>3.455160e+09</td>\n      <td>True</td>\n      <td>True</td>\n      <td>&gt;10^9</td>\n      <td>142457.853242</td>\n    </tr>\n    <tr>\n      <th>76</th>\n      <td>Q104511862</td>\n      <td>2020 Nashville bombing</td>\n      <td>2020-12-25</td>\n      <td>Global North</td>\n      <td>United States</td>\n      <td>North America</td>\n      <td>disaster</td>\n      <td>['Category:2020 crimes in the United States', ...</td>\n      <td>568610</td>\n      <td>0.0</td>\n      <td>...</td>\n      <td>2020</td>\n      <td>63122.594145</td>\n      <td>2.089375e+13</td>\n      <td>True</td>\n      <td>2020-12-01</td>\n      <td>3.166022e+09</td>\n      <td>True</td>\n      <td>True</td>\n      <td>&gt;10^9</td>\n      <td>142457.853242</td>\n    </tr>\n    <tr>\n      <th>...</th>\n      <td>...</td>\n      <td>...</td>\n      <td>...</td>\n      <td>...</td>\n      <td>...</td>\n      <td>...</td>\n      <td>...</td>\n      <td>...</td>\n      <td>...</td>\n      <td>...</td>\n      <td>...</td>\n      <td>...</td>\n      <td>...</td>\n      <td>...</td>\n      <td>...</td>\n      <td>...</td>\n      <td>...</td>\n      <td>...</td>\n      <td>...</td>\n      <td>...</td>\n      <td>...</td>\n    </tr>\n    <tr>\n      <th>7482</th>\n      <td>Q96396444</td>\n      <td>Northern Arizona University shooting</td>\n      <td>2015-10-09</td>\n      <td>Global North</td>\n      <td>United States</td>\n      <td>North America</td>\n      <td>disaster</td>\n      <td>['Category:2015 in Arizona', 'Category:2015 ma...</td>\n      <td>38</td>\n      <td>0.0</td>\n      <td>...</td>\n      <td>2015</td>\n      <td>56738.091771</td>\n      <td>1.820602e+13</td>\n      <td>True</td>\n      <td>2015-10-01</td>\n      <td>3.431834e+09</td>\n      <td>True</td>\n      <td>True</td>\n      <td>&gt;10^9</td>\n      <td>142457.853242</td>\n    </tr>\n    <tr>\n      <th>7520</th>\n      <td>Q97357872</td>\n      <td>Reactions to the murder of George Floyd</td>\n      <td>2020-05-25</td>\n      <td>Global North</td>\n      <td>United States</td>\n      <td>North America</td>\n      <td>disaster</td>\n      <td>['Category:Aftermath of the George Floyd prote...</td>\n      <td>11</td>\n      <td>0.0</td>\n      <td>...</td>\n      <td>2020</td>\n      <td>63122.594145</td>\n      <td>2.089375e+13</td>\n      <td>True</td>\n      <td>2020-05-01</td>\n      <td>3.455160e+09</td>\n      <td>True</td>\n      <td>True</td>\n      <td>&gt;10^9</td>\n      <td>142457.853242</td>\n    </tr>\n    <tr>\n      <th>7579</th>\n      <td>Q98605503</td>\n      <td>Shooting of Jacob Blake</td>\n      <td>2020-08-23</td>\n      <td>Global North</td>\n      <td>United States</td>\n      <td>North America</td>\n      <td>disaster</td>\n      <td>['Category:2020 controversies in the United St...</td>\n      <td>1285795</td>\n      <td>0.0</td>\n      <td>...</td>\n      <td>2020</td>\n      <td>63122.594145</td>\n      <td>2.089375e+13</td>\n      <td>True</td>\n      <td>2020-08-01</td>\n      <td>3.455160e+09</td>\n      <td>True</td>\n      <td>True</td>\n      <td>&gt;10^9</td>\n      <td>142457.853242</td>\n    </tr>\n    <tr>\n      <th>7589</th>\n      <td>Q98800012</td>\n      <td>Shooting of Cannon Hinnant</td>\n      <td>2020-08-09</td>\n      <td>Global North</td>\n      <td>United States</td>\n      <td>North America</td>\n      <td>disaster</td>\n      <td>['Category:2020 in North Carolina', 'Category:...</td>\n      <td>7076</td>\n      <td>0.0</td>\n      <td>...</td>\n      <td>2020</td>\n      <td>63122.594145</td>\n      <td>2.089375e+13</td>\n      <td>True</td>\n      <td>2020-08-01</td>\n      <td>3.455160e+09</td>\n      <td>True</td>\n      <td>True</td>\n      <td>&gt;10^9</td>\n      <td>142457.853242</td>\n    </tr>\n    <tr>\n      <th>7616</th>\n      <td>Q99754052</td>\n      <td>Death of Joyce Echaquan</td>\n      <td>2020-09-28</td>\n      <td>Global North</td>\n      <td>Canada</td>\n      <td>North America</td>\n      <td>disaster</td>\n      <td>['Category:2020 deaths', 'Category:All article...</td>\n      <td>22787</td>\n      <td>0.0</td>\n      <td>...</td>\n      <td>2020</td>\n      <td>43559.710092</td>\n      <td>1.644037e+12</td>\n      <td>True</td>\n      <td>2020-09-01</td>\n      <td>3.621210e+08</td>\n      <td>True</td>\n      <td>False</td>\n      <td>&gt;10^8</td>\n      <td>142457.853242</td>\n    </tr>\n  </tbody>\n</table>\n<p>164 rows × 44 columns</p>\n</div>"
     },
     "execution_count": 85,
     "metadata": {},
     "output_type": "execute_result"
    }
   ],
   "source": [
    "df_filtered[df_filtered.fitted > (12 * 10**4)]"
   ],
   "metadata": {
    "collapsed": false,
    "pycharm": {
     "name": "#%%\n"
    }
   }
  },
  {
   "cell_type": "code",
   "execution_count": null,
   "outputs": [],
   "source": [
    "142457"
   ],
   "metadata": {
    "collapsed": false,
    "pycharm": {
     "name": "#%%\n"
    }
   }
  },
  {
   "cell_type": "code",
   "execution_count": 18,
   "outputs": [
    {
     "data": {
      "text/plain": "<Figure size 432x288 with 1 Axes>",
      "image/png": "[encoded data removed]"
     },
     "metadata": {
      "needs_background": "light"
     },
     "output_type": "display_data"
    }
   ],
   "source": [
    "resid_outliers = model_ps.resid_pearson.nlargest(10)\n",
    "outlier_filter = ~model_ps.resid_pearson.isin(resid_outliers)\n",
    "fig, ax = plt.subplots()\n",
    "ax.scatter(df_code.loc[outlier_filter, :].views_7_sum, model_ps.fittedvalues[outlier_filter])\n",
    "ax.ticklabel_format(style='plain')"
   ],
   "metadata": {
    "collapsed": false,
    "pycharm": {
     "name": "#%%\n"
    }
   }
  },
  {
   "cell_type": "code",
   "execution_count": 19,
   "outputs": [
    {
     "data": {
      "text/plain": "<AxesSubplot:ylabel='Frequency'>"
     },
     "execution_count": 19,
     "metadata": {},
     "output_type": "execute_result"
    },
    {
     "data": {
      "text/plain": "<Figure size 432x288 with 1 Axes>",
      "image/png": "[encoded data removed]"
     },
     "metadata": {
      "needs_background": "light"
     },
     "output_type": "display_data"
    }
   ],
   "source": [
    "df_filtered[df_filtered.code == 'de'].views_7_sum.plot.hist(bins=100)"
   ],
   "metadata": {
    "collapsed": false,
    "pycharm": {
     "name": "#%%\n"
    }
   }
  },
  {
   "cell_type": "code",
   "execution_count": 20,
   "outputs": [
    {
     "data": {
      "text/plain": "<matplotlib.collections.PathCollection at 0x7fe1ea9f77c0>"
     },
     "execution_count": 20,
     "metadata": {},
     "output_type": "execute_result"
    },
    {
     "data": {
      "text/plain": "<Figure size 432x288 with 1 Axes>",
      "image/png": "[encoded data removed]"
     },
     "metadata": {
      "needs_background": "light"
     },
     "output_type": "display_data"
    }
   ],
   "source": [
    "plt.scatter(model_neg.fittedvalues, model_neg.resid_pearson)"
   ],
   "metadata": {
    "collapsed": false,
    "pycharm": {
     "name": "#%%\n"
    }
   }
  },
  {
   "cell_type": "markdown",
   "source": [
    "# Visualization"
   ],
   "metadata": {
    "collapsed": false,
    "pycharm": {
     "name": "#%% md\n"
    }
   }
  },
  {
   "cell_type": "code",
   "execution_count": null,
   "outputs": [],
   "source": [
    "df_filtered.groupby(['code', 'cat', 'gni_class']).size()"
   ],
   "metadata": {
    "collapsed": false,
    "pycharm": {
     "name": "#%%\n"
    }
   }
  },
  {
   "cell_type": "code",
   "execution_count": null,
   "outputs": [],
   "source": [
    "df_filtered.nlargest(10, 'views_7_sum')"
   ],
   "metadata": {
    "collapsed": false,
    "pycharm": {
     "name": "#%%\n"
    }
   }
  },
  {
   "cell_type": "code",
   "execution_count": null,
   "outputs": [],
   "source": [
    "from regression import fit_regression_and_rename_coeffs_by_cat\n",
    "\n",
    "results_fit_separate = fit_regression_and_rename_coeffs_by_cat(df_filtered,\n",
    "                                                               formula=\"views_7_sum ~ C(cat, Treatment(reference='sports')) * C(gni_region, Treatment(reference='North America'))\",\n",
    "                                                               type='poisson')\n",
    "\n",
    "fig_int_region_cat_nb = plot_regression_results_interactions_from_dict(df_filtered,\n",
    "                                                                       results_fit_separate, ['cat:gni_region'],\n",
    "                                                                       {'gni_class': 'H', 'in_code_lang': True,\n",
    "                                                                        'gni_region': 'North America', 'cat': 'sports',\n",
    "                                                                        'code': 'en'},\n",
    "                                                                       label_sort={'gni_class': ['H', 'UM', 'LM', 'L'],\n",
    "                                                                                   'cat': ['sports', 'disaster',\n",
    "                                                                                           'culture', 'politics'],\n",
    "                                                                                   'gni_region': ['North America',\n",
    "                                                                                                  'Europe & Central Asia',\n",
    "                                                                                                  'Middle East & North Africa',\n",
    "                                                                                                  'East Asia & Pacific',\n",
    "                                                                                                  'South Asia',\n",
    "                                                                                                  'Latin America & Caribbean',\n",
    "                                                                                                  'Sub-Saharan Africa']},\n",
    "                                                                       cat_dict={'en': 'English', 'it': 'Italian',\n",
    "                                                                                 'es': 'Spanish', 'de': 'German'},\n",
    "                                                                       title='views ~ gni_class * class (separate)',\n",
    "                                                                       label_rename_dict={\n",
    "                                                                           'Middle East & North Africa': 'MENAf',\n",
    "                                                                           'Latin America & Caribbean': 'LatAmC',\n",
    "                                                                           'Europe & Central Asia': 'EuCAs',\n",
    "                                                                           'East Asia & Pacific': 'EAsP',\n",
    "                                                                           'North America': 'NAm',\n",
    "                                                                           'Sub-Saharan Africa': 'SSAf',\n",
    "                                                                           'South Asia': 'SAs'},\n",
    "                                                                       figsize=(13, 22), x_limits=(-6.5, 3),\n",
    "                                                                       include_counts=True)"
   ],
   "metadata": {
    "collapsed": false,
    "pycharm": {
     "name": "#%%\n"
    }
   }
  },
  {
   "cell_type": "code",
   "execution_count": null,
   "outputs": [],
   "source": [
    "from regression import fit_regression_and_rename_coeffs_by_cat\n",
    "\n",
    "results_fit_separate_class_control = fit_regression_and_rename_coeffs_by_cat(df_filtered,\n",
    "                                                                             formula=\"views_7_sum ~ C(cat, Treatment(reference='sports')) * C(gni_class, Treatment(reference='H')) + np.log1p(views_baseline)\",\n",
    "                                                                             type='nb')\n",
    "\n",
    "fig_int_class_cat_nb = plot_regression_results_interactions_from_dict(df_filtered,\n",
    "                                                                      results_fit_separate_class_control,\n",
    "                                                                      ['cat:gni_class'],\n",
    "                                                                      {'gni_class': 'H', 'in_code_lang': True,\n",
    "                                                                       'gni_region': 'North America', 'cat': 'sports',\n",
    "                                                                       'code': 'en'},\n",
    "                                                                      label_sort={'gni_class': ['H', 'UM', 'LM', 'L'],\n",
    "                                                                                  'cat': ['sports', 'disaster',\n",
    "                                                                                          'culture', 'politics'],\n",
    "                                                                                  'gni_region': ['North America',\n",
    "                                                                                                 'Europe & Central Asia',\n",
    "                                                                                                 'Middle East & North Africa',\n",
    "                                                                                                 'East Asia & Pacific',\n",
    "                                                                                                 'South Asia',\n",
    "                                                                                                 'Latin America & Caribbean',\n",
    "                                                                                                 'Sub-Saharan Africa']},\n",
    "                                                                      cat_dict={'en': 'English', 'it': 'Italian',\n",
    "                                                                                'es': 'Spanish', 'de': 'German'},\n",
    "                                                                      title='views ~ gni_class * class (separate)',\n",
    "                                                                      label_rename_dict={\n",
    "                                                                          'Middle East & North Africa': 'MENAf',\n",
    "                                                                          'Latin America & Caribbean': 'LatAmC',\n",
    "                                                                          'Europe & Central Asia': 'EuCAs',\n",
    "                                                                          'East Asia & Pacific': 'EAsP',\n",
    "                                                                          'North America': 'NAm',\n",
    "                                                                          'Sub-Saharan Africa': 'SSAf',\n",
    "                                                                          'South Asia': 'SAs'},\n",
    "                                                                      figsize=(12, 14), x_limits=(-6.5, 3),\n",
    "                                                                      include_counts=True)\n",
    "fig_int_class_cat_nb.savefig('figures/nb_cat_class_control.pdf')"
   ],
   "metadata": {
    "collapsed": false,
    "pycharm": {
     "name": "#%%\n"
    }
   }
  },
  {
   "cell_type": "code",
   "execution_count": null,
   "outputs": [],
   "source": [
    "from regression import fit_regression_and_rename_coeffs_by_cat\n",
    "\n",
    "results_fit_separate_class_controlcat = fit_regression_and_rename_coeffs_by_cat(df_filtered,\n",
    "                                                                             formula=\"views_7_sum ~ C(cat, Treatment(reference='sports')) * C(gni_class, Treatment(reference='H')) + C(views_baseline_cat, Treatment(reference='>10^8'))\",\n",
    "                                                                             type='nb')\n",
    "\n",
    "fig_int_class_cat_nb = plot_regression_results_interactions_from_dict(df_filtered,\n",
    "                                                                      results_fit_separate_class_controlcat,\n",
    "                                                                      ['cat:gni_class'],\n",
    "                                                                      {'gni_class': 'H', 'in_code_lang': True,\n",
    "                                                                       'gni_region': 'North America', 'cat': 'sports',\n",
    "                                                                       'code': 'en'},\n",
    "                                                                      label_sort={'gni_class': ['H', 'UM', 'LM', 'L'],\n",
    "                                                                                  'cat': ['sports', 'disaster',\n",
    "                                                                                          'culture', 'politics'],\n",
    "                                                                                  'gni_region': ['North America',\n",
    "                                                                                                 'Europe & Central Asia',\n",
    "                                                                                                 'Middle East & North Africa',\n",
    "                                                                                                 'East Asia & Pacific',\n",
    "                                                                                                 'South Asia',\n",
    "                                                                                                 'Latin America & Caribbean',\n",
    "                                                                                                 'Sub-Saharan Africa']},\n",
    "                                                                      cat_dict={'en': 'English', 'it': 'Italian',\n",
    "                                                                                'es': 'Spanish', 'de': 'German'},\n",
    "                                                                      title='views ~ gni_class * class (separate)',\n",
    "                                                                      label_rename_dict={\n",
    "                                                                          'Middle East & North Africa': 'MENAf',\n",
    "                                                                          'Latin America & Caribbean': 'LatAmC',\n",
    "                                                                          'Europe & Central Asia': 'EuCAs',\n",
    "                                                                          'East Asia & Pacific': 'EAsP',\n",
    "                                                                          'North America': 'NAm',\n",
    "                                                                          'Sub-Saharan Africa': 'SSAf',\n",
    "                                                                          'South Asia': 'SAs'},\n",
    "                                                                      figsize=(12, 14), x_limits=(-6.5, 3),\n",
    "                                                                      include_counts=True)\n",
    "fig_int_class_cat_nb.savefig('figures/nb_cat_class_controlcat.pdf')"
   ],
   "metadata": {
    "collapsed": false,
    "pycharm": {
     "name": "#%%\n"
    }
   }
  },
  {
   "cell_type": "code",
   "execution_count": null,
   "outputs": [],
   "source": [
    "results_fit_separate_class = fit_regression_and_rename_coeffs_by_cat(df_filtered,\n",
    "                                                                     formula=\"views_7_sum ~ C(cat, Treatment(reference='sports')) * C(gni_class, Treatment(reference='H'))\",\n",
    "                                                                     type='nb')\n",
    "\n",
    "fig_int_class_cat_nb = plot_regression_results_interactions_from_dict(df_filtered,\n",
    "                                                                      results_fit_separate_class, ['cat:gni_class'],\n",
    "                                                                      {'gni_class': 'H', 'in_code_lang': True,\n",
    "                                                                       'gni_region': 'North America', 'cat': 'sports',\n",
    "                                                                       'code': 'en'},\n",
    "                                                                      label_sort={'gni_class': ['H', 'UM', 'LM', 'L'],\n",
    "                                                                                  'cat': ['sports', 'disaster',\n",
    "                                                                                          'culture', 'politics'],\n",
    "                                                                                  'gni_region': ['North America',\n",
    "                                                                                                 'Europe & Central Asia',\n",
    "                                                                                                 'Middle East & North Africa',\n",
    "                                                                                                 'East Asia & Pacific',\n",
    "                                                                                                 'South Asia',\n",
    "                                                                                                 'Latin America & Caribbean',\n",
    "                                                                                                 'Sub-Saharan Africa']},\n",
    "                                                                      cat_dict={'en': 'English', 'it': 'Italian',\n",
    "                                                                                'es': 'Spanish', 'de': 'German'},\n",
    "                                                                      title='views ~ gni_class * class (separate)',\n",
    "                                                                      label_rename_dict={\n",
    "                                                                          'Middle East & North Africa': 'MENAf',\n",
    "                                                                          'Latin America & Caribbean': 'LatAmC',\n",
    "                                                                          'Europe & Central Asia': 'EuCAs',\n",
    "                                                                          'East Asia & Pacific': 'EAsP',\n",
    "                                                                          'North America': 'NAm',\n",
    "                                                                          'Sub-Saharan Africa': 'SSAf',\n",
    "                                                                          'South Asia': 'SAs'},\n",
    "                                                                      figsize=(12, 14), x_limits=(-6.5, 3),\n",
    "                                                                      include_counts=True)\n",
    "fig_int_class_cat_nb.savefig('figures/nb_cat_class.pdf')"
   ],
   "metadata": {
    "collapsed": false,
    "pycharm": {
     "name": "#%%\n"
    }
   }
  },
  {
   "cell_type": "code",
   "execution_count": null,
   "outputs": [],
   "source": [
    "results_fit_separate_class['en'].summary()"
   ],
   "metadata": {
    "collapsed": false,
    "pycharm": {
     "name": "#%%\n"
    }
   }
  },
  {
   "cell_type": "code",
   "execution_count": null,
   "outputs": [],
   "source": [
    "results_fit_separate_region = fit_regression_and_rename_coeffs_by_cat(df_filtered,\n",
    "                                                                      formula=\"views_7_sum ~ C(cat, Treatment(reference='sports')) * C(gni_region, Treatment(reference='North America'))\",\n",
    "                                                                      type='nb')\n",
    "\n",
    "fig_int_class_cat_nb = plot_regression_results_interactions_from_dict(df_filtered,\n",
    "                                                                      results_fit_separate_region, ['cat:gni_region'],\n",
    "                                                                      {'gni_class': 'H', 'in_code_lang': True,\n",
    "                                                                       'gni_region': 'North America', 'cat': 'sports',\n",
    "                                                                       'code': 'en'},\n",
    "                                                                      label_sort={'gni_class': ['H', 'UM', 'LM', 'L'],\n",
    "                                                                                  'cat': ['sports', 'disaster',\n",
    "                                                                                          'culture', 'politics'],\n",
    "                                                                                  'gni_region': ['North America',\n",
    "                                                                                                 'Europe & Central Asia',\n",
    "                                                                                                 'Middle East & North Africa',\n",
    "                                                                                                 'East Asia & Pacific',\n",
    "                                                                                                 'South Asia',\n",
    "                                                                                                 'Latin America & Caribbean',\n",
    "                                                                                                 'Sub-Saharan Africa']},\n",
    "                                                                      cat_dict={'en': 'English', 'it': 'Italian',\n",
    "                                                                                'es': 'Spanish', 'de': 'German'},\n",
    "                                                                      title='views ~ gni_class * class (separate)',\n",
    "                                                                      label_rename_dict={\n",
    "                                                                          'Middle East & North Africa': 'MENAf',\n",
    "                                                                          'Latin America & Caribbean': 'LatAmC',\n",
    "                                                                          'Europe & Central Asia': 'EuCAs',\n",
    "                                                                          'East Asia & Pacific': 'EAsP',\n",
    "                                                                          'North America': 'NAm',\n",
    "                                                                          'Sub-Saharan Africa': 'SSAf',\n",
    "                                                                          'South Asia': 'SAs'},\n",
    "                                                                      figsize=(12, 18), x_limits=(-6.5, 3),\n",
    "                                                                      include_counts=True)\n",
    "fig_int_class_cat_nb.savefig('figures/nb_cat_region.pdf')"
   ],
   "metadata": {
    "collapsed": false,
    "pycharm": {
     "name": "#%%\n"
    }
   }
  },
  {
   "cell_type": "code",
   "execution_count": null,
   "outputs": [],
   "source": [
    "df_filtered.views_baseline_cat.value_counts()"
   ],
   "metadata": {
    "collapsed": false,
    "pycharm": {
     "name": "#%%\n"
    }
   }
  },
  {
   "cell_type": "code",
   "execution_count": null,
   "outputs": [],
   "source": [
    "results_fit_separate_region = fit_regression_and_rename_coeffs_by_cat(df_filtered,\n",
    "                                                                      formula=\"views_7_sum ~ C(cat, Treatment(reference='sports')) * C(gni_region, Treatment(reference='North America')) + np.log1p(views_baseline)\",\n",
    "                                                                      type='nb')\n",
    "\n",
    "fig_int_class_cat_nb = plot_regression_results_interactions_from_dict(df_filtered,\n",
    "                                                                      results_fit_separate_region, ['cat:gni_region'],\n",
    "                                                                      {'gni_class': 'H', 'in_code_lang': True,\n",
    "                                                                       'gni_region': 'North America', 'cat': 'sports',\n",
    "                                                                       'code': 'en'},\n",
    "                                                                      label_sort={'gni_class': ['H', 'UM', 'LM', 'L'],\n",
    "                                                                                  'cat': ['sports', 'disaster',\n",
    "                                                                                          'culture', 'politics'],\n",
    "                                                                                  'gni_region': ['North America',\n",
    "                                                                                                 'Europe & Central Asia',\n",
    "                                                                                                 'Middle East & North Africa',\n",
    "                                                                                                 'East Asia & Pacific',\n",
    "                                                                                                 'South Asia',\n",
    "                                                                                                 'Latin America & Caribbean',\n",
    "                                                                                                 'Sub-Saharan Africa']},\n",
    "                                                                      cat_dict={'en': 'English', 'it': 'Italian',\n",
    "                                                                                'es': 'Spanish', 'de': 'German'},\n",
    "                                                                      title='views ~ gni_class * class (separate)',\n",
    "                                                                      label_rename_dict={\n",
    "                                                                          'Middle East & North Africa': 'MENAf',\n",
    "                                                                          'Latin America & Caribbean': 'LatAmC',\n",
    "                                                                          'Europe & Central Asia': 'EuCAs',\n",
    "                                                                          'East Asia & Pacific': 'EAsP',\n",
    "                                                                          'North America': 'NAm',\n",
    "                                                                          'Sub-Saharan Africa': 'SSAf',\n",
    "                                                                          'South Asia': 'SAs'},\n",
    "                                                                      figsize=(12, 18), x_limits=(-6.5, 3),\n",
    "                                                                      include_counts=True)\n",
    "fig_int_class_cat_nb.savefig('figures/nb_cat_region_control.pdf')"
   ],
   "metadata": {
    "collapsed": false,
    "pycharm": {
     "name": "#%%\n"
    }
   }
  },
  {
   "cell_type": "code",
   "execution_count": null,
   "outputs": [],
   "source": [
    "results_fit_separate_class['en'].summary()"
   ],
   "metadata": {
    "collapsed": false,
    "pycharm": {
     "name": "#%%\n"
    }
   }
  },
  {
   "cell_type": "code",
   "execution_count": null,
   "outputs": [],
   "source": [],
   "metadata": {
    "collapsed": false,
    "pycharm": {
     "name": "#%%\n"
    }
   }
  },
  {
   "cell_type": "code",
   "execution_count": null,
   "outputs": [],
   "source": [
    "df_filtered.views_baseline_cat.value_counts()>10^9"
   ],
   "metadata": {
    "collapsed": false,
    "pycharm": {
     "name": "#%%\n"
    }
   }
  },
  {
   "cell_type": "code",
   "execution_count": null,
   "outputs": [],
   "source": [
    "results_fit_separate_region_controlcat = fit_regression_and_rename_coeffs_by_cat(df_filtered,\n",
    "                                                                      formula=\"views_7_sum ~ C(cat, Treatment(reference='sports')) * C(gni_region, Treatment(reference='North America')) + C(views_baseline_cat, Treatment(reference='>10^8'))\",\n",
    "                                                                      type='nb')\n",
    "\n",
    "fig_int_class_cat_nb = plot_regression_results_interactions_from_dict(df_filtered,\n",
    "                                                                      results_fit_separate_region_controlcat, ['cat:gni_region'],\n",
    "                                                                      {'gni_class': 'H', 'in_code_lang': True,\n",
    "                                                                       'gni_region': 'North America', 'cat': 'sports',\n",
    "                                                                       'code': 'en'},\n",
    "                                                                      label_sort={'gni_class': ['H', 'UM', 'LM', 'L'],\n",
    "                                                                                  'cat': ['sports', 'disaster',\n",
    "                                                                                          'culture', 'politics'],\n",
    "                                                                                  'gni_region': ['North America',\n",
    "                                                                                                 'Europe & Central Asia',\n",
    "                                                                                                 'Middle East & North Africa',\n",
    "                                                                                                 'East Asia & Pacific',\n",
    "                                                                                                 'South Asia',\n",
    "                                                                                                 'Latin America & Caribbean',\n",
    "                                                                                                 'Sub-Saharan Africa']},\n",
    "                                                                      cat_dict={'en': 'English', 'it': 'Italian',\n",
    "                                                                                'es': 'Spanish', 'de': 'German'},\n",
    "                                                                      title='views ~ gni_class * class (separate)',\n",
    "                                                                      label_rename_dict={\n",
    "                                                                          'Middle East & North Africa': 'MENAf',\n",
    "                                                                          'Latin America & Caribbean': 'LatAmC',\n",
    "                                                                          'Europe & Central Asia': 'EuCAs',\n",
    "                                                                          'East Asia & Pacific': 'EAsP',\n",
    "                                                                          'North America': 'NAm',\n",
    "                                                                          'Sub-Saharan Africa': 'SSAf',\n",
    "                                                                          'South Asia': 'SAs'},\n",
    "                                                                      figsize=(12, 18), x_limits=(-6.5, 3),\n",
    "                                                                      include_counts=True)\n",
    "fig_int_class_cat_nb.savefig('figures/nb_cat_region_controlcat.pdf')"
   ],
   "metadata": {
    "collapsed": false,
    "pycharm": {
     "name": "#%%\n"
    }
   }
  },
  {
   "cell_type": "code",
   "execution_count": null,
   "outputs": [],
   "source": [
    "results_fit_separate_region['de'].summary2()"
   ],
   "metadata": {
    "collapsed": false,
    "pycharm": {
     "name": "#%%\n"
    }
   }
  },
  {
   "cell_type": "code",
   "execution_count": null,
   "outputs": [],
   "source": [
    "results_fit_separate_region['de']"
   ],
   "metadata": {
    "collapsed": false,
    "pycharm": {
     "name": "#%%\n"
    }
   }
  },
  {
   "cell_type": "code",
   "execution_count": null,
   "outputs": [],
   "source": [
    " results_fit_separate_region['de'].summary()"
   ],
   "metadata": {
    "collapsed": false,
    "pycharm": {
     "name": "#%%\n"
    }
   }
  },
  {
   "cell_type": "code",
   "execution_count": null,
   "outputs": [],
   "source": [
    "#fig.subplot\n",
    "fig, axs = plt.subplots(ncols=4, figsize=(15, 3))\n",
    "plot_pearson_residuals(df_filtered[df_filtered.code == 'de'], results_fit_separate_region['de'], title='de', ax=axs[0])\n",
    "plot_pearson_residuals(df_filtered[df_filtered.code == 'en'], results_fit_separate_region['en'], title='en', ax=axs[1])\n",
    "plot_pearson_residuals(df_filtered[df_filtered.code == 'es'], results_fit_separate_region['es'], title='es', ax=axs[2])\n",
    "plot_pearson_residuals(df_filtered[df_filtered.code == 'de'], results_fit_separate_region['it'], title='it', ax=axs[3])\n",
    "fig.tight_layout()"
   ],
   "metadata": {
    "collapsed": false,
    "pycharm": {
     "name": "#%%\n"
    }
   }
  },
  {
   "cell_type": "code",
   "execution_count": null,
   "outputs": [],
   "source": [
    "#fig.subplot\n",
    "fig, axs = plt.subplots(ncols=4, figsize=(15, 3))\n",
    "plot_pearson_residuals(df_filtered[df_filtered.code == 'de'], results_fit_separate_region['de'], exclude_n_outliers=10,\n",
    "                       title='de', ax=axs[0])\n",
    "plot_pearson_residuals(df_filtered[df_filtered.code == 'en'], results_fit_separate_region['en'], exclude_n_outliers=10,\n",
    "                       title='en', ax=axs[1])\n",
    "plot_pearson_residuals(df_filtered[df_filtered.code == 'es'], results_fit_separate_region['es'], exclude_n_outliers=10,\n",
    "                       title='es', ax=axs[2])\n",
    "plot_pearson_residuals(df_filtered[df_filtered.code == 'de'], results_fit_separate_region['it'], exclude_n_outliers=10,\n",
    "                       title='it', ax=axs[3])\n",
    "fig.tight_layout()"
   ],
   "metadata": {
    "collapsed": false,
    "pycharm": {
     "name": "#%%\n"
    }
   }
  },
  {
   "cell_type": "code",
   "execution_count": null,
   "outputs": [],
   "source": [
    "from plot_regression import compute_regression_outliers_from_residual\n",
    "\n",
    "resid_outliers, outlier_filter = {}, {}\n",
    "for code in ['de', 'it', 'es', 'en']:\n",
    "    resid_outliers[code], outlier_filter[code] = compute_regression_outliers_from_residual(\n",
    "        results_fit_separate_region[code])\n",
    "all_outliers = pd.concat(resid_outliers.values())\n",
    "all_filters = ~df_filtered.index.isin(all_outliers.index)"
   ],
   "metadata": {
    "collapsed": false,
    "pycharm": {
     "name": "#%%\n"
    }
   }
  },
  {
   "cell_type": "code",
   "execution_count": null,
   "outputs": [],
   "source": [
    "from regression import fit_regression_and_rename_coeffs_by_cat\n",
    "\n",
    "results_fit_separate_region_filtered = fit_regression_and_rename_coeffs_by_cat(df_filtered.loc[all_filters, :],\n",
    "                                                                               formula=\"views_7_sum ~ C(cat, Treatment(reference='sports')) * C(gni_class, Treatment(reference='H'))\",\n",
    "                                                                               type='nb')\n",
    "\n",
    "fig_int_class_cat_nb_filtered = plot_regression_results_interactions_from_dict(df_filtered.loc[all_filters, :],\n",
    "                                                                               results_fit_separate_region_filtered,\n",
    "                                                                               ['cat:gni_class'],\n",
    "                                                                               {'gni_class': 'H', 'in_code_lang': True,\n",
    "                                                                                'gni_region': 'North America',\n",
    "                                                                                'cat': 'sports', 'code': 'en'},\n",
    "                                                                               label_sort={\n",
    "                                                                                   'gni_class': ['H', 'UM', 'LM', 'L'],\n",
    "                                                                                   'cat': ['sports', 'disaster',\n",
    "                                                                                           'culture', 'politics'],\n",
    "                                                                                   'gni_region': ['North America',\n",
    "                                                                                                  'Europe & Central Asia',\n",
    "                                                                                                  'Middle East & North Africa',\n",
    "                                                                                                  'East Asia & Pacific',\n",
    "                                                                                                  'South Asia',\n",
    "                                                                                                  'Latin America & Caribbean',\n",
    "                                                                                                  'Sub-Saharan Africa']},\n",
    "                                                                               cat_dict={'en': 'English',\n",
    "                                                                                         'it': 'Italian',\n",
    "                                                                                         'es': 'Spanish',\n",
    "                                                                                         'de': 'German'},\n",
    "                                                                               title='views ~ gni_class * class (separate)',\n",
    "                                                                               label_rename_dict={\n",
    "                                                                                   'Middle East & North Africa': 'MENAf',\n",
    "                                                                                   'Latin America & Caribbean': 'LatAmC',\n",
    "                                                                                   'Europe & Central Asia': 'EuCAs',\n",
    "                                                                                   'East Asia & Pacific': 'EAsP',\n",
    "                                                                                   'North America': 'NAm',\n",
    "                                                                                   'Sub-Saharan Africa': 'SSAf',\n",
    "                                                                                   'South Asia': 'SAs'},\n",
    "                                                                               figsize=(12, 14), x_limits=(-6.5, 3),\n",
    "                                                                               include_counts=True)"
   ],
   "metadata": {
    "collapsed": false,
    "pycharm": {
     "name": "#%%\n"
    }
   }
  },
  {
   "cell_type": "code",
   "execution_count": null,
   "outputs": [],
   "source": [],
   "metadata": {
    "collapsed": false,
    "pycharm": {
     "name": "#%%\n"
    }
   }
  },
  {
   "cell_type": "code",
   "execution_count": null,
   "outputs": [],
   "source": [
    "df_filtered.views_baseline_cat.value_counts()>10^9"
   ],
   "metadata": {
    "collapsed": false,
    "pycharm": {
     "name": "#%%\n"
    }
   }
  },
  {
   "cell_type": "code",
   "execution_count": null,
   "outputs": [],
   "source": [
    "results_fit_separate_class_controlcat['en'].summary()"
   ],
   "metadata": {
    "collapsed": false,
    "pycharm": {
     "name": "#%%\n"
    }
   }
  },
  {
   "cell_type": "code",
   "execution_count": null,
   "outputs": [],
   "source": [
    "df_filtered.groupby(['code', 'views_baseline_cat']).count()"
   ],
   "metadata": {
    "collapsed": false,
    "pycharm": {
     "name": "#%%\n"
    }
   }
  },
  {
   "cell_type": "code",
   "execution_count": null,
   "outputs": [],
   "source": [
    "## Try out views parameter"
   ],
   "metadata": {
    "collapsed": false,
    "pycharm": {
     "name": "#%%\n"
    }
   }
  },
  {
   "cell_type": "code",
   "execution_count": null,
   "outputs": [],
   "source": [
    "from steinkasserer.regression import fit_negative_binomial_regression_and_rename_coeffs\n",
    "\n",
    "results_nb = fit_negative_binomial_regression_and_rename_coeffs(df_filtered,\n",
    "                                                                formula=\"views_7_sum ~ C(cat, Treatment(reference='sports')) * C(gni_class, Treatment(reference='H')) * C(code, Treatment(reference='en')) + np.log1p(views_baseline) + in_code_lang\")\n",
    "results_nb_base = fit_negative_binomial_regression_and_rename_coeffs(df_filtered,\n",
    "                                                                     formula=\"views_7_sum ~ C(cat, Treatment(reference='sports')) * C(code, Treatment(reference='en'))\")\n",
    "results_nb.summary()"
   ],
   "metadata": {
    "collapsed": false,
    "pycharm": {
     "name": "#%%\n"
    }
   }
  },
  {
   "cell_type": "code",
   "execution_count": null,
   "outputs": [],
   "source": [
    "df_filtered"
   ],
   "metadata": {
    "collapsed": false,
    "pycharm": {
     "name": "#%%\n"
    }
   }
  },
  {
   "cell_type": "code",
   "execution_count": null,
   "outputs": [],
   "source": [
    "df_filtered"
   ],
   "metadata": {
    "collapsed": false,
    "pycharm": {
     "name": "#%%\n"
    }
   }
  },
  {
   "cell_type": "code",
   "execution_count": null,
   "outputs": [],
   "source": [
    "np.sum(np.square(results_nb.resid_pearson)) / results_nb.df_resid"
   ],
   "metadata": {
    "collapsed": false,
    "pycharm": {
     "name": "#%%\n"
    }
   }
  }
 ],
 "metadata": {
  "kernelspec": {
   "display_name": "Python 3 (ipykernel)",
   "language": "python",
   "name": "python3"
  },
  "language_info": {
   "codemirror_mode": {
    "name": "ipython",
    "version": 3
   },
   "file_extension": ".py",
   "mimetype": "text/x-python",
   "name": "python",
   "nbconvert_exporter": "python",
   "pygments_lexer": "ipython3",
   "version": "3.10.1"
  }
 },
 "nbformat": 4,
 "nbformat_minor": 1
}