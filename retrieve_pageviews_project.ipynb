{
 "cells": [
  {
   "cell_type": "code",
   "execution_count": 58,
   "outputs": [
    {
     "name": "stdout",
     "output_type": "stream",
     "text": [
      "The autoreload extension is already loaded. To reload it, use:\n",
      "  %reload_ext autoreload\n"
     ]
    }
   ],
   "source": [
    "import pandas as pd\n",
    "from retrieve_wmf import retrieve_pageviews_by_country_for_project, retrieve_pageviews_by_country_for_projects, retrieve_pageviews_by_country_for_projects_and_months\n",
    "import numpy as np\n",
    "%load_ext autoreload\n",
    "%autoreload 2"
   ],
   "metadata": {
    "collapsed": false,
    "pycharm": {
     "name": "#%%\n"
    }
   }
  },
  {
   "cell_type": "code",
   "execution_count": 81,
   "outputs": [
    {
     "name": "stdout",
     "output_type": "stream",
     "text": [
      "Retrieving 2015-5 for ['de', 'es', 'it', 'en']\n",
      "Retrieving 2015-6 for ['de', 'es', 'it', 'en']\n",
      "Retrieving 2015-7 for ['de', 'es', 'it', 'en']\n",
      "Retrieving 2015-8 for ['de', 'es', 'it', 'en']\n",
      "Retrieving 2015-9 for ['de', 'es', 'it', 'en']\n",
      "Retrieving 2015-10 for ['de', 'es', 'it', 'en']\n",
      "Retrieving 2015-11 for ['de', 'es', 'it', 'en']\n",
      "Retrieving 2015-12 for ['de', 'es', 'it', 'en']\n",
      "Retrieving 2016-1 for ['de', 'es', 'it', 'en']\n",
      "Retrieving 2016-2 for ['de', 'es', 'it', 'en']\n",
      "Retrieving 2016-3 for ['de', 'es', 'it', 'en']\n",
      "Retrieving 2016-4 for ['de', 'es', 'it', 'en']\n",
      "Retrieving 2016-5 for ['de', 'es', 'it', 'en']\n",
      "Retrieving 2016-6 for ['de', 'es', 'it', 'en']\n",
      "Retrieving 2016-7 for ['de', 'es', 'it', 'en']\n",
      "Retrieving 2016-8 for ['de', 'es', 'it', 'en']\n",
      "Retrieving 2016-9 for ['de', 'es', 'it', 'en']\n",
      "Retrieving 2016-10 for ['de', 'es', 'it', 'en']\n",
      "Retrieving 2016-11 for ['de', 'es', 'it', 'en']\n",
      "Retrieving 2016-12 for ['de', 'es', 'it', 'en']\n",
      "Retrieving 2017-1 for ['de', 'es', 'it', 'en']\n",
      "Retrieving 2017-2 for ['de', 'es', 'it', 'en']\n",
      "Retrieving 2017-3 for ['de', 'es', 'it', 'en']\n",
      "Retrieving 2017-4 for ['de', 'es', 'it', 'en']\n",
      "Retrieving 2017-5 for ['de', 'es', 'it', 'en']\n",
      "Retrieving 2017-6 for ['de', 'es', 'it', 'en']\n",
      "Retrieving 2017-7 for ['de', 'es', 'it', 'en']\n",
      "Retrieving 2017-8 for ['de', 'es', 'it', 'en']\n",
      "Retrieving 2017-9 for ['de', 'es', 'it', 'en']\n",
      "Retrieving 2017-10 for ['de', 'es', 'it', 'en']\n",
      "Retrieving 2017-11 for ['de', 'es', 'it', 'en']\n",
      "Retrieving 2017-12 for ['de', 'es', 'it', 'en']\n",
      "Retrieving 2018-1 for ['de', 'es', 'it', 'en']\n",
      "Retrieving 2018-2 for ['de', 'es', 'it', 'en']\n",
      "Retrieving 2018-3 for ['de', 'es', 'it', 'en']\n",
      "Retrieving 2018-4 for ['de', 'es', 'it', 'en']\n",
      "Retrieving 2018-5 for ['de', 'es', 'it', 'en']\n",
      "Retrieving 2018-6 for ['de', 'es', 'it', 'en']\n",
      "Retrieving 2018-7 for ['de', 'es', 'it', 'en']\n",
      "Retrieving 2018-8 for ['de', 'es', 'it', 'en']\n",
      "Retrieving 2018-9 for ['de', 'es', 'it', 'en']\n",
      "Retrieving 2018-10 for ['de', 'es', 'it', 'en']\n",
      "Retrieving 2018-11 for ['de', 'es', 'it', 'en']\n",
      "Retrieving 2018-12 for ['de', 'es', 'it', 'en']\n",
      "Retrieving 2019-1 for ['de', 'es', 'it', 'en']\n",
      "Retrieving 2019-2 for ['de', 'es', 'it', 'en']\n",
      "Retrieving 2019-3 for ['de', 'es', 'it', 'en']\n",
      "Retrieving 2019-4 for ['de', 'es', 'it', 'en']\n",
      "Retrieving 2019-5 for ['de', 'es', 'it', 'en']\n",
      "Retrieving 2019-6 for ['de', 'es', 'it', 'en']\n",
      "Retrieving 2019-7 for ['de', 'es', 'it', 'en']\n",
      "Retrieving 2019-8 for ['de', 'es', 'it', 'en']\n",
      "Retrieving 2019-9 for ['de', 'es', 'it', 'en']\n",
      "Retrieving 2019-10 for ['de', 'es', 'it', 'en']\n",
      "Retrieving 2019-11 for ['de', 'es', 'it', 'en']\n",
      "Retrieving 2019-12 for ['de', 'es', 'it', 'en']\n",
      "Retrieving 2020-1 for ['de', 'es', 'it', 'en']\n",
      "Retrieving 2020-2 for ['de', 'es', 'it', 'en']\n",
      "Retrieving 2020-3 for ['de', 'es', 'it', 'en']\n",
      "Retrieving 2020-4 for ['de', 'es', 'it', 'en']\n",
      "Retrieving 2020-5 for ['de', 'es', 'it', 'en']\n",
      "Retrieving 2020-6 for ['de', 'es', 'it', 'en']\n",
      "Retrieving 2020-7 for ['de', 'es', 'it', 'en']\n",
      "Retrieving 2020-8 for ['de', 'es', 'it', 'en']\n",
      "Retrieving 2020-9 for ['de', 'es', 'it', 'en']\n",
      "Retrieving 2020-10 for ['de', 'es', 'it', 'en']\n",
      "Retrieving 2020-11 for ['de', 'es', 'it', 'en']\n",
      "Retrieving 2020-12 for ['de', 'es', 'it', 'en']\n"
     ]
    }
   ],
   "source": [
    "results_all = retrieve_pageviews_by_country_for_projects_and_months(['de', 'es', 'it', 'en'], 2015, 5)"
   ],
   "metadata": {
    "collapsed": false,
    "pycharm": {
     "name": "#%%\n"
    }
   }
  },
  {
   "cell_type": "code",
   "execution_count": 82,
   "outputs": [
    {
     "data": {
      "text/plain": "  code  year month      access country_code                views  rank  \\\n0   de  2015    05  all-access           DE  100000000-999999999     1   \n1   de  2015    05  all-access           AT  100000000-999999999     2   \n2   de  2015    05  all-access           CH    10000000-99999999     3   \n3   de  2015    05  all-access           US    10000000-99999999     4   \n4   de  2015    05  all-access           --    10000000-99999999     5   \n\n   views_ceil        country Code  \n0   840300000        Germany   DE  \n1   108583000        Austria   AT  \n2    63030000    Switzerland   CH  \n3    27625000  United States   US  \n4    13116000            NaN  NaN  ",
      "text/html": "<div>\n<style scoped>\n    .dataframe tbody tr th:only-of-type {\n        vertical-align: middle;\n    }\n\n    .dataframe tbody tr th {\n        vertical-align: top;\n    }\n\n    .dataframe thead th {\n        text-align: right;\n    }\n</style>\n<table border=\"1\" class=\"dataframe\">\n  <thead>\n    <tr style=\"text-align: right;\">\n      <th></th>\n      <th>code</th>\n      <th>year</th>\n      <th>month</th>\n      <th>access</th>\n      <th>country_code</th>\n      <th>views</th>\n      <th>rank</th>\n      <th>views_ceil</th>\n      <th>country</th>\n      <th>Code</th>\n    </tr>\n  </thead>\n  <tbody>\n    <tr>\n      <th>0</th>\n      <td>de</td>\n      <td>2015</td>\n      <td>05</td>\n      <td>all-access</td>\n      <td>DE</td>\n      <td>100000000-999999999</td>\n      <td>1</td>\n      <td>840300000</td>\n      <td>Germany</td>\n      <td>DE</td>\n    </tr>\n    <tr>\n      <th>1</th>\n      <td>de</td>\n      <td>2015</td>\n      <td>05</td>\n      <td>all-access</td>\n      <td>AT</td>\n      <td>100000000-999999999</td>\n      <td>2</td>\n      <td>108583000</td>\n      <td>Austria</td>\n      <td>AT</td>\n    </tr>\n    <tr>\n      <th>2</th>\n      <td>de</td>\n      <td>2015</td>\n      <td>05</td>\n      <td>all-access</td>\n      <td>CH</td>\n      <td>10000000-99999999</td>\n      <td>3</td>\n      <td>63030000</td>\n      <td>Switzerland</td>\n      <td>CH</td>\n    </tr>\n    <tr>\n      <th>3</th>\n      <td>de</td>\n      <td>2015</td>\n      <td>05</td>\n      <td>all-access</td>\n      <td>US</td>\n      <td>10000000-99999999</td>\n      <td>4</td>\n      <td>27625000</td>\n      <td>United States</td>\n      <td>US</td>\n    </tr>\n    <tr>\n      <th>4</th>\n      <td>de</td>\n      <td>2015</td>\n      <td>05</td>\n      <td>all-access</td>\n      <td>--</td>\n      <td>10000000-99999999</td>\n      <td>5</td>\n      <td>13116000</td>\n      <td>NaN</td>\n      <td>NaN</td>\n    </tr>\n  </tbody>\n</table>\n</div>"
     },
     "execution_count": 82,
     "metadata": {},
     "output_type": "execute_result"
    }
   ],
   "source": [
    "country_codes = pd.read_csv('viewsglobal/country_codes.csv', sep=',', encoding='latin1', keep_default_na=False, na_values=['_'])\n",
    "results_merged = results_all.merge(country_codes, left_on='country_code', right_on='Code', how='left')\n",
    "results_merged.rename({'Name': 'country'}, inplace=True, axis=1)\n",
    "results_merged.fillna('unknown')\n",
    "results_merged.head()"
   ],
   "metadata": {
    "collapsed": false,
    "pycharm": {
     "name": "#%%\n"
    }
   }
  },
  {
   "cell_type": "code",
   "execution_count": 83,
   "outputs": [],
   "source": [
    "results_merged[results_merged.columns[:-1]].to_csv('viewsglobal/all_views_by_country.csv', index=False)"
   ],
   "metadata": {
    "collapsed": false,
    "pycharm": {
     "name": "#%%\n"
    }
   }
  }
 ],
 "metadata": {
  "kernelspec": {
   "display_name": "Python 3",
   "language": "python",
   "name": "python3"
  },
  "language_info": {
   "codemirror_mode": {
    "name": "ipython",
    "version": 2
   },
   "file_extension": ".py",
   "mimetype": "text/x-python",
   "name": "python",
   "nbconvert_exporter": "python",
   "pygments_lexer": "ipython2",
   "version": "2.7.6"
  }
 },
 "nbformat": 4,
 "nbformat_minor": 0
}