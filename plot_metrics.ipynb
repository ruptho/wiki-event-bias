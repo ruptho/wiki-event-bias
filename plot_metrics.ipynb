{
 "cells": [
  {
   "cell_type": "code",
   "execution_count": 1,
   "id": "0a6e5850",
   "metadata": {},
   "outputs": [],
   "source": [
    "%load_ext autoreload\n",
    "%autoreload 2"
   ]
  },
  {
   "cell_type": "markdown",
   "id": "b48d21a1",
   "metadata": {},
   "source": [
    "# Chloropleth Plots for Stats about articles\n",
    "\n",
    "For example: median views, number of articles, etc"
   ]
  },
  {
   "cell_type": "code",
   "execution_count": 2,
   "id": "98602728",
   "metadata": {},
   "outputs": [],
   "source": [
    "import pandas as pd\n",
    "import numpy as np"
   ]
  },
  {
   "cell_type": "markdown",
   "id": "f293cc88",
   "metadata": {},
   "source": [
    "## Load and Preprocess Base DataFrames"
   ]
  },
  {
   "cell_type": "code",
   "execution_count": 3,
   "id": "d1d8dcc4",
   "metadata": {},
   "outputs": [],
   "source": [
    "df_crawled = pd.read_csv('data/events/all_events.csv.gz').drop_duplicates()\n",
    "\n",
    "df_crawled.event_date = pd.to_datetime(df_crawled.event_date)\n",
    "df_crawled['views_7_sum_log'] = np.log1p(df_crawled.views_7_sum)\n",
    "df_crawled['edits_7_sum_log'] = np.log1p(df_crawled.edits_7_sum)\n",
    "\n",
    "df_reg = df_crawled[(df_crawled.cat != 'undefined') & (df_crawled.year > 2015) & ~(\n",
    "            (df_crawled.event_date.dt.month == 1) & (df_crawled.event_date.dt.day == 1))]\n",
    "df_view_reg = df_crawled[(df_crawled.cat != 'undefined') & (df_crawled.year > 2015) & ~(\n",
    "            (df_crawled.event_date.dt.month == 1) & (df_crawled.event_date.dt.day == 1)) & (\n",
    "                                     df_crawled.views_7_sum > 10)]\n",
    "df_edit_reg = df_crawled[(df_crawled.cat != 'undefined') & (df_crawled.year > 2015) & ~(\n",
    "            (df_crawled.event_date.dt.month == 1) & (df_crawled.event_date.dt.day == 1)) & (df_crawled.edits_7_sum > 0)]"
   ]
  },
  {
   "cell_type": "markdown",
   "id": "c7b7c83b",
   "metadata": {
    "pycharm": {
     "name": "#%% md\n"
    }
   },
   "source": [
    "## Plot Chloropleth maps for raw article stats"
   ]
  },
  {
   "cell_type": "code",
   "execution_count": 4,
   "id": "e54af390",
   "metadata": {},
   "outputs": [],
   "source": [
    "from util.plot import build_chloropleths_df\n",
    "import matplotlib as mpl\n",
    "import matplotlib.pyplot as plt\n",
    "\n",
    "plt.rcParams.update({'font.family': 'sans-serif',\n",
    "                     'font.sans-serif': 'Noto Sans'})"
   ]
  },
  {
   "cell_type": "markdown",
   "id": "ad530d9d",
   "metadata": {},
   "source": [
    "### Median Views and Edits"
   ]
  },
  {
   "cell_type": "code",
   "execution_count": 7,
   "id": "a07c0daf",
   "metadata": {},
   "outputs": [
    {
     "name": "stdout",
     "output_type": "stream",
     "text": [
      "views_7_sum_log_country_code_median_de\n",
      "views_7_sum_log_country_code_median_en\n",
      "views_7_sum_log_country_code_median_es\n",
      "views_7_sum_log_country_code_median_it\n"
     ]
    },
    {
     "data": {
      "text/plain": "<Figure size 200x10 with 1 Axes>",
      "image/png": "[encoded data removed]"
     },
     "metadata": {
      "needs_background": "light"
     },
     "output_type": "display_data"
    }
   ],
   "source": [
    "figs_geo, fig_cmap = build_chloropleths_df(df_view_reg, column='views_7_sum_log', group_col='code',\n",
    "                                           color_data='country', color_map='name_en', cm_chloropleth=mpl.cm.viridis,\n",
    "                                           relative_scale=True, metric='median', cb_horizontal=True,\n",
    "                                           cb_label='Median Views\\n(Normalized)')\n",
    "# if you want to see the figures here, uncomment this\n",
    "#for fig in figs_geo:\n",
    "#    display(fig)"
   ]
  },
  {
   "cell_type": "code",
   "execution_count": 8,
   "id": "804bd36a",
   "metadata": {},
   "outputs": [
    {
     "name": "stdout",
     "output_type": "stream",
     "text": [
      "edits_7_sum_log_country_code_median_de\n",
      "edits_7_sum_log_country_code_median_en\n",
      "edits_7_sum_log_country_code_median_es\n",
      "edits_7_sum_log_country_code_median_it\n"
     ]
    },
    {
     "data": {
      "text/plain": "<Figure size 200x10 with 1 Axes>",
      "image/png": "[encoded data removed]"
     },
     "metadata": {
      "needs_background": "light"
     },
     "output_type": "display_data"
    }
   ],
   "source": [
    "figs_geo, fig_cmap = build_chloropleths_df(df_edit_reg, column='edits_7_sum_log', group_col='code',\n",
    "                                           color_data='country', color_map='name_en',\n",
    "                                           cm_chloropleth=mpl.cm.viridis, relative_scale=True, metric='median',\n",
    "                                           cb_horizontal=True, cb_label='Median Edits\\n(Normalized)')\n",
    "#for fig in figs_geo:\n",
    "#    display(fig)"
   ]
  },
  {
   "cell_type": "markdown",
   "id": "2b703cce",
   "metadata": {},
   "source": [
    "### Number of articles with >10 views and >0 edits"
   ]
  },
  {
   "cell_type": "code",
   "execution_count": 9,
   "id": "52229a76",
   "metadata": {},
   "outputs": [
    {
     "name": "stdout",
     "output_type": "stream",
     "text": [
      "views_7_sum_log_country_code_count_de\n",
      "views_7_sum_log_country_code_count_en\n",
      "views_7_sum_log_country_code_count_es\n",
      "views_7_sum_log_country_code_count_it\n"
     ]
    },
    {
     "data": {
      "text/plain": "<Figure size 200x10 with 1 Axes>",
      "image/png": "[encoded data removed]"
     },
     "metadata": {
      "needs_background": "light"
     },
     "output_type": "display_data"
    }
   ],
   "source": [
    "figs_geo, fig_cmap = build_chloropleths_df(df_view_reg, column='views_7_sum_log', group_col='code',\n",
    "                                           color_data='country', color_map='name_en',\n",
    "                                           cm_chloropleth=mpl.cm.viridis, relative_scale=True, metric='count',\n",
    "                                           cb_horizontal=True, cb_label='# of Articles\\n(Normalized)')\n",
    "#for fig in figs_geo:\n",
    "#    display(fig)"
   ]
  },
  {
   "cell_type": "code",
   "execution_count": 11,
   "id": "9710bc9c",
   "metadata": {
    "pycharm": {
     "name": "#%%\n"
    }
   },
   "outputs": [
    {
     "name": "stdout",
     "output_type": "stream",
     "text": [
      "edits_7_sum_log_country_code_count_de\n",
      "edits_7_sum_log_country_code_count_en\n",
      "edits_7_sum_log_country_code_count_es\n",
      "edits_7_sum_log_country_code_count_it\n"
     ]
    },
    {
     "data": {
      "text/plain": "<Figure size 200x10 with 1 Axes>",
      "image/png": "[encoded data removed]"
     },
     "metadata": {
      "needs_background": "light"
     },
     "output_type": "display_data"
    }
   ],
   "source": [
    "figs_geo, fig_cmap = build_chloropleths_df(df_edit_reg, column='edits_7_sum_log', group_col='code',\n",
    "                                           color_data='country', color_map='name_en',\n",
    "                                           cm_chloropleth=mpl.cm.viridis, relative_scale=True, metric='count',\n",
    "                                           cb_horizontal=True, cb_label='# of Articles\\n(Normalized)')\n",
    "#for fig in figs_geo:\n",
    "#    display(fig)"
   ]
  },
  {
   "cell_type": "markdown",
   "source": [
    "## Plot Internet accessibility vs. access from country to wiki\n",
    "views_baseline describes the access from a certain county towards a Wiki in a specific period. It should act as a proxy for internet access, as Wikipedia is one of the most essential sites on the internet and frequently accessed, if internet access is available."
   ],
   "metadata": {
    "collapsed": false,
    "pycharm": {
     "name": "#%% md\n"
    }
   }
  },
  {
   "cell_type": "code",
   "execution_count": 153,
   "outputs": [],
   "source": [
    "from util.preprocessing import replace_country_names\n",
    "import statsmodels.api as sm\n",
    "import statsmodels.formula.api as smf\n",
    "from statsmodels.stats.outliers_influence import variance_inflation_factor"
   ],
   "metadata": {
    "collapsed": false,
    "pycharm": {
     "name": "#%%\n"
    }
   }
  },
  {
   "cell_type": "code",
   "execution_count": 119,
   "outputs": [],
   "source": [
    "df_population = df_crawled[df_crawled.code=='en'][['country', 'year', 'population', 'views_baseline', 'view_country_article', 'GDP_pc']].drop_duplicates()\n",
    "df_population['population_log'] = np.log(df_population.population)\n",
    "df_population['views_baseline_log'] = np.log1p(df_population.views_baseline)\n",
    "df_population['view_country_article_log'] = np.log1p(df_population.view_country_article)\n",
    "df_population['GDP_pc_log'] = np.log(df_population.GDP_pc)\n",
    "\n",
    "df_int_perc = pd.read_csv('data/supp/internet_percentage.csv')[['Country Name', '2015', '2016', '2017', '2018', '2019', '2020']].rename(\n",
    "    {'Country Name': 'country'}, axis=1)\n",
    "replace_country_names(df_int_perc, inplace=True)\n",
    "df_int_perc[['2015', '2016', '2017', '2018', '2019', '2020']] = df_int_perc[['2015', '2016', '2017', '2018', '2019', '2020']] / 100\n",
    "df_int_perc = df_int_perc.melt('country', ['2015', '2016', '2017', '2018', '2019', '2020'], 'year', 'internet_percentage')\n",
    "df_int_perc.year = df_int_perc.year.astype(int)\n",
    "\n",
    "df_population = df_population.merge(df_int_perc, on=['country', 'year'], how='left')\n",
    "df_population['internet_raw'] = df_population.population * df_population.internet_percentage\n",
    "df_population['internet_raw_log'] = np.log(df_population.internet_raw)\n",
    "df_population.dropna(inplace=True)"
   ],
   "metadata": {
    "collapsed": false,
    "pycharm": {
     "name": "#%%\n"
    }
   }
  },
  {
   "cell_type": "markdown",
   "source": [],
   "metadata": {
    "collapsed": false
   }
  },
  {
   "cell_type": "code",
   "execution_count": 176,
   "outputs": [
    {
     "data": {
      "text/plain": "            country  year    population  views_baseline  view_country_article  \\\n0          Pakistan  2016  2.036314e+08    8.536700e+07               13789.0   \n1     United States  2020  3.294841e+08    3.151887e+09               48147.0   \n2             India  2020  1.380004e+09    7.199060e+08               33666.0   \n3      South Africa  2020  5.930869e+07    6.305050e+07               12988.0   \n4     United States  2020  3.294841e+08    3.310591e+09               51047.0   \n...             ...   ...           ...             ...                   ...   \n4818         France  2020  6.739158e+07    6.842950e+07               14008.0   \n4819  United States  2020  3.294841e+08    3.151887e+09               47793.0   \n4820          China  2020  1.410929e+09    1.578000e+06               19474.0   \n4821         Canada  2020  3.800524e+07    3.634645e+08               23859.0   \n4822          India  2020  1.380004e+09    7.199060e+08               35126.0   \n\n            GDP_pc  population_log  views_baseline_log  \\\n0      1362.860008       19.131822           18.262470   \n1     63122.594145       19.613039           21.871267   \n2      1930.971218       21.045353           20.394631   \n3      5094.384038       17.898266           17.959447   \n4     63122.594145       19.613039           21.920393   \n...            ...             ...                 ...   \n4818  38958.603419       18.026031           18.041315   \n4819  63122.594145       19.613039           21.871267   \n4820  10228.970558       21.067514           14.271669   \n4821  43559.710092       17.453235           19.711192   \n4822   1930.971218       21.045353           20.394631   \n\n      view_country_article_log  GDP_pc_log  internet_percentage  internet_raw  \\\n0                     9.531699    7.217341             0.123854  2.522065e+07   \n1                    10.782035   11.052834             0.909000  2.995011e+08   \n2                    10.424273    7.565778             0.430000  5.934019e+08   \n3                     9.471858    8.535894             0.700000  4.151608e+07   \n4                    10.840522   11.052834             0.909000  2.995011e+08   \n...                        ...         ...                  ...           ...   \n4818                  9.547455   10.570255             0.848000  5.714806e+07   \n4819                 10.774655   11.052834             0.909000  2.995011e+08   \n4820                  9.876887    9.232979             0.700528  9.883950e+08   \n4821                 10.079959   10.681888             0.923000  3.507883e+07   \n4822                 10.466725    7.565778             0.430000  5.934019e+08   \n\n      internet_raw_log  \n0            17.043174  \n1            19.517629  \n2            20.201382  \n3            17.541591  \n4            19.517629  \n...                ...  \n4818         17.861156  \n4819         19.517629  \n4820         20.711593  \n4821         17.373109  \n4822         20.201382  \n\n[4636 rows x 13 columns]",
      "text/html": "<div>\n<style scoped>\n    .dataframe tbody tr th:only-of-type {\n        vertical-align: middle;\n    }\n\n    .dataframe tbody tr th {\n        vertical-align: top;\n    }\n\n    .dataframe thead th {\n        text-align: right;\n    }\n</style>\n<table border=\"1\" class=\"dataframe\">\n  <thead>\n    <tr style=\"text-align: right;\">\n      <th></th>\n      <th>country</th>\n      <th>year</th>\n      <th>population</th>\n      <th>views_baseline</th>\n      <th>view_country_article</th>\n      <th>GDP_pc</th>\n      <th>population_log</th>\n      <th>views_baseline_log</th>\n      <th>view_country_article_log</th>\n      <th>GDP_pc_log</th>\n      <th>internet_percentage</th>\n      <th>internet_raw</th>\n      <th>internet_raw_log</th>\n    </tr>\n  </thead>\n  <tbody>\n    <tr>\n      <th>0</th>\n      <td>Pakistan</td>\n      <td>2016</td>\n      <td>2.036314e+08</td>\n      <td>8.536700e+07</td>\n      <td>13789.0</td>\n      <td>1362.860008</td>\n      <td>19.131822</td>\n      <td>18.262470</td>\n      <td>9.531699</td>\n      <td>7.217341</td>\n      <td>0.123854</td>\n      <td>2.522065e+07</td>\n      <td>17.043174</td>\n    </tr>\n    <tr>\n      <th>1</th>\n      <td>United States</td>\n      <td>2020</td>\n      <td>3.294841e+08</td>\n      <td>3.151887e+09</td>\n      <td>48147.0</td>\n      <td>63122.594145</td>\n      <td>19.613039</td>\n      <td>21.871267</td>\n      <td>10.782035</td>\n      <td>11.052834</td>\n      <td>0.909000</td>\n      <td>2.995011e+08</td>\n      <td>19.517629</td>\n    </tr>\n    <tr>\n      <th>2</th>\n      <td>India</td>\n      <td>2020</td>\n      <td>1.380004e+09</td>\n      <td>7.199060e+08</td>\n      <td>33666.0</td>\n      <td>1930.971218</td>\n      <td>21.045353</td>\n      <td>20.394631</td>\n      <td>10.424273</td>\n      <td>7.565778</td>\n      <td>0.430000</td>\n      <td>5.934019e+08</td>\n      <td>20.201382</td>\n    </tr>\n    <tr>\n      <th>3</th>\n      <td>South Africa</td>\n      <td>2020</td>\n      <td>5.930869e+07</td>\n      <td>6.305050e+07</td>\n      <td>12988.0</td>\n      <td>5094.384038</td>\n      <td>17.898266</td>\n      <td>17.959447</td>\n      <td>9.471858</td>\n      <td>8.535894</td>\n      <td>0.700000</td>\n      <td>4.151608e+07</td>\n      <td>17.541591</td>\n    </tr>\n    <tr>\n      <th>4</th>\n      <td>United States</td>\n      <td>2020</td>\n      <td>3.294841e+08</td>\n      <td>3.310591e+09</td>\n      <td>51047.0</td>\n      <td>63122.594145</td>\n      <td>19.613039</td>\n      <td>21.920393</td>\n      <td>10.840522</td>\n      <td>11.052834</td>\n      <td>0.909000</td>\n      <td>2.995011e+08</td>\n      <td>19.517629</td>\n    </tr>\n    <tr>\n      <th>...</th>\n      <td>...</td>\n      <td>...</td>\n      <td>...</td>\n      <td>...</td>\n      <td>...</td>\n      <td>...</td>\n      <td>...</td>\n      <td>...</td>\n      <td>...</td>\n      <td>...</td>\n      <td>...</td>\n      <td>...</td>\n      <td>...</td>\n    </tr>\n    <tr>\n      <th>4818</th>\n      <td>France</td>\n      <td>2020</td>\n      <td>6.739158e+07</td>\n      <td>6.842950e+07</td>\n      <td>14008.0</td>\n      <td>38958.603419</td>\n      <td>18.026031</td>\n      <td>18.041315</td>\n      <td>9.547455</td>\n      <td>10.570255</td>\n      <td>0.848000</td>\n      <td>5.714806e+07</td>\n      <td>17.861156</td>\n    </tr>\n    <tr>\n      <th>4819</th>\n      <td>United States</td>\n      <td>2020</td>\n      <td>3.294841e+08</td>\n      <td>3.151887e+09</td>\n      <td>47793.0</td>\n      <td>63122.594145</td>\n      <td>19.613039</td>\n      <td>21.871267</td>\n      <td>10.774655</td>\n      <td>11.052834</td>\n      <td>0.909000</td>\n      <td>2.995011e+08</td>\n      <td>19.517629</td>\n    </tr>\n    <tr>\n      <th>4820</th>\n      <td>China</td>\n      <td>2020</td>\n      <td>1.410929e+09</td>\n      <td>1.578000e+06</td>\n      <td>19474.0</td>\n      <td>10228.970558</td>\n      <td>21.067514</td>\n      <td>14.271669</td>\n      <td>9.876887</td>\n      <td>9.232979</td>\n      <td>0.700528</td>\n      <td>9.883950e+08</td>\n      <td>20.711593</td>\n    </tr>\n    <tr>\n      <th>4821</th>\n      <td>Canada</td>\n      <td>2020</td>\n      <td>3.800524e+07</td>\n      <td>3.634645e+08</td>\n      <td>23859.0</td>\n      <td>43559.710092</td>\n      <td>17.453235</td>\n      <td>19.711192</td>\n      <td>10.079959</td>\n      <td>10.681888</td>\n      <td>0.923000</td>\n      <td>3.507883e+07</td>\n      <td>17.373109</td>\n    </tr>\n    <tr>\n      <th>4822</th>\n      <td>India</td>\n      <td>2020</td>\n      <td>1.380004e+09</td>\n      <td>7.199060e+08</td>\n      <td>35126.0</td>\n      <td>1930.971218</td>\n      <td>21.045353</td>\n      <td>20.394631</td>\n      <td>10.466725</td>\n      <td>7.565778</td>\n      <td>0.430000</td>\n      <td>5.934019e+08</td>\n      <td>20.201382</td>\n    </tr>\n  </tbody>\n</table>\n<p>4636 rows × 13 columns</p>\n</div>"
     },
     "execution_count": 176,
     "metadata": {},
     "output_type": "execute_result"
    }
   ],
   "source": [
    "df_population.dropna(subset=['country'])"
   ],
   "metadata": {
    "collapsed": false,
    "pycharm": {
     "name": "#%%\n"
    }
   }
  },
  {
   "cell_type": "code",
   "execution_count": 190,
   "outputs": [
    {
     "data": {
      "text/plain": "<class 'statsmodels.iolib.summary.Summary'>\n\"\"\"\n                            OLS Regression Results                            \n==============================================================================\nDep. Variable:       internet_raw_log   R-squared:                       0.975\nModel:                            OLS   Adj. R-squared:                  0.975\nMethod:                 Least Squares   F-statistic:                 9.158e+04\nDate:                Fri, 05 May 2023   Prob (F-statistic):               0.00\nTime:                        10:55:24   Log-Likelihood:                -521.21\nNo. Observations:                4636   AIC:                             1048.\nDf Residuals:                    4633   BIC:                             1068.\nDf Model:                           2                                         \nCovariance Type:            nonrobust                                         \n==================================================================================\n                     coef    std err          t      P>|t|      [0.025      0.975]\n----------------------------------------------------------------------------------\nIntercept         -3.3000      0.053    -61.757      0.000      -3.405      -3.195\nGDP_pc_log         0.3328      0.003    106.132      0.000       0.327       0.339\npopulation_log     0.9802      0.002    422.791      0.000       0.976       0.985\n==============================================================================\nOmnibus:                     1987.048   Durbin-Watson:                   1.783\nProb(Omnibus):                  0.000   Jarque-Bera (JB):            22250.198\nSkew:                          -1.736   Prob(JB):                         0.00\nKurtosis:                      13.155   Cond. No.                         272.\n==============================================================================\n\nNotes:\n[1] Standard Errors assume that the covariance matrix of the errors is correctly specified.\n\"\"\"",
      "text/html": "<table class=\"simpletable\">\n<caption>OLS Regression Results</caption>\n<tr>\n  <th>Dep. Variable:</th>    <td>internet_raw_log</td> <th>  R-squared:         </th> <td>   0.975</td> \n</tr>\n<tr>\n  <th>Model:</th>                   <td>OLS</td>       <th>  Adj. R-squared:    </th> <td>   0.975</td> \n</tr>\n<tr>\n  <th>Method:</th>             <td>Least Squares</td>  <th>  F-statistic:       </th> <td>9.158e+04</td>\n</tr>\n<tr>\n  <th>Date:</th>             <td>Fri, 05 May 2023</td> <th>  Prob (F-statistic):</th>  <td>  0.00</td>  \n</tr>\n<tr>\n  <th>Time:</th>                 <td>10:55:24</td>     <th>  Log-Likelihood:    </th> <td> -521.21</td> \n</tr>\n<tr>\n  <th>No. Observations:</th>      <td>  4636</td>      <th>  AIC:               </th> <td>   1048.</td> \n</tr>\n<tr>\n  <th>Df Residuals:</th>          <td>  4633</td>      <th>  BIC:               </th> <td>   1068.</td> \n</tr>\n<tr>\n  <th>Df Model:</th>              <td>     2</td>      <th>                     </th>     <td> </td>    \n</tr>\n<tr>\n  <th>Covariance Type:</th>      <td>nonrobust</td>    <th>                     </th>     <td> </td>    \n</tr>\n</table>\n<table class=\"simpletable\">\n<tr>\n         <td></td>           <th>coef</th>     <th>std err</th>      <th>t</th>      <th>P>|t|</th>  <th>[0.025</th>    <th>0.975]</th>  \n</tr>\n<tr>\n  <th>Intercept</th>      <td>   -3.3000</td> <td>    0.053</td> <td>  -61.757</td> <td> 0.000</td> <td>   -3.405</td> <td>   -3.195</td>\n</tr>\n<tr>\n  <th>GDP_pc_log</th>     <td>    0.3328</td> <td>    0.003</td> <td>  106.132</td> <td> 0.000</td> <td>    0.327</td> <td>    0.339</td>\n</tr>\n<tr>\n  <th>population_log</th> <td>    0.9802</td> <td>    0.002</td> <td>  422.791</td> <td> 0.000</td> <td>    0.976</td> <td>    0.985</td>\n</tr>\n</table>\n<table class=\"simpletable\">\n<tr>\n  <th>Omnibus:</th>       <td>1987.048</td> <th>  Durbin-Watson:     </th> <td>   1.783</td> \n</tr>\n<tr>\n  <th>Prob(Omnibus):</th>  <td> 0.000</td>  <th>  Jarque-Bera (JB):  </th> <td>22250.198</td>\n</tr>\n<tr>\n  <th>Skew:</th>           <td>-1.736</td>  <th>  Prob(JB):          </th> <td>    0.00</td> \n</tr>\n<tr>\n  <th>Kurtosis:</th>       <td>13.155</td>  <th>  Cond. No.          </th> <td>    272.</td> \n</tr>\n</table><br/><br/>Notes:<br/>[1] Standard Errors assume that the covariance matrix of the errors is correctly specified."
     },
     "execution_count": 190,
     "metadata": {},
     "output_type": "execute_result"
    }
   ],
   "source": [
    "mod = smf.ols(formula='internet_raw_log ~ GDP_pc_log + population_log', data=df_population)\n",
    "res = mod.fit()\n",
    "res.summary()"
   ],
   "metadata": {
    "collapsed": false,
    "pycharm": {
     "name": "#%%\n"
    }
   }
  },
  {
   "cell_type": "code",
   "execution_count": null,
   "outputs": [],
   "source": [
    "mod = smf.ols(formula='internet_raw_log ~ GDP_pc_log + population_log + views_baseline', data=df_population)\n",
    "res = mod.fit()\n",
    "res.summary()"
   ],
   "metadata": {
    "collapsed": false,
    "pycharm": {
     "name": "#%%\n"
    }
   }
  },
  {
   "cell_type": "code",
   "execution_count": 152,
   "outputs": [
    {
     "data": {
      "text/plain": "<class 'statsmodels.iolib.summary.Summary'>\n\"\"\"\n                             OLS Regression Results                            \n===============================================================================\nDep. Variable:     internet_percentage   R-squared:                       0.579\nModel:                             OLS   Adj. R-squared:                  0.578\nMethod:                  Least Squares   F-statistic:                     908.6\nDate:                 Fri, 05 May 2023   Prob (F-statistic):               0.00\nTime:                         10:40:13   Log-Likelihood:                 2341.1\nNo. Observations:                 4636   AIC:                            -4666.\nDf Residuals:                     4628   BIC:                            -4615.\nDf Model:                            7                                         \nCovariance Type:             nonrobust                                         \n==============================================================================================================================\n                                                                 coef    std err          t      P>|t|      [0.025      0.975]\n------------------------------------------------------------------------------------------------------------------------------\nIntercept                                                      7.0905      0.839      8.449      0.000       5.445       8.736\nviews_baseline_log                                            -0.1044      0.060     -1.737      0.082      -0.222       0.013\npopulation_log                                                -0.5220      0.053     -9.829      0.000      -0.626      -0.418\nviews_baseline_log:population_log                              0.0098      0.004      2.770      0.006       0.003       0.017\nview_country_article_log                                      -1.2018      0.091    -13.182      0.000      -1.381      -1.023\nviews_baseline_log:view_country_article_log                    0.0538      0.006      8.912      0.000       0.042       0.066\npopulation_log:view_country_article_log                        0.0801      0.006     14.166      0.000       0.069       0.091\nviews_baseline_log:population_log:view_country_article_log    -0.0032      0.000     -9.113      0.000      -0.004      -0.002\n==============================================================================\nOmnibus:                      555.610   Durbin-Watson:                   1.755\nProb(Omnibus):                  0.000   Jarque-Bera (JB):              935.276\nSkew:                          -0.820   Prob(JB):                    8.08e-204\nKurtosis:                       4.467   Cond. No.                     1.23e+06\n==============================================================================\n\nNotes:\n[1] Standard Errors assume that the covariance matrix of the errors is correctly specified.\n[2] The condition number is large, 1.23e+06. This might indicate that there are\nstrong multicollinearity or other numerical problems.\n\"\"\"",
      "text/html": "<table class=\"simpletable\">\n<caption>OLS Regression Results</caption>\n<tr>\n  <th>Dep. Variable:</th>    <td>internet_percentage</td> <th>  R-squared:         </th> <td>   0.579</td>\n</tr>\n<tr>\n  <th>Model:</th>                    <td>OLS</td>         <th>  Adj. R-squared:    </th> <td>   0.578</td>\n</tr>\n<tr>\n  <th>Method:</th>              <td>Least Squares</td>    <th>  F-statistic:       </th> <td>   908.6</td>\n</tr>\n<tr>\n  <th>Date:</th>              <td>Fri, 05 May 2023</td>   <th>  Prob (F-statistic):</th>  <td>  0.00</td> \n</tr>\n<tr>\n  <th>Time:</th>                  <td>10:40:13</td>       <th>  Log-Likelihood:    </th> <td>  2341.1</td>\n</tr>\n<tr>\n  <th>No. Observations:</th>       <td>  4636</td>        <th>  AIC:               </th> <td>  -4666.</td>\n</tr>\n<tr>\n  <th>Df Residuals:</th>           <td>  4628</td>        <th>  BIC:               </th> <td>  -4615.</td>\n</tr>\n<tr>\n  <th>Df Model:</th>               <td>     7</td>        <th>                     </th>     <td> </td>   \n</tr>\n<tr>\n  <th>Covariance Type:</th>       <td>nonrobust</td>      <th>                     </th>     <td> </td>   \n</tr>\n</table>\n<table class=\"simpletable\">\n<tr>\n                               <td></td>                                 <th>coef</th>     <th>std err</th>      <th>t</th>      <th>P>|t|</th>  <th>[0.025</th>    <th>0.975]</th>  \n</tr>\n<tr>\n  <th>Intercept</th>                                                  <td>    7.0905</td> <td>    0.839</td> <td>    8.449</td> <td> 0.000</td> <td>    5.445</td> <td>    8.736</td>\n</tr>\n<tr>\n  <th>views_baseline_log</th>                                         <td>   -0.1044</td> <td>    0.060</td> <td>   -1.737</td> <td> 0.082</td> <td>   -0.222</td> <td>    0.013</td>\n</tr>\n<tr>\n  <th>population_log</th>                                             <td>   -0.5220</td> <td>    0.053</td> <td>   -9.829</td> <td> 0.000</td> <td>   -0.626</td> <td>   -0.418</td>\n</tr>\n<tr>\n  <th>views_baseline_log:population_log</th>                          <td>    0.0098</td> <td>    0.004</td> <td>    2.770</td> <td> 0.006</td> <td>    0.003</td> <td>    0.017</td>\n</tr>\n<tr>\n  <th>view_country_article_log</th>                                   <td>   -1.2018</td> <td>    0.091</td> <td>  -13.182</td> <td> 0.000</td> <td>   -1.381</td> <td>   -1.023</td>\n</tr>\n<tr>\n  <th>views_baseline_log:view_country_article_log</th>                <td>    0.0538</td> <td>    0.006</td> <td>    8.912</td> <td> 0.000</td> <td>    0.042</td> <td>    0.066</td>\n</tr>\n<tr>\n  <th>population_log:view_country_article_log</th>                    <td>    0.0801</td> <td>    0.006</td> <td>   14.166</td> <td> 0.000</td> <td>    0.069</td> <td>    0.091</td>\n</tr>\n<tr>\n  <th>views_baseline_log:population_log:view_country_article_log</th> <td>   -0.0032</td> <td>    0.000</td> <td>   -9.113</td> <td> 0.000</td> <td>   -0.004</td> <td>   -0.002</td>\n</tr>\n</table>\n<table class=\"simpletable\">\n<tr>\n  <th>Omnibus:</th>       <td>555.610</td> <th>  Durbin-Watson:     </th> <td>   1.755</td> \n</tr>\n<tr>\n  <th>Prob(Omnibus):</th> <td> 0.000</td>  <th>  Jarque-Bera (JB):  </th> <td> 935.276</td> \n</tr>\n<tr>\n  <th>Skew:</th>          <td>-0.820</td>  <th>  Prob(JB):          </th> <td>8.08e-204</td>\n</tr>\n<tr>\n  <th>Kurtosis:</th>      <td> 4.467</td>  <th>  Cond. No.          </th> <td>1.23e+06</td> \n</tr>\n</table><br/><br/>Notes:<br/>[1] Standard Errors assume that the covariance matrix of the errors is correctly specified.<br/>[2] The condition number is large, 1.23e+06. This might indicate that there are<br/>strong multicollinearity or other numerical problems."
     },
     "execution_count": 152,
     "metadata": {},
     "output_type": "execute_result"
    }
   ],
   "source": [
    "mod = smf.ols(formula='internet_percentage ~ views_baseline_log * population_log * view_country_article_log', data=df_population)\n",
    "res = mod.fit()\n",
    "res.summary()"
   ],
   "metadata": {
    "collapsed": false,
    "pycharm": {
     "name": "#%%\n"
    }
   }
  },
  {
   "cell_type": "code",
   "execution_count": 127,
   "outputs": [
    {
     "data": {
      "text/plain": "                          population_log  views_baseline_log  \\\npopulation_log                  1.000000            0.619528   \nviews_baseline_log              0.619528            1.000000   \nview_country_article_log        0.762341            0.882288   \nGDP_pc_log                      0.152028            0.641505   \ninternet_percentage            -0.085566            0.449537   \ninternet_raw_log                0.978590            0.672905   \n\n                          view_country_article_log  GDP_pc_log  \\\npopulation_log                            0.762341    0.152028   \nviews_baseline_log                        0.882288    0.641505   \nview_country_article_log                  1.000000    0.601458   \nGDP_pc_log                                0.601458    1.000000   \ninternet_percentage                       0.376161    0.748837   \ninternet_raw_log                          0.812967    0.249564   \n\n                          internet_percentage  internet_raw_log  \npopulation_log                      -0.085566          0.978590  \nviews_baseline_log                   0.449537          0.672905  \nview_country_article_log             0.376161          0.812967  \nGDP_pc_log                           0.748837          0.249564  \ninternet_percentage                  1.000000          0.048107  \ninternet_raw_log                     0.048107          1.000000  ",
      "text/html": "<div>\n<style scoped>\n    .dataframe tbody tr th:only-of-type {\n        vertical-align: middle;\n    }\n\n    .dataframe tbody tr th {\n        vertical-align: top;\n    }\n\n    .dataframe thead th {\n        text-align: right;\n    }\n</style>\n<table border=\"1\" class=\"dataframe\">\n  <thead>\n    <tr style=\"text-align: right;\">\n      <th></th>\n      <th>population_log</th>\n      <th>views_baseline_log</th>\n      <th>view_country_article_log</th>\n      <th>GDP_pc_log</th>\n      <th>internet_percentage</th>\n      <th>internet_raw_log</th>\n    </tr>\n  </thead>\n  <tbody>\n    <tr>\n      <th>population_log</th>\n      <td>1.000000</td>\n      <td>0.619528</td>\n      <td>0.762341</td>\n      <td>0.152028</td>\n      <td>-0.085566</td>\n      <td>0.978590</td>\n    </tr>\n    <tr>\n      <th>views_baseline_log</th>\n      <td>0.619528</td>\n      <td>1.000000</td>\n      <td>0.882288</td>\n      <td>0.641505</td>\n      <td>0.449537</td>\n      <td>0.672905</td>\n    </tr>\n    <tr>\n      <th>view_country_article_log</th>\n      <td>0.762341</td>\n      <td>0.882288</td>\n      <td>1.000000</td>\n      <td>0.601458</td>\n      <td>0.376161</td>\n      <td>0.812967</td>\n    </tr>\n    <tr>\n      <th>GDP_pc_log</th>\n      <td>0.152028</td>\n      <td>0.641505</td>\n      <td>0.601458</td>\n      <td>1.000000</td>\n      <td>0.748837</td>\n      <td>0.249564</td>\n    </tr>\n    <tr>\n      <th>internet_percentage</th>\n      <td>-0.085566</td>\n      <td>0.449537</td>\n      <td>0.376161</td>\n      <td>0.748837</td>\n      <td>1.000000</td>\n      <td>0.048107</td>\n    </tr>\n    <tr>\n      <th>internet_raw_log</th>\n      <td>0.978590</td>\n      <td>0.672905</td>\n      <td>0.812967</td>\n      <td>0.249564</td>\n      <td>0.048107</td>\n      <td>1.000000</td>\n    </tr>\n  </tbody>\n</table>\n</div>"
     },
     "execution_count": 127,
     "metadata": {},
     "output_type": "execute_result"
    }
   ],
   "source": [
    "df_population[(df_population.year == 2020) & (df_population.views_baseline_log > 0)][[col for col in df_population.columns if 'log' in col or '_percentage' in col]].corr('spearman')"
   ],
   "metadata": {
    "collapsed": false,
    "pycharm": {
     "name": "#%%\n"
    }
   }
  },
  {
   "cell_type": "code",
   "execution_count": 168,
   "outputs": [
    {
     "data": {
      "text/plain": "                   variable         vif\n0                GDP_pc_log  283.365341\n1        views_baseline_log  263.957266\n2  view_country_article_log  391.201139\n3       internet_percentage   52.386222",
      "text/html": "<div>\n<style scoped>\n    .dataframe tbody tr th:only-of-type {\n        vertical-align: middle;\n    }\n\n    .dataframe tbody tr th {\n        vertical-align: top;\n    }\n\n    .dataframe thead th {\n        text-align: right;\n    }\n</style>\n<table border=\"1\" class=\"dataframe\">\n  <thead>\n    <tr style=\"text-align: right;\">\n      <th></th>\n      <th>variable</th>\n      <th>vif</th>\n    </tr>\n  </thead>\n  <tbody>\n    <tr>\n      <th>0</th>\n      <td>GDP_pc_log</td>\n      <td>283.365341</td>\n    </tr>\n    <tr>\n      <th>1</th>\n      <td>views_baseline_log</td>\n      <td>263.957266</td>\n    </tr>\n    <tr>\n      <th>2</th>\n      <td>view_country_article_log</td>\n      <td>391.201139</td>\n    </tr>\n    <tr>\n      <th>3</th>\n      <td>internet_percentage</td>\n      <td>52.386222</td>\n    </tr>\n  </tbody>\n</table>\n</div>"
     },
     "execution_count": 168,
     "metadata": {},
     "output_type": "execute_result"
    }
   ],
   "source": [
    "vif_cols = ['GDP_pc_log','views_baseline_log', 'view_country_article_log', 'internet_percentage']\n",
    "\n",
    "# Create an empty DataFrame to store the VIF values\n",
    "vif_df = pd.DataFrame(columns=['variable', 'vif'])\n",
    "\n",
    "# Loop through each predictor variable and calculate its VIF\n",
    "for i in range(len(vif_cols)):\n",
    "    vif = variance_inflation_factor(df_population[vif_cols].values, i)\n",
    "    vif_df.loc[i] = [vif_cols[i], vif]\n",
    "vif_df"
   ],
   "metadata": {
    "collapsed": false,
    "pycharm": {
     "name": "#%%\n"
    }
   }
  },
  {
   "cell_type": "markdown",
   "source": [
    "#### Thoughts:\n",
    "- GDP_pc obviously measures how rich a country is, and more or less also dictates how many people have access to the internet.\n",
    "- as GDP_pc is a very strong predictor of internet access, combining it with the (already existing) variable population leads to high multicollinearity in the model. Fitting"
   ],
   "metadata": {
    "collapsed": false,
    "pycharm": {
     "name": "#%% md\n"
    }
   }
  },
  {
   "cell_type": "code",
   "execution_count": 192,
   "outputs": [
    {
     "data": {
      "text/plain": "<AxesSubplot:xlabel='population_log', ylabel='internet_raw_log'>"
     },
     "execution_count": 192,
     "metadata": {},
     "output_type": "execute_result"
    },
    {
     "data": {
      "text/plain": "<Figure size 432x288 with 1 Axes>",
      "image/png": "[encoded data removed]"
     },
     "metadata": {
      "needs_background": "light"
     },
     "output_type": "display_data"
    }
   ],
   "source": [
    "df_population[(df_population.year == 2019) & (df_population.views_baseline_log > 0)].plot.scatter(x='population_log', y='internet_raw_log')"
   ],
   "metadata": {
    "collapsed": false,
    "pycharm": {
     "name": "#%%\n"
    }
   }
  },
  {
   "cell_type": "code",
   "execution_count": 194,
   "outputs": [
    {
     "data": {
      "text/plain": "<AxesSubplot:xlabel='GDP_pc_log', ylabel='internet_percentage'>"
     },
     "execution_count": 194,
     "metadata": {},
     "output_type": "execute_result"
    },
    {
     "data": {
      "text/plain": "<Figure size 432x288 with 1 Axes>",
      "image/png": "[encoded data removed]"
     },
     "metadata": {
      "needs_background": "light"
     },
     "output_type": "display_data"
    }
   ],
   "source": [
    "df_population[(df_population.year == 2019) & (df_population.views_baseline_log > 0)].plot.scatter(x='GDP_pc_log', y='internet_percentage')"
   ],
   "metadata": {
    "collapsed": false,
    "pycharm": {
     "name": "#%%\n"
    }
   }
  }
 ],
 "metadata": {
  "kernelspec": {
   "display_name": "Python 3",
   "language": "python",
   "name": "python3"
  },
  "language_info": {
   "codemirror_mode": {
    "name": "ipython",
    "version": 3
   },
   "file_extension": ".py",
   "mimetype": "text/x-python",
   "name": "python",
   "nbconvert_exporter": "python",
   "pygments_lexer": "ipython3",
   "version": "3.7.8"
  }
 },
 "nbformat": 4,
 "nbformat_minor": 5
}