{
 "cells": [
  {
   "cell_type": "code",
   "execution_count": 5,
   "id": "0a6e5850",
   "metadata": {},
   "outputs": [
    {
     "name": "stdout",
     "output_type": "stream",
     "text": [
      "The autoreload extension is already loaded. To reload it, use:\n",
      "  %reload_ext autoreload\n"
     ]
    }
   ],
   "source": [
    "% load_ext autoreload\n",
    "% autoreload 2"
   ]
  },
  {
   "cell_type": "markdown",
   "id": "b48d21a1",
   "metadata": {},
   "source": [
    "# Chloropleth Plots for Stats about articles\n",
    "\n",
    "For example: median views, number of articles, etc"
   ]
  },
  {
   "cell_type": "code",
   "execution_count": 6,
   "id": "98602728",
   "metadata": {},
   "outputs": [],
   "source": [
    "import pandas as pd\n",
    "import numpy as np"
   ]
  },
  {
   "cell_type": "markdown",
   "id": "f293cc88",
   "metadata": {},
   "source": [
    "## Load and Preprocess Base DataFrames"
   ]
  },
  {
   "cell_type": "code",
   "execution_count": 8,
   "id": "d1d8dcc4",
   "metadata": {},
   "outputs": [],
   "source": [
    "df_crawled = pd.read_csv('events/new/processed_0_manually_with_wikiviews_allcorr.csv').drop_duplicates()\n",
    "\n",
    "df_crawled.event_date = pd.to_datetime(df_crawled.event_date)\n",
    "df_crawled['views_7_sum_log'] = np.log1p(df_crawled.views_7_sum)\n",
    "df_crawled['edits_7_sum_log'] = np.log1p(df_crawled.edits_7_sum)\n",
    "\n",
    "df_reg = df_crawled[(df_crawled.cat != 'undefined') & (df_crawled.year > 2015) & ~(\n",
    "            (df_crawled.event_date.dt.month == 1) & (df_crawled.event_date.dt.day == 1))]\n",
    "df_view_reg = df_crawled[(df_crawled.cat != 'undefined') & (df_crawled.year > 2015) & ~(\n",
    "            (df_crawled.event_date.dt.month == 1) & (df_crawled.event_date.dt.day == 1)) & (\n",
    "                                     df_crawled.views_7_sum > 10)]\n",
    "df_edit_reg = df_crawled[(df_crawled.cat != 'undefined') & (df_crawled.year > 2015) & ~(\n",
    "            (df_crawled.event_date.dt.month == 1) & (df_crawled.event_date.dt.day == 1)) & (df_crawled.edits_7_sum > 0)]"
   ]
  },
  {
   "cell_type": "markdown",
   "id": "c7b7c83b",
   "metadata": {
    "pycharm": {
     "name": "#%% md\n"
    }
   },
   "source": [
    "## Plot Chloropleth maps for raw article stats"
   ]
  },
  {
   "cell_type": "code",
   "execution_count": null,
   "id": "e54af390",
   "metadata": {},
   "outputs": [],
   "source": [
    "from plot import build_chloropleths_df\n",
    "import matplotlib as mpl\n",
    "import matplotlib.pyplot as plt\n",
    "\n",
    "plt.rcParams.update({'font.family': 'sans-serif',\n",
    "                     'font.sans-serif': 'Noto Sans'})"
   ]
  },
  {
   "cell_type": "markdown",
   "id": "ad530d9d",
   "metadata": {},
   "source": [
    "### Median Views and Edits"
   ]
  },
  {
   "cell_type": "code",
   "execution_count": 12,
   "id": "a07c0daf",
   "metadata": {},
   "outputs": [
    {
     "name": "stdout",
     "output_type": "stream",
     "text": [
      "views_7_sum_log_country_code_median_de\n",
      "views_7_sum_log_country_code_median_en\n",
      "views_7_sum_log_country_code_median_es\n",
      "views_7_sum_log_country_code_median_it\n"
     ]
    },
    {
     "data": {
      "image/png": "[encoded data removed]",
      "text/plain": [
       "<Figure size 200x10 with 1 Axes>"
      ]
     },
     "metadata": {
      "needs_background": "light"
     },
     "output_type": "display_data"
    }
   ],
   "source": [
    "figs_geo, fig_cmap = build_chloropleths_df(df_view_reg, column='views_7_sum_log', group_col='code',\n",
    "                                           color_data='country', color_map='name_en', cm_chloropleth=mpl.cm.viridis,\n",
    "                                           relative_scale=True, metric='median', cb_horizontal=True,\n",
    "                                           cb_label='Median Views\\n(Normalized)')\n",
    "# if you want to see the figures here, uncomment this\n",
    "#for fig in figs_geo:\n",
    "#    display(fig)"
   ]
  },
  {
   "cell_type": "code",
   "execution_count": 13,
   "id": "804bd36a",
   "metadata": {},
   "outputs": [
    {
     "name": "stdout",
     "output_type": "stream",
     "text": [
      "edits_7_sum_log_country_code_median_de\n",
      "edits_7_sum_log_country_code_median_en\n",
      "edits_7_sum_log_country_code_median_es\n",
      "edits_7_sum_log_country_code_median_it\n"
     ]
    },
    {
     "data": {
      "image/png": "[encoded data removed]",
      "text/plain": [
       "<Figure size 200x10 with 1 Axes>"
      ]
     },
     "metadata": {
      "needs_background": "light"
     },
     "output_type": "display_data"
    }
   ],
   "source": [
    "figs_geo, fig_cmap = build_chloropleths_df(df_edit_reg, column='edits_7_sum_log', group_col='code',\n",
    "                                           color_data='country', color_map='name_en',\n",
    "                                           cm_chloropleth=mpl.cm.viridis, relative_scale=True, metric='median',\n",
    "                                           cb_horizontal=True, cb_label='Median Edits\\n(Normalized)')\n",
    "#for fig in figs_geo:\n",
    "#    display(fig)"
   ]
  },
  {
   "cell_type": "markdown",
   "id": "2b703cce",
   "metadata": {},
   "source": [
    "### Number of articles with >10 views and >0 edits"
   ]
  },
  {
   "cell_type": "code",
   "execution_count": 14,
   "id": "52229a76",
   "metadata": {},
   "outputs": [
    {
     "name": "stdout",
     "output_type": "stream",
     "text": [
      "views_7_sum_log_country_code_count_de\n",
      "views_7_sum_log_country_code_count_en\n",
      "views_7_sum_log_country_code_count_es\n",
      "views_7_sum_log_country_code_count_it\n"
     ]
    },
    {
     "data": {
      "image/png": "[encoded data removed]",
      "text/plain": [
       "<Figure size 200x10 with 1 Axes>"
      ]
     },
     "metadata": {
      "needs_background": "light"
     },
     "output_type": "display_data"
    }
   ],
   "source": [
    "figs_geo, fig_cmap = build_chloropleths_df(df_view_reg, column='views_7_sum_log', group_col='code',\n",
    "                                           color_data='country', color_map='name_en',\n",
    "                                           cm_chloropleth=mpl.cm.viridis, relative_scale=True, metric='count',\n",
    "                                           cb_horizontal=True, cb_label='# of Articles\\n(Normalized)')\n",
    "#for fig in figs_geo:\n",
    "#    display(fig)"
   ]
  },
  {
   "cell_type": "code",
   "execution_count": 15,
   "id": "9710bc9c",
   "metadata": {},
   "outputs": [
    {
     "name": "stdout",
     "output_type": "stream",
     "text": [
      "edits_7_sum_log_country_code_count_de\n",
      "edits_7_sum_log_country_code_count_en\n",
      "edits_7_sum_log_country_code_count_es\n",
      "edits_7_sum_log_country_code_count_it\n"
     ]
    },
    {
     "data": {
      "image/png": "[encoded data removed]",
      "text/plain": [
       "<Figure size 200x10 with 1 Axes>"
      ]
     },
     "metadata": {
      "needs_background": "light"
     },
     "output_type": "display_data"
    }
   ],
   "source": [
    "figs_geo, fig_cmap = build_chloropleths_df(df_edit_reg, column='edits_7_sum_log', group_col='code',\n",
    "                                           color_data='country', color_map='name_en',\n",
    "                                           cm_chloropleth=mpl.cm.viridis, relative_scale=True, metric='count',\n",
    "                                           cb_horizontal=True, cb_label='# of Articles\\n(Normalized)')\n",
    "#for fig in figs_geo:\n",
    "#    display(fig)"
   ]
  }
 ],
 "metadata": {
  "kernelspec": {
   "display_name": "Python 3",
   "language": "python",
   "name": "python3"
  },
  "language_info": {
   "codemirror_mode": {
    "name": "ipython",
    "version": 3
   },
   "file_extension": ".py",
   "mimetype": "text/x-python",
   "name": "python",
   "nbconvert_exporter": "python",
   "pygments_lexer": "ipython3",
   "version": "3.7.8"
  }
 },
 "nbformat": 4,
 "nbformat_minor": 5
}